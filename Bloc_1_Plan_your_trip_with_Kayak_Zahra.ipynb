{
  "cells": [
    {
      "cell_type": "markdown",
      "metadata": {
        "id": "view-in-github",
        "colab_type": "text"
      },
      "source": [
        "<a href=\"https://colab.research.google.com/github/zabihin/Bloc1_Project_Kayak/blob/main/Bloc_1_Plan_your_trip_with_Kayak_Zahra.ipynb\" target=\"_parent\"><img src=\"https://colab.research.google.com/assets/colab-badge.svg\" alt=\"Open In Colab\"/></a>"
      ]
    },
    {
      "cell_type": "markdown",
      "metadata": {
        "id": "EBEWAsoo0xKt"
      },
      "source": [
        "⚠️ This project is mandatory for certification bloc #1."
      ]
    },
    {
      "cell_type": "markdown",
      "metadata": {
        "id": "lx-Ajqaw0xK7"
      },
      "source": [
        "![Kayak](https://seekvectorlogo.com/wp-content/uploads/2018/01/kayak-vector-logo.png)\n",
        "\n",
        "# Plan your trip with Kayak \n",
        "\n",
        "## Company's description 📇\n",
        "\n",
        "<a href=\"https://www.kayak.com\" target=\"_blank\">Kayak</a> is a travel search engine that helps user plan their next trip at the best price.\n",
        "\n",
        "The company was founded in 2004 by Steve Hafner & Paul M. English. After a few rounds of fundraising, Kayak was acquired by <a href=\"https://www.bookingholdings.com/\" target=\"_blank\">Booking Holdings</a> which now holds: \n",
        "\n",
        "* <a href=\"https://booking.com/\" target=\"_blank\">Booking.com</a>\n",
        "* <a href=\"https://kayak.com/\" target=\"_blank\">Kayak</a>\n",
        "* <a href=\"https://www.priceline.com/\" target=\"_blank\">Priceline</a>\n",
        "* <a href=\"https://www.agoda.com/\" target=\"_blank\">Agoda</a>\n",
        "* <a href=\"https://Rentalcars.com/\" target=\"_blank\">RentalCars</a>\n",
        "* <a href=\"https://www.opentable.com/\" target=\"_blank\">OpenTable</a>\n",
        "\n",
        "With over \\$300 million revenue a year, Kayak operates in almost all countries and all languages to help their users book travels accros the globe. "
      ]
    },
    {
      "cell_type": "markdown",
      "metadata": {
        "id": "-jwEfGrv0xK_"
      },
      "source": [
        "## Project 🚧\n",
        "\n",
        "The marketing team needs help on a new project. After doing some user research, the team discovered that **70% of their users who are planning a trip would like to have more information about the destination they are going to**. \n",
        "\n",
        "In addition, user research shows that **people tend to be defiant about the information they are reading if they don't know the brand** which produced the content. \n",
        "\n",
        "Therefore, Kayak Marketing Team would like to create an application that will recommend where people should plan their next holidays. The application should be based on real data about:\n",
        "\n",
        "* Weather \n",
        "* Hotels in the area \n",
        "\n",
        "The application should then be able to recommend the best destinations and hotels based on the above variables at any given time. "
      ]
    },
    {
      "cell_type": "markdown",
      "metadata": {
        "id": "z4MHkIEE0xLA"
      },
      "source": [
        "## Goals 🎯\n",
        "\n",
        "As the project has just started, your team doesn't have any data that can be used to create this application. Therefore, your job will be to: \n",
        "\n",
        "* Scrape data from destinations \n",
        "* Get weather data from each destination \n",
        "* Get hotels' info about each destination\n",
        "* Store all the information above in a data lake\n",
        "* Extract, transform and load cleaned data from your datalake to a data warehouse"
      ]
    },
    {
      "cell_type": "markdown",
      "metadata": {
        "id": "4baOfcuw0xLC"
      },
      "source": [
        "## Scope of this project 🖼️\n",
        "\n",
        "Marketing team wants to focus first on the best cities to travel to in France. According <a href=\"https://one-week-in.com/35-cities-to-visit-in-france/\" target=\"_blank\">One Week In.com</a> here are the top-35 cities to visit in France: \n",
        "\n",
        "```python \n",
        "[\"Mont Saint Michel\",\n",
        "\"St Malo\",\n",
        "\"Bayeux\",\n",
        "\"Le Havre\",\n",
        "\"Rouen\",\n",
        "\"Paris\",\n",
        "\"Amiens\",\n",
        "\"Lille\",\n",
        "\"Strasbourg\",\n",
        "\"Chateau du Haut Koenigsbourg\",\n",
        "\"Colmar\",\n",
        "\"Eguisheim\",\n",
        "\"Besancon\",\n",
        "\"Dijon\",\n",
        "\"Annecy\",\n",
        "\"Grenoble\",\n",
        "\"Lyon\",\n",
        "\"Gorges du Verdon\",\n",
        "\"Bormes les Mimosas\",\n",
        "\"Cassis\",\n",
        "\"Marseille\",\n",
        "\"Aix en Provence\",\n",
        "\"Avignon\",\n",
        "\"Uzes\",\n",
        "\"Nimes\",\n",
        "\"Aigues Mortes\",\n",
        "\"Saintes Maries de la mer\",\n",
        "\"Collioure\",\n",
        "\"Carcassonne\",\n",
        "\"Ariege\",\n",
        "\"Toulouse\",\n",
        "\"Montauban\",\n",
        "\"Biarritz\",\n",
        "\"Bayonne\",\n",
        "\"La Rochelle\"]\n",
        "```\n",
        "\n",
        "Your team should focus **only on the above cities for your project**. \n"
      ]
    },
    {
      "cell_type": "markdown",
      "metadata": {
        "id": "XIhdxjH50xLE"
      },
      "source": [
        "## Helpers 🦮\n",
        "\n",
        "To help you achieve this project, here are a few tips that should help you\n",
        "\n",
        "### Get weather data with an API \n",
        "\n",
        "*   Use https://nominatim.org/ to get the gps coordinates of all the cities (no subscription required) Documentation : https://nominatim.org/release-docs/develop/api/Search/\n",
        "\n",
        "*   Use https://openweathermap.org/appid (you have to subscribe to get a free apikey) and https://openweathermap.org/api/one-call-api to get some information about the weather for the 35 cities and put it in a DataFrame\n",
        "\n",
        "*   Determine the list of cities where the weather will be the nicest within the next 7 days For example, you can use the values of daily.pop and daily.rain to compute the expected volume of rain within the next 7 days... But it's only an example, actually you can have different opinions on a what a nice weather would be like 😎 Maybe the most important criterion for you is the temperature or humidity, so feel free to change the rules !\n",
        "\n",
        "*   Save all the results in a `.csv` file, you will use it later 😉 You can save all the informations that seem important to you ! Don't forget to save the name of the cities, and also to create a column containing a unique identifier (id) of each city (this is important for what's next in the project)\n",
        "\n",
        "*   Use plotly to display the best destinations on a map\n",
        "\n",
        "### Scrape Booking.com \n",
        "\n",
        "Since BookingHoldings doesn't have aggregated databases, it will be much faster to scrape data directly from booking.com \n",
        "\n",
        "You can scrap as many information asyou want, but we suggest that you get at least:\n",
        "\n",
        "*   hotel name,\n",
        "*   Url to its booking.com page,\n",
        "*   Its coordinates: latitude and longitude\n",
        "*   Score given by the website users\n",
        "*   Text description of the hotel\n",
        "\n",
        "\n",
        "### Create your data lake using S3 \n",
        "\n",
        "Once you managed to build your dataset, you should store into S3 as a csv file. \n",
        "\n",
        "### ETL \n",
        "\n",
        "Once you uploaded your data onto S3, it will be better for the next data analysis team to extract clean data directly from a Data Warehouse. Therefore, create a SQL Database using AWS RDS, extract your data from S3 and store it in your newly created DB. "
      ]
    },
    {
      "cell_type": "markdown",
      "metadata": {
        "id": "D6DmW7cz0xLH"
      },
      "source": [
        "## Deliverable 📬\n",
        "\n",
        "To complete this project, your team should deliver:\n",
        "\n",
        "* A `.csv` file in an S3 bucket containing enriched information about weather and hotels for each french city\n",
        "\n",
        "* A SQL Database where we should be able to get the same cleaned data from S3 \n",
        "\n",
        "* Two maps where you should have a Top-5 destinations and a Top-20 hotels in the area. You can use plotly or any other library to do so. It should look something like this: \n",
        "\n",
        "![Map](https://full-stack-assets.s3.eu-west-3.amazonaws.com/images/Kayak_best_destination_project.png)"
      ]
    },
    {
      "cell_type": "code",
      "source": [
        "!pip install Scrapy"
      ],
      "metadata": {
        "colab": {
          "base_uri": "https://localhost:8080/"
        },
        "id": "qslQVo3X1Cee",
        "outputId": "29e30995-3ea0-4c43-c10b-66016db7c3e7"
      },
      "execution_count": null,
      "outputs": [
        {
          "output_type": "stream",
          "name": "stdout",
          "text": [
            "Looking in indexes: https://pypi.org/simple, https://us-python.pkg.dev/colab-wheels/public/simple/\n",
            "Requirement already satisfied: Scrapy in /usr/local/lib/python3.7/dist-packages (2.7.0)\n",
            "Requirement already satisfied: lxml>=4.3.0 in /usr/local/lib/python3.7/dist-packages (from Scrapy) (4.9.1)\n",
            "Requirement already satisfied: cryptography>=3.3 in /usr/local/lib/python3.7/dist-packages (from Scrapy) (38.0.1)\n",
            "Requirement already satisfied: pyOpenSSL>=21.0.0 in /usr/local/lib/python3.7/dist-packages (from Scrapy) (22.1.0)\n",
            "Requirement already satisfied: protego>=0.1.15 in /usr/local/lib/python3.7/dist-packages (from Scrapy) (0.2.1)\n",
            "Requirement already satisfied: tldextract in /usr/local/lib/python3.7/dist-packages (from Scrapy) (3.4.0)\n",
            "Requirement already satisfied: itemloaders>=1.0.1 in /usr/local/lib/python3.7/dist-packages (from Scrapy) (1.0.6)\n",
            "Requirement already satisfied: cssselect>=0.9.1 in /usr/local/lib/python3.7/dist-packages (from Scrapy) (1.1.0)\n",
            "Requirement already satisfied: PyDispatcher>=2.0.5 in /usr/local/lib/python3.7/dist-packages (from Scrapy) (2.0.6)\n",
            "Requirement already satisfied: queuelib>=1.4.2 in /usr/local/lib/python3.7/dist-packages (from Scrapy) (1.6.2)\n",
            "Requirement already satisfied: itemadapter>=0.1.0 in /usr/local/lib/python3.7/dist-packages (from Scrapy) (0.7.0)\n",
            "Requirement already satisfied: parsel>=1.5.0 in /usr/local/lib/python3.7/dist-packages (from Scrapy) (1.6.0)\n",
            "Requirement already satisfied: setuptools in /usr/local/lib/python3.7/dist-packages (from Scrapy) (57.4.0)\n",
            "Requirement already satisfied: Twisted>=18.9.0 in /usr/local/lib/python3.7/dist-packages (from Scrapy) (22.8.0)\n",
            "Requirement already satisfied: packaging in /usr/local/lib/python3.7/dist-packages (from Scrapy) (21.3)\n",
            "Requirement already satisfied: zope.interface>=5.1.0 in /usr/local/lib/python3.7/dist-packages (from Scrapy) (5.5.0)\n",
            "Requirement already satisfied: service-identity>=18.1.0 in /usr/local/lib/python3.7/dist-packages (from Scrapy) (21.1.0)\n",
            "Requirement already satisfied: w3lib>=1.17.0 in /usr/local/lib/python3.7/dist-packages (from Scrapy) (2.0.1)\n",
            "Requirement already satisfied: cffi>=1.12 in /usr/local/lib/python3.7/dist-packages (from cryptography>=3.3->Scrapy) (1.15.1)\n",
            "Requirement already satisfied: pycparser in /usr/local/lib/python3.7/dist-packages (from cffi>=1.12->cryptography>=3.3->Scrapy) (2.21)\n",
            "Requirement already satisfied: jmespath>=0.9.5 in /usr/local/lib/python3.7/dist-packages (from itemloaders>=1.0.1->Scrapy) (1.0.1)\n",
            "Requirement already satisfied: six>=1.6.0 in /usr/local/lib/python3.7/dist-packages (from parsel>=1.5.0->Scrapy) (1.15.0)\n",
            "Requirement already satisfied: pyasn1 in /usr/local/lib/python3.7/dist-packages (from service-identity>=18.1.0->Scrapy) (0.4.8)\n",
            "Requirement already satisfied: attrs>=19.1.0 in /usr/local/lib/python3.7/dist-packages (from service-identity>=18.1.0->Scrapy) (22.1.0)\n",
            "Requirement already satisfied: pyasn1-modules in /usr/local/lib/python3.7/dist-packages (from service-identity>=18.1.0->Scrapy) (0.2.8)\n",
            "Requirement already satisfied: incremental>=21.3.0 in /usr/local/lib/python3.7/dist-packages (from Twisted>=18.9.0->Scrapy) (22.10.0)\n",
            "Requirement already satisfied: typing-extensions>=3.6.5 in /usr/local/lib/python3.7/dist-packages (from Twisted>=18.9.0->Scrapy) (4.1.1)\n",
            "Requirement already satisfied: hyperlink>=17.1.1 in /usr/local/lib/python3.7/dist-packages (from Twisted>=18.9.0->Scrapy) (21.0.0)\n",
            "Requirement already satisfied: constantly>=15.1 in /usr/local/lib/python3.7/dist-packages (from Twisted>=18.9.0->Scrapy) (15.1.0)\n",
            "Requirement already satisfied: Automat>=0.8.0 in /usr/local/lib/python3.7/dist-packages (from Twisted>=18.9.0->Scrapy) (20.2.0)\n",
            "Requirement already satisfied: idna>=2.5 in /usr/local/lib/python3.7/dist-packages (from hyperlink>=17.1.1->Twisted>=18.9.0->Scrapy) (2.10)\n",
            "Requirement already satisfied: pyparsing!=3.0.5,>=2.0.2 in /usr/local/lib/python3.7/dist-packages (from packaging->Scrapy) (3.0.9)\n",
            "Requirement already satisfied: requests>=2.1.0 in /usr/local/lib/python3.7/dist-packages (from tldextract->Scrapy) (2.23.0)\n",
            "Requirement already satisfied: filelock>=3.0.8 in /usr/local/lib/python3.7/dist-packages (from tldextract->Scrapy) (3.8.0)\n",
            "Requirement already satisfied: requests-file>=1.4 in /usr/local/lib/python3.7/dist-packages (from tldextract->Scrapy) (1.5.1)\n",
            "Requirement already satisfied: certifi>=2017.4.17 in /usr/local/lib/python3.7/dist-packages (from requests>=2.1.0->tldextract->Scrapy) (2022.9.24)\n",
            "Requirement already satisfied: chardet<4,>=3.0.2 in /usr/local/lib/python3.7/dist-packages (from requests>=2.1.0->tldextract->Scrapy) (3.0.4)\n",
            "Requirement already satisfied: urllib3!=1.25.0,!=1.25.1,<1.26,>=1.21.1 in /usr/local/lib/python3.7/dist-packages (from requests>=2.1.0->tldextract->Scrapy) (1.24.3)\n"
          ]
        }
      ]
    },
    {
      "cell_type": "markdown",
      "source": [
        "###Import libraries"
      ],
      "metadata": {
        "id": "D-1idqgSmRFw"
      }
    },
    {
      "cell_type": "code",
      "source": [
        "import datetime\n",
        "import calendar\n",
        "import os\n",
        "import logging\n",
        "import scrapy\n",
        "from scrapy.crawler import CrawlerProcess\n",
        "\n",
        "from bs4 import BeautifulSoup\n",
        "\n",
        "import requests\n",
        "import pandas as pd\n",
        "import numpy as np\n",
        "from statistics import mode\n",
        "import plotly.express as px\n",
        "import plotly.graph_objects as go\n",
        "\n"
      ],
      "metadata": {
        "id": "5NRH1YXaBNAn"
      },
      "execution_count": null,
      "outputs": []
    },
    {
      "cell_type": "markdown",
      "source": [
        "فرض کنیم یک زوج تصمیم گرفتند این آخر هفته رو به سفری ر فرانسه بروند. آنها می خواهند از بن 35 شهر در فرانسه یکی را بر اساس آب وهوا انتخاب کنند. من فرض کرده ام اگر میانگین دمای 35 شهر بالاتر از 22 باشد(احتمالا تابستان است) و ترجیح با خنک ترین مقصد است ولی اگر دما کم باشد ترجیح با گرم ترین شهر است. از بین 35 شهر ، 5 شهر با توجه به آب و هوا انتخاب می شود. "
      ],
      "metadata": {
        "id": "i2HjlrTVZ40C"
      }
    },
    {
      "cell_type": "markdown",
      "source": [
        "find the date of next saturday and sunday for finding the weather and find hotels\n",
        "\n",
        "\n",
        "\n",
        "\n"
      ],
      "metadata": {
        "id": "T9VsPc6_a_aS"
      }
    },
    {
      "cell_type": "code",
      "source": [
        "today = datetime.date.today() \n",
        "sat = today + datetime.timedelta((calendar.SATURDAY-today.weekday()) % 7 )\n",
        "sun= today + datetime.timedelta((calendar.SUNDAY-today.weekday()) % 7 )\n",
        "sun"
      ],
      "metadata": {
        "colab": {
          "base_uri": "https://localhost:8080/"
        },
        "id": "im5QkOQYBN-S",
        "outputId": "2ec7f95f-c8b9-46f3-98dd-905bb7534fae"
      },
      "execution_count": null,
      "outputs": [
        {
          "output_type": "execute_result",
          "data": {
            "text/plain": [
              "datetime.date(2022, 10, 30)"
            ]
          },
          "metadata": {},
          "execution_count": 3
        }
      ]
    },
    {
      "cell_type": "markdown",
      "source": [
        "\n",
        "this is the list of best cities to travel in france. "
      ],
      "metadata": {
        "id": "WMK4ItYjmak7"
      }
    },
    {
      "cell_type": "code",
      "source": [
        "#city list\n",
        "best_cities=[\"Mont Saint Michel\",\"St Malo\",\"Bayeux\",\"Le Havre\",\"Rouen\",\"Paris\",\"Amiens\",\"Lille\",\"Strasbourg\",\"Chateau du Haut Koenigsbourg\",\n",
        "\"Colmar\",\"Eguisheim\",\"Besancon\",\"Dijon\",\"Annecy\",\"Grenoble\",\"Lyon\",\"Gorges du Verdon\",\"Bormes les Mimosas\", \"Cassis\",\n",
        "\"Marseille\",\"Aix en Provence\",\"Avignon\",\"Uzes\",\"Nimes\",\"Aigues Mortes\",\"Saintes Maries de la mer\",\"Collioure\",\"Carcassonne\",\n",
        "\"Ariege\",\"Toulouse\",\"Montauban\",\"Biarritz\",\"Bayonne\",\"La Rochelle\"]"
      ],
      "metadata": {
        "id": "wJ8CUZia3oYx"
      },
      "execution_count": null,
      "outputs": []
    },
    {
      "cell_type": "markdown",
      "source": [
        "we should find the location of each city (we need them for finding how weather will be this weekend)"
      ],
      "metadata": {
        "id": "XTb4_5wDmkjj"
      }
    },
    {
      "cell_type": "code",
      "source": [
        "url = \"https://nominatim.openstreetmap.org/search?\"\n",
        "\n",
        "def find_gps(address, format='json'):\n",
        "   \n",
        "    params = {\"q\":address, \"format\": format}\n",
        "    response = requests.get(url, params=params)\n",
        "    return response.json()\n",
        "columns = ['id', 'name', 'latitude', 'longitude']\n",
        "data = []\n",
        "\n",
        "for count, city in enumerate(best_cities):\n",
        "    response = find_gps(address = city)\n",
        "    row =[count, city, response[0]['lat'], response[0]['lon']]\n",
        "    data.append(row)\n",
        "    \n",
        "df_cities = pd.DataFrame(data=data, columns=columns)"
      ],
      "metadata": {
        "id": "BonuLydy3rrr"
      },
      "execution_count": null,
      "outputs": []
    },
    {
      "cell_type": "code",
      "source": [
        "df_cities.head()\n"
      ],
      "metadata": {
        "colab": {
          "base_uri": "https://localhost:8080/",
          "height": 206
        },
        "id": "aequwA7P7xYd",
        "outputId": "c8693d56-987e-40ea-c12e-924b84b92a7e"
      },
      "execution_count": null,
      "outputs": [
        {
          "output_type": "execute_result",
          "data": {
            "text/plain": [
              "   id               name    latitude           longitude\n",
              "0   0  Mont Saint Michel  48.6359541  -1.511459954959514\n",
              "1   1            St Malo   48.649518          -2.0260409\n",
              "2   2             Bayeux  49.2764624          -0.7024738\n",
              "3   3           Le Havre  49.4938975           0.1079732\n",
              "4   4              Rouen  49.4404591           1.0939658"
            ],
            "text/html": [
              "\n",
              "  <div id=\"df-036b88de-976f-45ba-8744-363ec25bc296\">\n",
              "    <div class=\"colab-df-container\">\n",
              "      <div>\n",
              "<style scoped>\n",
              "    .dataframe tbody tr th:only-of-type {\n",
              "        vertical-align: middle;\n",
              "    }\n",
              "\n",
              "    .dataframe tbody tr th {\n",
              "        vertical-align: top;\n",
              "    }\n",
              "\n",
              "    .dataframe thead th {\n",
              "        text-align: right;\n",
              "    }\n",
              "</style>\n",
              "<table border=\"1\" class=\"dataframe\">\n",
              "  <thead>\n",
              "    <tr style=\"text-align: right;\">\n",
              "      <th></th>\n",
              "      <th>id</th>\n",
              "      <th>name</th>\n",
              "      <th>latitude</th>\n",
              "      <th>longitude</th>\n",
              "    </tr>\n",
              "  </thead>\n",
              "  <tbody>\n",
              "    <tr>\n",
              "      <th>0</th>\n",
              "      <td>0</td>\n",
              "      <td>Mont Saint Michel</td>\n",
              "      <td>48.6359541</td>\n",
              "      <td>-1.511459954959514</td>\n",
              "    </tr>\n",
              "    <tr>\n",
              "      <th>1</th>\n",
              "      <td>1</td>\n",
              "      <td>St Malo</td>\n",
              "      <td>48.649518</td>\n",
              "      <td>-2.0260409</td>\n",
              "    </tr>\n",
              "    <tr>\n",
              "      <th>2</th>\n",
              "      <td>2</td>\n",
              "      <td>Bayeux</td>\n",
              "      <td>49.2764624</td>\n",
              "      <td>-0.7024738</td>\n",
              "    </tr>\n",
              "    <tr>\n",
              "      <th>3</th>\n",
              "      <td>3</td>\n",
              "      <td>Le Havre</td>\n",
              "      <td>49.4938975</td>\n",
              "      <td>0.1079732</td>\n",
              "    </tr>\n",
              "    <tr>\n",
              "      <th>4</th>\n",
              "      <td>4</td>\n",
              "      <td>Rouen</td>\n",
              "      <td>49.4404591</td>\n",
              "      <td>1.0939658</td>\n",
              "    </tr>\n",
              "  </tbody>\n",
              "</table>\n",
              "</div>\n",
              "      <button class=\"colab-df-convert\" onclick=\"convertToInteractive('df-036b88de-976f-45ba-8744-363ec25bc296')\"\n",
              "              title=\"Convert this dataframe to an interactive table.\"\n",
              "              style=\"display:none;\">\n",
              "        \n",
              "  <svg xmlns=\"http://www.w3.org/2000/svg\" height=\"24px\"viewBox=\"0 0 24 24\"\n",
              "       width=\"24px\">\n",
              "    <path d=\"M0 0h24v24H0V0z\" fill=\"none\"/>\n",
              "    <path d=\"M18.56 5.44l.94 2.06.94-2.06 2.06-.94-2.06-.94-.94-2.06-.94 2.06-2.06.94zm-11 1L8.5 8.5l.94-2.06 2.06-.94-2.06-.94L8.5 2.5l-.94 2.06-2.06.94zm10 10l.94 2.06.94-2.06 2.06-.94-2.06-.94-.94-2.06-.94 2.06-2.06.94z\"/><path d=\"M17.41 7.96l-1.37-1.37c-.4-.4-.92-.59-1.43-.59-.52 0-1.04.2-1.43.59L10.3 9.45l-7.72 7.72c-.78.78-.78 2.05 0 2.83L4 21.41c.39.39.9.59 1.41.59.51 0 1.02-.2 1.41-.59l7.78-7.78 2.81-2.81c.8-.78.8-2.07 0-2.86zM5.41 20L4 18.59l7.72-7.72 1.47 1.35L5.41 20z\"/>\n",
              "  </svg>\n",
              "      </button>\n",
              "      \n",
              "  <style>\n",
              "    .colab-df-container {\n",
              "      display:flex;\n",
              "      flex-wrap:wrap;\n",
              "      gap: 12px;\n",
              "    }\n",
              "\n",
              "    .colab-df-convert {\n",
              "      background-color: #E8F0FE;\n",
              "      border: none;\n",
              "      border-radius: 50%;\n",
              "      cursor: pointer;\n",
              "      display: none;\n",
              "      fill: #1967D2;\n",
              "      height: 32px;\n",
              "      padding: 0 0 0 0;\n",
              "      width: 32px;\n",
              "    }\n",
              "\n",
              "    .colab-df-convert:hover {\n",
              "      background-color: #E2EBFA;\n",
              "      box-shadow: 0px 1px 2px rgba(60, 64, 67, 0.3), 0px 1px 3px 1px rgba(60, 64, 67, 0.15);\n",
              "      fill: #174EA6;\n",
              "    }\n",
              "\n",
              "    [theme=dark] .colab-df-convert {\n",
              "      background-color: #3B4455;\n",
              "      fill: #D2E3FC;\n",
              "    }\n",
              "\n",
              "    [theme=dark] .colab-df-convert:hover {\n",
              "      background-color: #434B5C;\n",
              "      box-shadow: 0px 1px 3px 1px rgba(0, 0, 0, 0.15);\n",
              "      filter: drop-shadow(0px 1px 2px rgba(0, 0, 0, 0.3));\n",
              "      fill: #FFFFFF;\n",
              "    }\n",
              "  </style>\n",
              "\n",
              "      <script>\n",
              "        const buttonEl =\n",
              "          document.querySelector('#df-036b88de-976f-45ba-8744-363ec25bc296 button.colab-df-convert');\n",
              "        buttonEl.style.display =\n",
              "          google.colab.kernel.accessAllowed ? 'block' : 'none';\n",
              "\n",
              "        async function convertToInteractive(key) {\n",
              "          const element = document.querySelector('#df-036b88de-976f-45ba-8744-363ec25bc296');\n",
              "          const dataTable =\n",
              "            await google.colab.kernel.invokeFunction('convertToInteractive',\n",
              "                                                     [key], {});\n",
              "          if (!dataTable) return;\n",
              "\n",
              "          const docLinkHtml = 'Like what you see? Visit the ' +\n",
              "            '<a target=\"_blank\" href=https://colab.research.google.com/notebooks/data_table.ipynb>data table notebook</a>'\n",
              "            + ' to learn more about interactive tables.';\n",
              "          element.innerHTML = '';\n",
              "          dataTable['output_type'] = 'display_data';\n",
              "          await google.colab.output.renderOutput(dataTable, element);\n",
              "          const docLink = document.createElement('div');\n",
              "          docLink.innerHTML = docLinkHtml;\n",
              "          element.appendChild(docLink);\n",
              "        }\n",
              "      </script>\n",
              "    </div>\n",
              "  </div>\n",
              "  "
            ]
          },
          "metadata": {},
          "execution_count": 6
        }
      ]
    },
    {
      "cell_type": "markdown",
      "source": [
        "find the temprature of this saturday and sunday "
      ],
      "metadata": {
        "id": "NDSfuE0Nd3QD"
      }
    },
    {
      "cell_type": "markdown",
      "source": [
        "my key for the website https://api.openweathermap.org"
      ],
      "metadata": {
        "id": "0KuRYP-Lnpel"
      }
    },
    {
      "cell_type": "code",
      "source": [
        "key='2941f971df0a6e6e0569606b236025bf'"
      ],
      "metadata": {
        "id": "-ABJXtnr3umZ"
      },
      "execution_count": null,
      "outputs": []
    },
    {
      "cell_type": "code",
      "source": [
        "df_cities['Temperature']=None\n",
        "df_cities['Temperature_max']=None\n",
        "df_cities['Temperature_min']=None\n",
        "\n",
        "\n",
        "df_cities['Humidity']=None\n",
        "\n",
        "\n",
        "for ind in df_cities.id:\n",
        "\n",
        "    lat = df_cities.latitude[ind]\n",
        "    lon = df_cities.longitude[ind]\n",
        "    r =  requests.get(f\"https://api.openweathermap.org/data/2.5/onecall?lat={lat}&lon={lon}&units=metric&appid={key}\").json()\n",
        "    weather = r['daily'][(sat.weekday()-today.weekday()):(sat.weekday()-today.weekday())+2]\n",
        "    df_cities.iat[ind, df_cities.columns.get_loc('Temperature')] =np.mean([i['feels_like']['day'] for i in weather])\n",
        "    df_cities.iat[ind, df_cities.columns.get_loc('Temperature_max')] =np.mean([i['temp']['max'] for i in weather])\n",
        "    df_cities.iat[ind, df_cities.columns.get_loc('Temperature_min')] =np.mean([i['temp']['min'] for i in weather])\n",
        "    df_cities.iat[ind, df_cities.columns.get_loc('Humidity')] =np.mean( [i['humidity'] for i in weather])\n",
        "\n"
      ],
      "metadata": {
        "id": "bBjLGEQK3zxp"
      },
      "execution_count": null,
      "outputs": []
    },
    {
      "cell_type": "code",
      "source": [
        "weather"
      ],
      "metadata": {
        "colab": {
          "base_uri": "https://localhost:8080/"
        },
        "id": "sw7S-b72wGzi",
        "outputId": "5401e7a4-100c-40ae-916c-d1b02ca1e2a3"
      },
      "execution_count": null,
      "outputs": [
        {
          "output_type": "execute_result",
          "data": {
            "text/plain": [
              "[{'dt': 1667041200,\n",
              "  'sunrise': 1667025645,\n",
              "  'sunset': 1667062543,\n",
              "  'moonrise': 1667043600,\n",
              "  'moonset': 1667072220,\n",
              "  'moon_phase': 0.14,\n",
              "  'temp': {'day': 19.95,\n",
              "   'min': 17.97,\n",
              "   'max': 21.12,\n",
              "   'night': 18.78,\n",
              "   'eve': 18.9,\n",
              "   'morn': 17.97},\n",
              "  'feels_like': {'day': 19.8, 'night': 18.44, 'eve': 18.73, 'morn': 18.02},\n",
              "  'pressure': 1019,\n",
              "  'humidity': 69,\n",
              "  'dew_point': 13.82,\n",
              "  'wind_speed': 7.22,\n",
              "  'wind_deg': 193,\n",
              "  'wind_gust': 12.73,\n",
              "  'weather': [{'id': 804,\n",
              "    'main': 'Clouds',\n",
              "    'description': 'overcast clouds',\n",
              "    'icon': '04d'}],\n",
              "  'clouds': 100,\n",
              "  'pop': 0,\n",
              "  'uvi': 0},\n",
              " {'dt': 1667127600,\n",
              "  'sunrise': 1667112132,\n",
              "  'sunset': 1667148851,\n",
              "  'moonrise': 1667133840,\n",
              "  'moonset': 1667162640,\n",
              "  'moon_phase': 0.18,\n",
              "  'temp': {'day': 23.04,\n",
              "   'min': 16.24,\n",
              "   'max': 24.13,\n",
              "   'night': 20.72,\n",
              "   'eve': 21.66,\n",
              "   'morn': 16.24},\n",
              "  'feels_like': {'day': 22.73, 'night': 20.31, 'eve': 21.32, 'morn': 15.93},\n",
              "  'pressure': 1012,\n",
              "  'humidity': 51,\n",
              "  'dew_point': 11.99,\n",
              "  'wind_speed': 9.18,\n",
              "  'wind_deg': 159,\n",
              "  'wind_gust': 16.34,\n",
              "  'weather': [{'id': 804,\n",
              "    'main': 'Clouds',\n",
              "    'description': 'overcast clouds',\n",
              "    'icon': '04d'}],\n",
              "  'clouds': 90,\n",
              "  'pop': 0,\n",
              "  'uvi': 0}]"
            ]
          },
          "metadata": {},
          "execution_count": 9
        }
      ]
    },
    {
      "cell_type": "code",
      "source": [
        "df_cities"
      ],
      "metadata": {
        "colab": {
          "base_uri": "https://localhost:8080/",
          "height": 1000
        },
        "id": "BL21pLJ4rzD6",
        "outputId": "78c5fc16-1efa-4d3d-93df-a708b9394fb1"
      },
      "execution_count": null,
      "outputs": [
        {
          "output_type": "execute_result",
          "data": {
            "text/plain": [
              "    id                          name            latitude           longitude  \\\n",
              "0    0             Mont Saint Michel          48.6359541  -1.511459954959514   \n",
              "1    1                       St Malo           48.649518          -2.0260409   \n",
              "2    2                        Bayeux          49.2764624          -0.7024738   \n",
              "3    3                      Le Havre          49.4938975           0.1079732   \n",
              "4    4                         Rouen          49.4404591           1.0939658   \n",
              "5    5                         Paris          48.8588897  2.3200410217200766   \n",
              "6    6                        Amiens          49.8941708           2.2956951   \n",
              "7    7                         Lille          50.6365654           3.0635282   \n",
              "8    8                    Strasbourg           48.584614           7.7507127   \n",
              "9    9  Chateau du Haut Koenigsbourg  48.249489800000006    7.34429620253195   \n",
              "10  10                        Colmar          48.0777517           7.3579641   \n",
              "11  11                     Eguisheim          48.0447968           7.3079618   \n",
              "12  12                      Besancon          47.2380222           6.0243622   \n",
              "13  13                         Dijon          47.3215806           5.0414701   \n",
              "14  14                        Annecy          45.8992348           6.1288847   \n",
              "15  15                      Grenoble          45.1875602           5.7357819   \n",
              "16  16                          Lyon          45.7578137           4.8320114   \n",
              "17  17              Gorges du Verdon          43.7496562           6.3285616   \n",
              "18  18            Bormes les Mimosas          43.1506968           6.3419285   \n",
              "19  19                        Cassis          43.2140359           5.5396318   \n",
              "20  20                     Marseille          43.2961743           5.3699525   \n",
              "21  21               Aix en Provence          43.5298424           5.4474738   \n",
              "22  22                       Avignon          43.9492493           4.8059012   \n",
              "23  23                          Uzes          44.0121279           4.4196718   \n",
              "24  24                         Nimes          43.8374249           4.3600687   \n",
              "25  25                 Aigues Mortes          43.5658225           4.1912837   \n",
              "26  26      Saintes Maries de la mer          43.4522771           4.4287172   \n",
              "27  27                     Collioure            42.52505           3.0831554   \n",
              "28  28                   Carcassonne          43.2130358           2.3491069   \n",
              "29  29                        Ariege          42.9455368  1.4065544156065486   \n",
              "30  30                      Toulouse          43.6044622           1.4442469   \n",
              "31  31                     Montauban          44.0175835           1.3549991   \n",
              "32  32                      Biarritz  43.471143749999996  -1.552726590666314   \n",
              "33  33                       Bayonne          43.4945144          -1.4736657   \n",
              "34  34                   La Rochelle          46.1591126          -1.1520434   \n",
              "\n",
              "   Temperature Temperature_max Temperature_min Humidity  \n",
              "0        18.84          20.105           13.27     62.5  \n",
              "1       18.225          19.575           13.86     66.5  \n",
              "2        19.11           19.57          13.335     58.5  \n",
              "3       18.065           18.89          15.015     69.0  \n",
              "4        19.76          20.485           13.69     57.0  \n",
              "5       21.835           22.96          17.235     46.0  \n",
              "6       19.685           20.45          14.245     61.0  \n",
              "7        19.01           19.92          14.155     67.5  \n",
              "8        19.16          19.625           12.97     58.0  \n",
              "9       17.835          18.565           11.29     52.0  \n",
              "10      20.915           21.35          14.255     52.5  \n",
              "11       21.23          21.655           14.71     52.0  \n",
              "12       22.18           22.56           13.28     50.0  \n",
              "13       20.54          21.085          12.255     49.5  \n",
              "14       21.36          21.825          13.225     49.5  \n",
              "15       25.27          25.705           15.22     36.0  \n",
              "16      22.975          23.605           14.42     38.0  \n",
              "17      20.645           21.43           12.31     39.0  \n",
              "18      22.295          22.655          16.895     50.5  \n",
              "19      21.885           22.22           19.11     53.0  \n",
              "20      21.655          21.955          19.405     55.5  \n",
              "21      23.015           23.63          16.205     37.0  \n",
              "22      22.885          24.205          14.175     42.5  \n",
              "23       21.66           22.81           13.22     49.5  \n",
              "24       22.53           23.27          14.205     47.0  \n",
              "25       21.03           21.28           15.78     60.0  \n",
              "26      21.035          21.155          16.905     65.5  \n",
              "27       22.48           22.67           16.48     57.0  \n",
              "28      22.805           23.07          16.005     52.5  \n",
              "29      21.735           22.81           11.99     22.5  \n",
              "30       23.82          24.185           16.11     44.5  \n",
              "31      25.275          25.975           14.98     38.5  \n",
              "32       23.51           24.86           17.42     40.0  \n",
              "33      24.695           26.05           17.53     36.5  \n",
              "34      21.265          22.625          17.105     60.0  "
            ],
            "text/html": [
              "\n",
              "  <div id=\"df-228266aa-74ec-4a93-a04a-d5ddfc7530b2\">\n",
              "    <div class=\"colab-df-container\">\n",
              "      <div>\n",
              "<style scoped>\n",
              "    .dataframe tbody tr th:only-of-type {\n",
              "        vertical-align: middle;\n",
              "    }\n",
              "\n",
              "    .dataframe tbody tr th {\n",
              "        vertical-align: top;\n",
              "    }\n",
              "\n",
              "    .dataframe thead th {\n",
              "        text-align: right;\n",
              "    }\n",
              "</style>\n",
              "<table border=\"1\" class=\"dataframe\">\n",
              "  <thead>\n",
              "    <tr style=\"text-align: right;\">\n",
              "      <th></th>\n",
              "      <th>id</th>\n",
              "      <th>name</th>\n",
              "      <th>latitude</th>\n",
              "      <th>longitude</th>\n",
              "      <th>Temperature</th>\n",
              "      <th>Temperature_max</th>\n",
              "      <th>Temperature_min</th>\n",
              "      <th>Humidity</th>\n",
              "    </tr>\n",
              "  </thead>\n",
              "  <tbody>\n",
              "    <tr>\n",
              "      <th>0</th>\n",
              "      <td>0</td>\n",
              "      <td>Mont Saint Michel</td>\n",
              "      <td>48.6359541</td>\n",
              "      <td>-1.511459954959514</td>\n",
              "      <td>18.84</td>\n",
              "      <td>20.105</td>\n",
              "      <td>13.27</td>\n",
              "      <td>62.5</td>\n",
              "    </tr>\n",
              "    <tr>\n",
              "      <th>1</th>\n",
              "      <td>1</td>\n",
              "      <td>St Malo</td>\n",
              "      <td>48.649518</td>\n",
              "      <td>-2.0260409</td>\n",
              "      <td>18.225</td>\n",
              "      <td>19.575</td>\n",
              "      <td>13.86</td>\n",
              "      <td>66.5</td>\n",
              "    </tr>\n",
              "    <tr>\n",
              "      <th>2</th>\n",
              "      <td>2</td>\n",
              "      <td>Bayeux</td>\n",
              "      <td>49.2764624</td>\n",
              "      <td>-0.7024738</td>\n",
              "      <td>19.11</td>\n",
              "      <td>19.57</td>\n",
              "      <td>13.335</td>\n",
              "      <td>58.5</td>\n",
              "    </tr>\n",
              "    <tr>\n",
              "      <th>3</th>\n",
              "      <td>3</td>\n",
              "      <td>Le Havre</td>\n",
              "      <td>49.4938975</td>\n",
              "      <td>0.1079732</td>\n",
              "      <td>18.065</td>\n",
              "      <td>18.89</td>\n",
              "      <td>15.015</td>\n",
              "      <td>69.0</td>\n",
              "    </tr>\n",
              "    <tr>\n",
              "      <th>4</th>\n",
              "      <td>4</td>\n",
              "      <td>Rouen</td>\n",
              "      <td>49.4404591</td>\n",
              "      <td>1.0939658</td>\n",
              "      <td>19.76</td>\n",
              "      <td>20.485</td>\n",
              "      <td>13.69</td>\n",
              "      <td>57.0</td>\n",
              "    </tr>\n",
              "    <tr>\n",
              "      <th>5</th>\n",
              "      <td>5</td>\n",
              "      <td>Paris</td>\n",
              "      <td>48.8588897</td>\n",
              "      <td>2.3200410217200766</td>\n",
              "      <td>21.835</td>\n",
              "      <td>22.96</td>\n",
              "      <td>17.235</td>\n",
              "      <td>46.0</td>\n",
              "    </tr>\n",
              "    <tr>\n",
              "      <th>6</th>\n",
              "      <td>6</td>\n",
              "      <td>Amiens</td>\n",
              "      <td>49.8941708</td>\n",
              "      <td>2.2956951</td>\n",
              "      <td>19.685</td>\n",
              "      <td>20.45</td>\n",
              "      <td>14.245</td>\n",
              "      <td>61.0</td>\n",
              "    </tr>\n",
              "    <tr>\n",
              "      <th>7</th>\n",
              "      <td>7</td>\n",
              "      <td>Lille</td>\n",
              "      <td>50.6365654</td>\n",
              "      <td>3.0635282</td>\n",
              "      <td>19.01</td>\n",
              "      <td>19.92</td>\n",
              "      <td>14.155</td>\n",
              "      <td>67.5</td>\n",
              "    </tr>\n",
              "    <tr>\n",
              "      <th>8</th>\n",
              "      <td>8</td>\n",
              "      <td>Strasbourg</td>\n",
              "      <td>48.584614</td>\n",
              "      <td>7.7507127</td>\n",
              "      <td>19.16</td>\n",
              "      <td>19.625</td>\n",
              "      <td>12.97</td>\n",
              "      <td>58.0</td>\n",
              "    </tr>\n",
              "    <tr>\n",
              "      <th>9</th>\n",
              "      <td>9</td>\n",
              "      <td>Chateau du Haut Koenigsbourg</td>\n",
              "      <td>48.249489800000006</td>\n",
              "      <td>7.34429620253195</td>\n",
              "      <td>17.835</td>\n",
              "      <td>18.565</td>\n",
              "      <td>11.29</td>\n",
              "      <td>52.0</td>\n",
              "    </tr>\n",
              "    <tr>\n",
              "      <th>10</th>\n",
              "      <td>10</td>\n",
              "      <td>Colmar</td>\n",
              "      <td>48.0777517</td>\n",
              "      <td>7.3579641</td>\n",
              "      <td>20.915</td>\n",
              "      <td>21.35</td>\n",
              "      <td>14.255</td>\n",
              "      <td>52.5</td>\n",
              "    </tr>\n",
              "    <tr>\n",
              "      <th>11</th>\n",
              "      <td>11</td>\n",
              "      <td>Eguisheim</td>\n",
              "      <td>48.0447968</td>\n",
              "      <td>7.3079618</td>\n",
              "      <td>21.23</td>\n",
              "      <td>21.655</td>\n",
              "      <td>14.71</td>\n",
              "      <td>52.0</td>\n",
              "    </tr>\n",
              "    <tr>\n",
              "      <th>12</th>\n",
              "      <td>12</td>\n",
              "      <td>Besancon</td>\n",
              "      <td>47.2380222</td>\n",
              "      <td>6.0243622</td>\n",
              "      <td>22.18</td>\n",
              "      <td>22.56</td>\n",
              "      <td>13.28</td>\n",
              "      <td>50.0</td>\n",
              "    </tr>\n",
              "    <tr>\n",
              "      <th>13</th>\n",
              "      <td>13</td>\n",
              "      <td>Dijon</td>\n",
              "      <td>47.3215806</td>\n",
              "      <td>5.0414701</td>\n",
              "      <td>20.54</td>\n",
              "      <td>21.085</td>\n",
              "      <td>12.255</td>\n",
              "      <td>49.5</td>\n",
              "    </tr>\n",
              "    <tr>\n",
              "      <th>14</th>\n",
              "      <td>14</td>\n",
              "      <td>Annecy</td>\n",
              "      <td>45.8992348</td>\n",
              "      <td>6.1288847</td>\n",
              "      <td>21.36</td>\n",
              "      <td>21.825</td>\n",
              "      <td>13.225</td>\n",
              "      <td>49.5</td>\n",
              "    </tr>\n",
              "    <tr>\n",
              "      <th>15</th>\n",
              "      <td>15</td>\n",
              "      <td>Grenoble</td>\n",
              "      <td>45.1875602</td>\n",
              "      <td>5.7357819</td>\n",
              "      <td>25.27</td>\n",
              "      <td>25.705</td>\n",
              "      <td>15.22</td>\n",
              "      <td>36.0</td>\n",
              "    </tr>\n",
              "    <tr>\n",
              "      <th>16</th>\n",
              "      <td>16</td>\n",
              "      <td>Lyon</td>\n",
              "      <td>45.7578137</td>\n",
              "      <td>4.8320114</td>\n",
              "      <td>22.975</td>\n",
              "      <td>23.605</td>\n",
              "      <td>14.42</td>\n",
              "      <td>38.0</td>\n",
              "    </tr>\n",
              "    <tr>\n",
              "      <th>17</th>\n",
              "      <td>17</td>\n",
              "      <td>Gorges du Verdon</td>\n",
              "      <td>43.7496562</td>\n",
              "      <td>6.3285616</td>\n",
              "      <td>20.645</td>\n",
              "      <td>21.43</td>\n",
              "      <td>12.31</td>\n",
              "      <td>39.0</td>\n",
              "    </tr>\n",
              "    <tr>\n",
              "      <th>18</th>\n",
              "      <td>18</td>\n",
              "      <td>Bormes les Mimosas</td>\n",
              "      <td>43.1506968</td>\n",
              "      <td>6.3419285</td>\n",
              "      <td>22.295</td>\n",
              "      <td>22.655</td>\n",
              "      <td>16.895</td>\n",
              "      <td>50.5</td>\n",
              "    </tr>\n",
              "    <tr>\n",
              "      <th>19</th>\n",
              "      <td>19</td>\n",
              "      <td>Cassis</td>\n",
              "      <td>43.2140359</td>\n",
              "      <td>5.5396318</td>\n",
              "      <td>21.885</td>\n",
              "      <td>22.22</td>\n",
              "      <td>19.11</td>\n",
              "      <td>53.0</td>\n",
              "    </tr>\n",
              "    <tr>\n",
              "      <th>20</th>\n",
              "      <td>20</td>\n",
              "      <td>Marseille</td>\n",
              "      <td>43.2961743</td>\n",
              "      <td>5.3699525</td>\n",
              "      <td>21.655</td>\n",
              "      <td>21.955</td>\n",
              "      <td>19.405</td>\n",
              "      <td>55.5</td>\n",
              "    </tr>\n",
              "    <tr>\n",
              "      <th>21</th>\n",
              "      <td>21</td>\n",
              "      <td>Aix en Provence</td>\n",
              "      <td>43.5298424</td>\n",
              "      <td>5.4474738</td>\n",
              "      <td>23.015</td>\n",
              "      <td>23.63</td>\n",
              "      <td>16.205</td>\n",
              "      <td>37.0</td>\n",
              "    </tr>\n",
              "    <tr>\n",
              "      <th>22</th>\n",
              "      <td>22</td>\n",
              "      <td>Avignon</td>\n",
              "      <td>43.9492493</td>\n",
              "      <td>4.8059012</td>\n",
              "      <td>22.885</td>\n",
              "      <td>24.205</td>\n",
              "      <td>14.175</td>\n",
              "      <td>42.5</td>\n",
              "    </tr>\n",
              "    <tr>\n",
              "      <th>23</th>\n",
              "      <td>23</td>\n",
              "      <td>Uzes</td>\n",
              "      <td>44.0121279</td>\n",
              "      <td>4.4196718</td>\n",
              "      <td>21.66</td>\n",
              "      <td>22.81</td>\n",
              "      <td>13.22</td>\n",
              "      <td>49.5</td>\n",
              "    </tr>\n",
              "    <tr>\n",
              "      <th>24</th>\n",
              "      <td>24</td>\n",
              "      <td>Nimes</td>\n",
              "      <td>43.8374249</td>\n",
              "      <td>4.3600687</td>\n",
              "      <td>22.53</td>\n",
              "      <td>23.27</td>\n",
              "      <td>14.205</td>\n",
              "      <td>47.0</td>\n",
              "    </tr>\n",
              "    <tr>\n",
              "      <th>25</th>\n",
              "      <td>25</td>\n",
              "      <td>Aigues Mortes</td>\n",
              "      <td>43.5658225</td>\n",
              "      <td>4.1912837</td>\n",
              "      <td>21.03</td>\n",
              "      <td>21.28</td>\n",
              "      <td>15.78</td>\n",
              "      <td>60.0</td>\n",
              "    </tr>\n",
              "    <tr>\n",
              "      <th>26</th>\n",
              "      <td>26</td>\n",
              "      <td>Saintes Maries de la mer</td>\n",
              "      <td>43.4522771</td>\n",
              "      <td>4.4287172</td>\n",
              "      <td>21.035</td>\n",
              "      <td>21.155</td>\n",
              "      <td>16.905</td>\n",
              "      <td>65.5</td>\n",
              "    </tr>\n",
              "    <tr>\n",
              "      <th>27</th>\n",
              "      <td>27</td>\n",
              "      <td>Collioure</td>\n",
              "      <td>42.52505</td>\n",
              "      <td>3.0831554</td>\n",
              "      <td>22.48</td>\n",
              "      <td>22.67</td>\n",
              "      <td>16.48</td>\n",
              "      <td>57.0</td>\n",
              "    </tr>\n",
              "    <tr>\n",
              "      <th>28</th>\n",
              "      <td>28</td>\n",
              "      <td>Carcassonne</td>\n",
              "      <td>43.2130358</td>\n",
              "      <td>2.3491069</td>\n",
              "      <td>22.805</td>\n",
              "      <td>23.07</td>\n",
              "      <td>16.005</td>\n",
              "      <td>52.5</td>\n",
              "    </tr>\n",
              "    <tr>\n",
              "      <th>29</th>\n",
              "      <td>29</td>\n",
              "      <td>Ariege</td>\n",
              "      <td>42.9455368</td>\n",
              "      <td>1.4065544156065486</td>\n",
              "      <td>21.735</td>\n",
              "      <td>22.81</td>\n",
              "      <td>11.99</td>\n",
              "      <td>22.5</td>\n",
              "    </tr>\n",
              "    <tr>\n",
              "      <th>30</th>\n",
              "      <td>30</td>\n",
              "      <td>Toulouse</td>\n",
              "      <td>43.6044622</td>\n",
              "      <td>1.4442469</td>\n",
              "      <td>23.82</td>\n",
              "      <td>24.185</td>\n",
              "      <td>16.11</td>\n",
              "      <td>44.5</td>\n",
              "    </tr>\n",
              "    <tr>\n",
              "      <th>31</th>\n",
              "      <td>31</td>\n",
              "      <td>Montauban</td>\n",
              "      <td>44.0175835</td>\n",
              "      <td>1.3549991</td>\n",
              "      <td>25.275</td>\n",
              "      <td>25.975</td>\n",
              "      <td>14.98</td>\n",
              "      <td>38.5</td>\n",
              "    </tr>\n",
              "    <tr>\n",
              "      <th>32</th>\n",
              "      <td>32</td>\n",
              "      <td>Biarritz</td>\n",
              "      <td>43.471143749999996</td>\n",
              "      <td>-1.552726590666314</td>\n",
              "      <td>23.51</td>\n",
              "      <td>24.86</td>\n",
              "      <td>17.42</td>\n",
              "      <td>40.0</td>\n",
              "    </tr>\n",
              "    <tr>\n",
              "      <th>33</th>\n",
              "      <td>33</td>\n",
              "      <td>Bayonne</td>\n",
              "      <td>43.4945144</td>\n",
              "      <td>-1.4736657</td>\n",
              "      <td>24.695</td>\n",
              "      <td>26.05</td>\n",
              "      <td>17.53</td>\n",
              "      <td>36.5</td>\n",
              "    </tr>\n",
              "    <tr>\n",
              "      <th>34</th>\n",
              "      <td>34</td>\n",
              "      <td>La Rochelle</td>\n",
              "      <td>46.1591126</td>\n",
              "      <td>-1.1520434</td>\n",
              "      <td>21.265</td>\n",
              "      <td>22.625</td>\n",
              "      <td>17.105</td>\n",
              "      <td>60.0</td>\n",
              "    </tr>\n",
              "  </tbody>\n",
              "</table>\n",
              "</div>\n",
              "      <button class=\"colab-df-convert\" onclick=\"convertToInteractive('df-228266aa-74ec-4a93-a04a-d5ddfc7530b2')\"\n",
              "              title=\"Convert this dataframe to an interactive table.\"\n",
              "              style=\"display:none;\">\n",
              "        \n",
              "  <svg xmlns=\"http://www.w3.org/2000/svg\" height=\"24px\"viewBox=\"0 0 24 24\"\n",
              "       width=\"24px\">\n",
              "    <path d=\"M0 0h24v24H0V0z\" fill=\"none\"/>\n",
              "    <path d=\"M18.56 5.44l.94 2.06.94-2.06 2.06-.94-2.06-.94-.94-2.06-.94 2.06-2.06.94zm-11 1L8.5 8.5l.94-2.06 2.06-.94-2.06-.94L8.5 2.5l-.94 2.06-2.06.94zm10 10l.94 2.06.94-2.06 2.06-.94-2.06-.94-.94-2.06-.94 2.06-2.06.94z\"/><path d=\"M17.41 7.96l-1.37-1.37c-.4-.4-.92-.59-1.43-.59-.52 0-1.04.2-1.43.59L10.3 9.45l-7.72 7.72c-.78.78-.78 2.05 0 2.83L4 21.41c.39.39.9.59 1.41.59.51 0 1.02-.2 1.41-.59l7.78-7.78 2.81-2.81c.8-.78.8-2.07 0-2.86zM5.41 20L4 18.59l7.72-7.72 1.47 1.35L5.41 20z\"/>\n",
              "  </svg>\n",
              "      </button>\n",
              "      \n",
              "  <style>\n",
              "    .colab-df-container {\n",
              "      display:flex;\n",
              "      flex-wrap:wrap;\n",
              "      gap: 12px;\n",
              "    }\n",
              "\n",
              "    .colab-df-convert {\n",
              "      background-color: #E8F0FE;\n",
              "      border: none;\n",
              "      border-radius: 50%;\n",
              "      cursor: pointer;\n",
              "      display: none;\n",
              "      fill: #1967D2;\n",
              "      height: 32px;\n",
              "      padding: 0 0 0 0;\n",
              "      width: 32px;\n",
              "    }\n",
              "\n",
              "    .colab-df-convert:hover {\n",
              "      background-color: #E2EBFA;\n",
              "      box-shadow: 0px 1px 2px rgba(60, 64, 67, 0.3), 0px 1px 3px 1px rgba(60, 64, 67, 0.15);\n",
              "      fill: #174EA6;\n",
              "    }\n",
              "\n",
              "    [theme=dark] .colab-df-convert {\n",
              "      background-color: #3B4455;\n",
              "      fill: #D2E3FC;\n",
              "    }\n",
              "\n",
              "    [theme=dark] .colab-df-convert:hover {\n",
              "      background-color: #434B5C;\n",
              "      box-shadow: 0px 1px 3px 1px rgba(0, 0, 0, 0.15);\n",
              "      filter: drop-shadow(0px 1px 2px rgba(0, 0, 0, 0.3));\n",
              "      fill: #FFFFFF;\n",
              "    }\n",
              "  </style>\n",
              "\n",
              "      <script>\n",
              "        const buttonEl =\n",
              "          document.querySelector('#df-228266aa-74ec-4a93-a04a-d5ddfc7530b2 button.colab-df-convert');\n",
              "        buttonEl.style.display =\n",
              "          google.colab.kernel.accessAllowed ? 'block' : 'none';\n",
              "\n",
              "        async function convertToInteractive(key) {\n",
              "          const element = document.querySelector('#df-228266aa-74ec-4a93-a04a-d5ddfc7530b2');\n",
              "          const dataTable =\n",
              "            await google.colab.kernel.invokeFunction('convertToInteractive',\n",
              "                                                     [key], {});\n",
              "          if (!dataTable) return;\n",
              "\n",
              "          const docLinkHtml = 'Like what you see? Visit the ' +\n",
              "            '<a target=\"_blank\" href=https://colab.research.google.com/notebooks/data_table.ipynb>data table notebook</a>'\n",
              "            + ' to learn more about interactive tables.';\n",
              "          element.innerHTML = '';\n",
              "          dataTable['output_type'] = 'display_data';\n",
              "          await google.colab.output.renderOutput(dataTable, element);\n",
              "          const docLink = document.createElement('div');\n",
              "          docLink.innerHTML = docLinkHtml;\n",
              "          element.appendChild(docLink);\n",
              "        }\n",
              "      </script>\n",
              "    </div>\n",
              "  </div>\n",
              "  "
            ]
          },
          "metadata": {},
          "execution_count": 10
        }
      ]
    },
    {
      "cell_type": "markdown",
      "source": [
        "find the avrerage of tempreture(feel-like,max temp, min temp) in this week-end for list of cities\n",
        "if the mean of tempreture is more than 22, I assume that the best destination are the ones which have minimum of max temrature in that day \n",
        "and \n",
        "if the mean of tempreture is less than 22, I assume that the best destination are the ones which have maximum of min temrature in that day "
      ],
      "metadata": {
        "id": "OsptpAe46cV_"
      }
    },
    {
      "cell_type": "code",
      "source": [
        "Tem_avr=df_cities['Temperature'].mean()"
      ],
      "metadata": {
        "id": "f0BKE_4f9sOs"
      },
      "execution_count": null,
      "outputs": []
    },
    {
      "cell_type": "code",
      "source": [
        "df_cities['rank_weather']=None\n",
        "\n",
        "if (Tem_avr-22)>0:\n",
        "  df_cities.loc[:, 'rank_weather'] = df_cities['Temperature_max'].rank(method='min').astype(int)\n",
        "  df_cities = df_cities.sort_values(by=['Temperature_max'], ascending=[True]).reset_index(drop=True)\n",
        "else:\n",
        "  df_cities.loc[:, 'rank_weather'] = df_cities['Temperature_min'].rank(method='max').astype(int)\n",
        "  df_cities = df_cities.sort_values(by=['Temperature_min'], ascending=[True]).reset_index(drop=True)\n",
        "\n"
      ],
      "metadata": {
        "id": "a_MU9Ddu3-Hq"
      },
      "execution_count": null,
      "outputs": []
    },
    {
      "cell_type": "code",
      "source": [
        "df_cities"
      ],
      "metadata": {
        "colab": {
          "base_uri": "https://localhost:8080/",
          "height": 1000
        },
        "id": "MupsDT_V-8jH",
        "outputId": "04d4508f-9934-483e-8cb7-825d0483d807"
      },
      "execution_count": null,
      "outputs": [
        {
          "output_type": "execute_result",
          "data": {
            "text/plain": [
              "    id                          name            latitude           longitude  \\\n",
              "0    9  Chateau du Haut Koenigsbourg  48.249489800000006    7.34429620253195   \n",
              "1   29                        Ariege          42.9455368  1.4065544156065486   \n",
              "2   13                         Dijon          47.3215806           5.0414701   \n",
              "3   17              Gorges du Verdon          43.7496562           6.3285616   \n",
              "4    8                    Strasbourg           48.584614           7.7507127   \n",
              "5   23                          Uzes          44.0121279           4.4196718   \n",
              "6   14                        Annecy          45.8992348           6.1288847   \n",
              "7    0             Mont Saint Michel          48.6359541  -1.511459954959514   \n",
              "8   12                      Besancon          47.2380222           6.0243622   \n",
              "9    2                        Bayeux          49.2764624          -0.7024738   \n",
              "10   4                         Rouen          49.4404591           1.0939658   \n",
              "11   1                       St Malo           48.649518          -2.0260409   \n",
              "12   7                         Lille          50.6365654           3.0635282   \n",
              "13  22                       Avignon          43.9492493           4.8059012   \n",
              "14  24                         Nimes          43.8374249           4.3600687   \n",
              "15   6                        Amiens          49.8941708           2.2956951   \n",
              "16  10                        Colmar          48.0777517           7.3579641   \n",
              "17  16                          Lyon          45.7578137           4.8320114   \n",
              "18  11                     Eguisheim          48.0447968           7.3079618   \n",
              "19  31                     Montauban          44.0175835           1.3549991   \n",
              "20   3                      Le Havre          49.4938975           0.1079732   \n",
              "21  15                      Grenoble          45.1875602           5.7357819   \n",
              "22  25                 Aigues Mortes          43.5658225           4.1912837   \n",
              "23  28                   Carcassonne          43.2130358           2.3491069   \n",
              "24  30                      Toulouse          43.6044622           1.4442469   \n",
              "25  21               Aix en Provence          43.5298424           5.4474738   \n",
              "26  27                     Collioure            42.52505           3.0831554   \n",
              "27  18            Bormes les Mimosas          43.1506968           6.3419285   \n",
              "28  26      Saintes Maries de la mer          43.4522771           4.4287172   \n",
              "29  34                   La Rochelle          46.1591126          -1.1520434   \n",
              "30   5                         Paris          48.8588897  2.3200410217200766   \n",
              "31  32                      Biarritz  43.471143749999996  -1.552726590666314   \n",
              "32  33                       Bayonne          43.4945144          -1.4736657   \n",
              "33  19                        Cassis          43.2140359           5.5396318   \n",
              "34  20                     Marseille          43.2961743           5.3699525   \n",
              "\n",
              "   Temperature Temperature_max Temperature_min Humidity  rank_weather  \n",
              "0       17.835          18.565           11.29     52.0             1  \n",
              "1       21.735           22.81           11.99     22.5             2  \n",
              "2        20.54          21.085          12.255     49.5             3  \n",
              "3       20.645           21.43           12.31     39.0             4  \n",
              "4        19.16          19.625           12.97     58.0             5  \n",
              "5        21.66           22.81           13.22     49.5             6  \n",
              "6        21.36          21.825          13.225     49.5             7  \n",
              "7        18.84          20.105           13.27     62.5             8  \n",
              "8        22.18           22.56           13.28     50.0             9  \n",
              "9        19.11           19.57          13.335     58.5            10  \n",
              "10       19.76          20.485           13.69     57.0            11  \n",
              "11      18.225          19.575           13.86     66.5            12  \n",
              "12       19.01           19.92          14.155     67.5            13  \n",
              "13      22.885          24.205          14.175     42.5            14  \n",
              "14       22.53           23.27          14.205     47.0            15  \n",
              "15      19.685           20.45          14.245     61.0            16  \n",
              "16      20.915           21.35          14.255     52.5            17  \n",
              "17      22.975          23.605           14.42     38.0            18  \n",
              "18       21.23          21.655           14.71     52.0            19  \n",
              "19      25.275          25.975           14.98     38.5            20  \n",
              "20      18.065           18.89          15.015     69.0            21  \n",
              "21       25.27          25.705           15.22     36.0            22  \n",
              "22       21.03           21.28           15.78     60.0            23  \n",
              "23      22.805           23.07          16.005     52.5            24  \n",
              "24       23.82          24.185           16.11     44.5            25  \n",
              "25      23.015           23.63          16.205     37.0            26  \n",
              "26       22.48           22.67           16.48     57.0            27  \n",
              "27      22.295          22.655          16.895     50.5            28  \n",
              "28      21.035          21.155          16.905     65.5            29  \n",
              "29      21.265          22.625          17.105     60.0            30  \n",
              "30      21.835           22.96          17.235     46.0            31  \n",
              "31       23.51           24.86           17.42     40.0            32  \n",
              "32      24.695           26.05           17.53     36.5            33  \n",
              "33      21.885           22.22           19.11     53.0            34  \n",
              "34      21.655          21.955          19.405     55.5            35  "
            ],
            "text/html": [
              "\n",
              "  <div id=\"df-ea8e3236-20a1-4773-b8e9-e9bcb168a8de\">\n",
              "    <div class=\"colab-df-container\">\n",
              "      <div>\n",
              "<style scoped>\n",
              "    .dataframe tbody tr th:only-of-type {\n",
              "        vertical-align: middle;\n",
              "    }\n",
              "\n",
              "    .dataframe tbody tr th {\n",
              "        vertical-align: top;\n",
              "    }\n",
              "\n",
              "    .dataframe thead th {\n",
              "        text-align: right;\n",
              "    }\n",
              "</style>\n",
              "<table border=\"1\" class=\"dataframe\">\n",
              "  <thead>\n",
              "    <tr style=\"text-align: right;\">\n",
              "      <th></th>\n",
              "      <th>id</th>\n",
              "      <th>name</th>\n",
              "      <th>latitude</th>\n",
              "      <th>longitude</th>\n",
              "      <th>Temperature</th>\n",
              "      <th>Temperature_max</th>\n",
              "      <th>Temperature_min</th>\n",
              "      <th>Humidity</th>\n",
              "      <th>rank_weather</th>\n",
              "    </tr>\n",
              "  </thead>\n",
              "  <tbody>\n",
              "    <tr>\n",
              "      <th>0</th>\n",
              "      <td>9</td>\n",
              "      <td>Chateau du Haut Koenigsbourg</td>\n",
              "      <td>48.249489800000006</td>\n",
              "      <td>7.34429620253195</td>\n",
              "      <td>17.835</td>\n",
              "      <td>18.565</td>\n",
              "      <td>11.29</td>\n",
              "      <td>52.0</td>\n",
              "      <td>1</td>\n",
              "    </tr>\n",
              "    <tr>\n",
              "      <th>1</th>\n",
              "      <td>29</td>\n",
              "      <td>Ariege</td>\n",
              "      <td>42.9455368</td>\n",
              "      <td>1.4065544156065486</td>\n",
              "      <td>21.735</td>\n",
              "      <td>22.81</td>\n",
              "      <td>11.99</td>\n",
              "      <td>22.5</td>\n",
              "      <td>2</td>\n",
              "    </tr>\n",
              "    <tr>\n",
              "      <th>2</th>\n",
              "      <td>13</td>\n",
              "      <td>Dijon</td>\n",
              "      <td>47.3215806</td>\n",
              "      <td>5.0414701</td>\n",
              "      <td>20.54</td>\n",
              "      <td>21.085</td>\n",
              "      <td>12.255</td>\n",
              "      <td>49.5</td>\n",
              "      <td>3</td>\n",
              "    </tr>\n",
              "    <tr>\n",
              "      <th>3</th>\n",
              "      <td>17</td>\n",
              "      <td>Gorges du Verdon</td>\n",
              "      <td>43.7496562</td>\n",
              "      <td>6.3285616</td>\n",
              "      <td>20.645</td>\n",
              "      <td>21.43</td>\n",
              "      <td>12.31</td>\n",
              "      <td>39.0</td>\n",
              "      <td>4</td>\n",
              "    </tr>\n",
              "    <tr>\n",
              "      <th>4</th>\n",
              "      <td>8</td>\n",
              "      <td>Strasbourg</td>\n",
              "      <td>48.584614</td>\n",
              "      <td>7.7507127</td>\n",
              "      <td>19.16</td>\n",
              "      <td>19.625</td>\n",
              "      <td>12.97</td>\n",
              "      <td>58.0</td>\n",
              "      <td>5</td>\n",
              "    </tr>\n",
              "    <tr>\n",
              "      <th>5</th>\n",
              "      <td>23</td>\n",
              "      <td>Uzes</td>\n",
              "      <td>44.0121279</td>\n",
              "      <td>4.4196718</td>\n",
              "      <td>21.66</td>\n",
              "      <td>22.81</td>\n",
              "      <td>13.22</td>\n",
              "      <td>49.5</td>\n",
              "      <td>6</td>\n",
              "    </tr>\n",
              "    <tr>\n",
              "      <th>6</th>\n",
              "      <td>14</td>\n",
              "      <td>Annecy</td>\n",
              "      <td>45.8992348</td>\n",
              "      <td>6.1288847</td>\n",
              "      <td>21.36</td>\n",
              "      <td>21.825</td>\n",
              "      <td>13.225</td>\n",
              "      <td>49.5</td>\n",
              "      <td>7</td>\n",
              "    </tr>\n",
              "    <tr>\n",
              "      <th>7</th>\n",
              "      <td>0</td>\n",
              "      <td>Mont Saint Michel</td>\n",
              "      <td>48.6359541</td>\n",
              "      <td>-1.511459954959514</td>\n",
              "      <td>18.84</td>\n",
              "      <td>20.105</td>\n",
              "      <td>13.27</td>\n",
              "      <td>62.5</td>\n",
              "      <td>8</td>\n",
              "    </tr>\n",
              "    <tr>\n",
              "      <th>8</th>\n",
              "      <td>12</td>\n",
              "      <td>Besancon</td>\n",
              "      <td>47.2380222</td>\n",
              "      <td>6.0243622</td>\n",
              "      <td>22.18</td>\n",
              "      <td>22.56</td>\n",
              "      <td>13.28</td>\n",
              "      <td>50.0</td>\n",
              "      <td>9</td>\n",
              "    </tr>\n",
              "    <tr>\n",
              "      <th>9</th>\n",
              "      <td>2</td>\n",
              "      <td>Bayeux</td>\n",
              "      <td>49.2764624</td>\n",
              "      <td>-0.7024738</td>\n",
              "      <td>19.11</td>\n",
              "      <td>19.57</td>\n",
              "      <td>13.335</td>\n",
              "      <td>58.5</td>\n",
              "      <td>10</td>\n",
              "    </tr>\n",
              "    <tr>\n",
              "      <th>10</th>\n",
              "      <td>4</td>\n",
              "      <td>Rouen</td>\n",
              "      <td>49.4404591</td>\n",
              "      <td>1.0939658</td>\n",
              "      <td>19.76</td>\n",
              "      <td>20.485</td>\n",
              "      <td>13.69</td>\n",
              "      <td>57.0</td>\n",
              "      <td>11</td>\n",
              "    </tr>\n",
              "    <tr>\n",
              "      <th>11</th>\n",
              "      <td>1</td>\n",
              "      <td>St Malo</td>\n",
              "      <td>48.649518</td>\n",
              "      <td>-2.0260409</td>\n",
              "      <td>18.225</td>\n",
              "      <td>19.575</td>\n",
              "      <td>13.86</td>\n",
              "      <td>66.5</td>\n",
              "      <td>12</td>\n",
              "    </tr>\n",
              "    <tr>\n",
              "      <th>12</th>\n",
              "      <td>7</td>\n",
              "      <td>Lille</td>\n",
              "      <td>50.6365654</td>\n",
              "      <td>3.0635282</td>\n",
              "      <td>19.01</td>\n",
              "      <td>19.92</td>\n",
              "      <td>14.155</td>\n",
              "      <td>67.5</td>\n",
              "      <td>13</td>\n",
              "    </tr>\n",
              "    <tr>\n",
              "      <th>13</th>\n",
              "      <td>22</td>\n",
              "      <td>Avignon</td>\n",
              "      <td>43.9492493</td>\n",
              "      <td>4.8059012</td>\n",
              "      <td>22.885</td>\n",
              "      <td>24.205</td>\n",
              "      <td>14.175</td>\n",
              "      <td>42.5</td>\n",
              "      <td>14</td>\n",
              "    </tr>\n",
              "    <tr>\n",
              "      <th>14</th>\n",
              "      <td>24</td>\n",
              "      <td>Nimes</td>\n",
              "      <td>43.8374249</td>\n",
              "      <td>4.3600687</td>\n",
              "      <td>22.53</td>\n",
              "      <td>23.27</td>\n",
              "      <td>14.205</td>\n",
              "      <td>47.0</td>\n",
              "      <td>15</td>\n",
              "    </tr>\n",
              "    <tr>\n",
              "      <th>15</th>\n",
              "      <td>6</td>\n",
              "      <td>Amiens</td>\n",
              "      <td>49.8941708</td>\n",
              "      <td>2.2956951</td>\n",
              "      <td>19.685</td>\n",
              "      <td>20.45</td>\n",
              "      <td>14.245</td>\n",
              "      <td>61.0</td>\n",
              "      <td>16</td>\n",
              "    </tr>\n",
              "    <tr>\n",
              "      <th>16</th>\n",
              "      <td>10</td>\n",
              "      <td>Colmar</td>\n",
              "      <td>48.0777517</td>\n",
              "      <td>7.3579641</td>\n",
              "      <td>20.915</td>\n",
              "      <td>21.35</td>\n",
              "      <td>14.255</td>\n",
              "      <td>52.5</td>\n",
              "      <td>17</td>\n",
              "    </tr>\n",
              "    <tr>\n",
              "      <th>17</th>\n",
              "      <td>16</td>\n",
              "      <td>Lyon</td>\n",
              "      <td>45.7578137</td>\n",
              "      <td>4.8320114</td>\n",
              "      <td>22.975</td>\n",
              "      <td>23.605</td>\n",
              "      <td>14.42</td>\n",
              "      <td>38.0</td>\n",
              "      <td>18</td>\n",
              "    </tr>\n",
              "    <tr>\n",
              "      <th>18</th>\n",
              "      <td>11</td>\n",
              "      <td>Eguisheim</td>\n",
              "      <td>48.0447968</td>\n",
              "      <td>7.3079618</td>\n",
              "      <td>21.23</td>\n",
              "      <td>21.655</td>\n",
              "      <td>14.71</td>\n",
              "      <td>52.0</td>\n",
              "      <td>19</td>\n",
              "    </tr>\n",
              "    <tr>\n",
              "      <th>19</th>\n",
              "      <td>31</td>\n",
              "      <td>Montauban</td>\n",
              "      <td>44.0175835</td>\n",
              "      <td>1.3549991</td>\n",
              "      <td>25.275</td>\n",
              "      <td>25.975</td>\n",
              "      <td>14.98</td>\n",
              "      <td>38.5</td>\n",
              "      <td>20</td>\n",
              "    </tr>\n",
              "    <tr>\n",
              "      <th>20</th>\n",
              "      <td>3</td>\n",
              "      <td>Le Havre</td>\n",
              "      <td>49.4938975</td>\n",
              "      <td>0.1079732</td>\n",
              "      <td>18.065</td>\n",
              "      <td>18.89</td>\n",
              "      <td>15.015</td>\n",
              "      <td>69.0</td>\n",
              "      <td>21</td>\n",
              "    </tr>\n",
              "    <tr>\n",
              "      <th>21</th>\n",
              "      <td>15</td>\n",
              "      <td>Grenoble</td>\n",
              "      <td>45.1875602</td>\n",
              "      <td>5.7357819</td>\n",
              "      <td>25.27</td>\n",
              "      <td>25.705</td>\n",
              "      <td>15.22</td>\n",
              "      <td>36.0</td>\n",
              "      <td>22</td>\n",
              "    </tr>\n",
              "    <tr>\n",
              "      <th>22</th>\n",
              "      <td>25</td>\n",
              "      <td>Aigues Mortes</td>\n",
              "      <td>43.5658225</td>\n",
              "      <td>4.1912837</td>\n",
              "      <td>21.03</td>\n",
              "      <td>21.28</td>\n",
              "      <td>15.78</td>\n",
              "      <td>60.0</td>\n",
              "      <td>23</td>\n",
              "    </tr>\n",
              "    <tr>\n",
              "      <th>23</th>\n",
              "      <td>28</td>\n",
              "      <td>Carcassonne</td>\n",
              "      <td>43.2130358</td>\n",
              "      <td>2.3491069</td>\n",
              "      <td>22.805</td>\n",
              "      <td>23.07</td>\n",
              "      <td>16.005</td>\n",
              "      <td>52.5</td>\n",
              "      <td>24</td>\n",
              "    </tr>\n",
              "    <tr>\n",
              "      <th>24</th>\n",
              "      <td>30</td>\n",
              "      <td>Toulouse</td>\n",
              "      <td>43.6044622</td>\n",
              "      <td>1.4442469</td>\n",
              "      <td>23.82</td>\n",
              "      <td>24.185</td>\n",
              "      <td>16.11</td>\n",
              "      <td>44.5</td>\n",
              "      <td>25</td>\n",
              "    </tr>\n",
              "    <tr>\n",
              "      <th>25</th>\n",
              "      <td>21</td>\n",
              "      <td>Aix en Provence</td>\n",
              "      <td>43.5298424</td>\n",
              "      <td>5.4474738</td>\n",
              "      <td>23.015</td>\n",
              "      <td>23.63</td>\n",
              "      <td>16.205</td>\n",
              "      <td>37.0</td>\n",
              "      <td>26</td>\n",
              "    </tr>\n",
              "    <tr>\n",
              "      <th>26</th>\n",
              "      <td>27</td>\n",
              "      <td>Collioure</td>\n",
              "      <td>42.52505</td>\n",
              "      <td>3.0831554</td>\n",
              "      <td>22.48</td>\n",
              "      <td>22.67</td>\n",
              "      <td>16.48</td>\n",
              "      <td>57.0</td>\n",
              "      <td>27</td>\n",
              "    </tr>\n",
              "    <tr>\n",
              "      <th>27</th>\n",
              "      <td>18</td>\n",
              "      <td>Bormes les Mimosas</td>\n",
              "      <td>43.1506968</td>\n",
              "      <td>6.3419285</td>\n",
              "      <td>22.295</td>\n",
              "      <td>22.655</td>\n",
              "      <td>16.895</td>\n",
              "      <td>50.5</td>\n",
              "      <td>28</td>\n",
              "    </tr>\n",
              "    <tr>\n",
              "      <th>28</th>\n",
              "      <td>26</td>\n",
              "      <td>Saintes Maries de la mer</td>\n",
              "      <td>43.4522771</td>\n",
              "      <td>4.4287172</td>\n",
              "      <td>21.035</td>\n",
              "      <td>21.155</td>\n",
              "      <td>16.905</td>\n",
              "      <td>65.5</td>\n",
              "      <td>29</td>\n",
              "    </tr>\n",
              "    <tr>\n",
              "      <th>29</th>\n",
              "      <td>34</td>\n",
              "      <td>La Rochelle</td>\n",
              "      <td>46.1591126</td>\n",
              "      <td>-1.1520434</td>\n",
              "      <td>21.265</td>\n",
              "      <td>22.625</td>\n",
              "      <td>17.105</td>\n",
              "      <td>60.0</td>\n",
              "      <td>30</td>\n",
              "    </tr>\n",
              "    <tr>\n",
              "      <th>30</th>\n",
              "      <td>5</td>\n",
              "      <td>Paris</td>\n",
              "      <td>48.8588897</td>\n",
              "      <td>2.3200410217200766</td>\n",
              "      <td>21.835</td>\n",
              "      <td>22.96</td>\n",
              "      <td>17.235</td>\n",
              "      <td>46.0</td>\n",
              "      <td>31</td>\n",
              "    </tr>\n",
              "    <tr>\n",
              "      <th>31</th>\n",
              "      <td>32</td>\n",
              "      <td>Biarritz</td>\n",
              "      <td>43.471143749999996</td>\n",
              "      <td>-1.552726590666314</td>\n",
              "      <td>23.51</td>\n",
              "      <td>24.86</td>\n",
              "      <td>17.42</td>\n",
              "      <td>40.0</td>\n",
              "      <td>32</td>\n",
              "    </tr>\n",
              "    <tr>\n",
              "      <th>32</th>\n",
              "      <td>33</td>\n",
              "      <td>Bayonne</td>\n",
              "      <td>43.4945144</td>\n",
              "      <td>-1.4736657</td>\n",
              "      <td>24.695</td>\n",
              "      <td>26.05</td>\n",
              "      <td>17.53</td>\n",
              "      <td>36.5</td>\n",
              "      <td>33</td>\n",
              "    </tr>\n",
              "    <tr>\n",
              "      <th>33</th>\n",
              "      <td>19</td>\n",
              "      <td>Cassis</td>\n",
              "      <td>43.2140359</td>\n",
              "      <td>5.5396318</td>\n",
              "      <td>21.885</td>\n",
              "      <td>22.22</td>\n",
              "      <td>19.11</td>\n",
              "      <td>53.0</td>\n",
              "      <td>34</td>\n",
              "    </tr>\n",
              "    <tr>\n",
              "      <th>34</th>\n",
              "      <td>20</td>\n",
              "      <td>Marseille</td>\n",
              "      <td>43.2961743</td>\n",
              "      <td>5.3699525</td>\n",
              "      <td>21.655</td>\n",
              "      <td>21.955</td>\n",
              "      <td>19.405</td>\n",
              "      <td>55.5</td>\n",
              "      <td>35</td>\n",
              "    </tr>\n",
              "  </tbody>\n",
              "</table>\n",
              "</div>\n",
              "      <button class=\"colab-df-convert\" onclick=\"convertToInteractive('df-ea8e3236-20a1-4773-b8e9-e9bcb168a8de')\"\n",
              "              title=\"Convert this dataframe to an interactive table.\"\n",
              "              style=\"display:none;\">\n",
              "        \n",
              "  <svg xmlns=\"http://www.w3.org/2000/svg\" height=\"24px\"viewBox=\"0 0 24 24\"\n",
              "       width=\"24px\">\n",
              "    <path d=\"M0 0h24v24H0V0z\" fill=\"none\"/>\n",
              "    <path d=\"M18.56 5.44l.94 2.06.94-2.06 2.06-.94-2.06-.94-.94-2.06-.94 2.06-2.06.94zm-11 1L8.5 8.5l.94-2.06 2.06-.94-2.06-.94L8.5 2.5l-.94 2.06-2.06.94zm10 10l.94 2.06.94-2.06 2.06-.94-2.06-.94-.94-2.06-.94 2.06-2.06.94z\"/><path d=\"M17.41 7.96l-1.37-1.37c-.4-.4-.92-.59-1.43-.59-.52 0-1.04.2-1.43.59L10.3 9.45l-7.72 7.72c-.78.78-.78 2.05 0 2.83L4 21.41c.39.39.9.59 1.41.59.51 0 1.02-.2 1.41-.59l7.78-7.78 2.81-2.81c.8-.78.8-2.07 0-2.86zM5.41 20L4 18.59l7.72-7.72 1.47 1.35L5.41 20z\"/>\n",
              "  </svg>\n",
              "      </button>\n",
              "      \n",
              "  <style>\n",
              "    .colab-df-container {\n",
              "      display:flex;\n",
              "      flex-wrap:wrap;\n",
              "      gap: 12px;\n",
              "    }\n",
              "\n",
              "    .colab-df-convert {\n",
              "      background-color: #E8F0FE;\n",
              "      border: none;\n",
              "      border-radius: 50%;\n",
              "      cursor: pointer;\n",
              "      display: none;\n",
              "      fill: #1967D2;\n",
              "      height: 32px;\n",
              "      padding: 0 0 0 0;\n",
              "      width: 32px;\n",
              "    }\n",
              "\n",
              "    .colab-df-convert:hover {\n",
              "      background-color: #E2EBFA;\n",
              "      box-shadow: 0px 1px 2px rgba(60, 64, 67, 0.3), 0px 1px 3px 1px rgba(60, 64, 67, 0.15);\n",
              "      fill: #174EA6;\n",
              "    }\n",
              "\n",
              "    [theme=dark] .colab-df-convert {\n",
              "      background-color: #3B4455;\n",
              "      fill: #D2E3FC;\n",
              "    }\n",
              "\n",
              "    [theme=dark] .colab-df-convert:hover {\n",
              "      background-color: #434B5C;\n",
              "      box-shadow: 0px 1px 3px 1px rgba(0, 0, 0, 0.15);\n",
              "      filter: drop-shadow(0px 1px 2px rgba(0, 0, 0, 0.3));\n",
              "      fill: #FFFFFF;\n",
              "    }\n",
              "  </style>\n",
              "\n",
              "      <script>\n",
              "        const buttonEl =\n",
              "          document.querySelector('#df-ea8e3236-20a1-4773-b8e9-e9bcb168a8de button.colab-df-convert');\n",
              "        buttonEl.style.display =\n",
              "          google.colab.kernel.accessAllowed ? 'block' : 'none';\n",
              "\n",
              "        async function convertToInteractive(key) {\n",
              "          const element = document.querySelector('#df-ea8e3236-20a1-4773-b8e9-e9bcb168a8de');\n",
              "          const dataTable =\n",
              "            await google.colab.kernel.invokeFunction('convertToInteractive',\n",
              "                                                     [key], {});\n",
              "          if (!dataTable) return;\n",
              "\n",
              "          const docLinkHtml = 'Like what you see? Visit the ' +\n",
              "            '<a target=\"_blank\" href=https://colab.research.google.com/notebooks/data_table.ipynb>data table notebook</a>'\n",
              "            + ' to learn more about interactive tables.';\n",
              "          element.innerHTML = '';\n",
              "          dataTable['output_type'] = 'display_data';\n",
              "          await google.colab.output.renderOutput(dataTable, element);\n",
              "          const docLink = document.createElement('div');\n",
              "          docLink.innerHTML = docLinkHtml;\n",
              "          element.appendChild(docLink);\n",
              "        }\n",
              "      </script>\n",
              "    </div>\n",
              "  </div>\n",
              "  "
            ]
          },
          "metadata": {},
          "execution_count": 13
        }
      ]
    },
    {
      "cell_type": "markdown",
      "source": [
        "Top 5 cities based on the weather"
      ],
      "metadata": {
        "id": "6HM2G8nlfIzf"
      }
    },
    {
      "cell_type": "code",
      "source": [
        "top5_city=df_cities[0:5]"
      ],
      "metadata": {
        "id": "rqUjoD1x6UBe"
      },
      "execution_count": null,
      "outputs": []
    },
    {
      "cell_type": "code",
      "source": [
        "top5_city"
      ],
      "metadata": {
        "colab": {
          "base_uri": "https://localhost:8080/",
          "height": 206
        },
        "id": "8ONmfuepwAWD",
        "outputId": "2feb833e-293d-413b-ef46-8d9a28706751"
      },
      "execution_count": null,
      "outputs": [
        {
          "output_type": "execute_result",
          "data": {
            "text/plain": [
              "   id                          name            latitude           longitude  \\\n",
              "0   9  Chateau du Haut Koenigsbourg  48.249489800000006    7.34429620253195   \n",
              "1  29                        Ariege          42.9455368  1.4065544156065486   \n",
              "2  13                         Dijon          47.3215806           5.0414701   \n",
              "3  17              Gorges du Verdon          43.7496562           6.3285616   \n",
              "4   8                    Strasbourg           48.584614           7.7507127   \n",
              "\n",
              "  Temperature Temperature_max Temperature_min Humidity  rank_weather  \n",
              "0      17.835          18.565           11.29     52.0             1  \n",
              "1      21.735           22.81           11.99     22.5             2  \n",
              "2       20.54          21.085          12.255     49.5             3  \n",
              "3      20.645           21.43           12.31     39.0             4  \n",
              "4       19.16          19.625           12.97     58.0             5  "
            ],
            "text/html": [
              "\n",
              "  <div id=\"df-4d7e61ad-5ffb-436b-ac6d-6ca8481e5979\">\n",
              "    <div class=\"colab-df-container\">\n",
              "      <div>\n",
              "<style scoped>\n",
              "    .dataframe tbody tr th:only-of-type {\n",
              "        vertical-align: middle;\n",
              "    }\n",
              "\n",
              "    .dataframe tbody tr th {\n",
              "        vertical-align: top;\n",
              "    }\n",
              "\n",
              "    .dataframe thead th {\n",
              "        text-align: right;\n",
              "    }\n",
              "</style>\n",
              "<table border=\"1\" class=\"dataframe\">\n",
              "  <thead>\n",
              "    <tr style=\"text-align: right;\">\n",
              "      <th></th>\n",
              "      <th>id</th>\n",
              "      <th>name</th>\n",
              "      <th>latitude</th>\n",
              "      <th>longitude</th>\n",
              "      <th>Temperature</th>\n",
              "      <th>Temperature_max</th>\n",
              "      <th>Temperature_min</th>\n",
              "      <th>Humidity</th>\n",
              "      <th>rank_weather</th>\n",
              "    </tr>\n",
              "  </thead>\n",
              "  <tbody>\n",
              "    <tr>\n",
              "      <th>0</th>\n",
              "      <td>9</td>\n",
              "      <td>Chateau du Haut Koenigsbourg</td>\n",
              "      <td>48.249489800000006</td>\n",
              "      <td>7.34429620253195</td>\n",
              "      <td>17.835</td>\n",
              "      <td>18.565</td>\n",
              "      <td>11.29</td>\n",
              "      <td>52.0</td>\n",
              "      <td>1</td>\n",
              "    </tr>\n",
              "    <tr>\n",
              "      <th>1</th>\n",
              "      <td>29</td>\n",
              "      <td>Ariege</td>\n",
              "      <td>42.9455368</td>\n",
              "      <td>1.4065544156065486</td>\n",
              "      <td>21.735</td>\n",
              "      <td>22.81</td>\n",
              "      <td>11.99</td>\n",
              "      <td>22.5</td>\n",
              "      <td>2</td>\n",
              "    </tr>\n",
              "    <tr>\n",
              "      <th>2</th>\n",
              "      <td>13</td>\n",
              "      <td>Dijon</td>\n",
              "      <td>47.3215806</td>\n",
              "      <td>5.0414701</td>\n",
              "      <td>20.54</td>\n",
              "      <td>21.085</td>\n",
              "      <td>12.255</td>\n",
              "      <td>49.5</td>\n",
              "      <td>3</td>\n",
              "    </tr>\n",
              "    <tr>\n",
              "      <th>3</th>\n",
              "      <td>17</td>\n",
              "      <td>Gorges du Verdon</td>\n",
              "      <td>43.7496562</td>\n",
              "      <td>6.3285616</td>\n",
              "      <td>20.645</td>\n",
              "      <td>21.43</td>\n",
              "      <td>12.31</td>\n",
              "      <td>39.0</td>\n",
              "      <td>4</td>\n",
              "    </tr>\n",
              "    <tr>\n",
              "      <th>4</th>\n",
              "      <td>8</td>\n",
              "      <td>Strasbourg</td>\n",
              "      <td>48.584614</td>\n",
              "      <td>7.7507127</td>\n",
              "      <td>19.16</td>\n",
              "      <td>19.625</td>\n",
              "      <td>12.97</td>\n",
              "      <td>58.0</td>\n",
              "      <td>5</td>\n",
              "    </tr>\n",
              "  </tbody>\n",
              "</table>\n",
              "</div>\n",
              "      <button class=\"colab-df-convert\" onclick=\"convertToInteractive('df-4d7e61ad-5ffb-436b-ac6d-6ca8481e5979')\"\n",
              "              title=\"Convert this dataframe to an interactive table.\"\n",
              "              style=\"display:none;\">\n",
              "        \n",
              "  <svg xmlns=\"http://www.w3.org/2000/svg\" height=\"24px\"viewBox=\"0 0 24 24\"\n",
              "       width=\"24px\">\n",
              "    <path d=\"M0 0h24v24H0V0z\" fill=\"none\"/>\n",
              "    <path d=\"M18.56 5.44l.94 2.06.94-2.06 2.06-.94-2.06-.94-.94-2.06-.94 2.06-2.06.94zm-11 1L8.5 8.5l.94-2.06 2.06-.94-2.06-.94L8.5 2.5l-.94 2.06-2.06.94zm10 10l.94 2.06.94-2.06 2.06-.94-2.06-.94-.94-2.06-.94 2.06-2.06.94z\"/><path d=\"M17.41 7.96l-1.37-1.37c-.4-.4-.92-.59-1.43-.59-.52 0-1.04.2-1.43.59L10.3 9.45l-7.72 7.72c-.78.78-.78 2.05 0 2.83L4 21.41c.39.39.9.59 1.41.59.51 0 1.02-.2 1.41-.59l7.78-7.78 2.81-2.81c.8-.78.8-2.07 0-2.86zM5.41 20L4 18.59l7.72-7.72 1.47 1.35L5.41 20z\"/>\n",
              "  </svg>\n",
              "      </button>\n",
              "      \n",
              "  <style>\n",
              "    .colab-df-container {\n",
              "      display:flex;\n",
              "      flex-wrap:wrap;\n",
              "      gap: 12px;\n",
              "    }\n",
              "\n",
              "    .colab-df-convert {\n",
              "      background-color: #E8F0FE;\n",
              "      border: none;\n",
              "      border-radius: 50%;\n",
              "      cursor: pointer;\n",
              "      display: none;\n",
              "      fill: #1967D2;\n",
              "      height: 32px;\n",
              "      padding: 0 0 0 0;\n",
              "      width: 32px;\n",
              "    }\n",
              "\n",
              "    .colab-df-convert:hover {\n",
              "      background-color: #E2EBFA;\n",
              "      box-shadow: 0px 1px 2px rgba(60, 64, 67, 0.3), 0px 1px 3px 1px rgba(60, 64, 67, 0.15);\n",
              "      fill: #174EA6;\n",
              "    }\n",
              "\n",
              "    [theme=dark] .colab-df-convert {\n",
              "      background-color: #3B4455;\n",
              "      fill: #D2E3FC;\n",
              "    }\n",
              "\n",
              "    [theme=dark] .colab-df-convert:hover {\n",
              "      background-color: #434B5C;\n",
              "      box-shadow: 0px 1px 3px 1px rgba(0, 0, 0, 0.15);\n",
              "      filter: drop-shadow(0px 1px 2px rgba(0, 0, 0, 0.3));\n",
              "      fill: #FFFFFF;\n",
              "    }\n",
              "  </style>\n",
              "\n",
              "      <script>\n",
              "        const buttonEl =\n",
              "          document.querySelector('#df-4d7e61ad-5ffb-436b-ac6d-6ca8481e5979 button.colab-df-convert');\n",
              "        buttonEl.style.display =\n",
              "          google.colab.kernel.accessAllowed ? 'block' : 'none';\n",
              "\n",
              "        async function convertToInteractive(key) {\n",
              "          const element = document.querySelector('#df-4d7e61ad-5ffb-436b-ac6d-6ca8481e5979');\n",
              "          const dataTable =\n",
              "            await google.colab.kernel.invokeFunction('convertToInteractive',\n",
              "                                                     [key], {});\n",
              "          if (!dataTable) return;\n",
              "\n",
              "          const docLinkHtml = 'Like what you see? Visit the ' +\n",
              "            '<a target=\"_blank\" href=https://colab.research.google.com/notebooks/data_table.ipynb>data table notebook</a>'\n",
              "            + ' to learn more about interactive tables.';\n",
              "          element.innerHTML = '';\n",
              "          dataTable['output_type'] = 'display_data';\n",
              "          await google.colab.output.renderOutput(dataTable, element);\n",
              "          const docLink = document.createElement('div');\n",
              "          docLink.innerHTML = docLinkHtml;\n",
              "          element.appendChild(docLink);\n",
              "        }\n",
              "      </script>\n",
              "    </div>\n",
              "  </div>\n",
              "  "
            ]
          },
          "metadata": {},
          "execution_count": 15
        }
      ]
    },
    {
      "cell_type": "code",
      "source": [
        "best_5city=top5_city.name.to_list()"
      ],
      "metadata": {
        "id": "F4n8geqs6-yZ"
      },
      "execution_count": null,
      "outputs": []
    },
    {
      "cell_type": "code",
      "source": [
        "best_5city"
      ],
      "metadata": {
        "colab": {
          "base_uri": "https://localhost:8080/"
        },
        "id": "73JRDudc7Kbt",
        "outputId": "523438b4-10dd-4b3f-a924-4a45820ef80f"
      },
      "execution_count": null,
      "outputs": [
        {
          "output_type": "execute_result",
          "data": {
            "text/plain": [
              "['Chateau du Haut Koenigsbourg',\n",
              " 'Ariege',\n",
              " 'Dijon',\n",
              " 'Gorges du Verdon',\n",
              " 'Strasbourg']"
            ]
          },
          "metadata": {},
          "execution_count": 17
        }
      ]
    },
    {
      "cell_type": "markdown",
      "source": [
        "the date of travel for scraping booking.com\n",
        "\n",
        "*   2 person with no kid\n",
        "*   date next weekend just for one night\n",
        "*   order of hotel : based of review_score_and_price\n",
        "\n",
        "\n",
        "\n",
        "\n"
      ],
      "metadata": {
        "id": "LE-7H6_UfVUX"
      }
    },
    {
      "cell_type": "code",
      "source": [
        "year_in=str(sat.year)\n",
        "month_in=str(sat.month)\n",
        "day_in=str(sat.day)\n",
        "month_out=str(sun.month)\n",
        "day_out=str(sun.day)"
      ],
      "metadata": {
        "id": "UxUgznxW8ZTl"
      },
      "execution_count": null,
      "outputs": []
    },
    {
      "cell_type": "code",
      "source": [
        "class BookSpider(scrapy.Spider):\n",
        "    name = \"hotels\"\n",
        "    # Starting URL\n",
        "    start_urls = ['https://www.booking.com/index.fr.html']\n",
        "    \n",
        "    \n",
        "    # Parse function for login\n",
        "    def parse(self, response):\n",
        "      for city in best_5city:\n",
        "        # FormRequest used to login\n",
        "        yield scrapy.FormRequest.from_response(\n",
        "            response,\n",
        "            formdata={'ss': city,\"checkin_year\":year_in,\"checkin_month\":month_in,\"checkin_monthday\":day_in,\n",
        "            \"checkout_year\":year_in,\"checkout_month\":month_out,\"checkout_monthday\":day_out,\"selected_currency\":\"EUR\",\n",
        "            \"group_adults\":\"2\",\"order\":\"review_score_and_price\",'nflt':'%3Bht_id%3D204'},\n",
        "            callback=self.after_search\n",
        "        )\n",
        "\n",
        "    # Callback used after login\n",
        "    def after_search(self, response):\n",
        "      for item in response.css(\"div.main-spacing\"):\n",
        "        yield {\n",
        "                  'city': item.css(\"div.efdb2b543b h1.e1f827110f.d3a14d00da::text\").getall()[0].split(\"\\xa0\")[0],\n",
        "                  'hotel': item.css(\"div.fcab3ed991.a23c043802::text\").getall(),\n",
        "                  'url':item.css(\"h3.a4225678b2 a.e13098a59f::attr(href) \").getall(),\n",
        "                  'price': item.css(\"span.bd73d13072.fcab3ed991::text\").getall(),\n",
        "                  'rating':item.css(\"div.b5cd09854e.d10a6220b4::text\").getall(),\n",
        "                  }\n",
        "\n",
        "\n"
      ],
      "metadata": {
        "id": "-k6UojTE7O6J"
      },
      "execution_count": null,
      "outputs": []
    },
    {
      "cell_type": "code",
      "source": [
        "filename = \"book.json\"\n",
        "\n",
        "if filename in os.listdir():\n",
        "        os.remove(filename)\n",
        "\n",
        "process = CrawlerProcess(settings = {\n",
        "    'USER_AGENT': 'Mozilla/5.0 (Windows NT 10.0; Win64; x64; rv:92.0) Gecko/20100101 Firefox/92.0',\n",
        "    'LOG_LEVEL': logging.INFO,\n",
        "    \"FEEDS\": {\n",
        "        filename: {\"format\": \"json\"},\n",
        "    },\n",
        "    \"AUTOTHROTTLE_ENABLED\": True\n",
        "})\n",
        "\n",
        "process.crawl(BookSpider)\n",
        "process.start()\n"
      ],
      "metadata": {
        "colab": {
          "base_uri": "https://localhost:8080/"
        },
        "id": "1IKXiDHZA8w2",
        "outputId": "ebdc845d-2432-4828-d4c5-033c2a347b8e"
      },
      "execution_count": null,
      "outputs": [
        {
          "output_type": "stream",
          "name": "stderr",
          "text": [
            "INFO:scrapy.utils.log:Scrapy 2.7.0 started (bot: scrapybot)\n",
            "2022-10-24 16:52:08 [scrapy.utils.log] INFO: Scrapy 2.7.0 started (bot: scrapybot)\n",
            "INFO:scrapy.utils.log:Versions: lxml 4.9.1.0, libxml2 2.9.14, cssselect 1.1.0, parsel 1.6.0, w3lib 2.0.1, Twisted 22.8.0, Python 3.7.15 (default, Oct 12 2022, 19:14:55) - [GCC 7.5.0], pyOpenSSL 22.1.0 (OpenSSL 3.0.5 5 Jul 2022), cryptography 38.0.1, Platform Linux-5.10.133+-x86_64-with-Ubuntu-18.04-bionic\n",
            "2022-10-24 16:52:08 [scrapy.utils.log] INFO: Versions: lxml 4.9.1.0, libxml2 2.9.14, cssselect 1.1.0, parsel 1.6.0, w3lib 2.0.1, Twisted 22.8.0, Python 3.7.15 (default, Oct 12 2022, 19:14:55) - [GCC 7.5.0], pyOpenSSL 22.1.0 (OpenSSL 3.0.5 5 Jul 2022), cryptography 38.0.1, Platform Linux-5.10.133+-x86_64-with-Ubuntu-18.04-bionic\n",
            "INFO:scrapy.crawler:Overridden settings:\n",
            "{'AUTOTHROTTLE_ENABLED': True,\n",
            " 'LOG_LEVEL': 20,\n",
            " 'USER_AGENT': 'Mozilla/5.0 (Windows NT 10.0; Win64; x64; rv:92.0) '\n",
            "               'Gecko/20100101 Firefox/92.0'}\n",
            "2022-10-24 16:52:08 [scrapy.crawler] INFO: Overridden settings:\n",
            "{'AUTOTHROTTLE_ENABLED': True,\n",
            " 'LOG_LEVEL': 20,\n",
            " 'USER_AGENT': 'Mozilla/5.0 (Windows NT 10.0; Win64; x64; rv:92.0) '\n",
            "               'Gecko/20100101 Firefox/92.0'}\n",
            "/usr/local/lib/python3.7/dist-packages/scrapy/utils/request.py:231: ScrapyDeprecationWarning: '2.6' is a deprecated value for the 'REQUEST_FINGERPRINTER_IMPLEMENTATION' setting.\n",
            "\n",
            "It is also the default value. In other words, it is normal to get this warning if you have not defined a value for the 'REQUEST_FINGERPRINTER_IMPLEMENTATION' setting. This is so for backward compatibility reasons, but it will change in a future version of Scrapy.\n",
            "\n",
            "See the documentation of the 'REQUEST_FINGERPRINTER_IMPLEMENTATION' setting for information on how to handle this deprecation.\n",
            "  return cls(crawler)\n",
            "DEBUG:scrapy.utils.log:Using reactor: twisted.internet.epollreactor.EPollReactor\n",
            "INFO:scrapy.extensions.telnet:Telnet Password: e812e92c9f8b92db\n",
            "2022-10-24 16:52:08 [scrapy.extensions.telnet] INFO: Telnet Password: e812e92c9f8b92db\n",
            "INFO:scrapy.middleware:Enabled extensions:\n",
            "['scrapy.extensions.corestats.CoreStats',\n",
            " 'scrapy.extensions.telnet.TelnetConsole',\n",
            " 'scrapy.extensions.memusage.MemoryUsage',\n",
            " 'scrapy.extensions.feedexport.FeedExporter',\n",
            " 'scrapy.extensions.logstats.LogStats',\n",
            " 'scrapy.extensions.throttle.AutoThrottle']\n",
            "2022-10-24 16:52:08 [scrapy.middleware] INFO: Enabled extensions:\n",
            "['scrapy.extensions.corestats.CoreStats',\n",
            " 'scrapy.extensions.telnet.TelnetConsole',\n",
            " 'scrapy.extensions.memusage.MemoryUsage',\n",
            " 'scrapy.extensions.feedexport.FeedExporter',\n",
            " 'scrapy.extensions.logstats.LogStats',\n",
            " 'scrapy.extensions.throttle.AutoThrottle']\n",
            "INFO:scrapy.middleware:Enabled downloader middlewares:\n",
            "['scrapy.downloadermiddlewares.httpauth.HttpAuthMiddleware',\n",
            " 'scrapy.downloadermiddlewares.downloadtimeout.DownloadTimeoutMiddleware',\n",
            " 'scrapy.downloadermiddlewares.defaultheaders.DefaultHeadersMiddleware',\n",
            " 'scrapy.downloadermiddlewares.useragent.UserAgentMiddleware',\n",
            " 'scrapy.downloadermiddlewares.retry.RetryMiddleware',\n",
            " 'scrapy.downloadermiddlewares.redirect.MetaRefreshMiddleware',\n",
            " 'scrapy.downloadermiddlewares.httpcompression.HttpCompressionMiddleware',\n",
            " 'scrapy.downloadermiddlewares.redirect.RedirectMiddleware',\n",
            " 'scrapy.downloadermiddlewares.cookies.CookiesMiddleware',\n",
            " 'scrapy.downloadermiddlewares.httpproxy.HttpProxyMiddleware',\n",
            " 'scrapy.downloadermiddlewares.stats.DownloaderStats']\n",
            "2022-10-24 16:52:08 [scrapy.middleware] INFO: Enabled downloader middlewares:\n",
            "['scrapy.downloadermiddlewares.httpauth.HttpAuthMiddleware',\n",
            " 'scrapy.downloadermiddlewares.downloadtimeout.DownloadTimeoutMiddleware',\n",
            " 'scrapy.downloadermiddlewares.defaultheaders.DefaultHeadersMiddleware',\n",
            " 'scrapy.downloadermiddlewares.useragent.UserAgentMiddleware',\n",
            " 'scrapy.downloadermiddlewares.retry.RetryMiddleware',\n",
            " 'scrapy.downloadermiddlewares.redirect.MetaRefreshMiddleware',\n",
            " 'scrapy.downloadermiddlewares.httpcompression.HttpCompressionMiddleware',\n",
            " 'scrapy.downloadermiddlewares.redirect.RedirectMiddleware',\n",
            " 'scrapy.downloadermiddlewares.cookies.CookiesMiddleware',\n",
            " 'scrapy.downloadermiddlewares.httpproxy.HttpProxyMiddleware',\n",
            " 'scrapy.downloadermiddlewares.stats.DownloaderStats']\n",
            "INFO:scrapy.middleware:Enabled spider middlewares:\n",
            "['scrapy.spidermiddlewares.httperror.HttpErrorMiddleware',\n",
            " 'scrapy.spidermiddlewares.offsite.OffsiteMiddleware',\n",
            " 'scrapy.spidermiddlewares.referer.RefererMiddleware',\n",
            " 'scrapy.spidermiddlewares.urllength.UrlLengthMiddleware',\n",
            " 'scrapy.spidermiddlewares.depth.DepthMiddleware']\n",
            "2022-10-24 16:52:08 [scrapy.middleware] INFO: Enabled spider middlewares:\n",
            "['scrapy.spidermiddlewares.httperror.HttpErrorMiddleware',\n",
            " 'scrapy.spidermiddlewares.offsite.OffsiteMiddleware',\n",
            " 'scrapy.spidermiddlewares.referer.RefererMiddleware',\n",
            " 'scrapy.spidermiddlewares.urllength.UrlLengthMiddleware',\n",
            " 'scrapy.spidermiddlewares.depth.DepthMiddleware']\n",
            "INFO:scrapy.middleware:Enabled item pipelines:\n",
            "[]\n",
            "2022-10-24 16:52:08 [scrapy.middleware] INFO: Enabled item pipelines:\n",
            "[]\n",
            "INFO:scrapy.core.engine:Spider opened\n",
            "2022-10-24 16:52:08 [scrapy.core.engine] INFO: Spider opened\n",
            "INFO:scrapy.extensions.logstats:Crawled 0 pages (at 0 pages/min), scraped 0 items (at 0 items/min)\n",
            "2022-10-24 16:52:09 [scrapy.extensions.logstats] INFO: Crawled 0 pages (at 0 pages/min), scraped 0 items (at 0 items/min)\n",
            "INFO:scrapy.extensions.telnet:Telnet console listening on 127.0.0.1:6023\n",
            "2022-10-24 16:52:09 [scrapy.extensions.telnet] INFO: Telnet console listening on 127.0.0.1:6023\n",
            "DEBUG:filelock:Attempting to acquire lock 140035184779088 on /root/.cache/python-tldextract/3.7.15.final__usr__7d8fdf__tldextract-3.4.0/publicsuffix.org-tlds/de84b5ca2167d4c83e38fb162f2e8738.tldextract.json.lock\n",
            "DEBUG:filelock:Lock 140035184779088 acquired on /root/.cache/python-tldextract/3.7.15.final__usr__7d8fdf__tldextract-3.4.0/publicsuffix.org-tlds/de84b5ca2167d4c83e38fb162f2e8738.tldextract.json.lock\n",
            "DEBUG:filelock:Attempting to release lock 140035184779088 on /root/.cache/python-tldextract/3.7.15.final__usr__7d8fdf__tldextract-3.4.0/publicsuffix.org-tlds/de84b5ca2167d4c83e38fb162f2e8738.tldextract.json.lock\n",
            "DEBUG:filelock:Lock 140035184779088 released on /root/.cache/python-tldextract/3.7.15.final__usr__7d8fdf__tldextract-3.4.0/publicsuffix.org-tlds/de84b5ca2167d4c83e38fb162f2e8738.tldextract.json.lock\n",
            "DEBUG:scrapy.core.engine:Crawled (200) <GET https://www.booking.com/index.fr.html> (referer: None)\n",
            "DEBUG:scrapy.core.engine:Crawled (200) <GET https://www.booking.com/searchresults.fr.html?ss=Chateau+du+Haut+Koenigsbourg&checkin_year=2022&checkin_month=10&checkin_monthday=29&checkout_year=2022&checkout_month=10&checkout_monthday=30&selected_currency=EUR&group_adults=2&order=review_score_and_price&nflt=%253Bht_id%253D204> (referer: https://www.booking.com/index.fr.html)\n",
            "DEBUG:scrapy.core.scraper:Scraped from <200 https://www.booking.com/searchresults.fr.html?ss=Chateau+du+Haut+Koenigsbourg&checkin_year=2022&checkin_month=10&checkin_monthday=29&checkout_year=2022&checkout_month=10&checkout_monthday=30&selected_currency=EUR&group_adults=2&order=review_score_and_price&nflt=%253Bht_id%253D204>\n",
            "{'city': 'Château du Haut-Kœnigsbourg', 'hotel': ['Hôtel du Haut Koenigsbourg - calme et nature', 'Hôtel Barrière Ribeauvillé', \"Caveau de l'ami Fritz\", 'Hôtel Restaurant Le Verger des Châteaux, The Originals Relais', 'Hostellerie La Cheneaudière & Spa', 'Hotel Marchal', 'Logis Hôtel Restaurant La Tête Des Faux', 'Hotel Restaurant Du Kalblin', 'Hôtel Le Manoir', 'Centre International de Sejour - Le Mittel', 'B&B HOTEL Colmar Vignobles Ouest', 'Fast Hotel Colmar Houssen', 'Contact Hotel Du Ladhof', 'Hôtel du Ladhof', 'Hôtel parc & spa Les cigognes', 'La Belle Charbonnière', 'Hôtel Restaurant Domaine De Basil', 'Au Soleil, Hôtel Restaurant & Spa', 'Relais du Klevener', '6717 Nature Hôtel & Spa Le Clos des Délices', 'Les Terrasses du Lac Blanc - Studios & Appartements'], 'url': ['https://www.booking.com/hotel/fr/le-haut-koenigsbourg.fr.html?aid=304142&label=gen173bo-1DCAQoggJCI3NlYXJjaF9jaGF0ZWF1IGR1IGhhdXQga29lbmlnc2JvdXJnSA1YA2jnAYgBAZgBDbgBGMgBD9gBA-gBAfgBA4gCAZgCAqgCBLgCwIXbmgbAAgHSAiRkNTExNWQ0My1kNTQ4LTRiYzctYjY5Yy1mMTU2MzY5ODlmNzfYAgTgAgE&ucfs=1&arphpl=1&checkin=2022-10-29&checkout=2022-10-30&group_adults=2&req_adults=2&no_rooms=1&group_children=0&req_children=0&hpos=1&hapos=1&sr_order=review_score_and_price&nflt=ht_id%3D204&srpvid=ce0676a01b9e03b8&srepoch=1666630337&all_sr_blocks=32124602_347512012_2_0_0&highlighted_blocks=32124602_347512012_2_0_0&matching_block_id=32124602_347512012_2_0_0&sr_pri_blocks=32124602_347512012_2_0_0__12500&from_sustainable_property_sr=1&from=searchresults#hotelTmpl', 'https://www.booking.com/hotel/fr/resort-barriere-ribeauville.fr.html?aid=304142&label=gen173bo-1DCAQoggJCI3NlYXJjaF9jaGF0ZWF1IGR1IGhhdXQga29lbmlnc2JvdXJnSA1YA2jnAYgBAZgBDbgBGMgBD9gBA-gBAfgBA4gCAZgCAqgCBLgCwIXbmgbAAgHSAiRkNTExNWQ0My1kNTQ4LTRiYzctYjY5Yy1mMTU2MzY5ODlmNzfYAgTgAgE&ucfs=1&arphpl=1&checkin=2022-10-29&checkout=2022-10-30&group_adults=2&req_adults=2&no_rooms=1&group_children=0&req_children=0&hpos=2&hapos=2&sr_order=review_score_and_price&nflt=ht_id%3D204&srpvid=ce0676a01b9e03b8&srepoch=1666630337&all_sr_blocks=36438009_88549540_0_2_0&highlighted_blocks=36438009_88549540_0_2_0&matching_block_id=36438009_88549540_0_2_0&sr_pri_blocks=36438009_88549540_0_2_0__42907&from=searchresults#hotelTmpl', 'https://www.booking.com/hotel/fr/caveau-de-l-ami.fr.html?aid=304142&label=gen173bo-1DCAQoggJCI3NlYXJjaF9jaGF0ZWF1IGR1IGhhdXQga29lbmlnc2JvdXJnSA1YA2jnAYgBAZgBDbgBGMgBD9gBA-gBAfgBA4gCAZgCAqgCBLgCwIXbmgbAAgHSAiRkNTExNWQ0My1kNTQ4LTRiYzctYjY5Yy1mMTU2MzY5ODlmNzfYAgTgAgE&ucfs=1&arphpl=1&checkin=2022-10-29&checkout=2022-10-30&group_adults=2&req_adults=2&no_rooms=1&group_children=0&req_children=0&hpos=3&hapos=3&sr_order=review_score_and_price&nflt=ht_id%3D204&srpvid=ce0676a01b9e03b8&srepoch=1666630337&all_sr_blocks=35524928_99128119_1_2_0%2C35524926_99128119_1_2_0&highlighted_blocks=35524928_99128119_1_2_0%2C35524926_99128119_1_2_0&matching_block_id=35524928_99128119_1_2_0&sr_pri_blocks=35524928_99128119_1_2_0__9800%2C35524926_99128119_1_2_0__15000&from=searchresults#hotelTmpl', 'https://www.booking.com/hotel/fr/le-verger-des-chateaux.fr.html?aid=304142&label=gen173bo-1DCAQoggJCI3NlYXJjaF9jaGF0ZWF1IGR1IGhhdXQga29lbmlnc2JvdXJnSA1YA2jnAYgBAZgBDbgBGMgBD9gBA-gBAfgBA4gCAZgCAqgCBLgCwIXbmgbAAgHSAiRkNTExNWQ0My1kNTQ4LTRiYzctYjY5Yy1mMTU2MzY5ODlmNzfYAgTgAgE&ucfs=1&arphpl=1&checkin=2022-10-29&checkout=2022-10-30&group_adults=2&req_adults=2&no_rooms=1&group_children=0&req_children=0&hpos=4&hapos=4&sr_order=review_score_and_price&nflt=ht_id%3D204&srpvid=ce0676a01b9e03b8&srepoch=1666630337&all_sr_blocks=5411504_362793298_0_2_0&highlighted_blocks=5411504_362793298_0_2_0&matching_block_id=5411504_362793298_0_2_0&sr_pri_blocks=5411504_362793298_0_2_0__13775&from_sustainable_property_sr=1&from=searchresults#hotelTmpl', 'https://www.booking.com/hotel/fr/hostellerie-la-cheneaudiere.fr.html?aid=304142&label=gen173bo-1DCAQoggJCI3NlYXJjaF9jaGF0ZWF1IGR1IGhhdXQga29lbmlnc2JvdXJnSA1YA2jnAYgBAZgBDbgBGMgBD9gBA-gBAfgBA4gCAZgCAqgCBLgCwIXbmgbAAgHSAiRkNTExNWQ0My1kNTQ4LTRiYzctYjY5Yy1mMTU2MzY5ODlmNzfYAgTgAgE&ucfs=1&arphpl=1&checkin=2022-10-29&checkout=2022-10-30&group_adults=2&req_adults=2&no_rooms=1&group_children=0&req_children=0&hpos=5&hapos=5&sr_order=review_score_and_price&nflt=ht_id%3D204&srpvid=ce0676a01b9e03b8&srepoch=1666630337&all_sr_blocks=5385321_88984627_0_34_0&highlighted_blocks=5385321_88984627_0_34_0&matching_block_id=5385321_88984627_0_34_0&sr_pri_blocks=5385321_88984627_0_34_0__112800&from=searchresults#hotelTmpl', 'https://www.booking.com/hotel/fr/marchal.fr.html?aid=304142&label=gen173bo-1DCAQoggJCI3NlYXJjaF9jaGF0ZWF1IGR1IGhhdXQga29lbmlnc2JvdXJnSA1YA2jnAYgBAZgBDbgBGMgBD9gBA-gBAfgBA4gCAZgCAqgCBLgCwIXbmgbAAgHSAiRkNTExNWQ0My1kNTQ4LTRiYzctYjY5Yy1mMTU2MzY5ODlmNzfYAgTgAgE&ucfs=1&arphpl=1&checkin=2022-10-29&checkout=2022-10-30&group_adults=2&req_adults=2&no_rooms=1&group_children=0&req_children=0&hpos=6&hapos=6&sr_order=review_score_and_price&nflt=ht_id%3D204&srpvid=ce0676a01b9e03b8&srepoch=1666630337&all_sr_blocks=7662306_88554856_0_34_0&highlighted_blocks=7662306_88554856_0_34_0&matching_block_id=7662306_88554856_0_34_0&sr_pri_blocks=7662306_88554856_0_34_0__7000&from=searchresults#hotelTmpl', 'https://www.booking.com/hotel/fr/restaurant-la-tete-des-faux.fr.html?aid=304142&label=gen173bo-1DCAQoggJCI3NlYXJjaF9jaGF0ZWF1IGR1IGhhdXQga29lbmlnc2JvdXJnSA1YA2jnAYgBAZgBDbgBGMgBD9gBA-gBAfgBA4gCAZgCAqgCBLgCwIXbmgbAAgHSAiRkNTExNWQ0My1kNTQ4LTRiYzctYjY5Yy1mMTU2MzY5ODlmNzfYAgTgAgE&ucfs=1&arphpl=1&checkin=2022-10-29&checkout=2022-10-30&group_adults=2&req_adults=2&no_rooms=1&group_children=0&req_children=0&hpos=7&hapos=7&sr_order=review_score_and_price&nflt=ht_id%3D204&srpvid=ce0676a01b9e03b8&srepoch=1666630337&all_sr_blocks=7780114_88919516_2_2_0&highlighted_blocks=7780114_88919516_2_2_0&matching_block_id=7780114_88919516_2_2_0&sr_pri_blocks=7780114_88919516_2_2_0__9500&from=searchresults#hotelTmpl', 'https://www.booking.com/hotel/fr/restaurant-du-kalblin.fr.html?aid=304142&label=gen173bo-1DCAQoggJCI3NlYXJjaF9jaGF0ZWF1IGR1IGhhdXQga29lbmlnc2JvdXJnSA1YA2jnAYgBAZgBDbgBGMgBD9gBA-gBAfgBA4gCAZgCAqgCBLgCwIXbmgbAAgHSAiRkNTExNWQ0My1kNTQ4LTRiYzctYjY5Yy1mMTU2MzY5ODlmNzfYAgTgAgE&ucfs=1&arphpl=1&checkin=2022-10-29&checkout=2022-10-30&group_adults=2&req_adults=2&no_rooms=1&group_children=0&req_children=0&hpos=8&hapos=8&sr_order=review_score_and_price&nflt=ht_id%3D204&srpvid=ce0676a01b9e03b8&srepoch=1666630337&all_sr_blocks=2249202_190209314_0_2_0&highlighted_blocks=2249202_190209314_0_2_0&matching_block_id=2249202_190209314_0_2_0&sr_pri_blocks=2249202_190209314_0_2_0__6300&from=searchresults#hotelTmpl', 'https://www.booking.com/hotel/fr/manoir.fr.html?aid=304142&label=gen173bo-1DCAQoggJCI3NlYXJjaF9jaGF0ZWF1IGR1IGhhdXQga29lbmlnc2JvdXJnSA1YA2jnAYgBAZgBDbgBGMgBD9gBA-gBAfgBA4gCAZgCAqgCBLgCwIXbmgbAAgHSAiRkNTExNWQ0My1kNTQ4LTRiYzctYjY5Yy1mMTU2MzY5ODlmNzfYAgTgAgE&ucfs=1&arphpl=1&checkin=2022-10-29&checkout=2022-10-30&group_adults=2&req_adults=2&no_rooms=1&group_children=0&req_children=0&hpos=9&hapos=9&sr_order=review_score_and_price&nflt=ht_id%3D204&srpvid=ce0676a01b9e03b8&srepoch=1666630337&all_sr_blocks=5738604_201082857_0_0_0&highlighted_blocks=5738604_201082857_0_0_0&matching_block_id=5738604_201082857_0_0_0&sr_pri_blocks=5738604_201082857_0_0_0__17800&from_sustainable_property_sr=1&from=searchresults#hotelTmpl', 'https://www.booking.com/hotel/fr/ethic-etape-centre-international-de-sa-c-jour-mittelwihr.fr.html?aid=304142&label=gen173bo-1DCAQoggJCI3NlYXJjaF9jaGF0ZWF1IGR1IGhhdXQga29lbmlnc2JvdXJnSA1YA2jnAYgBAZgBDbgBGMgBD9gBA-gBAfgBA4gCAZgCAqgCBLgCwIXbmgbAAgHSAiRkNTExNWQ0My1kNTQ4LTRiYzctYjY5Yy1mMTU2MzY5ODlmNzfYAgTgAgE&ucfs=1&arphpl=1&checkin=2022-10-29&checkout=2022-10-30&group_adults=2&req_adults=2&no_rooms=1&group_children=0&req_children=0&hpos=10&hapos=10&sr_order=review_score_and_price&nflt=ht_id%3D204&srpvid=ce0676a01b9e03b8&srepoch=1666630337&all_sr_blocks=41762801_339959571_0_42_0&highlighted_blocks=41762801_339959571_0_42_0&matching_block_id=41762801_339959571_0_42_0&sr_pri_blocks=41762801_339959571_0_42_0__6000&from=searchresults#hotelTmpl', 'https://www.booking.com/hotel/fr/b-amp-b-colmar-wintzenheim2.fr.html?aid=304142&label=gen173bo-1DCAQoggJCI3NlYXJjaF9jaGF0ZWF1IGR1IGhhdXQga29lbmlnc2JvdXJnSA1YA2jnAYgBAZgBDbgBGMgBD9gBA-gBAfgBA4gCAZgCAqgCBLgCwIXbmgbAAgHSAiRkNTExNWQ0My1kNTQ4LTRiYzctYjY5Yy1mMTU2MzY5ODlmNzfYAgTgAgE&ucfs=1&arphpl=1&checkin=2022-10-29&checkout=2022-10-30&group_adults=2&req_adults=2&no_rooms=1&group_children=0&req_children=0&hpos=11&hapos=11&sr_order=review_score_and_price&nflt=ht_id%3D204&srpvid=ce0676a01b9e03b8&srepoch=1666630337&all_sr_blocks=159610601_362352654_0_0_0&highlighted_blocks=159610601_362352654_0_0_0&matching_block_id=159610601_362352654_0_0_0&sr_pri_blocks=159610601_362352654_0_0_0__7900&from=searchresults#hotelTmpl', 'https://www.booking.com/hotel/fr/fast-colmar-houssen.fr.html?aid=304142&label=gen173bo-1DCAQoggJCI3NlYXJjaF9jaGF0ZWF1IGR1IGhhdXQga29lbmlnc2JvdXJnSA1YA2jnAYgBAZgBDbgBGMgBD9gBA-gBAfgBA4gCAZgCAqgCBLgCwIXbmgbAAgHSAiRkNTExNWQ0My1kNTQ4LTRiYzctYjY5Yy1mMTU2MzY5ODlmNzfYAgTgAgE&ucfs=1&arphpl=1&checkin=2022-10-29&checkout=2022-10-30&group_adults=2&req_adults=2&no_rooms=1&group_children=0&req_children=0&hpos=12&hapos=12&sr_order=review_score_and_price&nflt=ht_id%3D204&srpvid=ce0676a01b9e03b8&srepoch=1666630337&all_sr_blocks=5390502_95180935_0_2_0&highlighted_blocks=5390502_95180935_0_2_0&matching_block_id=5390502_95180935_0_2_0&sr_pri_blocks=5390502_95180935_0_2_0__8800&from=searchresults#hotelTmpl', 'https://www.booking.com/hotel/fr/du-ladhof.fr.html?aid=304142&label=gen173bo-1DCAQoggJCI3NlYXJjaF9jaGF0ZWF1IGR1IGhhdXQga29lbmlnc2JvdXJnSA1YA2jnAYgBAZgBDbgBGMgBD9gBA-gBAfgBA4gCAZgCAqgCBLgCwIXbmgbAAgHSAiRkNTExNWQ0My1kNTQ4LTRiYzctYjY5Yy1mMTU2MzY5ODlmNzfYAgTgAgE&ucfs=1&arphpl=1&checkin=2022-10-29&checkout=2022-10-30&group_adults=2&req_adults=2&no_rooms=1&group_children=0&req_children=0&hpos=13&hapos=13&sr_order=review_score_and_price&nflt=ht_id%3D204&srpvid=ce0676a01b9e03b8&srepoch=1666630337&all_sr_blocks=18032501_325418011_0_2_0&highlighted_blocks=18032501_325418011_0_2_0&matching_block_id=18032501_325418011_0_2_0&sr_pri_blocks=18032501_325418011_0_2_0__7400&from=searchresults#hotelTmpl', 'https://www.booking.com/hotel/fr/ha-tel-du-ladhof.fr.html?aid=304142&label=gen173bo-1DCAQoggJCI3NlYXJjaF9jaGF0ZWF1IGR1IGhhdXQga29lbmlnc2JvdXJnSA1YA2jnAYgBAZgBDbgBGMgBD9gBA-gBAfgBA4gCAZgCAqgCBLgCwIXbmgbAAgHSAiRkNTExNWQ0My1kNTQ4LTRiYzctYjY5Yy1mMTU2MzY5ODlmNzfYAgTgAgE&ucfs=1&arphpl=1&checkin=2022-10-29&checkout=2022-10-30&group_adults=2&req_adults=2&no_rooms=1&group_children=0&req_children=0&hpos=14&hapos=14&sr_order=review_score_and_price&nflt=ht_id%3D204&srpvid=ce0676a01b9e03b8&srepoch=1666630337&all_sr_blocks=39831703_325419355_0_2_0&highlighted_blocks=39831703_325419355_0_2_0&matching_block_id=39831703_325419355_0_2_0&sr_pri_blocks=39831703_325419355_0_2_0__7500&from=searchresults#hotelTmpl', 'https://www.booking.com/hotel/fr/parc-amp-spa-les-cigognes.fr.html?aid=304142&label=gen173bo-1DCAQoggJCI3NlYXJjaF9jaGF0ZWF1IGR1IGhhdXQga29lbmlnc2JvdXJnSA1YA2jnAYgBAZgBDbgBGMgBD9gBA-gBAfgBA4gCAZgCAqgCBLgCwIXbmgbAAgHSAiRkNTExNWQ0My1kNTQ4LTRiYzctYjY5Yy1mMTU2MzY5ODlmNzfYAgTgAgE&ucfs=1&arphpl=1&checkin=2022-10-29&checkout=2022-10-30&group_adults=2&req_adults=2&no_rooms=1&group_children=0&req_children=0&hpos=15&hapos=15&sr_order=review_score_and_price&nflt=ht_id%3D204&srpvid=ce0676a01b9e03b8&srepoch=1666630337&all_sr_blocks=817473715_344254308_2_2_0&highlighted_blocks=817473715_344254308_2_2_0&matching_block_id=817473715_344254308_2_2_0&sr_pri_blocks=817473715_344254308_2_2_0__10700&from=searchresults#hotelTmpl', 'https://www.booking.com/hotel/fr/la-belle-charbonniere-la-petite-fosse.fr.html?aid=304142&label=gen173bo-1DCAQoggJCI3NlYXJjaF9jaGF0ZWF1IGR1IGhhdXQga29lbmlnc2JvdXJnSA1YA2jnAYgBAZgBDbgBGMgBD9gBA-gBAfgBA4gCAZgCAqgCBLgCwIXbmgbAAgHSAiRkNTExNWQ0My1kNTQ4LTRiYzctYjY5Yy1mMTU2MzY5ODlmNzfYAgTgAgE&ucfs=1&arphpl=1&checkin=2022-10-29&checkout=2022-10-30&group_adults=2&req_adults=2&no_rooms=1&group_children=0&req_children=0&hpos=16&hapos=16&sr_order=review_score_and_price&nflt=ht_id%3D204&srpvid=ce0676a01b9e03b8&srepoch=1666630337&all_sr_blocks=642146401_340180762_2_1_0&highlighted_blocks=642146401_340180762_2_1_0&matching_block_id=642146401_340180762_2_1_0&sr_pri_blocks=642146401_340180762_2_1_0__9500&from=searchresults#hotelTmpl', 'https://www.booking.com/hotel/fr/domaine-de-basil.fr.html?aid=304142&label=gen173bo-1DCAQoggJCI3NlYXJjaF9jaGF0ZWF1IGR1IGhhdXQga29lbmlnc2JvdXJnSA1YA2jnAYgBAZgBDbgBGMgBD9gBA-gBAfgBA4gCAZgCAqgCBLgCwIXbmgbAAgHSAiRkNTExNWQ0My1kNTQ4LTRiYzctYjY5Yy1mMTU2MzY5ODlmNzfYAgTgAgE&ucfs=1&arphpl=1&checkin=2022-10-29&checkout=2022-10-30&group_adults=2&req_adults=2&no_rooms=1&group_children=0&req_children=0&hpos=17&hapos=17&sr_order=review_score_and_price&nflt=ht_id%3D204&srpvid=ce0676a01b9e03b8&srepoch=1666630337&all_sr_blocks=5850701_88552195_0_34_0&highlighted_blocks=5850701_88552195_0_34_0&matching_block_id=5850701_88552195_0_34_0&sr_pri_blocks=5850701_88552195_0_34_0__10350&from=searchresults#hotelTmpl', 'https://www.booking.com/hotel/fr/ha-tel-restaurant-au-soleil.fr.html?aid=304142&label=gen173bo-1DCAQoggJCI3NlYXJjaF9jaGF0ZWF1IGR1IGhhdXQga29lbmlnc2JvdXJnSA1YA2jnAYgBAZgBDbgBGMgBD9gBA-gBAfgBA4gCAZgCAqgCBLgCwIXbmgbAAgHSAiRkNTExNWQ0My1kNTQ4LTRiYzctYjY5Yy1mMTU2MzY5ODlmNzfYAgTgAgE&ucfs=1&arphpl=1&checkin=2022-10-29&checkout=2022-10-30&group_adults=2&req_adults=2&no_rooms=1&group_children=0&req_children=0&hpos=18&hapos=18&sr_order=review_score_and_price&nflt=ht_id%3D204&srpvid=ce0676a01b9e03b8&srepoch=1666630337&all_sr_blocks=37907212_215786052_2_2_0&highlighted_blocks=37907212_215786052_2_2_0&matching_block_id=37907212_215786052_2_2_0&sr_pri_blocks=37907212_215786052_2_2_0__17250&from=searchresults#hotelTmpl', 'https://www.booking.com/hotel/fr/relais-du-klevener.fr.html?aid=304142&label=gen173bo-1DCAQoggJCI3NlYXJjaF9jaGF0ZWF1IGR1IGhhdXQga29lbmlnc2JvdXJnSA1YA2jnAYgBAZgBDbgBGMgBD9gBA-gBAfgBA4gCAZgCAqgCBLgCwIXbmgbAAgHSAiRkNTExNWQ0My1kNTQ4LTRiYzctYjY5Yy1mMTU2MzY5ODlmNzfYAgTgAgE&ucfs=1&arphpl=1&checkin=2022-10-29&checkout=2022-10-30&group_adults=2&req_adults=2&no_rooms=1&group_children=0&req_children=0&hpos=19&hapos=19&sr_order=review_score_and_price&nflt=ht_id%3D204&srpvid=ce0676a01b9e03b8&srepoch=1666630337&all_sr_blocks=37934501_109601056_0_2_0&highlighted_blocks=37934501_109601056_0_2_0&matching_block_id=37934501_109601056_0_2_0&sr_pri_blocks=37934501_109601056_0_2_0__5500&from=searchresults#hotelTmpl', 'https://www.booking.com/hotel/fr/clos-des-delices.fr.html?aid=304142&label=gen173bo-1DCAQoggJCI3NlYXJjaF9jaGF0ZWF1IGR1IGhhdXQga29lbmlnc2JvdXJnSA1YA2jnAYgBAZgBDbgBGMgBD9gBA-gBAfgBA4gCAZgCAqgCBLgCwIXbmgbAAgHSAiRkNTExNWQ0My1kNTQ4LTRiYzctYjY5Yy1mMTU2MzY5ODlmNzfYAgTgAgE&ucfs=1&arphpl=1&checkin=2022-10-29&checkout=2022-10-30&group_adults=2&req_adults=2&no_rooms=1&group_children=0&req_children=0&hpos=20&hapos=20&sr_order=review_score_and_price&nflt=ht_id%3D204&srpvid=ce0676a01b9e03b8&srepoch=1666630337&all_sr_blocks=24363505_228114938_0_2_0&highlighted_blocks=24363505_228114938_0_2_0&matching_block_id=24363505_228114938_0_2_0&sr_pri_blocks=24363505_228114938_0_2_0__49100&from=searchresults#hotelTmpl', 'https://www.booking.com/hotel/fr/les-terrasses-du-lac-blanc.fr.html?aid=304142&label=gen173bo-1DCAQoggJCI3NlYXJjaF9jaGF0ZWF1IGR1IGhhdXQga29lbmlnc2JvdXJnSA1YA2jnAYgBAZgBDbgBGMgBD9gBA-gBAfgBA4gCAZgCAqgCBLgCwIXbmgbAAgHSAiRkNTExNWQ0My1kNTQ4LTRiYzctYjY5Yy1mMTU2MzY5ODlmNzfYAgTgAgE&ucfs=1&arphpl=1&checkin=2022-10-29&checkout=2022-10-30&group_adults=2&req_adults=2&no_rooms=1&group_children=0&req_children=0&hpos=21&hapos=21&sr_order=review_score_and_price&nflt=ht_id%3D204&srpvid=ce0676a01b9e03b8&srepoch=1666630337&all_sr_blocks=26423705_326752447_2_2_0&highlighted_blocks=26423705_326752447_2_2_0&matching_block_id=26423705_326752447_2_2_0&sr_pri_blocks=26423705_326752447_2_2_0__10700&from=searchresults#hotelTmpl'], 'price': ['€\\xa0125', '€\\xa0429', '€\\xa0248', '€\\xa0138', '€\\xa01 128', '€\\xa070', '€\\xa095', '€\\xa063', '€\\xa0178', '€\\xa060', '€\\xa079', '€\\xa088', '€\\xa074', '€\\xa075', '€\\xa0107', '€\\xa095', '€\\xa0103', '€\\xa0173', '€\\xa055', '€\\xa0491', '€\\xa0107'], 'rating': ['9,0', '8,5', '8,0', '7,9', '9,2', '8,0', '8,2', '7,7', '7,9', '7,1', '7,2', '7,1', '6,6', '5,8', '5,6', '8,7', '8,8', '8,6', '8,4', '7,9', '6,9']}\n",
            "DEBUG:scrapy.core.engine:Crawled (200) <GET https://www.booking.com/searchresults.fr.html?ss=Ariege&checkin_year=2022&checkin_month=10&checkin_monthday=29&checkout_year=2022&checkout_month=10&checkout_monthday=30&selected_currency=EUR&group_adults=2&order=review_score_and_price&nflt=%253Bht_id%253D204> (referer: https://www.booking.com/index.fr.html)\n",
            "DEBUG:scrapy.core.scraper:Scraped from <200 https://www.booking.com/searchresults.fr.html?ss=Ariege&checkin_year=2022&checkin_month=10&checkin_monthday=29&checkout_year=2022&checkout_month=10&checkout_monthday=30&selected_currency=EUR&group_adults=2&order=review_score_and_price&nflt=%253Bht_id%253D204>\n",
            "{'city': 'Ariège', 'hotel': ['Le Clos Cathala', 'Relais Mira Peis', 'Hôtel Confort 09 ou HC-09', 'Logis Hotel Restaurant LA BARGUILLERE', \"Le Manoir d'Agnès\", 'Château de Longpré', \"Relais d'Endron\", 'Les Rives du Haut Salat', 'Domaine de Garabaud', \"Domaine de la Vallée d'Ax\", 'Hôtel Le Bellevue', 'Hotel du Lac Foix', 'Hôtel Terranostra', \"The Originals Access, Hôtel Foix (P'tit Dej-Hotel)\", 'Brit Hotel Confort Foix', 'La Pierre Blanche', \"Logis Hôtel L'Auzeraie\", 'Hôtel Le Lons', 'Terres de France - Domaine du Palais', 'Hôtel La Rocade', 'Hostellerie de la Poste', 'Résidence Natura', 'Logis Horizon 117', 'Hôtel Le Roi Gourmand', 'Hôtel Premiere Classe Pamiers'], 'url': ['https://www.booking.com/hotel/fr/le-clos-cathala.fr.html?aid=304142&label=gen173bo-1DCAQoggJCDXNlYXJjaF9hcmllZ2VIDVgDaOcBiAEBmAENuAEYyAEP2AED6AEB-AEDiAIBmAICqAIEuALDhduaBsACAdICJDAzYmJjOWZjLTRiMGMtNDNiNy1iM2M5LWI1OTE2MDgzNGJkZdgCBOACAQ&ucfs=1&arphpl=1&checkin=2022-10-29&checkout=2022-10-30&group_adults=2&req_adults=2&no_rooms=1&group_children=0&req_children=0&hpos=1&hapos=1&sr_order=review_score_and_price&nflt=ht_id%3D204&srpvid=bb9e76a18135052b&srepoch=1666630340&all_sr_blocks=652352804_266292722_2_1_0&highlighted_blocks=652352804_266292722_2_1_0&matching_block_id=652352804_266292722_2_1_0&sr_pri_blocks=652352804_266292722_2_1_0__22000&from=searchresults#hotelTmpl', 'https://www.booking.com/hotel/fr/relais-mira-peis.fr.html?aid=304142&label=gen173bo-1DCAQoggJCDXNlYXJjaF9hcmllZ2VIDVgDaOcBiAEBmAENuAEYyAEP2AED6AEB-AEDiAIBmAICqAIEuALDhduaBsACAdICJDAzYmJjOWZjLTRiMGMtNDNiNy1iM2M5LWI1OTE2MDgzNGJkZdgCBOACAQ&ucfs=1&arphpl=1&checkin=2022-10-29&checkout=2022-10-30&group_adults=2&req_adults=2&no_rooms=1&group_children=0&req_children=0&hpos=2&hapos=2&sr_order=review_score_and_price&nflt=ht_id%3D204&srpvid=bb9e76a18135052b&srepoch=1666630340&all_sr_blocks=812433006_343545338_2_41_0&highlighted_blocks=812433006_343545338_2_41_0&matching_block_id=812433006_343545338_2_41_0&sr_pri_blocks=812433006_343545338_2_41_0__25148&from_sustainable_property_sr=1&from=searchresults#hotelTmpl', 'https://www.booking.com/hotel/fr/confort-tarascon-sur-aria-ge.fr.html?aid=304142&label=gen173bo-1DCAQoggJCDXNlYXJjaF9hcmllZ2VIDVgDaOcBiAEBmAENuAEYyAEP2AED6AEB-AEDiAIBmAICqAIEuALDhduaBsACAdICJDAzYmJjOWZjLTRiMGMtNDNiNy1iM2M5LWI1OTE2MDgzNGJkZdgCBOACAQ&ucfs=1&arphpl=1&checkin=2022-10-29&checkout=2022-10-30&group_adults=2&req_adults=2&no_rooms=1&group_children=0&req_children=0&hpos=3&hapos=3&sr_order=review_score_and_price&nflt=ht_id%3D204&srpvid=bb9e76a18135052b&srepoch=1666630340&all_sr_blocks=5780001_327823734_0_0_0&highlighted_blocks=5780001_327823734_0_0_0&matching_block_id=5780001_327823734_0_0_0&sr_pri_blocks=5780001_327823734_0_0_0__6050&from=searchresults#hotelTmpl', 'https://www.booking.com/hotel/fr/la-barguillere.fr.html?aid=304142&label=gen173bo-1DCAQoggJCDXNlYXJjaF9hcmllZ2VIDVgDaOcBiAEBmAENuAEYyAEP2AED6AEB-AEDiAIBmAICqAIEuALDhduaBsACAdICJDAzYmJjOWZjLTRiMGMtNDNiNy1iM2M5LWI1OTE2MDgzNGJkZdgCBOACAQ&ucfs=1&arphpl=1&checkin=2022-10-29&checkout=2022-10-30&group_adults=2&req_adults=2&no_rooms=1&group_children=0&req_children=0&hpos=4&hapos=4&sr_order=review_score_and_price&nflt=ht_id%3D204&srpvid=bb9e76a18135052b&srepoch=1666630340&all_sr_blocks=18235910_141413769_0_2_0&highlighted_blocks=18235910_141413769_0_2_0&matching_block_id=18235910_141413769_0_2_0&sr_pri_blocks=18235910_141413769_0_2_0__7400&from_sustainable_property_sr=1&from=searchresults#hotelTmpl', 'https://www.booking.com/hotel/fr/le-manoir-d-agnes.fr.html?aid=304142&label=gen173bo-1DCAQoggJCDXNlYXJjaF9hcmllZ2VIDVgDaOcBiAEBmAENuAEYyAEP2AED6AEB-AEDiAIBmAICqAIEuALDhduaBsACAdICJDAzYmJjOWZjLTRiMGMtNDNiNy1iM2M5LWI1OTE2MDgzNGJkZdgCBOACAQ&ucfs=1&arphpl=1&checkin=2022-10-29&checkout=2022-10-30&group_adults=2&req_adults=2&no_rooms=1&group_children=0&req_children=0&hpos=5&hapos=5&sr_order=review_score_and_price&nflt=ht_id%3D204&srpvid=bb9e76a18135052b&srepoch=1666630340&all_sr_blocks=25411102_91405472_0_2_0&highlighted_blocks=25411102_91405472_0_2_0&matching_block_id=25411102_91405472_0_2_0&sr_pri_blocks=25411102_91405472_0_2_0__15200&from=searchresults#hotelTmpl', 'https://www.booking.com/hotel/fr/chateau-de-longpre.fr.html?aid=304142&label=gen173bo-1DCAQoggJCDXNlYXJjaF9hcmllZ2VIDVgDaOcBiAEBmAENuAEYyAEP2AED6AEB-AEDiAIBmAICqAIEuALDhduaBsACAdICJDAzYmJjOWZjLTRiMGMtNDNiNy1iM2M5LWI1OTE2MDgzNGJkZdgCBOACAQ&ucfs=1&arphpl=1&checkin=2022-10-29&checkout=2022-10-30&group_adults=2&req_adults=2&no_rooms=1&group_children=0&req_children=0&hpos=6&hapos=6&sr_order=review_score_and_price&nflt=ht_id%3D204&srpvid=bb9e76a18135052b&srepoch=1666630340&all_sr_blocks=680247101_298610445_2_42_0&highlighted_blocks=680247101_298610445_2_42_0&matching_block_id=680247101_298610445_2_42_0&sr_pri_blocks=680247101_298610445_2_42_0__23000&from=searchresults#hotelTmpl', 'https://www.booking.com/hotel/fr/relais-d-endron.fr.html?aid=304142&label=gen173bo-1DCAQoggJCDXNlYXJjaF9hcmllZ2VIDVgDaOcBiAEBmAENuAEYyAEP2AED6AEB-AEDiAIBmAICqAIEuALDhduaBsACAdICJDAzYmJjOWZjLTRiMGMtNDNiNy1iM2M5LWI1OTE2MDgzNGJkZdgCBOACAQ&ucfs=1&arphpl=1&checkin=2022-10-29&checkout=2022-10-30&group_adults=2&req_adults=2&no_rooms=1&group_children=0&req_children=0&hpos=7&hapos=7&sr_order=review_score_and_price&nflt=ht_id%3D204&srpvid=bb9e76a18135052b&srepoch=1666630340&all_sr_blocks=273815003_310763042_2_42_0&highlighted_blocks=273815003_310763042_2_42_0&matching_block_id=273815003_310763042_2_42_0&sr_pri_blocks=273815003_310763042_2_42_0__6000&from=searchresults#hotelTmpl', 'https://www.booking.com/hotel/fr/les-rives-du-haut-salat.fr.html?aid=304142&label=gen173bo-1DCAQoggJCDXNlYXJjaF9hcmllZ2VIDVgDaOcBiAEBmAENuAEYyAEP2AED6AEB-AEDiAIBmAICqAIEuALDhduaBsACAdICJDAzYmJjOWZjLTRiMGMtNDNiNy1iM2M5LWI1OTE2MDgzNGJkZdgCBOACAQ&ucfs=1&arphpl=1&checkin=2022-10-29&checkout=2022-10-30&group_adults=2&req_adults=2&no_rooms=1&group_children=0&req_children=0&hpos=8&hapos=8&sr_order=review_score_and_price&nflt=ht_id%3D204&srpvid=bb9e76a18135052b&srepoch=1666630340&all_sr_blocks=802362302_356870552_2_2_0&highlighted_blocks=802362302_356870552_2_2_0&matching_block_id=802362302_356870552_2_2_0&sr_pri_blocks=802362302_356870552_2_2_0__6300&from_sustainable_property_sr=1&from=searchresults#hotelTmpl', 'https://www.booking.com/hotel/fr/domaine-de-garabaud.fr.html?aid=304142&label=gen173bo-1DCAQoggJCDXNlYXJjaF9hcmllZ2VIDVgDaOcBiAEBmAENuAEYyAEP2AED6AEB-AEDiAIBmAICqAIEuALDhduaBsACAdICJDAzYmJjOWZjLTRiMGMtNDNiNy1iM2M5LWI1OTE2MDgzNGJkZdgCBOACAQ&ucfs=1&arphpl=1&checkin=2022-10-29&checkout=2022-10-30&group_adults=2&req_adults=2&no_rooms=1&group_children=0&req_children=0&hpos=9&hapos=9&sr_order=review_score_and_price&nflt=ht_id%3D204&srpvid=bb9e76a18135052b&srepoch=1666630340&all_sr_blocks=18334907_200924460_2_10_0&highlighted_blocks=18334907_200924460_2_10_0&matching_block_id=18334907_200924460_2_10_0&sr_pri_blocks=18334907_200924460_2_10_0__6490&from_sustainable_property_sr=1&from=searchresults#hotelTmpl', 'https://www.booking.com/hotel/fr/mvm-le-domaine-de-la-vallee-d-ax.fr.html?aid=304142&label=gen173bo-1DCAQoggJCDXNlYXJjaF9hcmllZ2VIDVgDaOcBiAEBmAENuAEYyAEP2AED6AEB-AEDiAIBmAICqAIEuALDhduaBsACAdICJDAzYmJjOWZjLTRiMGMtNDNiNy1iM2M5LWI1OTE2MDgzNGJkZdgCBOACAQ&ucfs=1&arphpl=1&checkin=2022-10-29&checkout=2022-10-30&group_adults=2&req_adults=2&no_rooms=1&group_children=0&req_children=0&hpos=10&hapos=10&sr_order=review_score_and_price&nflt=ht_id%3D204&srpvid=bb9e76a18135052b&srepoch=1666630340&all_sr_blocks=17333401_171736079_0_2_0&highlighted_blocks=17333401_171736079_0_2_0&matching_block_id=17333401_171736079_0_2_0&sr_pri_blocks=17333401_171736079_0_2_0__7500&from_sustainable_property_sr=1&from=searchresults#hotelTmpl', 'https://www.booking.com/hotel/fr/le-bellevue-tarascon-sur-aria-ge.fr.html?aid=304142&label=gen173bo-1DCAQoggJCDXNlYXJjaF9hcmllZ2VIDVgDaOcBiAEBmAENuAEYyAEP2AED6AEB-AEDiAIBmAICqAIEuALDhduaBsACAdICJDAzYmJjOWZjLTRiMGMtNDNiNy1iM2M5LWI1OTE2MDgzNGJkZdgCBOACAQ&ucfs=1&arphpl=1&checkin=2022-10-29&checkout=2022-10-30&group_adults=2&req_adults=2&no_rooms=1&group_children=0&req_children=0&hpos=11&hapos=11&sr_order=review_score_and_price&nflt=ht_id%3D204&srpvid=bb9e76a18135052b&srepoch=1666630340&all_sr_blocks=47713006_310803889_0_2_0&highlighted_blocks=47713006_310803889_0_2_0&matching_block_id=47713006_310803889_0_2_0&sr_pri_blocks=47713006_310803889_0_2_0__7820&from=searchresults#hotelTmpl', 'https://www.booking.com/hotel/fr/du-lac.fr.html?aid=304142&label=gen173bo-1DCAQoggJCDXNlYXJjaF9hcmllZ2VIDVgDaOcBiAEBmAENuAEYyAEP2AED6AEB-AEDiAIBmAICqAIEuALDhduaBsACAdICJDAzYmJjOWZjLTRiMGMtNDNiNy1iM2M5LWI1OTE2MDgzNGJkZdgCBOACAQ&ucfs=1&arphpl=1&checkin=2022-10-29&checkout=2022-10-30&group_adults=2&req_adults=2&no_rooms=1&group_children=0&req_children=0&hpos=12&hapos=12&sr_order=review_score_and_price&nflt=ht_id%3D204&srpvid=bb9e76a18135052b&srepoch=1666630340&all_sr_blocks=5389101_351244637_0_34_0&highlighted_blocks=5389101_351244637_0_34_0&matching_block_id=5389101_351244637_0_34_0&sr_pri_blocks=5389101_351244637_0_34_0__8300&from=searchresults#hotelTmpl', 'https://www.booking.com/hotel/fr/terranostra.fr.html?aid=304142&label=gen173bo-1DCAQoggJCDXNlYXJjaF9hcmllZ2VIDVgDaOcBiAEBmAENuAEYyAEP2AED6AEB-AEDiAIBmAICqAIEuALDhduaBsACAdICJDAzYmJjOWZjLTRiMGMtNDNiNy1iM2M5LWI1OTE2MDgzNGJkZdgCBOACAQ&ucfs=1&arphpl=1&checkin=2022-10-29&checkout=2022-10-30&group_adults=2&req_adults=2&no_rooms=1&group_children=0&req_children=0&hpos=13&hapos=13&sr_order=review_score_and_price&nflt=ht_id%3D204&srpvid=bb9e76a18135052b&srepoch=1666630340&all_sr_blocks=105802905_310809816_0_2_0&highlighted_blocks=105802905_310809816_0_2_0&matching_block_id=105802905_310809816_0_2_0&sr_pri_blocks=105802905_310809816_0_2_0__9360&from=searchresults#hotelTmpl', 'https://www.booking.com/hotel/fr/campanilefoix.fr.html?aid=304142&label=gen173bo-1DCAQoggJCDXNlYXJjaF9hcmllZ2VIDVgDaOcBiAEBmAENuAEYyAEP2AED6AEB-AEDiAIBmAICqAIEuALDhduaBsACAdICJDAzYmJjOWZjLTRiMGMtNDNiNy1iM2M5LWI1OTE2MDgzNGJkZdgCBOACAQ&ucfs=1&arphpl=1&checkin=2022-10-29&checkout=2022-10-30&group_adults=2&req_adults=2&no_rooms=1&group_children=0&req_children=0&hpos=14&hapos=14&sr_order=review_score_and_price&nflt=ht_id%3D204&srpvid=bb9e76a18135052b&srepoch=1666630340&all_sr_blocks=5321006_93699623_0_34_0&highlighted_blocks=5321006_93699623_0_34_0&matching_block_id=5321006_93699623_0_34_0&sr_pri_blocks=5321006_93699623_0_34_0__5500&from=searchresults#hotelTmpl', 'https://www.booking.com/hotel/fr/hotel-balladins-foix-confort.fr.html?aid=304142&label=gen173bo-1DCAQoggJCDXNlYXJjaF9hcmllZ2VIDVgDaOcBiAEBmAENuAEYyAEP2AED6AEB-AEDiAIBmAICqAIEuALDhduaBsACAdICJDAzYmJjOWZjLTRiMGMtNDNiNy1iM2M5LWI1OTE2MDgzNGJkZdgCBOACAQ&ucfs=1&arphpl=1&checkin=2022-10-29&checkout=2022-10-30&group_adults=2&req_adults=2&no_rooms=1&group_children=0&req_children=0&hpos=15&hapos=15&sr_order=review_score_and_price&nflt=ht_id%3D204&srpvid=bb9e76a18135052b&srepoch=1666630340&all_sr_blocks=65053_93716031_0_2_0&highlighted_blocks=65053_93716031_0_2_0&matching_block_id=65053_93716031_0_2_0&sr_pri_blocks=65053_93716031_0_2_0__5700&from_sustainable_property_sr=1&from=searchresults#hotelTmpl', 'https://www.booking.com/hotel/fr/la-pierre-blanche.fr.html?aid=304142&label=gen173bo-1DCAQoggJCDXNlYXJjaF9hcmllZ2VIDVgDaOcBiAEBmAENuAEYyAEP2AED6AEB-AEDiAIBmAICqAIEuALDhduaBsACAdICJDAzYmJjOWZjLTRiMGMtNDNiNy1iM2M5LWI1OTE2MDgzNGJkZdgCBOACAQ&ucfs=1&arphpl=1&checkin=2022-10-29&checkout=2022-10-30&group_adults=2&req_adults=2&no_rooms=1&group_children=0&req_children=0&hpos=16&hapos=16&sr_order=review_score_and_price&nflt=ht_id%3D204&srpvid=bb9e76a18135052b&srepoch=1666630340&all_sr_blocks=45178901_335522212_0_42_0&highlighted_blocks=45178901_335522212_0_42_0&matching_block_id=45178901_335522212_0_42_0&sr_pri_blocks=45178901_335522212_0_42_0__6100&from=searchresults#hotelTmpl', 'https://www.booking.com/hotel/fr/logis-l-auzeraie.fr.html?aid=304142&label=gen173bo-1DCAQoggJCDXNlYXJjaF9hcmllZ2VIDVgDaOcBiAEBmAENuAEYyAEP2AED6AEB-AEDiAIBmAICqAIEuALDhduaBsACAdICJDAzYmJjOWZjLTRiMGMtNDNiNy1iM2M5LWI1OTE2MDgzNGJkZdgCBOACAQ&ucfs=1&arphpl=1&checkin=2022-10-29&checkout=2022-10-30&group_adults=2&req_adults=2&no_rooms=1&group_children=0&req_children=0&hpos=17&hapos=17&sr_order=review_score_and_price&nflt=ht_id%3D204&srpvid=bb9e76a18135052b&srepoch=1666630340&all_sr_blocks=26045803_322548339_0_2_0&highlighted_blocks=26045803_322548339_0_2_0&matching_block_id=26045803_322548339_0_2_0&sr_pri_blocks=26045803_322548339_0_2_0__8000&from=searchresults#hotelTmpl', 'https://www.booking.com/hotel/fr/restaurant-lons.fr.html?aid=304142&label=gen173bo-1DCAQoggJCDXNlYXJjaF9hcmllZ2VIDVgDaOcBiAEBmAENuAEYyAEP2AED6AEB-AEDiAIBmAICqAIEuALDhduaBsACAdICJDAzYmJjOWZjLTRiMGMtNDNiNy1iM2M5LWI1OTE2MDgzNGJkZdgCBOACAQ&ucfs=1&arphpl=1&checkin=2022-10-29&checkout=2022-10-30&group_adults=2&req_adults=2&no_rooms=1&group_children=0&req_children=0&hpos=18&hapos=18&sr_order=review_score_and_price&nflt=ht_id%3D204&srpvid=bb9e76a18135052b&srepoch=1666630340&all_sr_blocks=36703901_359188918_2_0_0&highlighted_blocks=36703901_359188918_2_0_0&matching_block_id=36703901_359188918_2_0_0&sr_pri_blocks=36703901_359188918_2_0_0__8900&from=searchresults#hotelTmpl', 'https://www.booking.com/hotel/fr/terres-de-france-domaine-du-palais.fr.html?aid=304142&label=gen173bo-1DCAQoggJCDXNlYXJjaF9hcmllZ2VIDVgDaOcBiAEBmAENuAEYyAEP2AED6AEB-AEDiAIBmAICqAIEuALDhduaBsACAdICJDAzYmJjOWZjLTRiMGMtNDNiNy1iM2M5LWI1OTE2MDgzNGJkZdgCBOACAQ&ucfs=1&arphpl=1&checkin=2022-10-29&checkout=2022-10-30&group_adults=2&req_adults=2&no_rooms=1&group_children=0&req_children=0&hpos=19&hapos=19&sr_order=review_score_and_price&nflt=ht_id%3D204&srpvid=bb9e76a18135052b&srepoch=1666630340&all_sr_blocks=734434201_327229243_0_0_0&highlighted_blocks=734434201_327229243_0_0_0&matching_block_id=734434201_327229243_0_0_0&sr_pri_blocks=734434201_327229243_0_0_0__6500&from_sustainable_property_sr=1&from=searchresults#hotelTmpl', 'https://www.booking.com/hotel/fr/la-rocade-pamiers.fr.html?aid=304142&label=gen173bo-1DCAQoggJCDXNlYXJjaF9hcmllZ2VIDVgDaOcBiAEBmAENuAEYyAEP2AED6AEB-AEDiAIBmAICqAIEuALDhduaBsACAdICJDAzYmJjOWZjLTRiMGMtNDNiNy1iM2M5LWI1OTE2MDgzNGJkZdgCBOACAQ&ucfs=1&arphpl=1&checkin=2022-10-29&checkout=2022-10-30&group_adults=2&req_adults=2&no_rooms=1&group_children=0&req_children=0&hpos=20&hapos=20&sr_order=review_score_and_price&nflt=ht_id%3D204&srpvid=bb9e76a18135052b&srepoch=1666630340&all_sr_blocks=29380615_326752588_0_34_0&highlighted_blocks=29380615_326752588_0_34_0&matching_block_id=29380615_326752588_0_34_0&sr_pri_blocks=29380615_326752588_0_34_0__6800&from_sustainable_property_sr=1&from=searchresults#hotelTmpl', 'https://www.booking.com/hotel/fr/hostellerie-de-la-poste-tarascon-sur-ariege.fr.html?aid=304142&label=gen173bo-1DCAQoggJCDXNlYXJjaF9hcmllZ2VIDVgDaOcBiAEBmAENuAEYyAEP2AED6AEB-AEDiAIBmAICqAIEuALDhduaBsACAdICJDAzYmJjOWZjLTRiMGMtNDNiNy1iM2M5LWI1OTE2MDgzNGJkZdgCBOACAQ&ucfs=1&arphpl=1&checkin=2022-10-29&checkout=2022-10-30&group_adults=2&req_adults=2&no_rooms=1&group_children=0&req_children=0&hpos=21&hapos=21&sr_order=review_score_and_price&nflt=ht_id%3D204&srpvid=bb9e76a18135052b&srepoch=1666630340&all_sr_blocks=35641402_116521459_0_2_0&highlighted_blocks=35641402_116521459_0_2_0&matching_block_id=35641402_116521459_0_2_0&sr_pri_blocks=35641402_116521459_0_2_0__7040&from=searchresults#hotelTmpl', 'https://www.booking.com/hotel/fr/ra-c-sidence-natura.fr.html?aid=304142&label=gen173bo-1DCAQoggJCDXNlYXJjaF9hcmllZ2VIDVgDaOcBiAEBmAENuAEYyAEP2AED6AEB-AEDiAIBmAICqAIEuALDhduaBsACAdICJDAzYmJjOWZjLTRiMGMtNDNiNy1iM2M5LWI1OTE2MDgzNGJkZdgCBOACAQ&ucfs=1&arphpl=1&checkin=2022-10-29&checkout=2022-10-30&group_adults=2&req_adults=2&no_rooms=1&group_children=0&req_children=0&hpos=22&hapos=22&sr_order=review_score_and_price&nflt=ht_id%3D204&srpvid=bb9e76a18135052b&srepoch=1666630340&all_sr_blocks=73773601_340058222_0_0_0&highlighted_blocks=73773601_340058222_0_0_0&matching_block_id=73773601_340058222_0_0_0&sr_pri_blocks=73773601_340058222_0_0_0__7119&from=searchresults#hotelTmpl', 'https://www.booking.com/hotel/fr/horizon117.fr.html?aid=304142&label=gen173bo-1DCAQoggJCDXNlYXJjaF9hcmllZ2VIDVgDaOcBiAEBmAENuAEYyAEP2AED6AEB-AEDiAIBmAICqAIEuALDhduaBsACAdICJDAzYmJjOWZjLTRiMGMtNDNiNy1iM2M5LWI1OTE2MDgzNGJkZdgCBOACAQ&ucfs=1&arphpl=1&checkin=2022-10-29&checkout=2022-10-30&group_adults=2&req_adults=2&no_rooms=1&group_children=0&req_children=0&hpos=23&hapos=23&sr_order=review_score_and_price&nflt=ht_id%3D204&srpvid=bb9e76a18135052b&srepoch=1666630340&all_sr_blocks=22686605_106831220_0_42_0&highlighted_blocks=22686605_106831220_0_42_0&matching_block_id=22686605_106831220_0_42_0&sr_pri_blocks=22686605_106831220_0_42_0__7141&from=searchresults#hotelTmpl', 'https://www.booking.com/hotel/fr/le-roi-gourmand.fr.html?aid=304142&label=gen173bo-1DCAQoggJCDXNlYXJjaF9hcmllZ2VIDVgDaOcBiAEBmAENuAEYyAEP2AED6AEB-AEDiAIBmAICqAIEuALDhduaBsACAdICJDAzYmJjOWZjLTRiMGMtNDNiNy1iM2M5LWI1OTE2MDgzNGJkZdgCBOACAQ&ucfs=1&arphpl=1&checkin=2022-10-29&checkout=2022-10-30&group_adults=2&req_adults=2&no_rooms=1&group_children=0&req_children=0&hpos=24&hapos=24&sr_order=review_score_and_price&nflt=ht_id%3D204&srpvid=bb9e76a18135052b&srepoch=1666630340&all_sr_blocks=23517601_200116721_2_42_0&highlighted_blocks=23517601_200116721_2_42_0&matching_block_id=23517601_200116721_2_42_0&sr_pri_blocks=23517601_200116721_2_42_0__7800&from=searchresults#hotelTmpl', 'https://www.booking.com/hotel/fr/premiere-classe.fr.html?aid=304142&label=gen173bo-1DCAQoggJCDXNlYXJjaF9hcmllZ2VIDVgDaOcBiAEBmAENuAEYyAEP2AED6AEB-AEDiAIBmAICqAIEuALDhduaBsACAdICJDAzYmJjOWZjLTRiMGMtNDNiNy1iM2M5LWI1OTE2MDgzNGJkZdgCBOACAQ&ucfs=1&arphpl=1&checkin=2022-10-29&checkout=2022-10-30&group_adults=2&req_adults=2&no_rooms=1&group_children=0&req_children=0&hpos=25&hapos=25&sr_order=review_score_and_price&nflt=ht_id%3D204&srpvid=bb9e76a18135052b&srepoch=1666630340&all_sr_blocks=5326006_250735083_3_2_0&highlighted_blocks=5326006_250735083_3_2_0&matching_block_id=5326006_250735083_3_2_0&sr_pri_blocks=5326006_250735083_3_2_0__4140&from=searchresults#hotelTmpl'], 'price': ['€\\xa0220', '€\\xa0251', '€\\xa060', '€\\xa074', '€\\xa0152', '€\\xa0230', '€\\xa060', '€\\xa063', '€\\xa065', '€\\xa075', '€\\xa078', '€\\xa083', '€\\xa094', '€\\xa055', '€\\xa057', '€\\xa061', '€\\xa080', '€\\xa089', '€\\xa065', '€\\xa068', '€\\xa070', '€\\xa071', '€\\xa071', '€\\xa078', '€\\xa041'], 'rating': ['9,1', '9,1', '8,5', '8,8', '8,6', '8,8', '8,2', '8,0', '8,2', '8,2', '8,0', '8,0', '8,4', '7,9', '7,9', '7,5', '7,7', '7,7', '7,4', '7,0', '7,2', '7,1', '7,2', '7,1', '6,3']}\n",
            "DEBUG:scrapy.core.engine:Crawled (200) <GET https://www.booking.com/searchresults.fr.html?ss=Dijon&checkin_year=2022&checkin_month=10&checkin_monthday=29&checkout_year=2022&checkout_month=10&checkout_monthday=30&selected_currency=EUR&group_adults=2&order=review_score_and_price&nflt=%253Bht_id%253D204> (referer: https://www.booking.com/index.fr.html)\n",
            "DEBUG:scrapy.core.scraper:Scraped from <200 https://www.booking.com/searchresults.fr.html?ss=Dijon&checkin_year=2022&checkin_month=10&checkin_monthday=29&checkout_year=2022&checkout_month=10&checkout_monthday=30&selected_currency=EUR&group_adults=2&order=review_score_and_price&nflt=%253Bht_id%253D204>\n",
            "{'city': 'Dijon', 'hotel': ['ibis Styles Dijon Sud Domaine De Beauregard 21600 Longvic', 'Hôtel La Bonbonnière - Dijon', 'Hostellerie Du Chapeau Rouge', 'Campanile Dijon Congrès Clemenceau', 'Holiday Inn Express Dijon, an IHG Hotel', 'Hôtel Montchapet Dijon Centre', 'Aparthotel Adagio Access Dijon République', 'Mercure Dijon Centre Clemenceau', 'Kyriad Prestige Dijon Nord - Valmy', 'Logis Hotel Darcy Dijon Centre', 'Vertigo | a Member of Design Hotels™', 'Kyriad Dijon Sud - 21600 LONGVIC', 'ibis budget Dijon Saint Apollinaire', 'Hôtel Du Stade', 'Comfort Hotel Dijon Sud - 21600 LONGVIC', 'ibis Dijon Sud', 'ibis Dijon Gare', 'Kyriad Direct DIJON NORD', \"Campanile Dijon Nord - Toison D'or\", 'Ibis budget Dijon Centre Clemenceau', 'Hôtel Restaurant Du Parc de la Colombière', 'Hotel ibis Dijon Centre Clemenceau', 'The Originals City, Hôtel Castel Burgond, Dijon Ouest (Inter-Hotel)', 'Adonis Dijon Maison Internationale', 'Kyriad Prestige Dijon Centre'], 'url': ['https://www.booking.com/hotel/fr/ibis-styles-dijon-sud-domaine-de-beauregard.fr.html?aid=304142&label=gen173bo-1DCAQoggJCDHNlYXJjaF9kaWpvbkgNWANo5wGIAQGYAQ24ARjIAQ_YAQPoAQH4AQOIAgGYAgKoAgS4AsWF25oGwAIB0gIkMjcyYmU1YTAtZTliOS00Y2MxLWIyOTMtMmQyNWJjNDI4M2Iz2AIE4AIB&ucfs=1&arphpl=1&checkin=2022-10-29&checkout=2022-10-30&group_adults=2&req_adults=2&no_rooms=1&group_children=0&req_children=0&hpos=1&hapos=1&sr_order=review_score_and_price&nflt=ht_id%3D204&srpvid=438876a2679504fc&srepoch=1666630342&all_sr_blocks=758850701_333035408_2_33_0&highlighted_blocks=758850701_333035408_2_33_0&matching_block_id=758850701_333035408_2_33_0&sr_pri_blocks=758850701_333035408_2_33_0__12915&from_sustainable_property_sr=1&from=searchresults#hotelTmpl', 'https://www.booking.com/hotel/fr/la-bonbonniere.fr.html?aid=304142&label=gen173bo-1DCAQoggJCDHNlYXJjaF9kaWpvbkgNWANo5wGIAQGYAQ24ARjIAQ_YAQPoAQH4AQOIAgGYAgKoAgS4AsWF25oGwAIB0gIkMjcyYmU1YTAtZTliOS00Y2MxLWIyOTMtMmQyNWJjNDI4M2Iz2AIE4AIB&ucfs=1&arphpl=1&checkin=2022-10-29&checkout=2022-10-30&group_adults=2&req_adults=2&no_rooms=1&group_children=0&req_children=0&hpos=2&hapos=2&sr_order=review_score_and_price&nflt=ht_id%3D204&srpvid=438876a2679504fc&srepoch=1666630342&all_sr_blocks=5515105_331160633_0_2_0&highlighted_blocks=5515105_331160633_0_2_0&matching_block_id=5515105_331160633_0_2_0&sr_pri_blocks=5515105_331160633_0_2_0__16100&from_sustainable_property_sr=1&from=searchresults#hotelTmpl', 'https://www.booking.com/hotel/fr/bestwesternchapeaurouge.fr.html?aid=304142&label=gen173bo-1DCAQoggJCDHNlYXJjaF9kaWpvbkgNWANo5wGIAQGYAQ24ARjIAQ_YAQPoAQH4AQOIAgGYAgKoAgS4AsWF25oGwAIB0gIkMjcyYmU1YTAtZTliOS00Y2MxLWIyOTMtMmQyNWJjNDI4M2Iz2AIE4AIB&ucfs=1&arphpl=1&checkin=2022-10-29&checkout=2022-10-30&group_adults=2&req_adults=2&no_rooms=1&group_children=0&req_children=0&hpos=3&hapos=3&sr_order=review_score_and_price&nflt=ht_id%3D204&srpvid=438876a2679504fc&srepoch=1666630342&all_sr_blocks=20386108_133733527_0_2_0&highlighted_blocks=20386108_133733527_0_2_0&matching_block_id=20386108_133733527_0_2_0&sr_pri_blocks=20386108_133733527_0_2_0__20200&from=searchresults#hotelTmpl', 'https://www.booking.com/hotel/fr/campanile-dijon-congra-s-cla-c-menceau.fr.html?aid=304142&label=gen173bo-1DCAQoggJCDHNlYXJjaF9kaWpvbkgNWANo5wGIAQGYAQ24ARjIAQ_YAQPoAQH4AQOIAgGYAgKoAgS4AsWF25oGwAIB0gIkMjcyYmU1YTAtZTliOS00Y2MxLWIyOTMtMmQyNWJjNDI4M2Iz2AIE4AIB&ucfs=1&arphpl=1&checkin=2022-10-29&checkout=2022-10-30&group_adults=2&req_adults=2&no_rooms=1&group_children=0&req_children=0&hpos=4&hapos=4&sr_order=review_score_and_price&nflt=ht_id%3D204&srpvid=438876a2679504fc&srepoch=1666630342&all_sr_blocks=68000402_250732449_2_2_0&highlighted_blocks=68000402_250732449_2_2_0&matching_block_id=68000402_250732449_2_2_0&sr_pri_blocks=68000402_250732449_2_2_0__8460&from=searchresults#hotelTmpl', 'https://www.booking.com/hotel/fr/holiday-inn-express-dijon.fr.html?aid=304142&label=gen173bo-1DCAQoggJCDHNlYXJjaF9kaWpvbkgNWANo5wGIAQGYAQ24ARjIAQ_YAQPoAQH4AQOIAgGYAgKoAgS4AsWF25oGwAIB0gIkMjcyYmU1YTAtZTliOS00Y2MxLWIyOTMtMmQyNWJjNDI4M2Iz2AIE4AIB&ucfs=1&arphpl=1&checkin=2022-10-29&checkout=2022-10-30&group_adults=2&req_adults=2&no_rooms=1&group_children=0&req_children=0&hpos=5&hapos=5&sr_order=review_score_and_price&nflt=ht_id%3D204&srpvid=438876a2679504fc&srepoch=1666630342&all_sr_blocks=55083205_94490967_2_1_0&highlighted_blocks=55083205_94490967_2_1_0&matching_block_id=55083205_94490967_2_1_0&sr_pri_blocks=55083205_94490967_2_1_0__8910&from_sustainable_property_sr=1&from=searchresults#hotelTmpl', 'https://www.booking.com/hotel/fr/montchapet.fr.html?aid=304142&label=gen173bo-1DCAQoggJCDHNlYXJjaF9kaWpvbkgNWANo5wGIAQGYAQ24ARjIAQ_YAQPoAQH4AQOIAgGYAgKoAgS4AsWF25oGwAIB0gIkMjcyYmU1YTAtZTliOS00Y2MxLWIyOTMtMmQyNWJjNDI4M2Iz2AIE4AIB&ucfs=1&arphpl=1&checkin=2022-10-29&checkout=2022-10-30&group_adults=2&req_adults=2&no_rooms=1&group_children=0&req_children=0&hpos=6&hapos=6&sr_order=review_score_and_price&nflt=ht_id%3D204&srpvid=438876a2679504fc&srepoch=1666630342&all_sr_blocks=18195103_196141531_0_2_0&highlighted_blocks=18195103_196141531_0_2_0&matching_block_id=18195103_196141531_0_2_0&sr_pri_blocks=18195103_196141531_0_2_0__10000&from_sustainable_property_sr=1&from=searchresults#hotelTmpl', 'https://www.booking.com/hotel/fr/aparthotel-adagio-access-dijon-republique.fr.html?aid=304142&label=gen173bo-1DCAQoggJCDHNlYXJjaF9kaWpvbkgNWANo5wGIAQGYAQ24ARjIAQ_YAQPoAQH4AQOIAgGYAgKoAgS4AsWF25oGwAIB0gIkMjcyYmU1YTAtZTliOS00Y2MxLWIyOTMtMmQyNWJjNDI4M2Iz2AIE4AIB&ucfs=1&arphpl=1&checkin=2022-10-29&checkout=2022-10-30&group_adults=2&req_adults=2&no_rooms=1&group_children=0&req_children=0&hpos=7&hapos=7&sr_order=review_score_and_price&nflt=ht_id%3D204&srpvid=438876a2679504fc&srepoch=1666630342&all_sr_blocks=112063106_199080134_2_2_0&highlighted_blocks=112063106_199080134_2_2_0&matching_block_id=112063106_199080134_2_2_0&sr_pri_blocks=112063106_199080134_2_2_0__10300&from=searchresults#hotelTmpl', 'https://www.booking.com/hotel/fr/dijon-centre-clemenceau.fr.html?aid=304142&label=gen173bo-1DCAQoggJCDHNlYXJjaF9kaWpvbkgNWANo5wGIAQGYAQ24ARjIAQ_YAQPoAQH4AQOIAgGYAgKoAgS4AsWF25oGwAIB0gIkMjcyYmU1YTAtZTliOS00Y2MxLWIyOTMtMmQyNWJjNDI4M2Iz2AIE4AIB&ucfs=1&arphpl=1&checkin=2022-10-29&checkout=2022-10-30&group_adults=2&req_adults=2&no_rooms=1&group_children=0&req_children=0&hpos=8&hapos=8&sr_order=review_score_and_price&nflt=ht_id%3D204&srpvid=438876a2679504fc&srepoch=1666630342&all_sr_blocks=5737807_333879142_2_42_0&highlighted_blocks=5737807_333879142_2_42_0&matching_block_id=5737807_333879142_2_42_0&sr_pri_blocks=5737807_333879142_2_42_0__12075&from=searchresults#hotelTmpl', 'https://www.booking.com/hotel/fr/kyriad-prestige-dijon-nord-valmy-xml.fr.html?aid=304142&label=gen173bo-1DCAQoggJCDHNlYXJjaF9kaWpvbkgNWANo5wGIAQGYAQ24ARjIAQ_YAQPoAQH4AQOIAgGYAgKoAgS4AsWF25oGwAIB0gIkMjcyYmU1YTAtZTliOS00Y2MxLWIyOTMtMmQyNWJjNDI4M2Iz2AIE4AIB&ucfs=1&arphpl=1&checkin=2022-10-29&checkout=2022-10-30&group_adults=2&req_adults=2&no_rooms=1&group_children=0&req_children=0&hpos=9&hapos=9&sr_order=review_score_and_price&nflt=ht_id%3D204&srpvid=438876a2679504fc&srepoch=1666630342&all_sr_blocks=55736802_204788237_2_2_0&highlighted_blocks=55736802_204788237_2_2_0&matching_block_id=55736802_204788237_2_2_0&sr_pri_blocks=55736802_204788237_2_2_0__13000&from_sustainable_property_sr=1&from=searchresults#hotelTmpl', 'https://www.booking.com/hotel/fr/quality-hotel-du-nord-restaurant-de-la-porte-guillaume.fr.html?aid=304142&label=gen173bo-1DCAQoggJCDHNlYXJjaF9kaWpvbkgNWANo5wGIAQGYAQ24ARjIAQ_YAQPoAQH4AQOIAgGYAgKoAgS4AsWF25oGwAIB0gIkMjcyYmU1YTAtZTliOS00Y2MxLWIyOTMtMmQyNWJjNDI4M2Iz2AIE4AIB&ucfs=1&arphpl=1&checkin=2022-10-29&checkout=2022-10-30&group_adults=2&req_adults=2&no_rooms=1&group_children=0&req_children=0&hpos=10&hapos=10&sr_order=review_score_and_price&nflt=ht_id%3D204&srpvid=438876a2679504fc&srepoch=1666630342&all_sr_blocks=22096313_190180943_0_2_0&highlighted_blocks=22096313_190180943_0_2_0&matching_block_id=22096313_190180943_0_2_0&sr_pri_blocks=22096313_190180943_0_2_0__14950&from=searchresults#hotelTmpl', 'https://www.booking.com/hotel/fr/vertigo.fr.html?aid=304142&label=gen173bo-1DCAQoggJCDHNlYXJjaF9kaWpvbkgNWANo5wGIAQGYAQ24ARjIAQ_YAQPoAQH4AQOIAgGYAgKoAgS4AsWF25oGwAIB0gIkMjcyYmU1YTAtZTliOS00Y2MxLWIyOTMtMmQyNWJjNDI4M2Iz2AIE4AIB&ucfs=1&arphpl=1&checkin=2022-10-29&checkout=2022-10-30&group_adults=2&req_adults=2&no_rooms=1&group_children=0&req_children=0&hpos=11&hapos=11&sr_order=review_score_and_price&nflt=ht_id%3D204&srpvid=438876a2679504fc&srepoch=1666630342&all_sr_blocks=116721802_106201779_2_2_0&highlighted_blocks=116721802_106201779_2_2_0&matching_block_id=116721802_106201779_2_2_0&sr_pri_blocks=116721802_106201779_2_2_0__29000&from_sustainable_property_sr=1&from=searchresults#hotelTmpl', 'https://www.booking.com/hotel/fr/dijon-longvic.fr.html?aid=304142&label=gen173bo-1DCAQoggJCDHNlYXJjaF9kaWpvbkgNWANo5wGIAQGYAQ24ARjIAQ_YAQPoAQH4AQOIAgGYAgKoAgS4AsWF25oGwAIB0gIkMjcyYmU1YTAtZTliOS00Y2MxLWIyOTMtMmQyNWJjNDI4M2Iz2AIE4AIB&ucfs=1&arphpl=1&checkin=2022-10-29&checkout=2022-10-30&group_adults=2&req_adults=2&no_rooms=1&group_children=0&req_children=0&hpos=12&hapos=12&sr_order=review_score_and_price&nflt=ht_id%3D204&srpvid=438876a2679504fc&srepoch=1666630342&all_sr_blocks=19185501_250733755_2_34_0&highlighted_blocks=19185501_250733755_2_34_0&matching_block_id=19185501_250733755_2_34_0&sr_pri_blocks=19185501_250733755_2_34_0__5850&from_sustainable_property_sr=1&from=searchresults#hotelTmpl', 'https://www.booking.com/hotel/fr/ibis-budget-dijon-saint-apollinaire.fr.html?aid=304142&label=gen173bo-1DCAQoggJCDHNlYXJjaF9kaWpvbkgNWANo5wGIAQGYAQ24ARjIAQ_YAQPoAQH4AQOIAgGYAgKoAgS4AsWF25oGwAIB0gIkMjcyYmU1YTAtZTliOS00Y2MxLWIyOTMtMmQyNWJjNDI4M2Iz2AIE4AIB&ucfs=1&arphpl=1&checkin=2022-10-29&checkout=2022-10-30&group_adults=2&req_adults=2&no_rooms=1&group_children=0&req_children=0&hpos=13&hapos=13&sr_order=review_score_and_price&nflt=ht_id%3D204&srpvid=438876a2679504fc&srepoch=1666630342&all_sr_blocks=66271701_333880123_3_2_0&highlighted_blocks=66271701_333880123_3_2_0&matching_block_id=66271701_333880123_3_2_0&sr_pri_blocks=66271701_333880123_3_2_0__6195&from=searchresults#hotelTmpl', 'https://www.booking.com/hotel/fr/du-stade.fr.html?aid=304142&label=gen173bo-1DCAQoggJCDHNlYXJjaF9kaWpvbkgNWANo5wGIAQGYAQ24ARjIAQ_YAQPoAQH4AQOIAgGYAgKoAgS4AsWF25oGwAIB0gIkMjcyYmU1YTAtZTliOS00Y2MxLWIyOTMtMmQyNWJjNDI4M2Iz2AIE4AIB&ucfs=1&arphpl=1&checkin=2022-10-29&checkout=2022-10-30&group_adults=2&req_adults=2&no_rooms=1&group_children=0&req_children=0&hpos=14&hapos=14&sr_order=review_score_and_price&nflt=ht_id%3D204&srpvid=438876a2679504fc&srepoch=1666630342&all_sr_blocks=18159102_222449792_0_0_0&highlighted_blocks=18159102_222449792_0_0_0&matching_block_id=18159102_222449792_0_0_0&sr_pri_blocks=18159102_222449792_0_0_0__6700&from=searchresults#hotelTmpl', 'https://www.booking.com/hotel/fr/comfort-longvic.fr.html?aid=304142&label=gen173bo-1DCAQoggJCDHNlYXJjaF9kaWpvbkgNWANo5wGIAQGYAQ24ARjIAQ_YAQPoAQH4AQOIAgGYAgKoAgS4AsWF25oGwAIB0gIkMjcyYmU1YTAtZTliOS00Y2MxLWIyOTMtMmQyNWJjNDI4M2Iz2AIE4AIB&ucfs=1&arphpl=1&checkin=2022-10-29&checkout=2022-10-30&group_adults=2&req_adults=2&no_rooms=1&group_children=0&req_children=0&hpos=15&hapos=15&sr_order=review_score_and_price&nflt=ht_id%3D204&srpvid=438876a2679504fc&srepoch=1666630342&all_sr_blocks=24295001_331338079_2_2_0&highlighted_blocks=24295001_331338079_2_2_0&matching_block_id=24295001_331338079_2_2_0&sr_pri_blocks=24295001_331338079_2_2_0__6900&from_sustainable_property_sr=1&from=searchresults#hotelTmpl', 'https://www.booking.com/hotel/fr/ibis-dijon-sud.fr.html?aid=304142&label=gen173bo-1DCAQoggJCDHNlYXJjaF9kaWpvbkgNWANo5wGIAQGYAQ24ARjIAQ_YAQPoAQH4AQOIAgGYAgKoAgS4AsWF25oGwAIB0gIkMjcyYmU1YTAtZTliOS00Y2MxLWIyOTMtMmQyNWJjNDI4M2Iz2AIE4AIB&ucfs=1&arphpl=1&checkin=2022-10-29&checkout=2022-10-30&group_adults=2&req_adults=2&no_rooms=1&group_children=0&req_children=0&hpos=16&hapos=16&sr_order=review_score_and_price&nflt=ht_id%3D204&srpvid=438876a2679504fc&srepoch=1666630342&all_sr_blocks=38762706_333879310_2_34_0&highlighted_blocks=38762706_333879310_2_34_0&matching_block_id=38762706_333879310_2_34_0&sr_pri_blocks=38762706_333879310_2_34_0__7770&from_sustainable_property_sr=1&from=searchresults#hotelTmpl', 'https://www.booking.com/hotel/fr/ibis-dijon-gare.fr.html?aid=304142&label=gen173bo-1DCAQoggJCDHNlYXJjaF9kaWpvbkgNWANo5wGIAQGYAQ24ARjIAQ_YAQPoAQH4AQOIAgGYAgKoAgS4AsWF25oGwAIB0gIkMjcyYmU1YTAtZTliOS00Y2MxLWIyOTMtMmQyNWJjNDI4M2Iz2AIE4AIB&ucfs=1&arphpl=1&checkin=2022-10-29&checkout=2022-10-30&group_adults=2&req_adults=2&no_rooms=1&group_children=0&req_children=0&hpos=17&hapos=17&sr_order=review_score_and_price&nflt=ht_id%3D204&srpvid=438876a2679504fc&srepoch=1666630342&all_sr_blocks=5746607_333879211_2_42_0&highlighted_blocks=5746607_333879211_2_42_0&matching_block_id=5746607_333879211_2_42_0&sr_pri_blocks=5746607_333879211_2_42_0__7875&from_sustainable_property_sr=1&from=searchresults#hotelTmpl', 'https://www.booking.com/hotel/fr/hotel-balladins-dijon-nord-superior.fr.html?aid=304142&label=gen173bo-1DCAQoggJCDHNlYXJjaF9kaWpvbkgNWANo5wGIAQGYAQ24ARjIAQ_YAQPoAQH4AQOIAgGYAgKoAgS4AsWF25oGwAIB0gIkMjcyYmU1YTAtZTliOS00Y2MxLWIyOTMtMmQyNWJjNDI4M2Iz2AIE4AIB&ucfs=1&arphpl=1&checkin=2022-10-29&checkout=2022-10-30&group_adults=2&req_adults=2&no_rooms=1&group_children=0&req_children=0&hpos=18&hapos=18&sr_order=review_score_and_price&nflt=ht_id%3D204&srpvid=438876a2679504fc&srepoch=1666630342&all_sr_blocks=23083610_309336152_2_2_0&highlighted_blocks=23083610_309336152_2_2_0&matching_block_id=23083610_309336152_2_2_0&sr_pri_blocks=23083610_309336152_2_2_0__8000&from_sustainable_property_sr=1&from=searchresults#hotelTmpl', 'https://www.booking.com/hotel/fr/campanile-dijon-parc-tech-de-la-toison-d-or.fr.html?aid=304142&label=gen173bo-1DCAQoggJCDHNlYXJjaF9kaWpvbkgNWANo5wGIAQGYAQ24ARjIAQ_YAQPoAQH4AQOIAgGYAgKoAgS4AsWF25oGwAIB0gIkMjcyYmU1YTAtZTliOS00Y2MxLWIyOTMtMmQyNWJjNDI4M2Iz2AIE4AIB&ucfs=1&arphpl=1&checkin=2022-10-29&checkout=2022-10-30&group_adults=2&req_adults=2&no_rooms=1&group_children=0&req_children=0&hpos=19&hapos=19&sr_order=review_score_and_price&nflt=ht_id%3D204&srpvid=438876a2679504fc&srepoch=1666630342&all_sr_blocks=21944105_250734297_2_2_0&highlighted_blocks=21944105_250734297_2_2_0&matching_block_id=21944105_250734297_2_2_0&sr_pri_blocks=21944105_250734297_2_2_0__8010&from_sustainable_property_sr=1&from=searchresults#hotelTmpl', 'https://www.booking.com/hotel/fr/ibis-budget-dijon-centre-clemenceau.fr.html?aid=304142&label=gen173bo-1DCAQoggJCDHNlYXJjaF9kaWpvbkgNWANo5wGIAQGYAQ24ARjIAQ_YAQPoAQH4AQOIAgGYAgKoAgS4AsWF25oGwAIB0gIkMjcyYmU1YTAtZTliOS00Y2MxLWIyOTMtMmQyNWJjNDI4M2Iz2AIE4AIB&ucfs=1&arphpl=1&checkin=2022-10-29&checkout=2022-10-30&group_adults=2&req_adults=2&no_rooms=1&group_children=0&req_children=0&hpos=20&hapos=20&sr_order=review_score_and_price&nflt=ht_id%3D204&srpvid=438876a2679504fc&srepoch=1666630342&all_sr_blocks=315771303_333880194_2_1_0&highlighted_blocks=315771303_333880194_2_1_0&matching_block_id=315771303_333880194_2_1_0&sr_pri_blocks=315771303_333880194_2_1_0__8610&from_sustainable_property_sr=1&from=searchresults#hotelTmpl', 'https://www.booking.com/hotel/fr/restaurant-du-parc-de-la-colombiere.fr.html?aid=304142&label=gen173bo-1DCAQoggJCDHNlYXJjaF9kaWpvbkgNWANo5wGIAQGYAQ24ARjIAQ_YAQPoAQH4AQOIAgGYAgKoAgS4AsWF25oGwAIB0gIkMjcyYmU1YTAtZTliOS00Y2MxLWIyOTMtMmQyNWJjNDI4M2Iz2AIE4AIB&ucfs=1&arphpl=1&checkin=2022-10-29&checkout=2022-10-30&group_adults=2&req_adults=2&no_rooms=1&group_children=0&req_children=0&hpos=21&hapos=21&sr_order=review_score_and_price&nflt=ht_id%3D204&srpvid=438876a2679504fc&srepoch=1666630342&all_sr_blocks=2539004_200089150_0_42_0&highlighted_blocks=2539004_200089150_0_42_0&matching_block_id=2539004_200089150_0_42_0&sr_pri_blocks=2539004_200089150_0_42_0__8900&from=searchresults#hotelTmpl', 'https://www.booking.com/hotel/fr/ibis-dijon-centre-clemenceau.fr.html?aid=304142&label=gen173bo-1DCAQoggJCDHNlYXJjaF9kaWpvbkgNWANo5wGIAQGYAQ24ARjIAQ_YAQPoAQH4AQOIAgGYAgKoAgS4AsWF25oGwAIB0gIkMjcyYmU1YTAtZTliOS00Y2MxLWIyOTMtMmQyNWJjNDI4M2Iz2AIE4AIB&ucfs=1&arphpl=1&checkin=2022-10-29&checkout=2022-10-30&group_adults=2&req_adults=2&no_rooms=1&group_children=0&req_children=0&hpos=22&hapos=22&sr_order=review_score_and_price&nflt=ht_id%3D204&srpvid=438876a2679504fc&srepoch=1666630342&all_sr_blocks=5906814_333878796_2_2_0&highlighted_blocks=5906814_333878796_2_2_0&matching_block_id=5906814_333878796_2_2_0&sr_pri_blocks=5906814_333878796_2_2_0__9345&from_sustainable_property_sr=1&from=searchresults#hotelTmpl', 'https://www.booking.com/hotel/fr/castel-burgond.fr.html?aid=304142&label=gen173bo-1DCAQoggJCDHNlYXJjaF9kaWpvbkgNWANo5wGIAQGYAQ24ARjIAQ_YAQPoAQH4AQOIAgGYAgKoAgS4AsWF25oGwAIB0gIkMjcyYmU1YTAtZTliOS00Y2MxLWIyOTMtMmQyNWJjNDI4M2Iz2AIE4AIB&ucfs=1&arphpl=1&checkin=2022-10-29&checkout=2022-10-30&group_adults=2&req_adults=2&no_rooms=1&group_children=0&req_children=0&hpos=23&hapos=23&sr_order=review_score_and_price&nflt=ht_id%3D204&srpvid=438876a2679504fc&srepoch=1666630342&all_sr_blocks=5430504_195627040_2_2_0&highlighted_blocks=5430504_195627040_2_2_0&matching_block_id=5430504_195627040_2_2_0&sr_pri_blocks=5430504_195627040_2_2_0__9400&from=searchresults#hotelTmpl', 'https://www.booking.com/hotel/fr/maison-internationale.fr.html?aid=304142&label=gen173bo-1DCAQoggJCDHNlYXJjaF9kaWpvbkgNWANo5wGIAQGYAQ24ARjIAQ_YAQPoAQH4AQOIAgGYAgKoAgS4AsWF25oGwAIB0gIkMjcyYmU1YTAtZTliOS00Y2MxLWIyOTMtMmQyNWJjNDI4M2Iz2AIE4AIB&ucfs=1&arphpl=1&checkin=2022-10-29&checkout=2022-10-30&group_adults=2&req_adults=2&no_rooms=1&group_children=0&req_children=0&hpos=24&hapos=24&sr_order=review_score_and_price&nflt=ht_id%3D204&srpvid=438876a2679504fc&srepoch=1666630342&all_sr_blocks=146022905_200439453_2_2_0&highlighted_blocks=146022905_200439453_2_2_0&matching_block_id=146022905_200439453_2_2_0&sr_pri_blocks=146022905_200439453_2_2_0__10400&from=searchresults#hotelTmpl', 'https://www.booking.com/hotel/fr/kyriad-dijon-centre-dijon.fr.html?aid=304142&label=gen173bo-1DCAQoggJCDHNlYXJjaF9kaWpvbkgNWANo5wGIAQGYAQ24ARjIAQ_YAQPoAQH4AQOIAgGYAgKoAgS4AsWF25oGwAIB0gIkMjcyYmU1YTAtZTliOS00Y2MxLWIyOTMtMmQyNWJjNDI4M2Iz2AIE4AIB&ucfs=1&arphpl=1&checkin=2022-10-29&checkout=2022-10-30&group_adults=2&req_adults=2&no_rooms=1&group_children=0&req_children=0&hpos=25&hapos=25&sr_order=review_score_and_price&nflt=ht_id%3D204&srpvid=438876a2679504fc&srepoch=1666630342&all_sr_blocks=4808309_250732620_2_2_0&highlighted_blocks=4808309_250732620_2_2_0&matching_block_id=4808309_250732620_2_2_0&sr_pri_blocks=4808309_250732620_2_2_0__11610&from_sustainable_property_sr=1&from=searchresults#hotelTmpl'], 'price': ['€\\xa0129', '€\\xa0161', '€\\xa0202', '€\\xa085', '€\\xa089', '€\\xa0100', '€\\xa0103', '€\\xa0121', '€\\xa0130', '€\\xa0150', '€\\xa0290', '€\\xa059', '€\\xa062', '€\\xa067', '€\\xa069', '€\\xa078', '€\\xa079', '€\\xa080', '€\\xa080', '€\\xa086', '€\\xa089', '€\\xa093', '€\\xa094', '€\\xa0104', '€\\xa0116'], 'rating': ['8,7', '8,6', '8,7', '8,1', '8,0', '8,1', '8,3', '8,0', '8,3', '8,0', '8,1', '7,7', '7,7', '7,5', '7,9', '7,8', '7,9', '7,5', '7,6', '7,8', '7,5', '7,8', '7,9', '7,9', '7,8']}\n",
            "DEBUG:scrapy.core.engine:Crawled (200) <GET https://www.booking.com/searchresults.fr.html?ss=Gorges+du+Verdon&checkin_year=2022&checkin_month=10&checkin_monthday=29&checkout_year=2022&checkout_month=10&checkout_monthday=30&selected_currency=EUR&group_adults=2&order=review_score_and_price&nflt=%253Bht_id%253D204> (referer: https://www.booking.com/index.fr.html)\n",
            "DEBUG:scrapy.core.scraper:Scraped from <200 https://www.booking.com/searchresults.fr.html?ss=Gorges+du+Verdon&checkin_year=2022&checkin_month=10&checkin_monthday=29&checkout_year=2022&checkout_month=10&checkout_monthday=30&selected_currency=EUR&group_adults=2&order=review_score_and_price&nflt=%253Bht_id%253D204>\n",
            "{'city': 'Gorges du Verdon', 'hotel': ['Le Moulin du Verdon', 'Hotel Les Restanques De Moustiers', 'La Bastide De Moustiers - Les Collectionneurs', \"L'Auberge de Baudinard\", 'Lou Paradou', 'Le Relais Notre Dame', 'Auberge du Lac', 'Hôtel des Alpes', 'La Bastide du Paradou', 'Villa Castellane', 'Nouvel Hôtel du Commerce', \"Le Mas de l'Orangerie 3 etoiles\", 'La Bastide Du Logis Du Pin', 'Hotel Les Cavalets', 'Gîte de Vénascle', 'Auberge du Point Sublime', 'Le Relais de Moustiers', 'Hôtel Particulier des Lumières', 'La Bastide du Calalou; BW Signature Collection', 'Le Verdon', 'Hotel le Belvédère', 'Hôtel Les Deux Lions', 'Les Colonnes', 'Logis Grand Hotel Bain', 'Résidence les Grands Pins'], 'url': ['https://www.booking.com/hotel/fr/residence-le-moulin.fr.html?aid=304142&label=gen173bo-1DCAQoggJCF3NlYXJjaF9nb3JnZXMgZHUgdmVyZG9uSA1YA2jnAYgBAZgBDbgBGMgBD9gBA-gBAfgBA4gCAZgCAqgCBLgCxoXbmgbAAgHSAiQyZjgxZjA4MC1hMThhLTQwYWUtYTIxNC1iNzg1YzFmZDY1ZjbYAgTgAgE&ucfs=1&arphpl=1&checkin=2022-10-29&checkout=2022-10-30&group_adults=2&req_adults=2&no_rooms=1&group_children=0&req_children=0&hpos=1&hapos=1&sr_order=review_score_and_price&nflt=ht_id%3D204&srpvid=a1aa76a3e0e8014d&srepoch=1666630343&all_sr_blocks=136252001_328159514_2_2_0&highlighted_blocks=136252001_328159514_2_2_0&matching_block_id=136252001_328159514_2_2_0&sr_pri_blocks=136252001_328159514_2_2_0__9800&from_sustainable_property_sr=1&from=searchresults#hotelTmpl', 'https://www.booking.com/hotel/fr/les-restanques-de-moustiers.fr.html?aid=304142&label=gen173bo-1DCAQoggJCF3NlYXJjaF9nb3JnZXMgZHUgdmVyZG9uSA1YA2jnAYgBAZgBDbgBGMgBD9gBA-gBAfgBA4gCAZgCAqgCBLgCxoXbmgbAAgHSAiQyZjgxZjA4MC1hMThhLTQwYWUtYTIxNC1iNzg1YzFmZDY1ZjbYAgTgAgE&ucfs=1&arphpl=1&checkin=2022-10-29&checkout=2022-10-30&group_adults=2&req_adults=2&no_rooms=1&group_children=0&req_children=0&hpos=2&hapos=2&sr_order=review_score_and_price&nflt=ht_id%3D204&srpvid=a1aa76a3e0e8014d&srepoch=1666630343&all_sr_blocks=29543301_326752595_0_0_0&highlighted_blocks=29543301_326752595_0_0_0&matching_block_id=29543301_326752595_0_0_0&sr_pri_blocks=29543301_326752595_0_0_0__12200&from_sustainable_property_sr=1&from=searchresults#hotelTmpl', 'https://www.booking.com/hotel/fr/la-bastide-de-moustiers.fr.html?aid=304142&label=gen173bo-1DCAQoggJCF3NlYXJjaF9nb3JnZXMgZHUgdmVyZG9uSA1YA2jnAYgBAZgBDbgBGMgBD9gBA-gBAfgBA4gCAZgCAqgCBLgCxoXbmgbAAgHSAiQyZjgxZjA4MC1hMThhLTQwYWUtYTIxNC1iNzg1YzFmZDY1ZjbYAgTgAgE&ucfs=1&arphpl=1&checkin=2022-10-29&checkout=2022-10-30&group_adults=2&req_adults=2&no_rooms=1&group_children=0&req_children=0&hpos=3&hapos=3&sr_order=review_score_and_price&nflt=ht_id%3D204&srpvid=a1aa76a3e0e8014d&srepoch=1666630343&all_sr_blocks=25004902_240914735_2_41_0&highlighted_blocks=25004902_240914735_2_41_0&matching_block_id=25004902_240914735_2_41_0&sr_pri_blocks=25004902_240914735_2_41_0__35100&from=searchresults#hotelTmpl', 'https://www.booking.com/hotel/fr/auberge-de-baudinard.fr.html?aid=304142&label=gen173bo-1DCAQoggJCF3NlYXJjaF9nb3JnZXMgZHUgdmVyZG9uSA1YA2jnAYgBAZgBDbgBGMgBD9gBA-gBAfgBA4gCAZgCAqgCBLgCxoXbmgbAAgHSAiQyZjgxZjA4MC1hMThhLTQwYWUtYTIxNC1iNzg1YzFmZDY1ZjbYAgTgAgE&ucfs=1&arphpl=1&checkin=2022-10-29&checkout=2022-10-30&group_adults=2&req_adults=2&no_rooms=1&group_children=0&req_children=0&hpos=4&hapos=4&sr_order=review_score_and_price&nflt=ht_id%3D204&srpvid=a1aa76a3e0e8014d&srepoch=1666630343&all_sr_blocks=41142908_170013382_2_34_0&highlighted_blocks=41142908_170013382_2_34_0&matching_block_id=41142908_170013382_2_34_0&sr_pri_blocks=41142908_170013382_2_34_0__7500&from=searchresults#hotelTmpl', 'https://www.booking.com/hotel/fr/hotellouparadou.fr.html?aid=304142&label=gen173bo-1DCAQoggJCF3NlYXJjaF9nb3JnZXMgZHUgdmVyZG9uSA1YA2jnAYgBAZgBDbgBGMgBD9gBA-gBAfgBA4gCAZgCAqgCBLgCxoXbmgbAAgHSAiQyZjgxZjA4MC1hMThhLTQwYWUtYTIxNC1iNzg1YzFmZDY1ZjbYAgTgAgE&ucfs=1&arphpl=1&checkin=2022-10-29&checkout=2022-10-30&group_adults=2&req_adults=2&no_rooms=1&group_children=0&req_children=0&hpos=5&hapos=5&sr_order=review_score_and_price&nflt=ht_id%3D204&srpvid=a1aa76a3e0e8014d&srepoch=1666630343&all_sr_blocks=13655_93715230_0_0_0&highlighted_blocks=13655_93715230_0_0_0&matching_block_id=13655_93715230_0_0_0&sr_pri_blocks=13655_93715230_0_0_0__9720&from=searchresults#hotelTmpl', 'https://www.booking.com/hotel/fr/relais-notre-dame.fr.html?aid=304142&label=gen173bo-1DCAQoggJCF3NlYXJjaF9nb3JnZXMgZHUgdmVyZG9uSA1YA2jnAYgBAZgBDbgBGMgBD9gBA-gBAfgBA4gCAZgCAqgCBLgCxoXbmgbAAgHSAiQyZjgxZjA4MC1hMThhLTQwYWUtYTIxNC1iNzg1YzFmZDY1ZjbYAgTgAgE&ucfs=1&arphpl=1&checkin=2022-10-29&checkout=2022-10-30&group_adults=2&req_adults=2&no_rooms=1&group_children=0&req_children=0&hpos=6&hapos=6&sr_order=review_score_and_price&nflt=ht_id%3D204&srpvid=a1aa76a3e0e8014d&srepoch=1666630343&all_sr_blocks=36071302_363116423_2_2_0&highlighted_blocks=36071302_363116423_2_2_0&matching_block_id=36071302_363116423_2_2_0&sr_pri_blocks=36071302_363116423_2_2_0__10350&from=searchresults#hotelTmpl', 'https://www.booking.com/hotel/fr/auberge-du-lac-bauduen.fr.html?aid=304142&label=gen173bo-1DCAQoggJCF3NlYXJjaF9nb3JnZXMgZHUgdmVyZG9uSA1YA2jnAYgBAZgBDbgBGMgBD9gBA-gBAfgBA4gCAZgCAqgCBLgCxoXbmgbAAgHSAiQyZjgxZjA4MC1hMThhLTQwYWUtYTIxNC1iNzg1YzFmZDY1ZjbYAgTgAgE&ucfs=1&arphpl=1&checkin=2022-10-29&checkout=2022-10-30&group_adults=2&req_adults=2&no_rooms=1&group_children=0&req_children=0&hpos=7&hapos=7&sr_order=review_score_and_price&nflt=ht_id%3D204&srpvid=a1aa76a3e0e8014d&srepoch=1666630343&all_sr_blocks=118834103_326757318_2_34_0&highlighted_blocks=118834103_326757318_2_34_0&matching_block_id=118834103_326757318_2_34_0&sr_pri_blocks=118834103_326757318_2_34_0__10400&from=searchresults#hotelTmpl', 'https://www.booking.com/hotel/fr/des-alpes-gra-c-oux-les-bains.fr.html?aid=304142&label=gen173bo-1DCAQoggJCF3NlYXJjaF9nb3JnZXMgZHUgdmVyZG9uSA1YA2jnAYgBAZgBDbgBGMgBD9gBA-gBAfgBA4gCAZgCAqgCBLgCxoXbmgbAAgHSAiQyZjgxZjA4MC1hMThhLTQwYWUtYTIxNC1iNzg1YzFmZDY1ZjbYAgTgAgE&ucfs=1&arphpl=1&checkin=2022-10-29&checkout=2022-10-30&group_adults=2&req_adults=2&no_rooms=1&group_children=0&req_children=0&hpos=8&hapos=8&sr_order=review_score_and_price&nflt=ht_id%3D204&srpvid=a1aa76a3e0e8014d&srepoch=1666630343&all_sr_blocks=5932701_325834990_2_2_0&highlighted_blocks=5932701_325834990_2_2_0&matching_block_id=5932701_325834990_2_2_0&sr_pri_blocks=5932701_325834990_2_2_0__13400&from=searchresults#hotelTmpl', 'https://www.booking.com/hotel/fr/la-bastide-du-paradou-moustiers-sainte-marie.fr.html?aid=304142&label=gen173bo-1DCAQoggJCF3NlYXJjaF9nb3JnZXMgZHUgdmVyZG9uSA1YA2jnAYgBAZgBDbgBGMgBD9gBA-gBAfgBA4gCAZgCAqgCBLgCxoXbmgbAAgHSAiQyZjgxZjA4MC1hMThhLTQwYWUtYTIxNC1iNzg1YzFmZDY1ZjbYAgTgAgE&ucfs=1&arphpl=1&checkin=2022-10-29&checkout=2022-10-30&group_adults=2&req_adults=2&no_rooms=1&group_children=0&req_children=0&hpos=9&hapos=9&sr_order=review_score_and_price&nflt=ht_id%3D204&srpvid=a1aa76a3e0e8014d&srepoch=1666630343&all_sr_blocks=5995601_192126756_0_2_0&highlighted_blocks=5995601_192126756_0_2_0&matching_block_id=5995601_192126756_0_2_0&sr_pri_blocks=5995601_192126756_0_2_0__13900&from=searchresults#hotelTmpl', 'https://www.booking.com/hotel/fr/villa-castellane-greoux-les-bains.fr.html?aid=304142&label=gen173bo-1DCAQoggJCF3NlYXJjaF9nb3JnZXMgZHUgdmVyZG9uSA1YA2jnAYgBAZgBDbgBGMgBD9gBA-gBAfgBA4gCAZgCAqgCBLgCxoXbmgbAAgHSAiQyZjgxZjA4MC1hMThhLTQwYWUtYTIxNC1iNzg1YzFmZDY1ZjbYAgTgAgE&ucfs=1&arphpl=1&checkin=2022-10-29&checkout=2022-10-30&group_adults=2&req_adults=2&no_rooms=1&group_children=0&req_children=0&hpos=10&hapos=10&sr_order=review_score_and_price&nflt=ht_id%3D204&srpvid=a1aa76a3e0e8014d&srepoch=1666630343&all_sr_blocks=858388802_359414852_2_42_0&highlighted_blocks=858388802_359414852_2_42_0&matching_block_id=858388802_359414852_2_42_0&sr_pri_blocks=858388802_359414852_2_42_0__14900&from=searchresults#hotelTmpl', 'https://www.booking.com/hotel/fr/nouvel-du-commerce-castellane.fr.html?aid=304142&label=gen173bo-1DCAQoggJCF3NlYXJjaF9nb3JnZXMgZHUgdmVyZG9uSA1YA2jnAYgBAZgBDbgBGMgBD9gBA-gBAfgBA4gCAZgCAqgCBLgCxoXbmgbAAgHSAiQyZjgxZjA4MC1hMThhLTQwYWUtYTIxNC1iNzg1YzFmZDY1ZjbYAgTgAgE&ucfs=1&arphpl=1&checkin=2022-10-29&checkout=2022-10-30&group_adults=2&req_adults=2&no_rooms=1&group_children=0&req_children=0&hpos=11&hapos=11&sr_order=review_score_and_price&nflt=ht_id%3D204&srpvid=a1aa76a3e0e8014d&srepoch=1666630343&all_sr_blocks=17616013_326752063_0_2_0&highlighted_blocks=17616013_326752063_0_2_0&matching_block_id=17616013_326752063_0_2_0&sr_pri_blocks=17616013_326752063_0_2_0__16500&from_sustainable_property_sr=1&from=searchresults#hotelTmpl', 'https://www.booking.com/hotel/fr/mas-de-l-orangerie-greoux-les-bains.fr.html?aid=304142&label=gen173bo-1DCAQoggJCF3NlYXJjaF9nb3JnZXMgZHUgdmVyZG9uSA1YA2jnAYgBAZgBDbgBGMgBD9gBA-gBAfgBA4gCAZgCAqgCBLgCxoXbmgbAAgHSAiQyZjgxZjA4MC1hMThhLTQwYWUtYTIxNC1iNzg1YzFmZDY1ZjbYAgTgAgE&ucfs=1&arphpl=1&checkin=2022-10-29&checkout=2022-10-30&group_adults=2&req_adults=2&no_rooms=1&group_children=0&req_children=0&hpos=12&hapos=12&sr_order=review_score_and_price&nflt=ht_id%3D204&srpvid=a1aa76a3e0e8014d&srepoch=1666630343&all_sr_blocks=826217517_347081826_2_0_0&highlighted_blocks=826217517_347081826_2_0_0&matching_block_id=826217517_347081826_2_0_0&sr_pri_blocks=826217517_347081826_2_0_0__5000&from=searchresults#hotelTmpl', 'https://www.booking.com/hotel/fr/la-bastide-du-logis-du-pin.fr.html?aid=304142&label=gen173bo-1DCAQoggJCF3NlYXJjaF9nb3JnZXMgZHUgdmVyZG9uSA1YA2jnAYgBAZgBDbgBGMgBD9gBA-gBAfgBA4gCAZgCAqgCBLgCxoXbmgbAAgHSAiQyZjgxZjA4MC1hMThhLTQwYWUtYTIxNC1iNzg1YzFmZDY1ZjbYAgTgAgE&ucfs=1&arphpl=1&checkin=2022-10-29&checkout=2022-10-30&group_adults=2&req_adults=2&no_rooms=1&group_children=0&req_children=0&hpos=13&hapos=13&sr_order=review_score_and_price&nflt=ht_id%3D204&srpvid=a1aa76a3e0e8014d&srepoch=1666630343&all_sr_blocks=250222101_363182585_2_1_0&highlighted_blocks=250222101_363182585_2_1_0&matching_block_id=250222101_363182585_2_1_0&sr_pri_blocks=250222101_363182585_2_1_0__7800&from=searchresults#hotelTmpl', 'https://www.booking.com/hotel/fr/les-cavalets.fr.html?aid=304142&label=gen173bo-1DCAQoggJCF3NlYXJjaF9nb3JnZXMgZHUgdmVyZG9uSA1YA2jnAYgBAZgBDbgBGMgBD9gBA-gBAfgBA4gCAZgCAqgCBLgCxoXbmgbAAgHSAiQyZjgxZjA4MC1hMThhLTQwYWUtYTIxNC1iNzg1YzFmZDY1ZjbYAgTgAgE&ucfs=1&arphpl=1&checkin=2022-10-29&checkout=2022-10-30&group_adults=2&req_adults=2&no_rooms=1&group_children=0&req_children=0&hpos=14&hapos=14&sr_order=review_score_and_price&nflt=ht_id%3D204&srpvid=a1aa76a3e0e8014d&srepoch=1666630343&all_sr_blocks=102922701_260032997_2_2_0&highlighted_blocks=102922701_260032997_2_2_0&matching_block_id=102922701_260032997_2_2_0&sr_pri_blocks=102922701_260032997_2_2_0__8925&from=searchresults#hotelTmpl', 'https://www.booking.com/hotel/fr/ga-r-te-de-va-c-nacle.fr.html?aid=304142&label=gen173bo-1DCAQoggJCF3NlYXJjaF9nb3JnZXMgZHUgdmVyZG9uSA1YA2jnAYgBAZgBDbgBGMgBD9gBA-gBAfgBA4gCAZgCAqgCBLgCxoXbmgbAAgHSAiQyZjgxZjA4MC1hMThhLTQwYWUtYTIxNC1iNzg1YzFmZDY1ZjbYAgTgAgE&ucfs=1&arphpl=1&checkin=2022-10-29&checkout=2022-10-30&group_adults=2&req_adults=2&no_rooms=1&group_children=0&req_children=0&hpos=15&hapos=15&sr_order=review_score_and_price&nflt=ht_id%3D204&srpvid=a1aa76a3e0e8014d&srepoch=1666630343&all_sr_blocks=50710001_335522831_2_34_0&highlighted_blocks=50710001_335522831_2_34_0&matching_block_id=50710001_335522831_2_34_0&sr_pri_blocks=50710001_335522831_2_34_0__9000&from=searchresults#hotelTmpl', 'https://www.booking.com/hotel/fr/auberge-du-point-sublime.fr.html?aid=304142&label=gen173bo-1DCAQoggJCF3NlYXJjaF9nb3JnZXMgZHUgdmVyZG9uSA1YA2jnAYgBAZgBDbgBGMgBD9gBA-gBAfgBA4gCAZgCAqgCBLgCxoXbmgbAAgHSAiQyZjgxZjA4MC1hMThhLTQwYWUtYTIxNC1iNzg1YzFmZDY1ZjbYAgTgAgE&ucfs=1&arphpl=1&checkin=2022-10-29&checkout=2022-10-30&group_adults=2&req_adults=2&no_rooms=1&group_children=0&req_children=0&hpos=16&hapos=16&sr_order=review_score_and_price&nflt=ht_id%3D204&srpvid=a1aa76a3e0e8014d&srepoch=1666630343&all_sr_blocks=523243001_205221445_2_42_0&highlighted_blocks=523243001_205221445_2_42_0&matching_block_id=523243001_205221445_2_42_0&sr_pri_blocks=523243001_205221445_2_42_0__10900&from_sustainable_property_sr=1&from=searchresults#hotelTmpl', 'https://www.booking.com/hotel/fr/le-relais-de-moustiers.fr.html?aid=304142&label=gen173bo-1DCAQoggJCF3NlYXJjaF9nb3JnZXMgZHUgdmVyZG9uSA1YA2jnAYgBAZgBDbgBGMgBD9gBA-gBAfgBA4gCAZgCAqgCBLgCxoXbmgbAAgHSAiQyZjgxZjA4MC1hMThhLTQwYWUtYTIxNC1iNzg1YzFmZDY1ZjbYAgTgAgE&ucfs=1&arphpl=1&checkin=2022-10-29&checkout=2022-10-30&group_adults=2&req_adults=2&no_rooms=1&group_children=0&req_children=0&hpos=17&hapos=17&sr_order=review_score_and_price&nflt=ht_id%3D204&srpvid=a1aa76a3e0e8014d&srepoch=1666630343&all_sr_blocks=53804203_357473141_0_42_0&highlighted_blocks=53804203_357473141_0_42_0&matching_block_id=53804203_357473141_0_42_0&sr_pri_blocks=53804203_357473141_0_42_0__11200&from=searchresults#hotelTmpl', 'https://www.booking.com/hotel/fr/particulier-des-lumieres.fr.html?aid=304142&label=gen173bo-1DCAQoggJCF3NlYXJjaF9nb3JnZXMgZHUgdmVyZG9uSA1YA2jnAYgBAZgBDbgBGMgBD9gBA-gBAfgBA4gCAZgCAqgCBLgCxoXbmgbAAgHSAiQyZjgxZjA4MC1hMThhLTQwYWUtYTIxNC1iNzg1YzFmZDY1ZjbYAgTgAgE&ucfs=1&arphpl=1&checkin=2022-10-29&checkout=2022-10-30&group_adults=2&req_adults=2&no_rooms=1&group_children=0&req_children=0&hpos=18&hapos=18&sr_order=review_score_and_price&nflt=ht_id%3D204&srpvid=a1aa76a3e0e8014d&srepoch=1666630343&all_sr_blocks=174788201_295630613_2_2_0&highlighted_blocks=174788201_295630613_2_2_0&matching_block_id=174788201_295630613_2_2_0&sr_pri_blocks=174788201_295630613_2_2_0__15000&from=searchresults#hotelTmpl', 'https://www.booking.com/hotel/fr/bastide-du-calalou.fr.html?aid=304142&label=gen173bo-1DCAQoggJCF3NlYXJjaF9nb3JnZXMgZHUgdmVyZG9uSA1YA2jnAYgBAZgBDbgBGMgBD9gBA-gBAfgBA4gCAZgCAqgCBLgCxoXbmgbAAgHSAiQyZjgxZjA4MC1hMThhLTQwYWUtYTIxNC1iNzg1YzFmZDY1ZjbYAgTgAgE&ucfs=1&arphpl=1&checkin=2022-10-29&checkout=2022-10-30&group_adults=2&req_adults=2&no_rooms=1&group_children=0&req_children=0&hpos=19&hapos=19&sr_order=review_score_and_price&nflt=ht_id%3D204&srpvid=a1aa76a3e0e8014d&srepoch=1666630343&all_sr_blocks=21427312_357650569_2_42_0&highlighted_blocks=21427312_357650569_2_42_0&matching_block_id=21427312_357650569_2_42_0&sr_pri_blocks=21427312_357650569_2_42_0__15750&from_sustainable_property_sr=1&from=searchresults#hotelTmpl', 'https://www.booking.com/hotel/fr/le-verdon.fr.html?aid=304142&label=gen173bo-1DCAQoggJCF3NlYXJjaF9nb3JnZXMgZHUgdmVyZG9uSA1YA2jnAYgBAZgBDbgBGMgBD9gBA-gBAfgBA4gCAZgCAqgCBLgCxoXbmgbAAgHSAiQyZjgxZjA4MC1hMThhLTQwYWUtYTIxNC1iNzg1YzFmZDY1ZjbYAgTgAgE&ucfs=1&arphpl=1&checkin=2022-10-29&checkout=2022-10-30&group_adults=2&req_adults=2&no_rooms=1&group_children=0&req_children=0&hpos=20&hapos=20&sr_order=review_score_and_price&nflt=ht_id%3D204&srpvid=a1aa76a3e0e8014d&srepoch=1666630343&all_sr_blocks=40296502_201846768_0_2_0&highlighted_blocks=40296502_201846768_0_2_0&matching_block_id=40296502_201846768_0_2_0&sr_pri_blocks=40296502_201846768_0_2_0__8186&from_sustainable_property_sr=1&from=searchresults#hotelTmpl', 'https://www.booking.com/hotel/fr/le-belva-c-da-re.fr.html?aid=304142&label=gen173bo-1DCAQoggJCF3NlYXJjaF9nb3JnZXMgZHUgdmVyZG9uSA1YA2jnAYgBAZgBDbgBGMgBD9gBA-gBAfgBA4gCAZgCAqgCBLgCxoXbmgbAAgHSAiQyZjgxZjA4MC1hMThhLTQwYWUtYTIxNC1iNzg1YzFmZDY1ZjbYAgTgAgE&ucfs=1&arphpl=1&checkin=2022-10-29&checkout=2022-10-30&group_adults=2&req_adults=2&no_rooms=1&group_children=0&req_children=0&hpos=21&hapos=21&sr_order=review_score_and_price&nflt=ht_id%3D204&srpvid=a1aa76a3e0e8014d&srepoch=1666630343&all_sr_blocks=40608801_325981519_0_2_0&highlighted_blocks=40608801_325981519_0_2_0&matching_block_id=40608801_325981519_0_2_0&sr_pri_blocks=40608801_325981519_0_2_0__8300&from=searchresults#hotelTmpl', 'https://www.booking.com/hotel/fr/ha-tel-les-deux-lions.fr.html?aid=304142&label=gen173bo-1DCAQoggJCF3NlYXJjaF9nb3JnZXMgZHUgdmVyZG9uSA1YA2jnAYgBAZgBDbgBGMgBD9gBA-gBAfgBA4gCAZgCAqgCBLgCxoXbmgbAAgHSAiQyZjgxZjA4MC1hMThhLTQwYWUtYTIxNC1iNzg1YzFmZDY1ZjbYAgTgAgE&ucfs=1&arphpl=1&checkin=2022-10-29&checkout=2022-10-30&group_adults=2&req_adults=2&no_rooms=1&group_children=0&req_children=0&hpos=22&hapos=22&sr_order=review_score_and_price&nflt=ht_id%3D204&srpvid=a1aa76a3e0e8014d&srepoch=1666630343&all_sr_blocks=42260504_360374672_2_2_0&highlighted_blocks=42260504_360374672_2_2_0&matching_block_id=42260504_360374672_2_2_0&sr_pri_blocks=42260504_360374672_2_2_0__8712&from=searchresults#hotelTmpl', 'https://www.booking.com/hotel/fr/grand-des-colonnes.fr.html?aid=304142&label=gen173bo-1DCAQoggJCF3NlYXJjaF9nb3JnZXMgZHUgdmVyZG9uSA1YA2jnAYgBAZgBDbgBGMgBD9gBA-gBAfgBA4gCAZgCAqgCBLgCxoXbmgbAAgHSAiQyZjgxZjA4MC1hMThhLTQwYWUtYTIxNC1iNzg1YzFmZDY1ZjbYAgTgAgE&ucfs=1&arphpl=1&checkin=2022-10-29&checkout=2022-10-30&group_adults=2&req_adults=2&no_rooms=1&group_children=0&req_children=0&hpos=23&hapos=23&sr_order=review_score_and_price&nflt=ht_id%3D204&srpvid=a1aa76a3e0e8014d&srepoch=1666630343&all_sr_blocks=5881002_203715558_0_2_0&highlighted_blocks=5881002_203715558_0_2_0&matching_block_id=5881002_203715558_0_2_0&sr_pri_blocks=5881002_203715558_0_2_0__9900&from=searchresults#hotelTmpl', 'https://www.booking.com/hotel/fr/logis-grand-bain.fr.html?aid=304142&label=gen173bo-1DCAQoggJCF3NlYXJjaF9nb3JnZXMgZHUgdmVyZG9uSA1YA2jnAYgBAZgBDbgBGMgBD9gBA-gBAfgBA4gCAZgCAqgCBLgCxoXbmgbAAgHSAiQyZjgxZjA4MC1hMThhLTQwYWUtYTIxNC1iNzg1YzFmZDY1ZjbYAgTgAgE&ucfs=1&arphpl=1&checkin=2022-10-29&checkout=2022-10-30&group_adults=2&req_adults=2&no_rooms=1&group_children=0&req_children=0&hpos=24&hapos=24&sr_order=review_score_and_price&nflt=ht_id%3D204&srpvid=a1aa76a3e0e8014d&srepoch=1666630343&all_sr_blocks=25200005_195821588_3_42_0&highlighted_blocks=25200005_195821588_3_42_0&matching_block_id=25200005_195821588_3_42_0&sr_pri_blocks=25200005_195821588_3_42_0__10000&from_sustainable_property_sr=1&from=searchresults#hotelTmpl', 'https://www.booking.com/hotel/fr/ra-c-sidence-les-grands-pins.fr.html?aid=304142&label=gen173bo-1DCAQoggJCF3NlYXJjaF9nb3JnZXMgZHUgdmVyZG9uSA1YA2jnAYgBAZgBDbgBGMgBD9gBA-gBAfgBA4gCAZgCAqgCBLgCxoXbmgbAAgHSAiQyZjgxZjA4MC1hMThhLTQwYWUtYTIxNC1iNzg1YzFmZDY1ZjbYAgTgAgE&ucfs=1&arphpl=1&checkin=2022-10-29&checkout=2022-10-30&group_adults=2&req_adults=2&no_rooms=1&group_children=0&req_children=0&hpos=25&hapos=25&sr_order=review_score_and_price&nflt=ht_id%3D204&srpvid=a1aa76a3e0e8014d&srepoch=1666630343&all_sr_blocks=42078501_194918098_0_0_0&highlighted_blocks=42078501_194918098_0_0_0&matching_block_id=42078501_194918098_0_0_0&sr_pri_blocks=42078501_194918098_0_0_0__11000&from=searchresults#hotelTmpl'], 'price': ['€\\xa098', '€\\xa0122', '€\\xa0351', '€\\xa075', '€\\xa097', '€\\xa0103', '€\\xa0104', '€\\xa0134', '€\\xa0139', '€\\xa0149', '€\\xa0165', '€\\xa050', '€\\xa078', '€\\xa089', '€\\xa090', '€\\xa0109', '€\\xa0112', '€\\xa0150', '€\\xa0157', '€\\xa082', '€\\xa083', '€\\xa087', '€\\xa099', '€\\xa0100', '€\\xa0110'], 'rating': ['9,1', '9,0', '9,1', '8,5', '8,7', '8,5', '8,5', '8,7', '8,7', '8,6', '8,7', '8,3', '8,4', '8,0', '8,2', '8,0', '8,3', '8,0', '8,4', '7,9', '7,5', '7,9', '7,7', '7,8', '7,9']}\n",
            "DEBUG:scrapy.core.engine:Crawled (200) <GET https://www.booking.com/searchresults.fr.html?ss=Strasbourg&checkin_year=2022&checkin_month=10&checkin_monthday=29&checkout_year=2022&checkout_month=10&checkout_monthday=30&selected_currency=EUR&group_adults=2&order=review_score_and_price&nflt=%253Bht_id%253D204> (referer: https://www.booking.com/index.fr.html)\n",
            "DEBUG:scrapy.core.scraper:Scraped from <200 https://www.booking.com/searchresults.fr.html?ss=Strasbourg&checkin_year=2022&checkin_month=10&checkin_monthday=29&checkout_year=2022&checkout_month=10&checkout_monthday=30&selected_currency=EUR&group_adults=2&order=review_score_and_price&nflt=%253Bht_id%253D204>\n",
            "{'city': 'Strasbourg', 'hotel': ['Boutique Hotel Des XV', 'Aloft Strasbourg Etoile', 'Maison Rouge Strasbourg Hotel & Spa, Autograph Collection', 'Le Lodge Brit Hotel Strasbourg Zenith', \"Hôtel de l'Europe by HappyCulture\", 'Hôtel-SPA Le Moulin De La Wantzenau - Strasbourg Nord', \"Aigle d'Or - Strasbourg Nord\", 'Hotel Argos', 'Hotel Roi Soleil Strasbourg Aéroport', 'Hotel Roi Soleil Strasbourg Mundolsheim', 'B&B HOTEL Strasbourg Sud Ostwald', 'Mercure Strasbourg Aéroport', 'Auberge De La Foret - Logis', 'B&B HOTEL STRASBOURG Nord Industrie', 'B&B HOTEL Strasbourg Sud Geispolsheim', 'ibis Strasbourg Sud La Vigie', 'B&B HOTEL Strasbourg Nord Schiltigheim', 'ATOLON PARK HOTEL', 'Hôtel Restaurant Oberlé', 'Best Western Plus Hôtel Le Rhénan', 'Hôtel Restaurant Au Boeuf', 'Hostellerie Reeb (Room Service disponible)', \"Hotel Restaurant A L'Etoile\", 'Logis Hôtel du Centre - Halte idéale en cyclotourisme avec garage à vélos clos', 'Hotel Le Bugatti'], 'url': ['https://www.booking.com/hotel/fr/des-xv.fr.html?aid=304142&label=gen173bo-1DCAQoggJCEXNlYXJjaF9zdHJhc2JvdXJnSA1YA2jnAYgBAZgBDbgBGMgBD9gBA-gBAfgBA4gCAZgCAqgCBLgCyIXbmgbAAgHSAiQ4N2VjMzYyMi0zZWU0LTQzZjEtYTNiMy1iYzg0MTFlNTlkNDnYAgTgAgE&ucfs=1&arphpl=1&checkin=2022-10-29&checkout=2022-10-30&group_adults=2&req_adults=2&no_rooms=1&group_children=0&req_children=0&hpos=1&hapos=1&sr_order=review_score_and_price&nflt=ht_id%3D204&srpvid=5dde76a42a5104de&srepoch=1666630345&all_sr_blocks=246715705_171224734_2_2_0&highlighted_blocks=246715705_171224734_2_2_0&matching_block_id=246715705_171224734_2_2_0&sr_pri_blocks=246715705_171224734_2_2_0__23500&from_sustainable_property_sr=1&from=searchresults#hotelTmpl', 'https://www.booking.com/hotel/fr/aloft-strasbourg-etoile.fr.html?aid=304142&label=gen173bo-1DCAQoggJCEXNlYXJjaF9zdHJhc2JvdXJnSA1YA2jnAYgBAZgBDbgBGMgBD9gBA-gBAfgBA4gCAZgCAqgCBLgCyIXbmgbAAgHSAiQ4N2VjMzYyMi0zZWU0LTQzZjEtYTNiMy1iYzg0MTFlNTlkNDnYAgTgAgE&ucfs=1&arphpl=1&checkin=2022-10-29&checkout=2022-10-30&group_adults=2&req_adults=2&no_rooms=1&group_children=0&req_children=0&hpos=2&hapos=2&sr_order=review_score_and_price&nflt=ht_id%3D204&srpvid=5dde76a42a5104de&srepoch=1666630345&all_sr_blocks=665558901_272837108_0_2_0&highlighted_blocks=665558901_272837108_0_2_0&matching_block_id=665558901_272837108_0_2_0&sr_pri_blocks=665558901_272837108_0_2_0__26900&from_sustainable_property_sr=1&from=searchresults#hotelTmpl', 'https://www.booking.com/hotel/fr/maisonrouge.fr.html?aid=304142&label=gen173bo-1DCAQoggJCEXNlYXJjaF9zdHJhc2JvdXJnSA1YA2jnAYgBAZgBDbgBGMgBD9gBA-gBAfgBA4gCAZgCAqgCBLgCyIXbmgbAAgHSAiQ4N2VjMzYyMi0zZWU0LTQzZjEtYTNiMy1iYzg0MTFlNTlkNDnYAgTgAgE&ucfs=1&arphpl=1&checkin=2022-10-29&checkout=2022-10-30&group_adults=2&req_adults=2&no_rooms=1&group_children=0&req_children=0&hpos=3&hapos=3&sr_order=review_score_and_price&nflt=ht_id%3D204&srpvid=5dde76a42a5104de&srepoch=1666630345&all_sr_blocks=5088429_88547249_2_2_0&highlighted_blocks=5088429_88547249_2_2_0&matching_block_id=5088429_88547249_2_2_0&sr_pri_blocks=5088429_88547249_2_2_0__30510&from_sustainable_property_sr=1&from=searchresults#hotelTmpl', 'https://www.booking.com/hotel/fr/brit-le-lodge.fr.html?aid=304142&label=gen173bo-1DCAQoggJCEXNlYXJjaF9zdHJhc2JvdXJnSA1YA2jnAYgBAZgBDbgBGMgBD9gBA-gBAfgBA4gCAZgCAqgCBLgCyIXbmgbAAgHSAiQ4N2VjMzYyMi0zZWU0LTQzZjEtYTNiMy1iYzg0MTFlNTlkNDnYAgTgAgE&ucfs=1&arphpl=1&checkin=2022-10-29&checkout=2022-10-30&group_adults=2&req_adults=2&no_rooms=1&group_children=0&req_children=0&hpos=4&hapos=4&sr_order=review_score_and_price&nflt=ht_id%3D204&srpvid=5dde76a42a5104de&srepoch=1666630345&all_sr_blocks=172758206_90309767_2_2_0&highlighted_blocks=172758206_90309767_2_2_0&matching_block_id=172758206_90309767_2_2_0&sr_pri_blocks=172758206_90309767_2_2_0__21300&from_sustainable_property_sr=1&from=searchresults#hotelTmpl', 'https://www.booking.com/hotel/fr/leurope.fr.html?aid=304142&label=gen173bo-1DCAQoggJCEXNlYXJjaF9zdHJhc2JvdXJnSA1YA2jnAYgBAZgBDbgBGMgBD9gBA-gBAfgBA4gCAZgCAqgCBLgCyIXbmgbAAgHSAiQ4N2VjMzYyMi0zZWU0LTQzZjEtYTNiMy1iYzg0MTFlNTlkNDnYAgTgAgE&ucfs=1&arphpl=1&checkin=2022-10-29&checkout=2022-10-30&group_adults=2&req_adults=2&no_rooms=1&group_children=0&req_children=0&hpos=5&hapos=5&sr_order=review_score_and_price&nflt=ht_id%3D204&srpvid=5dde76a42a5104de&srepoch=1666630345&all_sr_blocks=5029023_145042385_0_2_0&highlighted_blocks=5029023_145042385_0_2_0&matching_block_id=5029023_145042385_0_2_0&sr_pri_blocks=5029023_145042385_0_2_0__32400&from_sustainable_property_sr=1&from=searchresults#hotelTmpl', 'https://www.booking.com/hotel/fr/le-moulin-de-la-wantzenau.fr.html?aid=304142&label=gen173bo-1DCAQoggJCEXNlYXJjaF9zdHJhc2JvdXJnSA1YA2jnAYgBAZgBDbgBGMgBD9gBA-gBAfgBA4gCAZgCAqgCBLgCyIXbmgbAAgHSAiQ4N2VjMzYyMi0zZWU0LTQzZjEtYTNiMy1iYzg0MTFlNTlkNDnYAgTgAgE&ucfs=1&arphpl=1&checkin=2022-10-29&checkout=2022-10-30&group_adults=2&req_adults=2&no_rooms=1&group_children=0&req_children=0&hpos=6&hapos=6&sr_order=review_score_and_price&nflt=ht_id%3D204&srpvid=5dde76a42a5104de&srepoch=1666630345&all_sr_blocks=24260102_182044467_2_2_0&highlighted_blocks=24260102_182044467_2_2_0&matching_block_id=24260102_182044467_2_2_0&sr_pri_blocks=24260102_182044467_2_2_0__14100&from_sustainable_property_sr=1&from=searchresults#hotelTmpl', 'https://www.booking.com/hotel/fr/aigle-d-or.fr.html?aid=304142&label=gen173bo-1DCAQoggJCEXNlYXJjaF9zdHJhc2JvdXJnSA1YA2jnAYgBAZgBDbgBGMgBD9gBA-gBAfgBA4gCAZgCAqgCBLgCyIXbmgbAAgHSAiQ4N2VjMzYyMi0zZWU0LTQzZjEtYTNiMy1iYzg0MTFlNTlkNDnYAgTgAgE&ucfs=1&arphpl=1&checkin=2022-10-29&checkout=2022-10-30&group_adults=2&req_adults=2&no_rooms=1&group_children=0&req_children=0&hpos=7&hapos=7&sr_order=review_score_and_price&nflt=ht_id%3D204&srpvid=5dde76a42a5104de&srepoch=1666630345&all_sr_blocks=18053205_179756018_1_2_0%2C18053205_179756018_1_2_0&highlighted_blocks=18053205_179756018_1_2_0%2C18053205_179756018_1_2_0&matching_block_id=18053205_179756018_1_2_0&sr_pri_blocks=18053205_179756018_1_2_0__7808%2C18053205_179756018_1_2_0__7808&from_sustainable_property_sr=1&from=searchresults#hotelTmpl', 'https://www.booking.com/hotel/fr/argos.fr.html?aid=304142&label=gen173bo-1DCAQoggJCEXNlYXJjaF9zdHJhc2JvdXJnSA1YA2jnAYgBAZgBDbgBGMgBD9gBA-gBAfgBA4gCAZgCAqgCBLgCyIXbmgbAAgHSAiQ4N2VjMzYyMi0zZWU0LTQzZjEtYTNiMy1iYzg0MTFlNTlkNDnYAgTgAgE&ucfs=1&arphpl=1&checkin=2022-10-29&checkout=2022-10-30&group_adults=2&req_adults=2&no_rooms=1&group_children=0&req_children=0&hpos=8&hapos=8&sr_order=review_score_and_price&nflt=ht_id%3D204&srpvid=5dde76a42a5104de&srepoch=1666630345&all_sr_blocks=37911406_265020225_2_2_0&highlighted_blocks=37911406_265020225_2_2_0&matching_block_id=37911406_265020225_2_2_0&sr_pri_blocks=37911406_265020225_2_2_0__6800&from=searchresults#hotelTmpl', 'https://www.booking.com/hotel/fr/roi-soleil-holtzheim.fr.html?aid=304142&label=gen173bo-1DCAQoggJCEXNlYXJjaF9zdHJhc2JvdXJnSA1YA2jnAYgBAZgBDbgBGMgBD9gBA-gBAfgBA4gCAZgCAqgCBLgCyIXbmgbAAgHSAiQ4N2VjMzYyMi0zZWU0LTQzZjEtYTNiMy1iYzg0MTFlNTlkNDnYAgTgAgE&ucfs=1&arphpl=1&checkin=2022-10-29&checkout=2022-10-30&group_adults=2&req_adults=2&no_rooms=1&group_children=0&req_children=0&hpos=9&hapos=9&sr_order=review_score_and_price&nflt=ht_id%3D204&srpvid=5dde76a42a5104de&srepoch=1666630345&all_sr_blocks=2858206_237307109_0_2_0&highlighted_blocks=2858206_237307109_0_2_0&matching_block_id=2858206_237307109_0_2_0&sr_pri_blocks=2858206_237307109_0_2_0__6500&from=searchresults#hotelTmpl', 'https://www.booking.com/hotel/fr/hotel-roi-soleil-mundolsheim.fr.html?aid=304142&label=gen173bo-1DCAQoggJCEXNlYXJjaF9zdHJhc2JvdXJnSA1YA2jnAYgBAZgBDbgBGMgBD9gBA-gBAfgBA4gCAZgCAqgCBLgCyIXbmgbAAgHSAiQ4N2VjMzYyMi0zZWU0LTQzZjEtYTNiMy1iYzg0MTFlNTlkNDnYAgTgAgE&ucfs=1&arphpl=1&checkin=2022-10-29&checkout=2022-10-30&group_adults=2&req_adults=2&no_rooms=1&group_children=0&req_children=0&hpos=10&hapos=10&sr_order=review_score_and_price&nflt=ht_id%3D204&srpvid=5dde76a42a5104de&srepoch=1666630345&all_sr_blocks=2857705_145783717_0_2_0&highlighted_blocks=2857705_145783717_0_2_0&matching_block_id=2857705_145783717_0_2_0&sr_pri_blocks=2857705_145783717_0_2_0__6900&from=searchresults#hotelTmpl', 'https://www.booking.com/hotel/fr/b-amp-b-strasbourg-sud-ostwald.fr.html?aid=304142&label=gen173bo-1DCAQoggJCEXNlYXJjaF9zdHJhc2JvdXJnSA1YA2jnAYgBAZgBDbgBGMgBD9gBA-gBAfgBA4gCAZgCAqgCBLgCyIXbmgbAAgHSAiQ4N2VjMzYyMi0zZWU0LTQzZjEtYTNiMy1iYzg0MTFlNTlkNDnYAgTgAgE&ucfs=1&arphpl=1&checkin=2022-10-29&checkout=2022-10-30&group_adults=2&req_adults=2&no_rooms=1&group_children=0&req_children=0&hpos=11&hapos=11&sr_order=review_score_and_price&nflt=ht_id%3D204&srpvid=5dde76a42a5104de&srepoch=1666630345&all_sr_blocks=155705901_98220816_0_0_0&highlighted_blocks=155705901_98220816_0_0_0&matching_block_id=155705901_98220816_0_0_0&sr_pri_blocks=155705901_98220816_0_0_0__7000&from=searchresults#hotelTmpl', 'https://www.booking.com/hotel/fr/mercure-strasbourg-aeroport.fr.html?aid=304142&label=gen173bo-1DCAQoggJCEXNlYXJjaF9zdHJhc2JvdXJnSA1YA2jnAYgBAZgBDbgBGMgBD9gBA-gBAfgBA4gCAZgCAqgCBLgCyIXbmgbAAgHSAiQ4N2VjMzYyMi0zZWU0LTQzZjEtYTNiMy1iYzg0MTFlNTlkNDnYAgTgAgE&ucfs=1&arphpl=1&checkin=2022-10-29&checkout=2022-10-30&group_adults=2&req_adults=2&no_rooms=1&group_children=0&req_children=0&hpos=12&hapos=12&sr_order=review_score_and_price&nflt=ht_id%3D204&srpvid=5dde76a42a5104de&srepoch=1666630345&all_sr_blocks=5716404_333878354_2_42_0&highlighted_blocks=5716404_333878354_2_42_0&matching_block_id=5716404_333878354_2_42_0&sr_pri_blocks=5716404_333878354_2_42_0__8224&from=searchresults#hotelTmpl', 'https://www.booking.com/hotel/fr/auberge-de-la-foret-vendenheim.fr.html?aid=304142&label=gen173bo-1DCAQoggJCEXNlYXJjaF9zdHJhc2JvdXJnSA1YA2jnAYgBAZgBDbgBGMgBD9gBA-gBAfgBA4gCAZgCAqgCBLgCyIXbmgbAAgHSAiQ4N2VjMzYyMi0zZWU0LTQzZjEtYTNiMy1iYzg0MTFlNTlkNDnYAgTgAgE&ucfs=1&arphpl=1&checkin=2022-10-29&checkout=2022-10-30&group_adults=2&req_adults=2&no_rooms=1&group_children=0&req_children=0&hpos=13&hapos=13&sr_order=review_score_and_price&nflt=ht_id%3D204&srpvid=5dde76a42a5104de&srepoch=1666630345&all_sr_blocks=368080002_335535308_0_2_0&highlighted_blocks=368080002_335535308_0_2_0&matching_block_id=368080002_335535308_0_2_0&sr_pri_blocks=368080002_335535308_0_2_0__9000&from=searchresults#hotelTmpl', 'https://www.booking.com/hotel/fr/b-amp-b-strasbourg-nord-industrie.fr.html?aid=304142&label=gen173bo-1DCAQoggJCEXNlYXJjaF9zdHJhc2JvdXJnSA1YA2jnAYgBAZgBDbgBGMgBD9gBA-gBAfgBA4gCAZgCAqgCBLgCyIXbmgbAAgHSAiQ4N2VjMzYyMi0zZWU0LTQzZjEtYTNiMy1iYzg0MTFlNTlkNDnYAgTgAgE&ucfs=1&arphpl=1&checkin=2022-10-29&checkout=2022-10-30&group_adults=2&req_adults=2&no_rooms=1&group_children=0&req_children=0&hpos=14&hapos=14&sr_order=review_score_and_price&nflt=ht_id%3D204&srpvid=5dde76a42a5104de&srepoch=1666630345&all_sr_blocks=203385701_361697807_0_0_0&highlighted_blocks=203385701_361697807_0_0_0&matching_block_id=203385701_361697807_0_0_0&sr_pri_blocks=203385701_361697807_0_0_0__6300&from=searchresults#hotelTmpl', 'https://www.booking.com/hotel/fr/b-b-strasbourg-sud-geispolsheim.fr.html?aid=304142&label=gen173bo-1DCAQoggJCEXNlYXJjaF9zdHJhc2JvdXJnSA1YA2jnAYgBAZgBDbgBGMgBD9gBA-gBAfgBA4gCAZgCAqgCBLgCyIXbmgbAAgHSAiQ4N2VjMzYyMi0zZWU0LTQzZjEtYTNiMy1iYzg0MTFlNTlkNDnYAgTgAgE&ucfs=1&arphpl=1&checkin=2022-10-29&checkout=2022-10-30&group_adults=2&req_adults=2&no_rooms=1&group_children=0&req_children=0&hpos=15&hapos=15&sr_order=review_score_and_price&nflt=ht_id%3D204&srpvid=5dde76a42a5104de&srepoch=1666630345&all_sr_blocks=229702501_118737249_0_0_0&highlighted_blocks=229702501_118737249_0_0_0&matching_block_id=229702501_118737249_0_0_0&sr_pri_blocks=229702501_118737249_0_0_0__7800&from=searchresults#hotelTmpl', 'https://www.booking.com/hotel/fr/ha-tel-ibis-strasbourg-sud-la-vigie.fr.html?aid=304142&label=gen173bo-1DCAQoggJCEXNlYXJjaF9zdHJhc2JvdXJnSA1YA2jnAYgBAZgBDbgBGMgBD9gBA-gBAfgBA4gCAZgCAqgCBLgCyIXbmgbAAgHSAiQ4N2VjMzYyMi0zZWU0LTQzZjEtYTNiMy1iYzg0MTFlNTlkNDnYAgTgAgE&ucfs=1&arphpl=1&checkin=2022-10-29&checkout=2022-10-30&group_adults=2&req_adults=2&no_rooms=1&group_children=0&req_children=0&hpos=16&hapos=16&sr_order=review_score_and_price&nflt=ht_id%3D204&srpvid=5dde76a42a5104de&srepoch=1666630345&all_sr_blocks=35805302_246025200_2_2_0&highlighted_blocks=35805302_246025200_2_2_0&matching_block_id=35805302_246025200_2_2_0&sr_pri_blocks=35805302_246025200_2_2_0__8400&from=searchresults#hotelTmpl', 'https://www.booking.com/hotel/fr/ibis-budget-strasbourg-quartier.fr.html?aid=304142&label=gen173bo-1DCAQoggJCEXNlYXJjaF9zdHJhc2JvdXJnSA1YA2jnAYgBAZgBDbgBGMgBD9gBA-gBAfgBA4gCAZgCAqgCBLgCyIXbmgbAAgHSAiQ4N2VjMzYyMi0zZWU0LTQzZjEtYTNiMy1iYzg0MTFlNTlkNDnYAgTgAgE&ucfs=1&arphpl=1&checkin=2022-10-29&checkout=2022-10-30&group_adults=2&req_adults=2&no_rooms=1&group_children=0&req_children=0&hpos=17&hapos=17&sr_order=review_score_and_price&nflt=ht_id%3D204&srpvid=5dde76a42a5104de&srepoch=1666630345&all_sr_blocks=65688210_246094577_0_2_0&highlighted_blocks=65688210_246094577_0_2_0&matching_block_id=65688210_246094577_0_2_0&sr_pri_blocks=65688210_246094577_0_2_0__8900&from_sustainable_property_sr=1&from=searchresults#hotelTmpl', 'https://www.booking.com/hotel/fr/atolon-park.fr.html?aid=304142&label=gen173bo-1DCAQoggJCEXNlYXJjaF9zdHJhc2JvdXJnSA1YA2jnAYgBAZgBDbgBGMgBD9gBA-gBAfgBA4gCAZgCAqgCBLgCyIXbmgbAAgHSAiQ4N2VjMzYyMi0zZWU0LTQzZjEtYTNiMy1iYzg0MTFlNTlkNDnYAgTgAgE&ucfs=1&arphpl=1&checkin=2022-10-29&checkout=2022-10-30&group_adults=2&req_adults=2&no_rooms=1&group_children=0&req_children=0&hpos=18&hapos=18&sr_order=review_score_and_price&nflt=ht_id%3D204&srpvid=5dde76a42a5104de&srepoch=1666630345&all_sr_blocks=504275401_172879755_2_2_0&highlighted_blocks=504275401_172879755_2_2_0&matching_block_id=504275401_172879755_2_2_0&sr_pri_blocks=504275401_172879755_2_2_0__7900&from_sustainable_property_sr=1&from=searchresults#hotelTmpl', 'https://www.booking.com/hotel/fr/ha-tel-restaurant-oberla-c.fr.html?aid=304142&label=gen173bo-1DCAQoggJCEXNlYXJjaF9zdHJhc2JvdXJnSA1YA2jnAYgBAZgBDbgBGMgBD9gBA-gBAfgBA4gCAZgCAqgCBLgCyIXbmgbAAgHSAiQ4N2VjMzYyMi0zZWU0LTQzZjEtYTNiMy1iYzg0MTFlNTlkNDnYAgTgAgE&ucfs=1&arphpl=1&checkin=2022-10-29&checkout=2022-10-30&group_adults=2&req_adults=2&no_rooms=1&group_children=0&req_children=0&hpos=19&hapos=19&sr_order=review_score_and_price&nflt=ht_id%3D204&srpvid=5dde76a42a5104de&srepoch=1666630345&all_sr_blocks=37454201_226095474_2_2_0&highlighted_blocks=37454201_226095474_2_2_0&matching_block_id=37454201_226095474_2_2_0&sr_pri_blocks=37454201_226095474_2_2_0__9000&from=searchresults#hotelTmpl', 'https://www.booking.com/hotel/fr/best-western-ha-tel-le-rha-c-nan.fr.html?aid=304142&label=gen173bo-1DCAQoggJCEXNlYXJjaF9zdHJhc2JvdXJnSA1YA2jnAYgBAZgBDbgBGMgBD9gBA-gBAfgBA4gCAZgCAqgCBLgCyIXbmgbAAgHSAiQ4N2VjMzYyMi0zZWU0LTQzZjEtYTNiMy1iYzg0MTFlNTlkNDnYAgTgAgE&ucfs=1&arphpl=1&checkin=2022-10-29&checkout=2022-10-30&group_adults=2&req_adults=2&no_rooms=1&group_children=0&req_children=0&hpos=20&hapos=20&sr_order=review_score_and_price&nflt=ht_id%3D204&srpvid=5dde76a42a5104de&srepoch=1666630345&all_sr_blocks=35847609_244920709_2_2_0&highlighted_blocks=35847609_244920709_2_2_0&matching_block_id=35847609_244920709_2_2_0&sr_pri_blocks=35847609_244920709_2_2_0__10900&from=searchresults#hotelTmpl', 'https://www.booking.com/hotel/fr/hotelrestaurant.fr.html?aid=304142&label=gen173bo-1DCAQoggJCEXNlYXJjaF9zdHJhc2JvdXJnSA1YA2jnAYgBAZgBDbgBGMgBD9gBA-gBAfgBA4gCAZgCAqgCBLgCyIXbmgbAAgHSAiQ4N2VjMzYyMi0zZWU0LTQzZjEtYTNiMy1iYzg0MTFlNTlkNDnYAgTgAgE&ucfs=1&arphpl=1&checkin=2022-10-29&checkout=2022-10-30&group_adults=2&req_adults=2&no_rooms=1&group_children=0&req_children=0&hpos=21&hapos=21&sr_order=review_score_and_price&nflt=ht_id%3D204&srpvid=5dde76a42a5104de&srepoch=1666630345&all_sr_blocks=5161806_201017872_0_34_0&highlighted_blocks=5161806_201017872_0_34_0&matching_block_id=5161806_201017872_0_34_0&sr_pri_blocks=5161806_201017872_0_34_0__14375&from=searchresults#hotelTmpl', 'https://www.booking.com/hotel/fr/hostellerie-reeb.fr.html?aid=304142&label=gen173bo-1DCAQoggJCEXNlYXJjaF9zdHJhc2JvdXJnSA1YA2jnAYgBAZgBDbgBGMgBD9gBA-gBAfgBA4gCAZgCAqgCBLgCyIXbmgbAAgHSAiQ4N2VjMzYyMi0zZWU0LTQzZjEtYTNiMy1iYzg0MTFlNTlkNDnYAgTgAgE&ucfs=1&arphpl=1&checkin=2022-10-29&checkout=2022-10-30&group_adults=2&req_adults=2&no_rooms=1&group_children=0&req_children=0&hpos=22&hapos=22&sr_order=review_score_and_price&nflt=ht_id%3D204&srpvid=5dde76a42a5104de&srepoch=1666630345&all_sr_blocks=24434901_222277058_2_2_0&highlighted_blocks=24434901_222277058_2_2_0&matching_block_id=24434901_222277058_2_2_0&sr_pri_blocks=24434901_222277058_2_2_0__7900&from=searchresults#hotelTmpl', 'https://www.booking.com/hotel/fr/a-letoile.fr.html?aid=304142&label=gen173bo-1DCAQoggJCEXNlYXJjaF9zdHJhc2JvdXJnSA1YA2jnAYgBAZgBDbgBGMgBD9gBA-gBAfgBA4gCAZgCAqgCBLgCyIXbmgbAAgHSAiQ4N2VjMzYyMi0zZWU0LTQzZjEtYTNiMy1iYzg0MTFlNTlkNDnYAgTgAgE&ucfs=1&arphpl=1&checkin=2022-10-29&checkout=2022-10-30&group_adults=2&req_adults=2&no_rooms=1&group_children=0&req_children=0&hpos=23&hapos=23&sr_order=review_score_and_price&nflt=ht_id%3D204&srpvid=5dde76a42a5104de&srepoch=1666630345&all_sr_blocks=22711103_202078226_0_2_0&highlighted_blocks=22711103_202078226_0_2_0&matching_block_id=22711103_202078226_0_2_0&sr_pri_blocks=22711103_202078226_0_2_0__9600&from_sustainable_property_sr=1&from=searchresults#hotelTmpl', 'https://www.booking.com/hotel/fr/du-centre-molsheim.fr.html?aid=304142&label=gen173bo-1DCAQoggJCEXNlYXJjaF9zdHJhc2JvdXJnSA1YA2jnAYgBAZgBDbgBGMgBD9gBA-gBAfgBA4gCAZgCAqgCBLgCyIXbmgbAAgHSAiQ4N2VjMzYyMi0zZWU0LTQzZjEtYTNiMy1iYzg0MTFlNTlkNDnYAgTgAgE&ucfs=1&arphpl=1&checkin=2022-10-29&checkout=2022-10-30&group_adults=2&req_adults=2&no_rooms=1&group_children=0&req_children=0&hpos=24&hapos=24&sr_order=review_score_and_price&nflt=ht_id%3D204&srpvid=5dde76a42a5104de&srepoch=1666630345&all_sr_blocks=30131523_355354059_2_2_0&highlighted_blocks=30131523_355354059_2_2_0&matching_block_id=30131523_355354059_2_2_0&sr_pri_blocks=30131523_355354059_2_2_0__9600&from_sustainable_property_sr=1&from=searchresults#hotelTmpl', 'https://www.booking.com/hotel/fr/bugattimolsheim.fr.html?aid=304142&label=gen173bo-1DCAQoggJCEXNlYXJjaF9zdHJhc2JvdXJnSA1YA2jnAYgBAZgBDbgBGMgBD9gBA-gBAfgBA4gCAZgCAqgCBLgCyIXbmgbAAgHSAiQ4N2VjMzYyMi0zZWU0LTQzZjEtYTNiMy1iYzg0MTFlNTlkNDnYAgTgAgE&ucfs=1&arphpl=1&checkin=2022-10-29&checkout=2022-10-30&group_adults=2&req_adults=2&no_rooms=1&group_children=0&req_children=0&hpos=25&hapos=25&sr_order=review_score_and_price&nflt=ht_id%3D204&srpvid=5dde76a42a5104de&srepoch=1666630345&all_sr_blocks=5131802_91902497_2_2_0&highlighted_blocks=5131802_91902497_2_2_0&matching_block_id=5131802_91902497_2_2_0&sr_pri_blocks=5131802_91902497_2_2_0__11880&from_sustainable_property_sr=1&from=searchresults#hotelTmpl'], 'price': ['€\\xa0235', '€\\xa0269', '€\\xa0305', '€\\xa0213', '€\\xa0324', '€\\xa0141', '€\\xa0156', '€\\xa068', '€\\xa065', '€\\xa069', '€\\xa070', '€\\xa082', '€\\xa090', '€\\xa063', '€\\xa078', '€\\xa084', '€\\xa089', '€\\xa079', '€\\xa090', '€\\xa0109', '€\\xa0144', '€\\xa079', '€\\xa096', '€\\xa096', '€\\xa0119'], 'rating': ['9,0', '8,7', '8,8', '8,3', '8,1', '8,7', '8,6', '8,1', '7,9', '7,9', '7,6', '7,6', '7,7', '7,0', '7,2', '7,3', '6,2', '8,7', '8,8', '8,6', '8,8', '8,2', '8,2', '8,3', '8,3']}\n",
            "INFO:scrapy.core.engine:Closing spider (finished)\n",
            "2022-10-24 16:52:25 [scrapy.core.engine] INFO: Closing spider (finished)\n",
            "INFO:scrapy.extensions.feedexport:Stored json feed (5 items) in: book.json\n",
            "2022-10-24 16:52:25 [scrapy.extensions.feedexport] INFO: Stored json feed (5 items) in: book.json\n",
            "INFO:scrapy.statscollectors:Dumping Scrapy stats:\n",
            "{'downloader/request_bytes': 5422,\n",
            " 'downloader/request_count': 6,\n",
            " 'downloader/request_method_count/GET': 6,\n",
            " 'downloader/response_bytes': 1222379,\n",
            " 'downloader/response_count': 6,\n",
            " 'downloader/response_status_count/200': 6,\n",
            " 'elapsed_time_seconds': 16.542558,\n",
            " 'feedexport/success_count/FileFeedStorage': 1,\n",
            " 'finish_reason': 'finished',\n",
            " 'finish_time': datetime.datetime(2022, 10, 24, 16, 52, 25, 823830),\n",
            " 'httpcompression/response_bytes': 7387727,\n",
            " 'httpcompression/response_count': 6,\n",
            " 'item_scraped_count': 5,\n",
            " 'log_count/INFO': 11,\n",
            " 'memusage/max': 284606464,\n",
            " 'memusage/startup': 284606464,\n",
            " 'request_depth_max': 1,\n",
            " 'response_received_count': 6,\n",
            " 'scheduler/dequeued': 6,\n",
            " 'scheduler/dequeued/memory': 6,\n",
            " 'scheduler/enqueued': 6,\n",
            " 'scheduler/enqueued/memory': 6,\n",
            " 'start_time': datetime.datetime(2022, 10, 24, 16, 52, 9, 281272)}\n",
            "2022-10-24 16:52:25 [scrapy.statscollectors] INFO: Dumping Scrapy stats:\n",
            "{'downloader/request_bytes': 5422,\n",
            " 'downloader/request_count': 6,\n",
            " 'downloader/request_method_count/GET': 6,\n",
            " 'downloader/response_bytes': 1222379,\n",
            " 'downloader/response_count': 6,\n",
            " 'downloader/response_status_count/200': 6,\n",
            " 'elapsed_time_seconds': 16.542558,\n",
            " 'feedexport/success_count/FileFeedStorage': 1,\n",
            " 'finish_reason': 'finished',\n",
            " 'finish_time': datetime.datetime(2022, 10, 24, 16, 52, 25, 823830),\n",
            " 'httpcompression/response_bytes': 7387727,\n",
            " 'httpcompression/response_count': 6,\n",
            " 'item_scraped_count': 5,\n",
            " 'log_count/INFO': 11,\n",
            " 'memusage/max': 284606464,\n",
            " 'memusage/startup': 284606464,\n",
            " 'request_depth_max': 1,\n",
            " 'response_received_count': 6,\n",
            " 'scheduler/dequeued': 6,\n",
            " 'scheduler/dequeued/memory': 6,\n",
            " 'scheduler/enqueued': 6,\n",
            " 'scheduler/enqueued/memory': 6,\n",
            " 'start_time': datetime.datetime(2022, 10, 24, 16, 52, 9, 281272)}\n",
            "INFO:scrapy.core.engine:Spider closed (finished)\n",
            "2022-10-24 16:52:25 [scrapy.core.engine] INFO: Spider closed (finished)\n"
          ]
        }
      ]
    },
    {
      "cell_type": "code",
      "source": [
        "df = pd.read_json('book.json')\n"
      ],
      "metadata": {
        "id": "Yo8rCBUNBD2K"
      },
      "execution_count": null,
      "outputs": []
    },
    {
      "cell_type": "markdown",
      "source": [
        "list of hotels, their webadress, price and rating for 5 cites"
      ],
      "metadata": {
        "id": "qOBrzM4sg1-3"
      }
    },
    {
      "cell_type": "code",
      "source": [
        "df"
      ],
      "metadata": {
        "colab": {
          "base_uri": "https://localhost:8080/",
          "height": 337
        },
        "id": "BvxXrQcs0TTi",
        "outputId": "4ee15e3d-2b08-40f7-f39d-5a1bac6fc858"
      },
      "execution_count": null,
      "outputs": [
        {
          "output_type": "execute_result",
          "data": {
            "text/plain": [
              "                          city  \\\n",
              "0  Château du Haut-Kœnigsbourg   \n",
              "1                       Ariège   \n",
              "2                        Dijon   \n",
              "3             Gorges du Verdon   \n",
              "4                   Strasbourg   \n",
              "\n",
              "                                               hotel  \\\n",
              "0  [Hôtel du Haut Koenigsbourg - calme et nature,...   \n",
              "1  [Le Clos Cathala, Relais Mira Peis, Hôtel Conf...   \n",
              "2  [ibis Styles Dijon Sud Domaine De Beauregard 2...   \n",
              "3  [Le Moulin du Verdon, Hotel Les Restanques De ...   \n",
              "4  [Boutique Hotel Des XV, Aloft Strasbourg Etoil...   \n",
              "\n",
              "                                                 url  \\\n",
              "0  [https://www.booking.com/hotel/fr/le-haut-koen...   \n",
              "1  [https://www.booking.com/hotel/fr/le-clos-cath...   \n",
              "2  [https://www.booking.com/hotel/fr/ibis-styles-...   \n",
              "3  [https://www.booking.com/hotel/fr/residence-le...   \n",
              "4  [https://www.booking.com/hotel/fr/des-xv.fr.ht...   \n",
              "\n",
              "                                               price  \\\n",
              "0  [€ 125, € 429, € 248, € 138, € 1 128, € 70, € ...   \n",
              "1  [€ 220, € 251, € 60, € 74, € 152, € 230, € 60,...   \n",
              "2  [€ 129, € 161, € 202, € 85, € 89, € 100, € 103...   \n",
              "3  [€ 98, € 122, € 351, € 75, € 97, € 103, € 104,...   \n",
              "4  [€ 235, € 269, € 305, € 213, € 324, € 141, € 1...   \n",
              "\n",
              "                                              rating  \n",
              "0  [9,0, 8,5, 8,0, 7,9, 9,2, 8,0, 8,2, 7,7, 7,9, ...  \n",
              "1  [9,1, 9,1, 8,5, 8,8, 8,6, 8,8, 8,2, 8,0, 8,2, ...  \n",
              "2  [8,7, 8,6, 8,7, 8,1, 8,0, 8,1, 8,3, 8,0, 8,3, ...  \n",
              "3  [9,1, 9,0, 9,1, 8,5, 8,7, 8,5, 8,5, 8,7, 8,7, ...  \n",
              "4  [9,0, 8,7, 8,8, 8,3, 8,1, 8,7, 8,6, 8,1, 7,9, ...  "
            ],
            "text/html": [
              "\n",
              "  <div id=\"df-b64147bc-c97b-4b9c-bab6-18499423eecb\">\n",
              "    <div class=\"colab-df-container\">\n",
              "      <div>\n",
              "<style scoped>\n",
              "    .dataframe tbody tr th:only-of-type {\n",
              "        vertical-align: middle;\n",
              "    }\n",
              "\n",
              "    .dataframe tbody tr th {\n",
              "        vertical-align: top;\n",
              "    }\n",
              "\n",
              "    .dataframe thead th {\n",
              "        text-align: right;\n",
              "    }\n",
              "</style>\n",
              "<table border=\"1\" class=\"dataframe\">\n",
              "  <thead>\n",
              "    <tr style=\"text-align: right;\">\n",
              "      <th></th>\n",
              "      <th>city</th>\n",
              "      <th>hotel</th>\n",
              "      <th>url</th>\n",
              "      <th>price</th>\n",
              "      <th>rating</th>\n",
              "    </tr>\n",
              "  </thead>\n",
              "  <tbody>\n",
              "    <tr>\n",
              "      <th>0</th>\n",
              "      <td>Château du Haut-Kœnigsbourg</td>\n",
              "      <td>[Hôtel du Haut Koenigsbourg - calme et nature,...</td>\n",
              "      <td>[https://www.booking.com/hotel/fr/le-haut-koen...</td>\n",
              "      <td>[€ 125, € 429, € 248, € 138, € 1 128, € 70, € ...</td>\n",
              "      <td>[9,0, 8,5, 8,0, 7,9, 9,2, 8,0, 8,2, 7,7, 7,9, ...</td>\n",
              "    </tr>\n",
              "    <tr>\n",
              "      <th>1</th>\n",
              "      <td>Ariège</td>\n",
              "      <td>[Le Clos Cathala, Relais Mira Peis, Hôtel Conf...</td>\n",
              "      <td>[https://www.booking.com/hotel/fr/le-clos-cath...</td>\n",
              "      <td>[€ 220, € 251, € 60, € 74, € 152, € 230, € 60,...</td>\n",
              "      <td>[9,1, 9,1, 8,5, 8,8, 8,6, 8,8, 8,2, 8,0, 8,2, ...</td>\n",
              "    </tr>\n",
              "    <tr>\n",
              "      <th>2</th>\n",
              "      <td>Dijon</td>\n",
              "      <td>[ibis Styles Dijon Sud Domaine De Beauregard 2...</td>\n",
              "      <td>[https://www.booking.com/hotel/fr/ibis-styles-...</td>\n",
              "      <td>[€ 129, € 161, € 202, € 85, € 89, € 100, € 103...</td>\n",
              "      <td>[8,7, 8,6, 8,7, 8,1, 8,0, 8,1, 8,3, 8,0, 8,3, ...</td>\n",
              "    </tr>\n",
              "    <tr>\n",
              "      <th>3</th>\n",
              "      <td>Gorges du Verdon</td>\n",
              "      <td>[Le Moulin du Verdon, Hotel Les Restanques De ...</td>\n",
              "      <td>[https://www.booking.com/hotel/fr/residence-le...</td>\n",
              "      <td>[€ 98, € 122, € 351, € 75, € 97, € 103, € 104,...</td>\n",
              "      <td>[9,1, 9,0, 9,1, 8,5, 8,7, 8,5, 8,5, 8,7, 8,7, ...</td>\n",
              "    </tr>\n",
              "    <tr>\n",
              "      <th>4</th>\n",
              "      <td>Strasbourg</td>\n",
              "      <td>[Boutique Hotel Des XV, Aloft Strasbourg Etoil...</td>\n",
              "      <td>[https://www.booking.com/hotel/fr/des-xv.fr.ht...</td>\n",
              "      <td>[€ 235, € 269, € 305, € 213, € 324, € 141, € 1...</td>\n",
              "      <td>[9,0, 8,7, 8,8, 8,3, 8,1, 8,7, 8,6, 8,1, 7,9, ...</td>\n",
              "    </tr>\n",
              "  </tbody>\n",
              "</table>\n",
              "</div>\n",
              "      <button class=\"colab-df-convert\" onclick=\"convertToInteractive('df-b64147bc-c97b-4b9c-bab6-18499423eecb')\"\n",
              "              title=\"Convert this dataframe to an interactive table.\"\n",
              "              style=\"display:none;\">\n",
              "        \n",
              "  <svg xmlns=\"http://www.w3.org/2000/svg\" height=\"24px\"viewBox=\"0 0 24 24\"\n",
              "       width=\"24px\">\n",
              "    <path d=\"M0 0h24v24H0V0z\" fill=\"none\"/>\n",
              "    <path d=\"M18.56 5.44l.94 2.06.94-2.06 2.06-.94-2.06-.94-.94-2.06-.94 2.06-2.06.94zm-11 1L8.5 8.5l.94-2.06 2.06-.94-2.06-.94L8.5 2.5l-.94 2.06-2.06.94zm10 10l.94 2.06.94-2.06 2.06-.94-2.06-.94-.94-2.06-.94 2.06-2.06.94z\"/><path d=\"M17.41 7.96l-1.37-1.37c-.4-.4-.92-.59-1.43-.59-.52 0-1.04.2-1.43.59L10.3 9.45l-7.72 7.72c-.78.78-.78 2.05 0 2.83L4 21.41c.39.39.9.59 1.41.59.51 0 1.02-.2 1.41-.59l7.78-7.78 2.81-2.81c.8-.78.8-2.07 0-2.86zM5.41 20L4 18.59l7.72-7.72 1.47 1.35L5.41 20z\"/>\n",
              "  </svg>\n",
              "      </button>\n",
              "      \n",
              "  <style>\n",
              "    .colab-df-container {\n",
              "      display:flex;\n",
              "      flex-wrap:wrap;\n",
              "      gap: 12px;\n",
              "    }\n",
              "\n",
              "    .colab-df-convert {\n",
              "      background-color: #E8F0FE;\n",
              "      border: none;\n",
              "      border-radius: 50%;\n",
              "      cursor: pointer;\n",
              "      display: none;\n",
              "      fill: #1967D2;\n",
              "      height: 32px;\n",
              "      padding: 0 0 0 0;\n",
              "      width: 32px;\n",
              "    }\n",
              "\n",
              "    .colab-df-convert:hover {\n",
              "      background-color: #E2EBFA;\n",
              "      box-shadow: 0px 1px 2px rgba(60, 64, 67, 0.3), 0px 1px 3px 1px rgba(60, 64, 67, 0.15);\n",
              "      fill: #174EA6;\n",
              "    }\n",
              "\n",
              "    [theme=dark] .colab-df-convert {\n",
              "      background-color: #3B4455;\n",
              "      fill: #D2E3FC;\n",
              "    }\n",
              "\n",
              "    [theme=dark] .colab-df-convert:hover {\n",
              "      background-color: #434B5C;\n",
              "      box-shadow: 0px 1px 3px 1px rgba(0, 0, 0, 0.15);\n",
              "      filter: drop-shadow(0px 1px 2px rgba(0, 0, 0, 0.3));\n",
              "      fill: #FFFFFF;\n",
              "    }\n",
              "  </style>\n",
              "\n",
              "      <script>\n",
              "        const buttonEl =\n",
              "          document.querySelector('#df-b64147bc-c97b-4b9c-bab6-18499423eecb button.colab-df-convert');\n",
              "        buttonEl.style.display =\n",
              "          google.colab.kernel.accessAllowed ? 'block' : 'none';\n",
              "\n",
              "        async function convertToInteractive(key) {\n",
              "          const element = document.querySelector('#df-b64147bc-c97b-4b9c-bab6-18499423eecb');\n",
              "          const dataTable =\n",
              "            await google.colab.kernel.invokeFunction('convertToInteractive',\n",
              "                                                     [key], {});\n",
              "          if (!dataTable) return;\n",
              "\n",
              "          const docLinkHtml = 'Like what you see? Visit the ' +\n",
              "            '<a target=\"_blank\" href=https://colab.research.google.com/notebooks/data_table.ipynb>data table notebook</a>'\n",
              "            + ' to learn more about interactive tables.';\n",
              "          element.innerHTML = '';\n",
              "          dataTable['output_type'] = 'display_data';\n",
              "          await google.colab.output.renderOutput(dataTable, element);\n",
              "          const docLink = document.createElement('div');\n",
              "          docLink.innerHTML = docLinkHtml;\n",
              "          element.appendChild(docLink);\n",
              "        }\n",
              "      </script>\n",
              "    </div>\n",
              "  </div>\n",
              "  "
            ]
          },
          "metadata": {},
          "execution_count": 22
        }
      ]
    },
    {
      "cell_type": "markdown",
      "source": [
        "adding the other infomation of gps and weather to this dataframe\n"
      ],
      "metadata": {
        "id": "thTj2lhQhKpd"
      }
    },
    {
      "cell_type": "code",
      "source": [
        "df[\"latitude\"]=top5_city[\"latitude\"]\n",
        "df[\"longitude\"]=top5_city[\"longitude\"]\n",
        "df[\"Temperature\"]=top5_city[\"Temperature\"]\n",
        "df[\"Temperature_max\"]=top5_city[\"Temperature_max\"]\n",
        "df[\"Temperature_min\"]=top5_city[\"Temperature_min\"]\n",
        "df[\"Humidity\"]=top5_city[\"Humidity\"]\n",
        "\n",
        "df"
      ],
      "metadata": {
        "colab": {
          "base_uri": "https://localhost:8080/",
          "height": 964
        },
        "id": "ReFWTsqHhJxc",
        "outputId": "44519469-ae44-41df-a693-7731a527024d"
      },
      "execution_count": null,
      "outputs": [
        {
          "output_type": "execute_result",
          "data": {
            "text/plain": [
              "                          city  \\\n",
              "0  Château du Haut-Kœnigsbourg   \n",
              "1                       Ariège   \n",
              "2                        Dijon   \n",
              "3             Gorges du Verdon   \n",
              "4                   Strasbourg   \n",
              "\n",
              "                                               hotel  \\\n",
              "0  [Hôtel du Haut Koenigsbourg - calme et nature,...   \n",
              "1  [Le Clos Cathala, Relais Mira Peis, Hôtel Conf...   \n",
              "2  [ibis Styles Dijon Sud Domaine De Beauregard 2...   \n",
              "3  [Le Moulin du Verdon, Hotel Les Restanques De ...   \n",
              "4  [Boutique Hotel Des XV, Aloft Strasbourg Etoil...   \n",
              "\n",
              "                                                 url  \\\n",
              "0  [https://www.booking.com/hotel/fr/le-haut-koen...   \n",
              "1  [https://www.booking.com/hotel/fr/le-clos-cath...   \n",
              "2  [https://www.booking.com/hotel/fr/ibis-styles-...   \n",
              "3  [https://www.booking.com/hotel/fr/residence-le...   \n",
              "4  [https://www.booking.com/hotel/fr/des-xv.fr.ht...   \n",
              "\n",
              "                                               price  \\\n",
              "0  [€ 125, € 429, € 248, € 138, € 1 128, € 70, € ...   \n",
              "1  [€ 220, € 251, € 60, € 74, € 152, € 230, € 60,...   \n",
              "2  [€ 129, € 161, € 202, € 85, € 89, € 100, € 103...   \n",
              "3  [€ 98, € 122, € 351, € 75, € 97, € 103, € 104,...   \n",
              "4  [€ 235, € 269, € 305, € 213, € 324, € 141, € 1...   \n",
              "\n",
              "                                              rating            latitude  \\\n",
              "0  [9,0, 8,5, 8,0, 7,9, 9,2, 8,0, 8,2, 7,7, 7,9, ...  48.249489800000006   \n",
              "1  [9,1, 9,1, 8,5, 8,8, 8,6, 8,8, 8,2, 8,0, 8,2, ...          42.9455368   \n",
              "2  [8,7, 8,6, 8,7, 8,1, 8,0, 8,1, 8,3, 8,0, 8,3, ...          47.3215806   \n",
              "3  [9,1, 9,0, 9,1, 8,5, 8,7, 8,5, 8,5, 8,7, 8,7, ...          43.7496562   \n",
              "4  [9,0, 8,7, 8,8, 8,3, 8,1, 8,7, 8,6, 8,1, 7,9, ...           48.584614   \n",
              "\n",
              "            longitude Temperature Temperature_max Temperature_min Humidity  \n",
              "0    7.34429620253195      17.835          18.565           11.29     52.0  \n",
              "1  1.4065544156065486      21.735           22.81           11.99     22.5  \n",
              "2           5.0414701       20.54          21.085          12.255     49.5  \n",
              "3           6.3285616      20.645           21.43           12.31     39.0  \n",
              "4           7.7507127       19.16          19.625           12.97     58.0  "
            ],
            "text/html": [
              "\n",
              "  <div id=\"df-5b37e00c-d98b-48fa-9d7d-9fbd507f8609\">\n",
              "    <div class=\"colab-df-container\">\n",
              "      <div>\n",
              "<style scoped>\n",
              "    .dataframe tbody tr th:only-of-type {\n",
              "        vertical-align: middle;\n",
              "    }\n",
              "\n",
              "    .dataframe tbody tr th {\n",
              "        vertical-align: top;\n",
              "    }\n",
              "\n",
              "    .dataframe thead th {\n",
              "        text-align: right;\n",
              "    }\n",
              "</style>\n",
              "<table border=\"1\" class=\"dataframe\">\n",
              "  <thead>\n",
              "    <tr style=\"text-align: right;\">\n",
              "      <th></th>\n",
              "      <th>city</th>\n",
              "      <th>hotel</th>\n",
              "      <th>url</th>\n",
              "      <th>price</th>\n",
              "      <th>rating</th>\n",
              "      <th>latitude</th>\n",
              "      <th>longitude</th>\n",
              "      <th>Temperature</th>\n",
              "      <th>Temperature_max</th>\n",
              "      <th>Temperature_min</th>\n",
              "      <th>Humidity</th>\n",
              "    </tr>\n",
              "  </thead>\n",
              "  <tbody>\n",
              "    <tr>\n",
              "      <th>0</th>\n",
              "      <td>Château du Haut-Kœnigsbourg</td>\n",
              "      <td>[Hôtel du Haut Koenigsbourg - calme et nature,...</td>\n",
              "      <td>[https://www.booking.com/hotel/fr/le-haut-koen...</td>\n",
              "      <td>[€ 125, € 429, € 248, € 138, € 1 128, € 70, € ...</td>\n",
              "      <td>[9,0, 8,5, 8,0, 7,9, 9,2, 8,0, 8,2, 7,7, 7,9, ...</td>\n",
              "      <td>48.249489800000006</td>\n",
              "      <td>7.34429620253195</td>\n",
              "      <td>17.835</td>\n",
              "      <td>18.565</td>\n",
              "      <td>11.29</td>\n",
              "      <td>52.0</td>\n",
              "    </tr>\n",
              "    <tr>\n",
              "      <th>1</th>\n",
              "      <td>Ariège</td>\n",
              "      <td>[Le Clos Cathala, Relais Mira Peis, Hôtel Conf...</td>\n",
              "      <td>[https://www.booking.com/hotel/fr/le-clos-cath...</td>\n",
              "      <td>[€ 220, € 251, € 60, € 74, € 152, € 230, € 60,...</td>\n",
              "      <td>[9,1, 9,1, 8,5, 8,8, 8,6, 8,8, 8,2, 8,0, 8,2, ...</td>\n",
              "      <td>42.9455368</td>\n",
              "      <td>1.4065544156065486</td>\n",
              "      <td>21.735</td>\n",
              "      <td>22.81</td>\n",
              "      <td>11.99</td>\n",
              "      <td>22.5</td>\n",
              "    </tr>\n",
              "    <tr>\n",
              "      <th>2</th>\n",
              "      <td>Dijon</td>\n",
              "      <td>[ibis Styles Dijon Sud Domaine De Beauregard 2...</td>\n",
              "      <td>[https://www.booking.com/hotel/fr/ibis-styles-...</td>\n",
              "      <td>[€ 129, € 161, € 202, € 85, € 89, € 100, € 103...</td>\n",
              "      <td>[8,7, 8,6, 8,7, 8,1, 8,0, 8,1, 8,3, 8,0, 8,3, ...</td>\n",
              "      <td>47.3215806</td>\n",
              "      <td>5.0414701</td>\n",
              "      <td>20.54</td>\n",
              "      <td>21.085</td>\n",
              "      <td>12.255</td>\n",
              "      <td>49.5</td>\n",
              "    </tr>\n",
              "    <tr>\n",
              "      <th>3</th>\n",
              "      <td>Gorges du Verdon</td>\n",
              "      <td>[Le Moulin du Verdon, Hotel Les Restanques De ...</td>\n",
              "      <td>[https://www.booking.com/hotel/fr/residence-le...</td>\n",
              "      <td>[€ 98, € 122, € 351, € 75, € 97, € 103, € 104,...</td>\n",
              "      <td>[9,1, 9,0, 9,1, 8,5, 8,7, 8,5, 8,5, 8,7, 8,7, ...</td>\n",
              "      <td>43.7496562</td>\n",
              "      <td>6.3285616</td>\n",
              "      <td>20.645</td>\n",
              "      <td>21.43</td>\n",
              "      <td>12.31</td>\n",
              "      <td>39.0</td>\n",
              "    </tr>\n",
              "    <tr>\n",
              "      <th>4</th>\n",
              "      <td>Strasbourg</td>\n",
              "      <td>[Boutique Hotel Des XV, Aloft Strasbourg Etoil...</td>\n",
              "      <td>[https://www.booking.com/hotel/fr/des-xv.fr.ht...</td>\n",
              "      <td>[€ 235, € 269, € 305, € 213, € 324, € 141, € 1...</td>\n",
              "      <td>[9,0, 8,7, 8,8, 8,3, 8,1, 8,7, 8,6, 8,1, 7,9, ...</td>\n",
              "      <td>48.584614</td>\n",
              "      <td>7.7507127</td>\n",
              "      <td>19.16</td>\n",
              "      <td>19.625</td>\n",
              "      <td>12.97</td>\n",
              "      <td>58.0</td>\n",
              "    </tr>\n",
              "  </tbody>\n",
              "</table>\n",
              "</div>\n",
              "      <button class=\"colab-df-convert\" onclick=\"convertToInteractive('df-5b37e00c-d98b-48fa-9d7d-9fbd507f8609')\"\n",
              "              title=\"Convert this dataframe to an interactive table.\"\n",
              "              style=\"display:none;\">\n",
              "        \n",
              "  <svg xmlns=\"http://www.w3.org/2000/svg\" height=\"24px\"viewBox=\"0 0 24 24\"\n",
              "       width=\"24px\">\n",
              "    <path d=\"M0 0h24v24H0V0z\" fill=\"none\"/>\n",
              "    <path d=\"M18.56 5.44l.94 2.06.94-2.06 2.06-.94-2.06-.94-.94-2.06-.94 2.06-2.06.94zm-11 1L8.5 8.5l.94-2.06 2.06-.94-2.06-.94L8.5 2.5l-.94 2.06-2.06.94zm10 10l.94 2.06.94-2.06 2.06-.94-2.06-.94-.94-2.06-.94 2.06-2.06.94z\"/><path d=\"M17.41 7.96l-1.37-1.37c-.4-.4-.92-.59-1.43-.59-.52 0-1.04.2-1.43.59L10.3 9.45l-7.72 7.72c-.78.78-.78 2.05 0 2.83L4 21.41c.39.39.9.59 1.41.59.51 0 1.02-.2 1.41-.59l7.78-7.78 2.81-2.81c.8-.78.8-2.07 0-2.86zM5.41 20L4 18.59l7.72-7.72 1.47 1.35L5.41 20z\"/>\n",
              "  </svg>\n",
              "      </button>\n",
              "      \n",
              "  <style>\n",
              "    .colab-df-container {\n",
              "      display:flex;\n",
              "      flex-wrap:wrap;\n",
              "      gap: 12px;\n",
              "    }\n",
              "\n",
              "    .colab-df-convert {\n",
              "      background-color: #E8F0FE;\n",
              "      border: none;\n",
              "      border-radius: 50%;\n",
              "      cursor: pointer;\n",
              "      display: none;\n",
              "      fill: #1967D2;\n",
              "      height: 32px;\n",
              "      padding: 0 0 0 0;\n",
              "      width: 32px;\n",
              "    }\n",
              "\n",
              "    .colab-df-convert:hover {\n",
              "      background-color: #E2EBFA;\n",
              "      box-shadow: 0px 1px 2px rgba(60, 64, 67, 0.3), 0px 1px 3px 1px rgba(60, 64, 67, 0.15);\n",
              "      fill: #174EA6;\n",
              "    }\n",
              "\n",
              "    [theme=dark] .colab-df-convert {\n",
              "      background-color: #3B4455;\n",
              "      fill: #D2E3FC;\n",
              "    }\n",
              "\n",
              "    [theme=dark] .colab-df-convert:hover {\n",
              "      background-color: #434B5C;\n",
              "      box-shadow: 0px 1px 3px 1px rgba(0, 0, 0, 0.15);\n",
              "      filter: drop-shadow(0px 1px 2px rgba(0, 0, 0, 0.3));\n",
              "      fill: #FFFFFF;\n",
              "    }\n",
              "  </style>\n",
              "\n",
              "      <script>\n",
              "        const buttonEl =\n",
              "          document.querySelector('#df-5b37e00c-d98b-48fa-9d7d-9fbd507f8609 button.colab-df-convert');\n",
              "        buttonEl.style.display =\n",
              "          google.colab.kernel.accessAllowed ? 'block' : 'none';\n",
              "\n",
              "        async function convertToInteractive(key) {\n",
              "          const element = document.querySelector('#df-5b37e00c-d98b-48fa-9d7d-9fbd507f8609');\n",
              "          const dataTable =\n",
              "            await google.colab.kernel.invokeFunction('convertToInteractive',\n",
              "                                                     [key], {});\n",
              "          if (!dataTable) return;\n",
              "\n",
              "          const docLinkHtml = 'Like what you see? Visit the ' +\n",
              "            '<a target=\"_blank\" href=https://colab.research.google.com/notebooks/data_table.ipynb>data table notebook</a>'\n",
              "            + ' to learn more about interactive tables.';\n",
              "          element.innerHTML = '';\n",
              "          dataTable['output_type'] = 'display_data';\n",
              "          await google.colab.output.renderOutput(dataTable, element);\n",
              "          const docLink = document.createElement('div');\n",
              "          docLink.innerHTML = docLinkHtml;\n",
              "          element.appendChild(docLink);\n",
              "        }\n",
              "      </script>\n",
              "    </div>\n",
              "  </div>\n",
              "  "
            ]
          },
          "metadata": {},
          "execution_count": 23
        }
      ]
    },
    {
      "cell_type": "code",
      "source": [
        "best1={\"name\":df.city[0],\"hotel\":df.hotel[0][0:20],\"url\":df.url[0][0:20],\"price\":df.price[0][0:20],\"rating\":df.rating[0][0:20],\n",
        "       \"Temperature\":df.Temperature[0],\"Temperature_max\":df.Temperature_max[0],\"Temperature_min\":df.Temperature_min[0],\"Humidity\":df.Humidity[0]\n",
        "       }\n",
        "df_1=pd.DataFrame(best1)\n",
        "df_1\n"
      ],
      "metadata": {
        "colab": {
          "base_uri": "https://localhost:8080/",
          "height": 1000
        },
        "id": "-t_gHnnrMJaG",
        "outputId": "27fe4347-0bb1-41ef-ff6c-eef27fbe97bb"
      },
      "execution_count": null,
      "outputs": [
        {
          "output_type": "execute_result",
          "data": {
            "text/plain": [
              "                           name  \\\n",
              "0   Château du Haut-Kœnigsbourg   \n",
              "1   Château du Haut-Kœnigsbourg   \n",
              "2   Château du Haut-Kœnigsbourg   \n",
              "3   Château du Haut-Kœnigsbourg   \n",
              "4   Château du Haut-Kœnigsbourg   \n",
              "5   Château du Haut-Kœnigsbourg   \n",
              "6   Château du Haut-Kœnigsbourg   \n",
              "7   Château du Haut-Kœnigsbourg   \n",
              "8   Château du Haut-Kœnigsbourg   \n",
              "9   Château du Haut-Kœnigsbourg   \n",
              "10  Château du Haut-Kœnigsbourg   \n",
              "11  Château du Haut-Kœnigsbourg   \n",
              "12  Château du Haut-Kœnigsbourg   \n",
              "13  Château du Haut-Kœnigsbourg   \n",
              "14  Château du Haut-Kœnigsbourg   \n",
              "15  Château du Haut-Kœnigsbourg   \n",
              "16  Château du Haut-Kœnigsbourg   \n",
              "17  Château du Haut-Kœnigsbourg   \n",
              "18  Château du Haut-Kœnigsbourg   \n",
              "19  Château du Haut-Kœnigsbourg   \n",
              "\n",
              "                                                hotel  \\\n",
              "0        Hôtel du Haut Koenigsbourg - calme et nature   \n",
              "1                          Hôtel Barrière Ribeauvillé   \n",
              "2                               Caveau de l'ami Fritz   \n",
              "3   Hôtel Restaurant Le Verger des Châteaux, The O...   \n",
              "4                   Hostellerie La Cheneaudière & Spa   \n",
              "5                                       Hotel Marchal   \n",
              "6             Logis Hôtel Restaurant La Tête Des Faux   \n",
              "7                         Hotel Restaurant Du Kalblin   \n",
              "8                                     Hôtel Le Manoir   \n",
              "9          Centre International de Sejour - Le Mittel   \n",
              "10                   B&B HOTEL Colmar Vignobles Ouest   \n",
              "11                          Fast Hotel Colmar Houssen   \n",
              "12                            Contact Hotel Du Ladhof   \n",
              "13                                    Hôtel du Ladhof   \n",
              "14                      Hôtel parc & spa Les cigognes   \n",
              "15                              La Belle Charbonnière   \n",
              "16                  Hôtel Restaurant Domaine De Basil   \n",
              "17                  Au Soleil, Hôtel Restaurant & Spa   \n",
              "18                                 Relais du Klevener   \n",
              "19        6717 Nature Hôtel & Spa Le Clos des Délices   \n",
              "\n",
              "                                                  url    price rating  \\\n",
              "0   https://www.booking.com/hotel/fr/le-haut-koeni...    € 125    9,0   \n",
              "1   https://www.booking.com/hotel/fr/resort-barrie...    € 429    8,5   \n",
              "2   https://www.booking.com/hotel/fr/caveau-de-l-a...    € 248    8,0   \n",
              "3   https://www.booking.com/hotel/fr/le-verger-des...    € 138    7,9   \n",
              "4   https://www.booking.com/hotel/fr/hostellerie-l...  € 1 128    9,2   \n",
              "5   https://www.booking.com/hotel/fr/marchal.fr.ht...     € 70    8,0   \n",
              "6   https://www.booking.com/hotel/fr/restaurant-la...     € 95    8,2   \n",
              "7   https://www.booking.com/hotel/fr/restaurant-du...     € 63    7,7   \n",
              "8   https://www.booking.com/hotel/fr/manoir.fr.htm...    € 178    7,9   \n",
              "9   https://www.booking.com/hotel/fr/ethic-etape-c...     € 60    7,1   \n",
              "10  https://www.booking.com/hotel/fr/b-amp-b-colma...     € 79    7,2   \n",
              "11  https://www.booking.com/hotel/fr/fast-colmar-h...     € 88    7,1   \n",
              "12  https://www.booking.com/hotel/fr/du-ladhof.fr....     € 74    6,6   \n",
              "13  https://www.booking.com/hotel/fr/ha-tel-du-lad...     € 75    5,8   \n",
              "14  https://www.booking.com/hotel/fr/parc-amp-spa-...    € 107    5,6   \n",
              "15  https://www.booking.com/hotel/fr/la-belle-char...     € 95    8,7   \n",
              "16  https://www.booking.com/hotel/fr/domaine-de-ba...    € 103    8,8   \n",
              "17  https://www.booking.com/hotel/fr/ha-tel-restau...    € 173    8,6   \n",
              "18  https://www.booking.com/hotel/fr/relais-du-kle...     € 55    8,4   \n",
              "19  https://www.booking.com/hotel/fr/clos-des-deli...    € 491    7,9   \n",
              "\n",
              "    Temperature  Temperature_max  Temperature_min  Humidity  \n",
              "0        17.835           18.565            11.29      52.0  \n",
              "1        17.835           18.565            11.29      52.0  \n",
              "2        17.835           18.565            11.29      52.0  \n",
              "3        17.835           18.565            11.29      52.0  \n",
              "4        17.835           18.565            11.29      52.0  \n",
              "5        17.835           18.565            11.29      52.0  \n",
              "6        17.835           18.565            11.29      52.0  \n",
              "7        17.835           18.565            11.29      52.0  \n",
              "8        17.835           18.565            11.29      52.0  \n",
              "9        17.835           18.565            11.29      52.0  \n",
              "10       17.835           18.565            11.29      52.0  \n",
              "11       17.835           18.565            11.29      52.0  \n",
              "12       17.835           18.565            11.29      52.0  \n",
              "13       17.835           18.565            11.29      52.0  \n",
              "14       17.835           18.565            11.29      52.0  \n",
              "15       17.835           18.565            11.29      52.0  \n",
              "16       17.835           18.565            11.29      52.0  \n",
              "17       17.835           18.565            11.29      52.0  \n",
              "18       17.835           18.565            11.29      52.0  \n",
              "19       17.835           18.565            11.29      52.0  "
            ],
            "text/html": [
              "\n",
              "  <div id=\"df-72437eb4-4498-45dc-b8f1-8cc76be09ac4\">\n",
              "    <div class=\"colab-df-container\">\n",
              "      <div>\n",
              "<style scoped>\n",
              "    .dataframe tbody tr th:only-of-type {\n",
              "        vertical-align: middle;\n",
              "    }\n",
              "\n",
              "    .dataframe tbody tr th {\n",
              "        vertical-align: top;\n",
              "    }\n",
              "\n",
              "    .dataframe thead th {\n",
              "        text-align: right;\n",
              "    }\n",
              "</style>\n",
              "<table border=\"1\" class=\"dataframe\">\n",
              "  <thead>\n",
              "    <tr style=\"text-align: right;\">\n",
              "      <th></th>\n",
              "      <th>name</th>\n",
              "      <th>hotel</th>\n",
              "      <th>url</th>\n",
              "      <th>price</th>\n",
              "      <th>rating</th>\n",
              "      <th>Temperature</th>\n",
              "      <th>Temperature_max</th>\n",
              "      <th>Temperature_min</th>\n",
              "      <th>Humidity</th>\n",
              "    </tr>\n",
              "  </thead>\n",
              "  <tbody>\n",
              "    <tr>\n",
              "      <th>0</th>\n",
              "      <td>Château du Haut-Kœnigsbourg</td>\n",
              "      <td>Hôtel du Haut Koenigsbourg - calme et nature</td>\n",
              "      <td>https://www.booking.com/hotel/fr/le-haut-koeni...</td>\n",
              "      <td>€ 125</td>\n",
              "      <td>9,0</td>\n",
              "      <td>17.835</td>\n",
              "      <td>18.565</td>\n",
              "      <td>11.29</td>\n",
              "      <td>52.0</td>\n",
              "    </tr>\n",
              "    <tr>\n",
              "      <th>1</th>\n",
              "      <td>Château du Haut-Kœnigsbourg</td>\n",
              "      <td>Hôtel Barrière Ribeauvillé</td>\n",
              "      <td>https://www.booking.com/hotel/fr/resort-barrie...</td>\n",
              "      <td>€ 429</td>\n",
              "      <td>8,5</td>\n",
              "      <td>17.835</td>\n",
              "      <td>18.565</td>\n",
              "      <td>11.29</td>\n",
              "      <td>52.0</td>\n",
              "    </tr>\n",
              "    <tr>\n",
              "      <th>2</th>\n",
              "      <td>Château du Haut-Kœnigsbourg</td>\n",
              "      <td>Caveau de l'ami Fritz</td>\n",
              "      <td>https://www.booking.com/hotel/fr/caveau-de-l-a...</td>\n",
              "      <td>€ 248</td>\n",
              "      <td>8,0</td>\n",
              "      <td>17.835</td>\n",
              "      <td>18.565</td>\n",
              "      <td>11.29</td>\n",
              "      <td>52.0</td>\n",
              "    </tr>\n",
              "    <tr>\n",
              "      <th>3</th>\n",
              "      <td>Château du Haut-Kœnigsbourg</td>\n",
              "      <td>Hôtel Restaurant Le Verger des Châteaux, The O...</td>\n",
              "      <td>https://www.booking.com/hotel/fr/le-verger-des...</td>\n",
              "      <td>€ 138</td>\n",
              "      <td>7,9</td>\n",
              "      <td>17.835</td>\n",
              "      <td>18.565</td>\n",
              "      <td>11.29</td>\n",
              "      <td>52.0</td>\n",
              "    </tr>\n",
              "    <tr>\n",
              "      <th>4</th>\n",
              "      <td>Château du Haut-Kœnigsbourg</td>\n",
              "      <td>Hostellerie La Cheneaudière &amp; Spa</td>\n",
              "      <td>https://www.booking.com/hotel/fr/hostellerie-l...</td>\n",
              "      <td>€ 1 128</td>\n",
              "      <td>9,2</td>\n",
              "      <td>17.835</td>\n",
              "      <td>18.565</td>\n",
              "      <td>11.29</td>\n",
              "      <td>52.0</td>\n",
              "    </tr>\n",
              "    <tr>\n",
              "      <th>5</th>\n",
              "      <td>Château du Haut-Kœnigsbourg</td>\n",
              "      <td>Hotel Marchal</td>\n",
              "      <td>https://www.booking.com/hotel/fr/marchal.fr.ht...</td>\n",
              "      <td>€ 70</td>\n",
              "      <td>8,0</td>\n",
              "      <td>17.835</td>\n",
              "      <td>18.565</td>\n",
              "      <td>11.29</td>\n",
              "      <td>52.0</td>\n",
              "    </tr>\n",
              "    <tr>\n",
              "      <th>6</th>\n",
              "      <td>Château du Haut-Kœnigsbourg</td>\n",
              "      <td>Logis Hôtel Restaurant La Tête Des Faux</td>\n",
              "      <td>https://www.booking.com/hotel/fr/restaurant-la...</td>\n",
              "      <td>€ 95</td>\n",
              "      <td>8,2</td>\n",
              "      <td>17.835</td>\n",
              "      <td>18.565</td>\n",
              "      <td>11.29</td>\n",
              "      <td>52.0</td>\n",
              "    </tr>\n",
              "    <tr>\n",
              "      <th>7</th>\n",
              "      <td>Château du Haut-Kœnigsbourg</td>\n",
              "      <td>Hotel Restaurant Du Kalblin</td>\n",
              "      <td>https://www.booking.com/hotel/fr/restaurant-du...</td>\n",
              "      <td>€ 63</td>\n",
              "      <td>7,7</td>\n",
              "      <td>17.835</td>\n",
              "      <td>18.565</td>\n",
              "      <td>11.29</td>\n",
              "      <td>52.0</td>\n",
              "    </tr>\n",
              "    <tr>\n",
              "      <th>8</th>\n",
              "      <td>Château du Haut-Kœnigsbourg</td>\n",
              "      <td>Hôtel Le Manoir</td>\n",
              "      <td>https://www.booking.com/hotel/fr/manoir.fr.htm...</td>\n",
              "      <td>€ 178</td>\n",
              "      <td>7,9</td>\n",
              "      <td>17.835</td>\n",
              "      <td>18.565</td>\n",
              "      <td>11.29</td>\n",
              "      <td>52.0</td>\n",
              "    </tr>\n",
              "    <tr>\n",
              "      <th>9</th>\n",
              "      <td>Château du Haut-Kœnigsbourg</td>\n",
              "      <td>Centre International de Sejour - Le Mittel</td>\n",
              "      <td>https://www.booking.com/hotel/fr/ethic-etape-c...</td>\n",
              "      <td>€ 60</td>\n",
              "      <td>7,1</td>\n",
              "      <td>17.835</td>\n",
              "      <td>18.565</td>\n",
              "      <td>11.29</td>\n",
              "      <td>52.0</td>\n",
              "    </tr>\n",
              "    <tr>\n",
              "      <th>10</th>\n",
              "      <td>Château du Haut-Kœnigsbourg</td>\n",
              "      <td>B&amp;B HOTEL Colmar Vignobles Ouest</td>\n",
              "      <td>https://www.booking.com/hotel/fr/b-amp-b-colma...</td>\n",
              "      <td>€ 79</td>\n",
              "      <td>7,2</td>\n",
              "      <td>17.835</td>\n",
              "      <td>18.565</td>\n",
              "      <td>11.29</td>\n",
              "      <td>52.0</td>\n",
              "    </tr>\n",
              "    <tr>\n",
              "      <th>11</th>\n",
              "      <td>Château du Haut-Kœnigsbourg</td>\n",
              "      <td>Fast Hotel Colmar Houssen</td>\n",
              "      <td>https://www.booking.com/hotel/fr/fast-colmar-h...</td>\n",
              "      <td>€ 88</td>\n",
              "      <td>7,1</td>\n",
              "      <td>17.835</td>\n",
              "      <td>18.565</td>\n",
              "      <td>11.29</td>\n",
              "      <td>52.0</td>\n",
              "    </tr>\n",
              "    <tr>\n",
              "      <th>12</th>\n",
              "      <td>Château du Haut-Kœnigsbourg</td>\n",
              "      <td>Contact Hotel Du Ladhof</td>\n",
              "      <td>https://www.booking.com/hotel/fr/du-ladhof.fr....</td>\n",
              "      <td>€ 74</td>\n",
              "      <td>6,6</td>\n",
              "      <td>17.835</td>\n",
              "      <td>18.565</td>\n",
              "      <td>11.29</td>\n",
              "      <td>52.0</td>\n",
              "    </tr>\n",
              "    <tr>\n",
              "      <th>13</th>\n",
              "      <td>Château du Haut-Kœnigsbourg</td>\n",
              "      <td>Hôtel du Ladhof</td>\n",
              "      <td>https://www.booking.com/hotel/fr/ha-tel-du-lad...</td>\n",
              "      <td>€ 75</td>\n",
              "      <td>5,8</td>\n",
              "      <td>17.835</td>\n",
              "      <td>18.565</td>\n",
              "      <td>11.29</td>\n",
              "      <td>52.0</td>\n",
              "    </tr>\n",
              "    <tr>\n",
              "      <th>14</th>\n",
              "      <td>Château du Haut-Kœnigsbourg</td>\n",
              "      <td>Hôtel parc &amp; spa Les cigognes</td>\n",
              "      <td>https://www.booking.com/hotel/fr/parc-amp-spa-...</td>\n",
              "      <td>€ 107</td>\n",
              "      <td>5,6</td>\n",
              "      <td>17.835</td>\n",
              "      <td>18.565</td>\n",
              "      <td>11.29</td>\n",
              "      <td>52.0</td>\n",
              "    </tr>\n",
              "    <tr>\n",
              "      <th>15</th>\n",
              "      <td>Château du Haut-Kœnigsbourg</td>\n",
              "      <td>La Belle Charbonnière</td>\n",
              "      <td>https://www.booking.com/hotel/fr/la-belle-char...</td>\n",
              "      <td>€ 95</td>\n",
              "      <td>8,7</td>\n",
              "      <td>17.835</td>\n",
              "      <td>18.565</td>\n",
              "      <td>11.29</td>\n",
              "      <td>52.0</td>\n",
              "    </tr>\n",
              "    <tr>\n",
              "      <th>16</th>\n",
              "      <td>Château du Haut-Kœnigsbourg</td>\n",
              "      <td>Hôtel Restaurant Domaine De Basil</td>\n",
              "      <td>https://www.booking.com/hotel/fr/domaine-de-ba...</td>\n",
              "      <td>€ 103</td>\n",
              "      <td>8,8</td>\n",
              "      <td>17.835</td>\n",
              "      <td>18.565</td>\n",
              "      <td>11.29</td>\n",
              "      <td>52.0</td>\n",
              "    </tr>\n",
              "    <tr>\n",
              "      <th>17</th>\n",
              "      <td>Château du Haut-Kœnigsbourg</td>\n",
              "      <td>Au Soleil, Hôtel Restaurant &amp; Spa</td>\n",
              "      <td>https://www.booking.com/hotel/fr/ha-tel-restau...</td>\n",
              "      <td>€ 173</td>\n",
              "      <td>8,6</td>\n",
              "      <td>17.835</td>\n",
              "      <td>18.565</td>\n",
              "      <td>11.29</td>\n",
              "      <td>52.0</td>\n",
              "    </tr>\n",
              "    <tr>\n",
              "      <th>18</th>\n",
              "      <td>Château du Haut-Kœnigsbourg</td>\n",
              "      <td>Relais du Klevener</td>\n",
              "      <td>https://www.booking.com/hotel/fr/relais-du-kle...</td>\n",
              "      <td>€ 55</td>\n",
              "      <td>8,4</td>\n",
              "      <td>17.835</td>\n",
              "      <td>18.565</td>\n",
              "      <td>11.29</td>\n",
              "      <td>52.0</td>\n",
              "    </tr>\n",
              "    <tr>\n",
              "      <th>19</th>\n",
              "      <td>Château du Haut-Kœnigsbourg</td>\n",
              "      <td>6717 Nature Hôtel &amp; Spa Le Clos des Délices</td>\n",
              "      <td>https://www.booking.com/hotel/fr/clos-des-deli...</td>\n",
              "      <td>€ 491</td>\n",
              "      <td>7,9</td>\n",
              "      <td>17.835</td>\n",
              "      <td>18.565</td>\n",
              "      <td>11.29</td>\n",
              "      <td>52.0</td>\n",
              "    </tr>\n",
              "  </tbody>\n",
              "</table>\n",
              "</div>\n",
              "      <button class=\"colab-df-convert\" onclick=\"convertToInteractive('df-72437eb4-4498-45dc-b8f1-8cc76be09ac4')\"\n",
              "              title=\"Convert this dataframe to an interactive table.\"\n",
              "              style=\"display:none;\">\n",
              "        \n",
              "  <svg xmlns=\"http://www.w3.org/2000/svg\" height=\"24px\"viewBox=\"0 0 24 24\"\n",
              "       width=\"24px\">\n",
              "    <path d=\"M0 0h24v24H0V0z\" fill=\"none\"/>\n",
              "    <path d=\"M18.56 5.44l.94 2.06.94-2.06 2.06-.94-2.06-.94-.94-2.06-.94 2.06-2.06.94zm-11 1L8.5 8.5l.94-2.06 2.06-.94-2.06-.94L8.5 2.5l-.94 2.06-2.06.94zm10 10l.94 2.06.94-2.06 2.06-.94-2.06-.94-.94-2.06-.94 2.06-2.06.94z\"/><path d=\"M17.41 7.96l-1.37-1.37c-.4-.4-.92-.59-1.43-.59-.52 0-1.04.2-1.43.59L10.3 9.45l-7.72 7.72c-.78.78-.78 2.05 0 2.83L4 21.41c.39.39.9.59 1.41.59.51 0 1.02-.2 1.41-.59l7.78-7.78 2.81-2.81c.8-.78.8-2.07 0-2.86zM5.41 20L4 18.59l7.72-7.72 1.47 1.35L5.41 20z\"/>\n",
              "  </svg>\n",
              "      </button>\n",
              "      \n",
              "  <style>\n",
              "    .colab-df-container {\n",
              "      display:flex;\n",
              "      flex-wrap:wrap;\n",
              "      gap: 12px;\n",
              "    }\n",
              "\n",
              "    .colab-df-convert {\n",
              "      background-color: #E8F0FE;\n",
              "      border: none;\n",
              "      border-radius: 50%;\n",
              "      cursor: pointer;\n",
              "      display: none;\n",
              "      fill: #1967D2;\n",
              "      height: 32px;\n",
              "      padding: 0 0 0 0;\n",
              "      width: 32px;\n",
              "    }\n",
              "\n",
              "    .colab-df-convert:hover {\n",
              "      background-color: #E2EBFA;\n",
              "      box-shadow: 0px 1px 2px rgba(60, 64, 67, 0.3), 0px 1px 3px 1px rgba(60, 64, 67, 0.15);\n",
              "      fill: #174EA6;\n",
              "    }\n",
              "\n",
              "    [theme=dark] .colab-df-convert {\n",
              "      background-color: #3B4455;\n",
              "      fill: #D2E3FC;\n",
              "    }\n",
              "\n",
              "    [theme=dark] .colab-df-convert:hover {\n",
              "      background-color: #434B5C;\n",
              "      box-shadow: 0px 1px 3px 1px rgba(0, 0, 0, 0.15);\n",
              "      filter: drop-shadow(0px 1px 2px rgba(0, 0, 0, 0.3));\n",
              "      fill: #FFFFFF;\n",
              "    }\n",
              "  </style>\n",
              "\n",
              "      <script>\n",
              "        const buttonEl =\n",
              "          document.querySelector('#df-72437eb4-4498-45dc-b8f1-8cc76be09ac4 button.colab-df-convert');\n",
              "        buttonEl.style.display =\n",
              "          google.colab.kernel.accessAllowed ? 'block' : 'none';\n",
              "\n",
              "        async function convertToInteractive(key) {\n",
              "          const element = document.querySelector('#df-72437eb4-4498-45dc-b8f1-8cc76be09ac4');\n",
              "          const dataTable =\n",
              "            await google.colab.kernel.invokeFunction('convertToInteractive',\n",
              "                                                     [key], {});\n",
              "          if (!dataTable) return;\n",
              "\n",
              "          const docLinkHtml = 'Like what you see? Visit the ' +\n",
              "            '<a target=\"_blank\" href=https://colab.research.google.com/notebooks/data_table.ipynb>data table notebook</a>'\n",
              "            + ' to learn more about interactive tables.';\n",
              "          element.innerHTML = '';\n",
              "          dataTable['output_type'] = 'display_data';\n",
              "          await google.colab.output.renderOutput(dataTable, element);\n",
              "          const docLink = document.createElement('div');\n",
              "          docLink.innerHTML = docLinkHtml;\n",
              "          element.appendChild(docLink);\n",
              "        }\n",
              "      </script>\n",
              "    </div>\n",
              "  </div>\n",
              "  "
            ]
          },
          "metadata": {},
          "execution_count": 24
        }
      ]
    },
    {
      "cell_type": "code",
      "source": [
        "best2={\"name\":df.city[1],\"hotel\":df.hotel[1][0:20],\"url\":df.url[1][0:20],\"price\":df.price[1][0:20],\"rating\":df.rating[1][0:20],\n",
        "       \"Temperature\":df.Temperature[1],\"Temperature_max\":df.Temperature_max[1],\"Temperature_min\":df.Temperature_min[1],\"Humidity\":df.Humidity[1]}\n",
        "df_2=pd.DataFrame(best2)"
      ],
      "metadata": {
        "id": "L2dcvxWBkdXR"
      },
      "execution_count": null,
      "outputs": []
    },
    {
      "cell_type": "code",
      "source": [
        "best3={\"name\":df.city[2],\"hotel\":df.hotel[2][0:20],\"url\":df.url[2][0:20],\"price\":df.price[2][0:20],\"rating\":df.rating[2][0:20],\n",
        "       \"Temperature\":df.Temperature[2],\"Temperature_max\":df.Temperature_max[2],\"Temperature_min\":df.Temperature_min[2],\"Humidity\":df.Humidity[2]}\n",
        "df_3=pd.DataFrame(best3)"
      ],
      "metadata": {
        "id": "tERktaD5kdTO"
      },
      "execution_count": null,
      "outputs": []
    },
    {
      "cell_type": "code",
      "source": [
        "best4={\"name\":df.city[3],\"hotel\":df.hotel[3][0:20],\"url\":df.url[3][0:20],\"price\":df.price[3][0:20],\"rating\":df.rating[3][0:20],\n",
        "       \"Temperature\":df.Temperature[3],\"Temperature_max\":df.Temperature_max[3],\"Temperature_min\":df.Temperature_min[3],\"Humidity\":df.Humidity[3]}\n",
        "df_4=pd.DataFrame(best4)"
      ],
      "metadata": {
        "id": "g7U9CuojkdPD"
      },
      "execution_count": null,
      "outputs": []
    },
    {
      "cell_type": "code",
      "source": [
        "best5={\"name\":df.city[4],\"hotel\":df.hotel[4][0:20],\"url\":df.url[4][0:20],\"price\":df.price[4][0:20],\"rating\":df.rating[4][0:20],\n",
        "       \"Temperature\":df.Temperature[4],\"Temperature_max\":df.Temperature_max[4],\"Temperature_min\":df.Temperature_min[4],\"Humidity\":df.Humidity[4]}\n",
        "df_5=pd.DataFrame(best5)"
      ],
      "metadata": {
        "id": "T5nZyC-Rkc9k"
      },
      "execution_count": null,
      "outputs": []
    },
    {
      "cell_type": "code",
      "source": [
        "df_topp5=df_1.append((df_2,df_3,df_4,df_5), ignore_index = True)\n"
      ],
      "metadata": {
        "id": "WR57m_r8lw3q"
      },
      "execution_count": null,
      "outputs": []
    },
    {
      "cell_type": "code",
      "source": [
        "df_topp5"
      ],
      "metadata": {
        "colab": {
          "base_uri": "https://localhost:8080/",
          "height": 624
        },
        "id": "fHJHW_0-l6tO",
        "outputId": "42ff3a65-ab08-40ed-fcf1-4ce6792704fd"
      },
      "execution_count": null,
      "outputs": [
        {
          "output_type": "execute_result",
          "data": {
            "text/plain": [
              "                           name  \\\n",
              "0   Château du Haut-Kœnigsbourg   \n",
              "1   Château du Haut-Kœnigsbourg   \n",
              "2   Château du Haut-Kœnigsbourg   \n",
              "3   Château du Haut-Kœnigsbourg   \n",
              "4   Château du Haut-Kœnigsbourg   \n",
              "..                          ...   \n",
              "95                   Strasbourg   \n",
              "96                   Strasbourg   \n",
              "97                   Strasbourg   \n",
              "98                   Strasbourg   \n",
              "99                   Strasbourg   \n",
              "\n",
              "                                                hotel  \\\n",
              "0        Hôtel du Haut Koenigsbourg - calme et nature   \n",
              "1                          Hôtel Barrière Ribeauvillé   \n",
              "2                               Caveau de l'ami Fritz   \n",
              "3   Hôtel Restaurant Le Verger des Châteaux, The O...   \n",
              "4                   Hostellerie La Cheneaudière & Spa   \n",
              "..                                                ...   \n",
              "95                       ibis Strasbourg Sud La Vigie   \n",
              "96             B&B HOTEL Strasbourg Nord Schiltigheim   \n",
              "97                                  ATOLON PARK HOTEL   \n",
              "98                            Hôtel Restaurant Oberlé   \n",
              "99                  Best Western Plus Hôtel Le Rhénan   \n",
              "\n",
              "                                                  url    price rating  \\\n",
              "0   https://www.booking.com/hotel/fr/le-haut-koeni...    € 125    9,0   \n",
              "1   https://www.booking.com/hotel/fr/resort-barrie...    € 429    8,5   \n",
              "2   https://www.booking.com/hotel/fr/caveau-de-l-a...    € 248    8,0   \n",
              "3   https://www.booking.com/hotel/fr/le-verger-des...    € 138    7,9   \n",
              "4   https://www.booking.com/hotel/fr/hostellerie-l...  € 1 128    9,2   \n",
              "..                                                ...      ...    ...   \n",
              "95  https://www.booking.com/hotel/fr/ha-tel-ibis-s...     € 84    7,3   \n",
              "96  https://www.booking.com/hotel/fr/ibis-budget-s...     € 89    6,2   \n",
              "97  https://www.booking.com/hotel/fr/atolon-park.f...     € 79    8,7   \n",
              "98  https://www.booking.com/hotel/fr/ha-tel-restau...     € 90    8,8   \n",
              "99  https://www.booking.com/hotel/fr/best-western-...    € 109    8,6   \n",
              "\n",
              "    Temperature  Temperature_max  Temperature_min  Humidity  \n",
              "0        17.835           18.565            11.29      52.0  \n",
              "1        17.835           18.565            11.29      52.0  \n",
              "2        17.835           18.565            11.29      52.0  \n",
              "3        17.835           18.565            11.29      52.0  \n",
              "4        17.835           18.565            11.29      52.0  \n",
              "..          ...              ...              ...       ...  \n",
              "95       19.160           19.625            12.97      58.0  \n",
              "96       19.160           19.625            12.97      58.0  \n",
              "97       19.160           19.625            12.97      58.0  \n",
              "98       19.160           19.625            12.97      58.0  \n",
              "99       19.160           19.625            12.97      58.0  \n",
              "\n",
              "[100 rows x 9 columns]"
            ],
            "text/html": [
              "\n",
              "  <div id=\"df-400de578-f682-4a4b-8905-4fd7bb36bc0e\">\n",
              "    <div class=\"colab-df-container\">\n",
              "      <div>\n",
              "<style scoped>\n",
              "    .dataframe tbody tr th:only-of-type {\n",
              "        vertical-align: middle;\n",
              "    }\n",
              "\n",
              "    .dataframe tbody tr th {\n",
              "        vertical-align: top;\n",
              "    }\n",
              "\n",
              "    .dataframe thead th {\n",
              "        text-align: right;\n",
              "    }\n",
              "</style>\n",
              "<table border=\"1\" class=\"dataframe\">\n",
              "  <thead>\n",
              "    <tr style=\"text-align: right;\">\n",
              "      <th></th>\n",
              "      <th>name</th>\n",
              "      <th>hotel</th>\n",
              "      <th>url</th>\n",
              "      <th>price</th>\n",
              "      <th>rating</th>\n",
              "      <th>Temperature</th>\n",
              "      <th>Temperature_max</th>\n",
              "      <th>Temperature_min</th>\n",
              "      <th>Humidity</th>\n",
              "    </tr>\n",
              "  </thead>\n",
              "  <tbody>\n",
              "    <tr>\n",
              "      <th>0</th>\n",
              "      <td>Château du Haut-Kœnigsbourg</td>\n",
              "      <td>Hôtel du Haut Koenigsbourg - calme et nature</td>\n",
              "      <td>https://www.booking.com/hotel/fr/le-haut-koeni...</td>\n",
              "      <td>€ 125</td>\n",
              "      <td>9,0</td>\n",
              "      <td>17.835</td>\n",
              "      <td>18.565</td>\n",
              "      <td>11.29</td>\n",
              "      <td>52.0</td>\n",
              "    </tr>\n",
              "    <tr>\n",
              "      <th>1</th>\n",
              "      <td>Château du Haut-Kœnigsbourg</td>\n",
              "      <td>Hôtel Barrière Ribeauvillé</td>\n",
              "      <td>https://www.booking.com/hotel/fr/resort-barrie...</td>\n",
              "      <td>€ 429</td>\n",
              "      <td>8,5</td>\n",
              "      <td>17.835</td>\n",
              "      <td>18.565</td>\n",
              "      <td>11.29</td>\n",
              "      <td>52.0</td>\n",
              "    </tr>\n",
              "    <tr>\n",
              "      <th>2</th>\n",
              "      <td>Château du Haut-Kœnigsbourg</td>\n",
              "      <td>Caveau de l'ami Fritz</td>\n",
              "      <td>https://www.booking.com/hotel/fr/caveau-de-l-a...</td>\n",
              "      <td>€ 248</td>\n",
              "      <td>8,0</td>\n",
              "      <td>17.835</td>\n",
              "      <td>18.565</td>\n",
              "      <td>11.29</td>\n",
              "      <td>52.0</td>\n",
              "    </tr>\n",
              "    <tr>\n",
              "      <th>3</th>\n",
              "      <td>Château du Haut-Kœnigsbourg</td>\n",
              "      <td>Hôtel Restaurant Le Verger des Châteaux, The O...</td>\n",
              "      <td>https://www.booking.com/hotel/fr/le-verger-des...</td>\n",
              "      <td>€ 138</td>\n",
              "      <td>7,9</td>\n",
              "      <td>17.835</td>\n",
              "      <td>18.565</td>\n",
              "      <td>11.29</td>\n",
              "      <td>52.0</td>\n",
              "    </tr>\n",
              "    <tr>\n",
              "      <th>4</th>\n",
              "      <td>Château du Haut-Kœnigsbourg</td>\n",
              "      <td>Hostellerie La Cheneaudière &amp; Spa</td>\n",
              "      <td>https://www.booking.com/hotel/fr/hostellerie-l...</td>\n",
              "      <td>€ 1 128</td>\n",
              "      <td>9,2</td>\n",
              "      <td>17.835</td>\n",
              "      <td>18.565</td>\n",
              "      <td>11.29</td>\n",
              "      <td>52.0</td>\n",
              "    </tr>\n",
              "    <tr>\n",
              "      <th>...</th>\n",
              "      <td>...</td>\n",
              "      <td>...</td>\n",
              "      <td>...</td>\n",
              "      <td>...</td>\n",
              "      <td>...</td>\n",
              "      <td>...</td>\n",
              "      <td>...</td>\n",
              "      <td>...</td>\n",
              "      <td>...</td>\n",
              "    </tr>\n",
              "    <tr>\n",
              "      <th>95</th>\n",
              "      <td>Strasbourg</td>\n",
              "      <td>ibis Strasbourg Sud La Vigie</td>\n",
              "      <td>https://www.booking.com/hotel/fr/ha-tel-ibis-s...</td>\n",
              "      <td>€ 84</td>\n",
              "      <td>7,3</td>\n",
              "      <td>19.160</td>\n",
              "      <td>19.625</td>\n",
              "      <td>12.97</td>\n",
              "      <td>58.0</td>\n",
              "    </tr>\n",
              "    <tr>\n",
              "      <th>96</th>\n",
              "      <td>Strasbourg</td>\n",
              "      <td>B&amp;B HOTEL Strasbourg Nord Schiltigheim</td>\n",
              "      <td>https://www.booking.com/hotel/fr/ibis-budget-s...</td>\n",
              "      <td>€ 89</td>\n",
              "      <td>6,2</td>\n",
              "      <td>19.160</td>\n",
              "      <td>19.625</td>\n",
              "      <td>12.97</td>\n",
              "      <td>58.0</td>\n",
              "    </tr>\n",
              "    <tr>\n",
              "      <th>97</th>\n",
              "      <td>Strasbourg</td>\n",
              "      <td>ATOLON PARK HOTEL</td>\n",
              "      <td>https://www.booking.com/hotel/fr/atolon-park.f...</td>\n",
              "      <td>€ 79</td>\n",
              "      <td>8,7</td>\n",
              "      <td>19.160</td>\n",
              "      <td>19.625</td>\n",
              "      <td>12.97</td>\n",
              "      <td>58.0</td>\n",
              "    </tr>\n",
              "    <tr>\n",
              "      <th>98</th>\n",
              "      <td>Strasbourg</td>\n",
              "      <td>Hôtel Restaurant Oberlé</td>\n",
              "      <td>https://www.booking.com/hotel/fr/ha-tel-restau...</td>\n",
              "      <td>€ 90</td>\n",
              "      <td>8,8</td>\n",
              "      <td>19.160</td>\n",
              "      <td>19.625</td>\n",
              "      <td>12.97</td>\n",
              "      <td>58.0</td>\n",
              "    </tr>\n",
              "    <tr>\n",
              "      <th>99</th>\n",
              "      <td>Strasbourg</td>\n",
              "      <td>Best Western Plus Hôtel Le Rhénan</td>\n",
              "      <td>https://www.booking.com/hotel/fr/best-western-...</td>\n",
              "      <td>€ 109</td>\n",
              "      <td>8,6</td>\n",
              "      <td>19.160</td>\n",
              "      <td>19.625</td>\n",
              "      <td>12.97</td>\n",
              "      <td>58.0</td>\n",
              "    </tr>\n",
              "  </tbody>\n",
              "</table>\n",
              "<p>100 rows × 9 columns</p>\n",
              "</div>\n",
              "      <button class=\"colab-df-convert\" onclick=\"convertToInteractive('df-400de578-f682-4a4b-8905-4fd7bb36bc0e')\"\n",
              "              title=\"Convert this dataframe to an interactive table.\"\n",
              "              style=\"display:none;\">\n",
              "        \n",
              "  <svg xmlns=\"http://www.w3.org/2000/svg\" height=\"24px\"viewBox=\"0 0 24 24\"\n",
              "       width=\"24px\">\n",
              "    <path d=\"M0 0h24v24H0V0z\" fill=\"none\"/>\n",
              "    <path d=\"M18.56 5.44l.94 2.06.94-2.06 2.06-.94-2.06-.94-.94-2.06-.94 2.06-2.06.94zm-11 1L8.5 8.5l.94-2.06 2.06-.94-2.06-.94L8.5 2.5l-.94 2.06-2.06.94zm10 10l.94 2.06.94-2.06 2.06-.94-2.06-.94-.94-2.06-.94 2.06-2.06.94z\"/><path d=\"M17.41 7.96l-1.37-1.37c-.4-.4-.92-.59-1.43-.59-.52 0-1.04.2-1.43.59L10.3 9.45l-7.72 7.72c-.78.78-.78 2.05 0 2.83L4 21.41c.39.39.9.59 1.41.59.51 0 1.02-.2 1.41-.59l7.78-7.78 2.81-2.81c.8-.78.8-2.07 0-2.86zM5.41 20L4 18.59l7.72-7.72 1.47 1.35L5.41 20z\"/>\n",
              "  </svg>\n",
              "      </button>\n",
              "      \n",
              "  <style>\n",
              "    .colab-df-container {\n",
              "      display:flex;\n",
              "      flex-wrap:wrap;\n",
              "      gap: 12px;\n",
              "    }\n",
              "\n",
              "    .colab-df-convert {\n",
              "      background-color: #E8F0FE;\n",
              "      border: none;\n",
              "      border-radius: 50%;\n",
              "      cursor: pointer;\n",
              "      display: none;\n",
              "      fill: #1967D2;\n",
              "      height: 32px;\n",
              "      padding: 0 0 0 0;\n",
              "      width: 32px;\n",
              "    }\n",
              "\n",
              "    .colab-df-convert:hover {\n",
              "      background-color: #E2EBFA;\n",
              "      box-shadow: 0px 1px 2px rgba(60, 64, 67, 0.3), 0px 1px 3px 1px rgba(60, 64, 67, 0.15);\n",
              "      fill: #174EA6;\n",
              "    }\n",
              "\n",
              "    [theme=dark] .colab-df-convert {\n",
              "      background-color: #3B4455;\n",
              "      fill: #D2E3FC;\n",
              "    }\n",
              "\n",
              "    [theme=dark] .colab-df-convert:hover {\n",
              "      background-color: #434B5C;\n",
              "      box-shadow: 0px 1px 3px 1px rgba(0, 0, 0, 0.15);\n",
              "      filter: drop-shadow(0px 1px 2px rgba(0, 0, 0, 0.3));\n",
              "      fill: #FFFFFF;\n",
              "    }\n",
              "  </style>\n",
              "\n",
              "      <script>\n",
              "        const buttonEl =\n",
              "          document.querySelector('#df-400de578-f682-4a4b-8905-4fd7bb36bc0e button.colab-df-convert');\n",
              "        buttonEl.style.display =\n",
              "          google.colab.kernel.accessAllowed ? 'block' : 'none';\n",
              "\n",
              "        async function convertToInteractive(key) {\n",
              "          const element = document.querySelector('#df-400de578-f682-4a4b-8905-4fd7bb36bc0e');\n",
              "          const dataTable =\n",
              "            await google.colab.kernel.invokeFunction('convertToInteractive',\n",
              "                                                     [key], {});\n",
              "          if (!dataTable) return;\n",
              "\n",
              "          const docLinkHtml = 'Like what you see? Visit the ' +\n",
              "            '<a target=\"_blank\" href=https://colab.research.google.com/notebooks/data_table.ipynb>data table notebook</a>'\n",
              "            + ' to learn more about interactive tables.';\n",
              "          element.innerHTML = '';\n",
              "          dataTable['output_type'] = 'display_data';\n",
              "          await google.colab.output.renderOutput(dataTable, element);\n",
              "          const docLink = document.createElement('div');\n",
              "          docLink.innerHTML = docLinkHtml;\n",
              "          element.appendChild(docLink);\n",
              "        }\n",
              "      </script>\n",
              "    </div>\n",
              "  </div>\n",
              "  "
            ]
          },
          "metadata": {},
          "execution_count": 30
        }
      ]
    },
    {
      "cell_type": "code",
      "execution_count": null,
      "metadata": {
        "id": "3GJfRCc8E0Ui"
      },
      "outputs": [],
      "source": [
        "df_topp5['lon_hotel']=None\n",
        "df_topp5['lat_hotel']=None\n",
        "df_topp5['address_hotel']=None"
      ]
    },
    {
      "cell_type": "code",
      "execution_count": null,
      "metadata": {
        "id": "h9CZNstZSt7d",
        "colab": {
          "base_uri": "https://localhost:8080/"
        },
        "outputId": "e3590042-0f73-4aca-9988-c814cfcd9555"
      },
      "outputs": [
        {
          "output_type": "stream",
          "name": "stderr",
          "text": [
            "DEBUG:urllib3.connectionpool:Starting new HTTPS connection (1): www.booking.com:443\n"
          ]
        },
        {
          "output_type": "stream",
          "name": "stdout",
          "text": [
            "0\n"
          ]
        },
        {
          "output_type": "stream",
          "name": "stderr",
          "text": [
            "DEBUG:urllib3.connectionpool:https://www.booking.com:443 \"GET /hotel/fr/le-haut-koenigsbourg.fr.html?aid=304142&label=gen173bo-1DCAQoggJCI3NlYXJjaF9jaGF0ZWF1IGR1IGhhdXQga29lbmlnc2JvdXJnSA1YA2jnAYgBAZgBDbgBGMgBD9gBA-gBAfgBA4gCAZgCAqgCBLgCwIXbmgbAAgHSAiRkNTExNWQ0My1kNTQ4LTRiYzctYjY5Yy1mMTU2MzY5ODlmNzfYAgTgAgE&ucfs=1&arphpl=1&checkin=2022-10-29&checkout=2022-10-30&group_adults=2&req_adults=2&no_rooms=1&group_children=0&req_children=0&hpos=1&hapos=1&sr_order=review_score_and_price&nflt=ht_id%3D204&srpvid=ce0676a01b9e03b8&srepoch=1666630337&all_sr_blocks=32124602_347512012_2_0_0&highlighted_blocks=32124602_347512012_2_0_0&matching_block_id=32124602_347512012_2_0_0&sr_pri_blocks=32124602_347512012_2_0_0__12500&from_sustainable_property_sr=1&from=searchresults HTTP/1.1\" 301 None\n",
            "DEBUG:urllib3.connectionpool:https://www.booking.com:443 \"GET /hotel/fr/le-haut-koenigsbourg.fr.html HTTP/1.1\" 200 279370\n",
            "/usr/local/lib/python3.7/dist-packages/ipykernel_launcher.py:6: SettingWithCopyWarning: \n",
            "A value is trying to be set on a copy of a slice from a DataFrame\n",
            "\n",
            "See the caveats in the documentation: https://pandas.pydata.org/pandas-docs/stable/user_guide/indexing.html#returning-a-view-versus-a-copy\n",
            "  \n",
            "/usr/local/lib/python3.7/dist-packages/ipykernel_launcher.py:7: SettingWithCopyWarning: \n",
            "A value is trying to be set on a copy of a slice from a DataFrame\n",
            "\n",
            "See the caveats in the documentation: https://pandas.pydata.org/pandas-docs/stable/user_guide/indexing.html#returning-a-view-versus-a-copy\n",
            "  import sys\n",
            "/usr/local/lib/python3.7/dist-packages/ipykernel_launcher.py:8: SettingWithCopyWarning: \n",
            "A value is trying to be set on a copy of a slice from a DataFrame\n",
            "\n",
            "See the caveats in the documentation: https://pandas.pydata.org/pandas-docs/stable/user_guide/indexing.html#returning-a-view-versus-a-copy\n",
            "  \n",
            "DEBUG:urllib3.connectionpool:Starting new HTTPS connection (1): www.booking.com:443\n"
          ]
        },
        {
          "output_type": "stream",
          "name": "stdout",
          "text": [
            "1\n"
          ]
        },
        {
          "output_type": "stream",
          "name": "stderr",
          "text": [
            "DEBUG:urllib3.connectionpool:https://www.booking.com:443 \"GET /hotel/fr/resort-barriere-ribeauville.fr.html?aid=304142&label=gen173bo-1DCAQoggJCI3NlYXJjaF9jaGF0ZWF1IGR1IGhhdXQga29lbmlnc2JvdXJnSA1YA2jnAYgBAZgBDbgBGMgBD9gBA-gBAfgBA4gCAZgCAqgCBLgCwIXbmgbAAgHSAiRkNTExNWQ0My1kNTQ4LTRiYzctYjY5Yy1mMTU2MzY5ODlmNzfYAgTgAgE&ucfs=1&arphpl=1&checkin=2022-10-29&checkout=2022-10-30&group_adults=2&req_adults=2&no_rooms=1&group_children=0&req_children=0&hpos=2&hapos=2&sr_order=review_score_and_price&nflt=ht_id%3D204&srpvid=ce0676a01b9e03b8&srepoch=1666630337&all_sr_blocks=36438009_88549540_0_2_0&highlighted_blocks=36438009_88549540_0_2_0&matching_block_id=36438009_88549540_0_2_0&sr_pri_blocks=36438009_88549540_0_2_0__42907&from=searchresults HTTP/1.1\" 301 None\n",
            "DEBUG:urllib3.connectionpool:https://www.booking.com:443 \"GET /hotel/fr/resort-barriere-ribeauville.fr.html HTTP/1.1\" 200 285339\n",
            "DEBUG:urllib3.connectionpool:Starting new HTTPS connection (1): www.booking.com:443\n"
          ]
        },
        {
          "output_type": "stream",
          "name": "stdout",
          "text": [
            "2\n"
          ]
        },
        {
          "output_type": "stream",
          "name": "stderr",
          "text": [
            "DEBUG:urllib3.connectionpool:https://www.booking.com:443 \"GET /hotel/fr/caveau-de-l-ami.fr.html?aid=304142&label=gen173bo-1DCAQoggJCI3NlYXJjaF9jaGF0ZWF1IGR1IGhhdXQga29lbmlnc2JvdXJnSA1YA2jnAYgBAZgBDbgBGMgBD9gBA-gBAfgBA4gCAZgCAqgCBLgCwIXbmgbAAgHSAiRkNTExNWQ0My1kNTQ4LTRiYzctYjY5Yy1mMTU2MzY5ODlmNzfYAgTgAgE&ucfs=1&arphpl=1&checkin=2022-10-29&checkout=2022-10-30&group_adults=2&req_adults=2&no_rooms=1&group_children=0&req_children=0&hpos=3&hapos=3&sr_order=review_score_and_price&nflt=ht_id%3D204&srpvid=ce0676a01b9e03b8&srepoch=1666630337&all_sr_blocks=35524928_99128119_1_2_0%2C35524926_99128119_1_2_0&highlighted_blocks=35524928_99128119_1_2_0%2C35524926_99128119_1_2_0&matching_block_id=35524928_99128119_1_2_0&sr_pri_blocks=35524928_99128119_1_2_0__9800%2C35524926_99128119_1_2_0__15000&from=searchresults HTTP/1.1\" 301 None\n",
            "DEBUG:urllib3.connectionpool:https://www.booking.com:443 \"GET /hotel/fr/caveau-de-l-ami.fr.html HTTP/1.1\" 200 279382\n",
            "DEBUG:urllib3.connectionpool:Starting new HTTPS connection (1): www.booking.com:443\n"
          ]
        },
        {
          "output_type": "stream",
          "name": "stdout",
          "text": [
            "3\n"
          ]
        },
        {
          "output_type": "stream",
          "name": "stderr",
          "text": [
            "DEBUG:urllib3.connectionpool:https://www.booking.com:443 \"GET /hotel/fr/le-verger-des-chateaux.fr.html?aid=304142&label=gen173bo-1DCAQoggJCI3NlYXJjaF9jaGF0ZWF1IGR1IGhhdXQga29lbmlnc2JvdXJnSA1YA2jnAYgBAZgBDbgBGMgBD9gBA-gBAfgBA4gCAZgCAqgCBLgCwIXbmgbAAgHSAiRkNTExNWQ0My1kNTQ4LTRiYzctYjY5Yy1mMTU2MzY5ODlmNzfYAgTgAgE&ucfs=1&arphpl=1&checkin=2022-10-29&checkout=2022-10-30&group_adults=2&req_adults=2&no_rooms=1&group_children=0&req_children=0&hpos=4&hapos=4&sr_order=review_score_and_price&nflt=ht_id%3D204&srpvid=ce0676a01b9e03b8&srepoch=1666630337&all_sr_blocks=5411504_362793298_0_2_0&highlighted_blocks=5411504_362793298_0_2_0&matching_block_id=5411504_362793298_0_2_0&sr_pri_blocks=5411504_362793298_0_2_0__13775&from_sustainable_property_sr=1&from=searchresults HTTP/1.1\" 301 None\n",
            "DEBUG:urllib3.connectionpool:https://www.booking.com:443 \"GET /hotel/fr/le-verger-des-chateaux.fr.html HTTP/1.1\" 200 277713\n",
            "DEBUG:urllib3.connectionpool:Starting new HTTPS connection (1): www.booking.com:443\n"
          ]
        },
        {
          "output_type": "stream",
          "name": "stdout",
          "text": [
            "4\n"
          ]
        },
        {
          "output_type": "stream",
          "name": "stderr",
          "text": [
            "DEBUG:urllib3.connectionpool:https://www.booking.com:443 \"GET /hotel/fr/hostellerie-la-cheneaudiere.fr.html?aid=304142&label=gen173bo-1DCAQoggJCI3NlYXJjaF9jaGF0ZWF1IGR1IGhhdXQga29lbmlnc2JvdXJnSA1YA2jnAYgBAZgBDbgBGMgBD9gBA-gBAfgBA4gCAZgCAqgCBLgCwIXbmgbAAgHSAiRkNTExNWQ0My1kNTQ4LTRiYzctYjY5Yy1mMTU2MzY5ODlmNzfYAgTgAgE&ucfs=1&arphpl=1&checkin=2022-10-29&checkout=2022-10-30&group_adults=2&req_adults=2&no_rooms=1&group_children=0&req_children=0&hpos=5&hapos=5&sr_order=review_score_and_price&nflt=ht_id%3D204&srpvid=ce0676a01b9e03b8&srepoch=1666630337&all_sr_blocks=5385321_88984627_0_34_0&highlighted_blocks=5385321_88984627_0_34_0&matching_block_id=5385321_88984627_0_34_0&sr_pri_blocks=5385321_88984627_0_34_0__112800&from=searchresults HTTP/1.1\" 301 None\n",
            "DEBUG:urllib3.connectionpool:https://www.booking.com:443 \"GET /hotel/fr/hostellerie-la-cheneaudiere.fr.html HTTP/1.1\" 200 294686\n",
            "DEBUG:urllib3.connectionpool:Starting new HTTPS connection (1): www.booking.com:443\n"
          ]
        },
        {
          "output_type": "stream",
          "name": "stdout",
          "text": [
            "5\n"
          ]
        },
        {
          "output_type": "stream",
          "name": "stderr",
          "text": [
            "DEBUG:urllib3.connectionpool:https://www.booking.com:443 \"GET /hotel/fr/marchal.fr.html?aid=304142&label=gen173bo-1DCAQoggJCI3NlYXJjaF9jaGF0ZWF1IGR1IGhhdXQga29lbmlnc2JvdXJnSA1YA2jnAYgBAZgBDbgBGMgBD9gBA-gBAfgBA4gCAZgCAqgCBLgCwIXbmgbAAgHSAiRkNTExNWQ0My1kNTQ4LTRiYzctYjY5Yy1mMTU2MzY5ODlmNzfYAgTgAgE&ucfs=1&arphpl=1&checkin=2022-10-29&checkout=2022-10-30&group_adults=2&req_adults=2&no_rooms=1&group_children=0&req_children=0&hpos=6&hapos=6&sr_order=review_score_and_price&nflt=ht_id%3D204&srpvid=ce0676a01b9e03b8&srepoch=1666630337&all_sr_blocks=7662306_88554856_0_34_0&highlighted_blocks=7662306_88554856_0_34_0&matching_block_id=7662306_88554856_0_34_0&sr_pri_blocks=7662306_88554856_0_34_0__7000&from=searchresults HTTP/1.1\" 301 None\n",
            "DEBUG:urllib3.connectionpool:https://www.booking.com:443 \"GET /hotel/fr/marchal.fr.html HTTP/1.1\" 200 278457\n",
            "DEBUG:urllib3.connectionpool:Starting new HTTPS connection (1): www.booking.com:443\n"
          ]
        },
        {
          "output_type": "stream",
          "name": "stdout",
          "text": [
            "6\n"
          ]
        },
        {
          "output_type": "stream",
          "name": "stderr",
          "text": [
            "DEBUG:urllib3.connectionpool:https://www.booking.com:443 \"GET /hotel/fr/restaurant-la-tete-des-faux.fr.html?aid=304142&label=gen173bo-1DCAQoggJCI3NlYXJjaF9jaGF0ZWF1IGR1IGhhdXQga29lbmlnc2JvdXJnSA1YA2jnAYgBAZgBDbgBGMgBD9gBA-gBAfgBA4gCAZgCAqgCBLgCwIXbmgbAAgHSAiRkNTExNWQ0My1kNTQ4LTRiYzctYjY5Yy1mMTU2MzY5ODlmNzfYAgTgAgE&ucfs=1&arphpl=1&checkin=2022-10-29&checkout=2022-10-30&group_adults=2&req_adults=2&no_rooms=1&group_children=0&req_children=0&hpos=7&hapos=7&sr_order=review_score_and_price&nflt=ht_id%3D204&srpvid=ce0676a01b9e03b8&srepoch=1666630337&all_sr_blocks=7780114_88919516_2_2_0&highlighted_blocks=7780114_88919516_2_2_0&matching_block_id=7780114_88919516_2_2_0&sr_pri_blocks=7780114_88919516_2_2_0__9500&from=searchresults HTTP/1.1\" 301 None\n",
            "DEBUG:urllib3.connectionpool:https://www.booking.com:443 \"GET /hotel/fr/restaurant-la-tete-des-faux.fr.html HTTP/1.1\" 200 278188\n",
            "DEBUG:urllib3.connectionpool:Starting new HTTPS connection (1): www.booking.com:443\n"
          ]
        },
        {
          "output_type": "stream",
          "name": "stdout",
          "text": [
            "7\n"
          ]
        },
        {
          "output_type": "stream",
          "name": "stderr",
          "text": [
            "DEBUG:urllib3.connectionpool:https://www.booking.com:443 \"GET /hotel/fr/restaurant-du-kalblin.fr.html?aid=304142&label=gen173bo-1DCAQoggJCI3NlYXJjaF9jaGF0ZWF1IGR1IGhhdXQga29lbmlnc2JvdXJnSA1YA2jnAYgBAZgBDbgBGMgBD9gBA-gBAfgBA4gCAZgCAqgCBLgCwIXbmgbAAgHSAiRkNTExNWQ0My1kNTQ4LTRiYzctYjY5Yy1mMTU2MzY5ODlmNzfYAgTgAgE&ucfs=1&arphpl=1&checkin=2022-10-29&checkout=2022-10-30&group_adults=2&req_adults=2&no_rooms=1&group_children=0&req_children=0&hpos=8&hapos=8&sr_order=review_score_and_price&nflt=ht_id%3D204&srpvid=ce0676a01b9e03b8&srepoch=1666630337&all_sr_blocks=2249202_190209314_0_2_0&highlighted_blocks=2249202_190209314_0_2_0&matching_block_id=2249202_190209314_0_2_0&sr_pri_blocks=2249202_190209314_0_2_0__6300&from=searchresults HTTP/1.1\" 301 None\n",
            "DEBUG:urllib3.connectionpool:https://www.booking.com:443 \"GET /hotel/fr/restaurant-du-kalblin.fr.html HTTP/1.1\" 200 265048\n",
            "DEBUG:urllib3.connectionpool:Starting new HTTPS connection (1): www.booking.com:443\n"
          ]
        },
        {
          "output_type": "stream",
          "name": "stdout",
          "text": [
            "8\n"
          ]
        },
        {
          "output_type": "stream",
          "name": "stderr",
          "text": [
            "DEBUG:urllib3.connectionpool:https://www.booking.com:443 \"GET /hotel/fr/manoir.fr.html?aid=304142&label=gen173bo-1DCAQoggJCI3NlYXJjaF9jaGF0ZWF1IGR1IGhhdXQga29lbmlnc2JvdXJnSA1YA2jnAYgBAZgBDbgBGMgBD9gBA-gBAfgBA4gCAZgCAqgCBLgCwIXbmgbAAgHSAiRkNTExNWQ0My1kNTQ4LTRiYzctYjY5Yy1mMTU2MzY5ODlmNzfYAgTgAgE&ucfs=1&arphpl=1&checkin=2022-10-29&checkout=2022-10-30&group_adults=2&req_adults=2&no_rooms=1&group_children=0&req_children=0&hpos=9&hapos=9&sr_order=review_score_and_price&nflt=ht_id%3D204&srpvid=ce0676a01b9e03b8&srepoch=1666630337&all_sr_blocks=5738604_201082857_0_0_0&highlighted_blocks=5738604_201082857_0_0_0&matching_block_id=5738604_201082857_0_0_0&sr_pri_blocks=5738604_201082857_0_0_0__17800&from_sustainable_property_sr=1&from=searchresults HTTP/1.1\" 301 None\n",
            "DEBUG:urllib3.connectionpool:https://www.booking.com:443 \"GET /hotel/fr/manoir.fr.html HTTP/1.1\" 200 281521\n",
            "DEBUG:urllib3.connectionpool:Starting new HTTPS connection (1): www.booking.com:443\n"
          ]
        },
        {
          "output_type": "stream",
          "name": "stdout",
          "text": [
            "9\n"
          ]
        },
        {
          "output_type": "stream",
          "name": "stderr",
          "text": [
            "DEBUG:urllib3.connectionpool:https://www.booking.com:443 \"GET /hotel/fr/ethic-etape-centre-international-de-sa-c-jour-mittelwihr.fr.html?aid=304142&label=gen173bo-1DCAQoggJCI3NlYXJjaF9jaGF0ZWF1IGR1IGhhdXQga29lbmlnc2JvdXJnSA1YA2jnAYgBAZgBDbgBGMgBD9gBA-gBAfgBA4gCAZgCAqgCBLgCwIXbmgbAAgHSAiRkNTExNWQ0My1kNTQ4LTRiYzctYjY5Yy1mMTU2MzY5ODlmNzfYAgTgAgE&ucfs=1&arphpl=1&checkin=2022-10-29&checkout=2022-10-30&group_adults=2&req_adults=2&no_rooms=1&group_children=0&req_children=0&hpos=10&hapos=10&sr_order=review_score_and_price&nflt=ht_id%3D204&srpvid=ce0676a01b9e03b8&srepoch=1666630337&all_sr_blocks=41762801_339959571_0_42_0&highlighted_blocks=41762801_339959571_0_42_0&matching_block_id=41762801_339959571_0_42_0&sr_pri_blocks=41762801_339959571_0_42_0__6000&from=searchresults HTTP/1.1\" 301 None\n",
            "DEBUG:urllib3.connectionpool:https://www.booking.com:443 \"GET /hotel/fr/ethic-etape-centre-international-de-sa-c-jour-mittelwihr.fr.html HTTP/1.1\" 200 269004\n",
            "DEBUG:urllib3.connectionpool:Starting new HTTPS connection (1): www.booking.com:443\n"
          ]
        },
        {
          "output_type": "stream",
          "name": "stdout",
          "text": [
            "10\n"
          ]
        },
        {
          "output_type": "stream",
          "name": "stderr",
          "text": [
            "DEBUG:urllib3.connectionpool:https://www.booking.com:443 \"GET /hotel/fr/b-amp-b-colmar-wintzenheim2.fr.html?aid=304142&label=gen173bo-1DCAQoggJCI3NlYXJjaF9jaGF0ZWF1IGR1IGhhdXQga29lbmlnc2JvdXJnSA1YA2jnAYgBAZgBDbgBGMgBD9gBA-gBAfgBA4gCAZgCAqgCBLgCwIXbmgbAAgHSAiRkNTExNWQ0My1kNTQ4LTRiYzctYjY5Yy1mMTU2MzY5ODlmNzfYAgTgAgE&ucfs=1&arphpl=1&checkin=2022-10-29&checkout=2022-10-30&group_adults=2&req_adults=2&no_rooms=1&group_children=0&req_children=0&hpos=11&hapos=11&sr_order=review_score_and_price&nflt=ht_id%3D204&srpvid=ce0676a01b9e03b8&srepoch=1666630337&all_sr_blocks=159610601_362352654_0_0_0&highlighted_blocks=159610601_362352654_0_0_0&matching_block_id=159610601_362352654_0_0_0&sr_pri_blocks=159610601_362352654_0_0_0__7900&from=searchresults HTTP/1.1\" 301 None\n",
            "DEBUG:urllib3.connectionpool:https://www.booking.com:443 \"GET /hotel/fr/b-amp-b-colmar-wintzenheim2.fr.html HTTP/1.1\" 200 268416\n",
            "DEBUG:urllib3.connectionpool:Starting new HTTPS connection (1): www.booking.com:443\n"
          ]
        },
        {
          "output_type": "stream",
          "name": "stdout",
          "text": [
            "11\n"
          ]
        },
        {
          "output_type": "stream",
          "name": "stderr",
          "text": [
            "DEBUG:urllib3.connectionpool:https://www.booking.com:443 \"GET /hotel/fr/fast-colmar-houssen.fr.html?aid=304142&label=gen173bo-1DCAQoggJCI3NlYXJjaF9jaGF0ZWF1IGR1IGhhdXQga29lbmlnc2JvdXJnSA1YA2jnAYgBAZgBDbgBGMgBD9gBA-gBAfgBA4gCAZgCAqgCBLgCwIXbmgbAAgHSAiRkNTExNWQ0My1kNTQ4LTRiYzctYjY5Yy1mMTU2MzY5ODlmNzfYAgTgAgE&ucfs=1&arphpl=1&checkin=2022-10-29&checkout=2022-10-30&group_adults=2&req_adults=2&no_rooms=1&group_children=0&req_children=0&hpos=12&hapos=12&sr_order=review_score_and_price&nflt=ht_id%3D204&srpvid=ce0676a01b9e03b8&srepoch=1666630337&all_sr_blocks=5390502_95180935_0_2_0&highlighted_blocks=5390502_95180935_0_2_0&matching_block_id=5390502_95180935_0_2_0&sr_pri_blocks=5390502_95180935_0_2_0__8800&from=searchresults HTTP/1.1\" 301 None\n",
            "DEBUG:urllib3.connectionpool:https://www.booking.com:443 \"GET /hotel/fr/fast-colmar-houssen.fr.html HTTP/1.1\" 200 271807\n",
            "DEBUG:urllib3.connectionpool:Starting new HTTPS connection (1): www.booking.com:443\n"
          ]
        },
        {
          "output_type": "stream",
          "name": "stdout",
          "text": [
            "12\n"
          ]
        },
        {
          "output_type": "stream",
          "name": "stderr",
          "text": [
            "DEBUG:urllib3.connectionpool:https://www.booking.com:443 \"GET /hotel/fr/du-ladhof.fr.html?aid=304142&label=gen173bo-1DCAQoggJCI3NlYXJjaF9jaGF0ZWF1IGR1IGhhdXQga29lbmlnc2JvdXJnSA1YA2jnAYgBAZgBDbgBGMgBD9gBA-gBAfgBA4gCAZgCAqgCBLgCwIXbmgbAAgHSAiRkNTExNWQ0My1kNTQ4LTRiYzctYjY5Yy1mMTU2MzY5ODlmNzfYAgTgAgE&ucfs=1&arphpl=1&checkin=2022-10-29&checkout=2022-10-30&group_adults=2&req_adults=2&no_rooms=1&group_children=0&req_children=0&hpos=13&hapos=13&sr_order=review_score_and_price&nflt=ht_id%3D204&srpvid=ce0676a01b9e03b8&srepoch=1666630337&all_sr_blocks=18032501_325418011_0_2_0&highlighted_blocks=18032501_325418011_0_2_0&matching_block_id=18032501_325418011_0_2_0&sr_pri_blocks=18032501_325418011_0_2_0__7400&from=searchresults HTTP/1.1\" 301 None\n",
            "DEBUG:urllib3.connectionpool:https://www.booking.com:443 \"GET /hotel/fr/du-ladhof.fr.html HTTP/1.1\" 200 269231\n",
            "DEBUG:urllib3.connectionpool:Starting new HTTPS connection (1): www.booking.com:443\n"
          ]
        },
        {
          "output_type": "stream",
          "name": "stdout",
          "text": [
            "13\n"
          ]
        },
        {
          "output_type": "stream",
          "name": "stderr",
          "text": [
            "DEBUG:urllib3.connectionpool:https://www.booking.com:443 \"GET /hotel/fr/ha-tel-du-ladhof.fr.html?aid=304142&label=gen173bo-1DCAQoggJCI3NlYXJjaF9jaGF0ZWF1IGR1IGhhdXQga29lbmlnc2JvdXJnSA1YA2jnAYgBAZgBDbgBGMgBD9gBA-gBAfgBA4gCAZgCAqgCBLgCwIXbmgbAAgHSAiRkNTExNWQ0My1kNTQ4LTRiYzctYjY5Yy1mMTU2MzY5ODlmNzfYAgTgAgE&ucfs=1&arphpl=1&checkin=2022-10-29&checkout=2022-10-30&group_adults=2&req_adults=2&no_rooms=1&group_children=0&req_children=0&hpos=14&hapos=14&sr_order=review_score_and_price&nflt=ht_id%3D204&srpvid=ce0676a01b9e03b8&srepoch=1666630337&all_sr_blocks=39831703_325419355_0_2_0&highlighted_blocks=39831703_325419355_0_2_0&matching_block_id=39831703_325419355_0_2_0&sr_pri_blocks=39831703_325419355_0_2_0__7500&from=searchresults HTTP/1.1\" 301 None\n",
            "DEBUG:urllib3.connectionpool:https://www.booking.com:443 \"GET /hotel/fr/ha-tel-du-ladhof.fr.html HTTP/1.1\" 200 267911\n",
            "DEBUG:urllib3.connectionpool:Starting new HTTPS connection (1): www.booking.com:443\n"
          ]
        },
        {
          "output_type": "stream",
          "name": "stdout",
          "text": [
            "14\n"
          ]
        },
        {
          "output_type": "stream",
          "name": "stderr",
          "text": [
            "DEBUG:urllib3.connectionpool:https://www.booking.com:443 \"GET /hotel/fr/parc-amp-spa-les-cigognes.fr.html?aid=304142&label=gen173bo-1DCAQoggJCI3NlYXJjaF9jaGF0ZWF1IGR1IGhhdXQga29lbmlnc2JvdXJnSA1YA2jnAYgBAZgBDbgBGMgBD9gBA-gBAfgBA4gCAZgCAqgCBLgCwIXbmgbAAgHSAiRkNTExNWQ0My1kNTQ4LTRiYzctYjY5Yy1mMTU2MzY5ODlmNzfYAgTgAgE&ucfs=1&arphpl=1&checkin=2022-10-29&checkout=2022-10-30&group_adults=2&req_adults=2&no_rooms=1&group_children=0&req_children=0&hpos=15&hapos=15&sr_order=review_score_and_price&nflt=ht_id%3D204&srpvid=ce0676a01b9e03b8&srepoch=1666630337&all_sr_blocks=817473715_344254308_2_2_0&highlighted_blocks=817473715_344254308_2_2_0&matching_block_id=817473715_344254308_2_2_0&sr_pri_blocks=817473715_344254308_2_2_0__10700&from=searchresults HTTP/1.1\" 301 None\n",
            "DEBUG:urllib3.connectionpool:https://www.booking.com:443 \"GET /hotel/fr/parc-amp-spa-les-cigognes.fr.html HTTP/1.1\" 200 272454\n",
            "DEBUG:urllib3.connectionpool:Starting new HTTPS connection (1): www.booking.com:443\n"
          ]
        },
        {
          "output_type": "stream",
          "name": "stdout",
          "text": [
            "15\n"
          ]
        },
        {
          "output_type": "stream",
          "name": "stderr",
          "text": [
            "DEBUG:urllib3.connectionpool:https://www.booking.com:443 \"GET /hotel/fr/la-belle-charbonniere-la-petite-fosse.fr.html?aid=304142&label=gen173bo-1DCAQoggJCI3NlYXJjaF9jaGF0ZWF1IGR1IGhhdXQga29lbmlnc2JvdXJnSA1YA2jnAYgBAZgBDbgBGMgBD9gBA-gBAfgBA4gCAZgCAqgCBLgCwIXbmgbAAgHSAiRkNTExNWQ0My1kNTQ4LTRiYzctYjY5Yy1mMTU2MzY5ODlmNzfYAgTgAgE&ucfs=1&arphpl=1&checkin=2022-10-29&checkout=2022-10-30&group_adults=2&req_adults=2&no_rooms=1&group_children=0&req_children=0&hpos=16&hapos=16&sr_order=review_score_and_price&nflt=ht_id%3D204&srpvid=ce0676a01b9e03b8&srepoch=1666630337&all_sr_blocks=642146401_340180762_2_1_0&highlighted_blocks=642146401_340180762_2_1_0&matching_block_id=642146401_340180762_2_1_0&sr_pri_blocks=642146401_340180762_2_1_0__9500&from=searchresults HTTP/1.1\" 301 None\n",
            "DEBUG:urllib3.connectionpool:https://www.booking.com:443 \"GET /hotel/fr/la-belle-charbonniere-la-petite-fosse.fr.html HTTP/1.1\" 200 265018\n",
            "DEBUG:urllib3.connectionpool:Starting new HTTPS connection (1): www.booking.com:443\n"
          ]
        },
        {
          "output_type": "stream",
          "name": "stdout",
          "text": [
            "16\n"
          ]
        },
        {
          "output_type": "stream",
          "name": "stderr",
          "text": [
            "DEBUG:urllib3.connectionpool:https://www.booking.com:443 \"GET /hotel/fr/domaine-de-basil.fr.html?aid=304142&label=gen173bo-1DCAQoggJCI3NlYXJjaF9jaGF0ZWF1IGR1IGhhdXQga29lbmlnc2JvdXJnSA1YA2jnAYgBAZgBDbgBGMgBD9gBA-gBAfgBA4gCAZgCAqgCBLgCwIXbmgbAAgHSAiRkNTExNWQ0My1kNTQ4LTRiYzctYjY5Yy1mMTU2MzY5ODlmNzfYAgTgAgE&ucfs=1&arphpl=1&checkin=2022-10-29&checkout=2022-10-30&group_adults=2&req_adults=2&no_rooms=1&group_children=0&req_children=0&hpos=17&hapos=17&sr_order=review_score_and_price&nflt=ht_id%3D204&srpvid=ce0676a01b9e03b8&srepoch=1666630337&all_sr_blocks=5850701_88552195_0_34_0&highlighted_blocks=5850701_88552195_0_34_0&matching_block_id=5850701_88552195_0_34_0&sr_pri_blocks=5850701_88552195_0_34_0__10350&from=searchresults HTTP/1.1\" 301 None\n",
            "DEBUG:urllib3.connectionpool:https://www.booking.com:443 \"GET /hotel/fr/domaine-de-basil.fr.html HTTP/1.1\" 200 284263\n",
            "DEBUG:urllib3.connectionpool:Starting new HTTPS connection (1): www.booking.com:443\n"
          ]
        },
        {
          "output_type": "stream",
          "name": "stdout",
          "text": [
            "17\n"
          ]
        },
        {
          "output_type": "stream",
          "name": "stderr",
          "text": [
            "DEBUG:urllib3.connectionpool:https://www.booking.com:443 \"GET /hotel/fr/ha-tel-restaurant-au-soleil.fr.html?aid=304142&label=gen173bo-1DCAQoggJCI3NlYXJjaF9jaGF0ZWF1IGR1IGhhdXQga29lbmlnc2JvdXJnSA1YA2jnAYgBAZgBDbgBGMgBD9gBA-gBAfgBA4gCAZgCAqgCBLgCwIXbmgbAAgHSAiRkNTExNWQ0My1kNTQ4LTRiYzctYjY5Yy1mMTU2MzY5ODlmNzfYAgTgAgE&ucfs=1&arphpl=1&checkin=2022-10-29&checkout=2022-10-30&group_adults=2&req_adults=2&no_rooms=1&group_children=0&req_children=0&hpos=18&hapos=18&sr_order=review_score_and_price&nflt=ht_id%3D204&srpvid=ce0676a01b9e03b8&srepoch=1666630337&all_sr_blocks=37907212_215786052_2_2_0&highlighted_blocks=37907212_215786052_2_2_0&matching_block_id=37907212_215786052_2_2_0&sr_pri_blocks=37907212_215786052_2_2_0__17250&from=searchresults HTTP/1.1\" 301 None\n",
            "DEBUG:urllib3.connectionpool:https://www.booking.com:443 \"GET /hotel/fr/ha-tel-restaurant-au-soleil.fr.html HTTP/1.1\" 200 284907\n",
            "DEBUG:urllib3.connectionpool:Starting new HTTPS connection (1): www.booking.com:443\n"
          ]
        },
        {
          "output_type": "stream",
          "name": "stdout",
          "text": [
            "18\n"
          ]
        },
        {
          "output_type": "stream",
          "name": "stderr",
          "text": [
            "DEBUG:urllib3.connectionpool:https://www.booking.com:443 \"GET /hotel/fr/relais-du-klevener.fr.html?aid=304142&label=gen173bo-1DCAQoggJCI3NlYXJjaF9jaGF0ZWF1IGR1IGhhdXQga29lbmlnc2JvdXJnSA1YA2jnAYgBAZgBDbgBGMgBD9gBA-gBAfgBA4gCAZgCAqgCBLgCwIXbmgbAAgHSAiRkNTExNWQ0My1kNTQ4LTRiYzctYjY5Yy1mMTU2MzY5ODlmNzfYAgTgAgE&ucfs=1&arphpl=1&checkin=2022-10-29&checkout=2022-10-30&group_adults=2&req_adults=2&no_rooms=1&group_children=0&req_children=0&hpos=19&hapos=19&sr_order=review_score_and_price&nflt=ht_id%3D204&srpvid=ce0676a01b9e03b8&srepoch=1666630337&all_sr_blocks=37934501_109601056_0_2_0&highlighted_blocks=37934501_109601056_0_2_0&matching_block_id=37934501_109601056_0_2_0&sr_pri_blocks=37934501_109601056_0_2_0__5500&from=searchresults HTTP/1.1\" 301 None\n",
            "DEBUG:urllib3.connectionpool:https://www.booking.com:443 \"GET /hotel/fr/relais-du-klevener.fr.html HTTP/1.1\" 200 279591\n",
            "DEBUG:urllib3.connectionpool:Starting new HTTPS connection (1): www.booking.com:443\n"
          ]
        },
        {
          "output_type": "stream",
          "name": "stdout",
          "text": [
            "19\n"
          ]
        },
        {
          "output_type": "stream",
          "name": "stderr",
          "text": [
            "DEBUG:urllib3.connectionpool:https://www.booking.com:443 \"GET /hotel/fr/clos-des-delices.fr.html?aid=304142&label=gen173bo-1DCAQoggJCI3NlYXJjaF9jaGF0ZWF1IGR1IGhhdXQga29lbmlnc2JvdXJnSA1YA2jnAYgBAZgBDbgBGMgBD9gBA-gBAfgBA4gCAZgCAqgCBLgCwIXbmgbAAgHSAiRkNTExNWQ0My1kNTQ4LTRiYzctYjY5Yy1mMTU2MzY5ODlmNzfYAgTgAgE&ucfs=1&arphpl=1&checkin=2022-10-29&checkout=2022-10-30&group_adults=2&req_adults=2&no_rooms=1&group_children=0&req_children=0&hpos=20&hapos=20&sr_order=review_score_and_price&nflt=ht_id%3D204&srpvid=ce0676a01b9e03b8&srepoch=1666630337&all_sr_blocks=24363505_228114938_0_2_0&highlighted_blocks=24363505_228114938_0_2_0&matching_block_id=24363505_228114938_0_2_0&sr_pri_blocks=24363505_228114938_0_2_0__49100&from=searchresults HTTP/1.1\" 301 None\n",
            "DEBUG:urllib3.connectionpool:https://www.booking.com:443 \"GET /hotel/fr/clos-des-delices.fr.html HTTP/1.1\" 200 280536\n",
            "DEBUG:urllib3.connectionpool:Starting new HTTPS connection (1): www.booking.com:443\n"
          ]
        },
        {
          "output_type": "stream",
          "name": "stdout",
          "text": [
            "20\n"
          ]
        },
        {
          "output_type": "stream",
          "name": "stderr",
          "text": [
            "DEBUG:urllib3.connectionpool:https://www.booking.com:443 \"GET /hotel/fr/le-clos-cathala.fr.html?aid=304142&label=gen173bo-1DCAQoggJCDXNlYXJjaF9hcmllZ2VIDVgDaOcBiAEBmAENuAEYyAEP2AED6AEB-AEDiAIBmAICqAIEuALDhduaBsACAdICJDAzYmJjOWZjLTRiMGMtNDNiNy1iM2M5LWI1OTE2MDgzNGJkZdgCBOACAQ&ucfs=1&arphpl=1&checkin=2022-10-29&checkout=2022-10-30&group_adults=2&req_adults=2&no_rooms=1&group_children=0&req_children=0&hpos=1&hapos=1&sr_order=review_score_and_price&nflt=ht_id%3D204&srpvid=bb9e76a18135052b&srepoch=1666630340&all_sr_blocks=652352804_266292722_2_1_0&highlighted_blocks=652352804_266292722_2_1_0&matching_block_id=652352804_266292722_2_1_0&sr_pri_blocks=652352804_266292722_2_1_0__22000&from=searchresults HTTP/1.1\" 301 None\n",
            "DEBUG:urllib3.connectionpool:https://www.booking.com:443 \"GET /hotel/fr/le-clos-cathala.fr.html HTTP/1.1\" 200 275879\n",
            "DEBUG:urllib3.connectionpool:Starting new HTTPS connection (1): www.booking.com:443\n"
          ]
        },
        {
          "output_type": "stream",
          "name": "stdout",
          "text": [
            "21\n"
          ]
        },
        {
          "output_type": "stream",
          "name": "stderr",
          "text": [
            "DEBUG:urllib3.connectionpool:https://www.booking.com:443 \"GET /hotel/fr/relais-mira-peis.fr.html?aid=304142&label=gen173bo-1DCAQoggJCDXNlYXJjaF9hcmllZ2VIDVgDaOcBiAEBmAENuAEYyAEP2AED6AEB-AEDiAIBmAICqAIEuALDhduaBsACAdICJDAzYmJjOWZjLTRiMGMtNDNiNy1iM2M5LWI1OTE2MDgzNGJkZdgCBOACAQ&ucfs=1&arphpl=1&checkin=2022-10-29&checkout=2022-10-30&group_adults=2&req_adults=2&no_rooms=1&group_children=0&req_children=0&hpos=2&hapos=2&sr_order=review_score_and_price&nflt=ht_id%3D204&srpvid=bb9e76a18135052b&srepoch=1666630340&all_sr_blocks=812433006_343545338_2_41_0&highlighted_blocks=812433006_343545338_2_41_0&matching_block_id=812433006_343545338_2_41_0&sr_pri_blocks=812433006_343545338_2_41_0__25148&from_sustainable_property_sr=1&from=searchresults HTTP/1.1\" 301 None\n",
            "DEBUG:urllib3.connectionpool:https://www.booking.com:443 \"GET /hotel/fr/relais-mira-peis.fr.html HTTP/1.1\" 200 277977\n",
            "DEBUG:urllib3.connectionpool:Starting new HTTPS connection (1): www.booking.com:443\n"
          ]
        },
        {
          "output_type": "stream",
          "name": "stdout",
          "text": [
            "22\n"
          ]
        },
        {
          "output_type": "stream",
          "name": "stderr",
          "text": [
            "DEBUG:urllib3.connectionpool:https://www.booking.com:443 \"GET /hotel/fr/confort-tarascon-sur-aria-ge.fr.html?aid=304142&label=gen173bo-1DCAQoggJCDXNlYXJjaF9hcmllZ2VIDVgDaOcBiAEBmAENuAEYyAEP2AED6AEB-AEDiAIBmAICqAIEuALDhduaBsACAdICJDAzYmJjOWZjLTRiMGMtNDNiNy1iM2M5LWI1OTE2MDgzNGJkZdgCBOACAQ&ucfs=1&arphpl=1&checkin=2022-10-29&checkout=2022-10-30&group_adults=2&req_adults=2&no_rooms=1&group_children=0&req_children=0&hpos=3&hapos=3&sr_order=review_score_and_price&nflt=ht_id%3D204&srpvid=bb9e76a18135052b&srepoch=1666630340&all_sr_blocks=5780001_327823734_0_0_0&highlighted_blocks=5780001_327823734_0_0_0&matching_block_id=5780001_327823734_0_0_0&sr_pri_blocks=5780001_327823734_0_0_0__6050&from=searchresults HTTP/1.1\" 301 None\n",
            "DEBUG:urllib3.connectionpool:https://www.booking.com:443 \"GET /hotel/fr/confort-tarascon-sur-aria-ge.fr.html HTTP/1.1\" 200 279731\n",
            "DEBUG:urllib3.connectionpool:Starting new HTTPS connection (1): www.booking.com:443\n"
          ]
        },
        {
          "output_type": "stream",
          "name": "stdout",
          "text": [
            "23\n"
          ]
        },
        {
          "output_type": "stream",
          "name": "stderr",
          "text": [
            "DEBUG:urllib3.connectionpool:https://www.booking.com:443 \"GET /hotel/fr/la-barguillere.fr.html?aid=304142&label=gen173bo-1DCAQoggJCDXNlYXJjaF9hcmllZ2VIDVgDaOcBiAEBmAENuAEYyAEP2AED6AEB-AEDiAIBmAICqAIEuALDhduaBsACAdICJDAzYmJjOWZjLTRiMGMtNDNiNy1iM2M5LWI1OTE2MDgzNGJkZdgCBOACAQ&ucfs=1&arphpl=1&checkin=2022-10-29&checkout=2022-10-30&group_adults=2&req_adults=2&no_rooms=1&group_children=0&req_children=0&hpos=4&hapos=4&sr_order=review_score_and_price&nflt=ht_id%3D204&srpvid=bb9e76a18135052b&srepoch=1666630340&all_sr_blocks=18235910_141413769_0_2_0&highlighted_blocks=18235910_141413769_0_2_0&matching_block_id=18235910_141413769_0_2_0&sr_pri_blocks=18235910_141413769_0_2_0__7400&from_sustainable_property_sr=1&from=searchresults HTTP/1.1\" 301 None\n",
            "DEBUG:urllib3.connectionpool:https://www.booking.com:443 \"GET /hotel/fr/la-barguillere.fr.html HTTP/1.1\" 200 278824\n",
            "DEBUG:urllib3.connectionpool:Starting new HTTPS connection (1): www.booking.com:443\n"
          ]
        },
        {
          "output_type": "stream",
          "name": "stdout",
          "text": [
            "24\n"
          ]
        },
        {
          "output_type": "stream",
          "name": "stderr",
          "text": [
            "DEBUG:urllib3.connectionpool:https://www.booking.com:443 \"GET /hotel/fr/le-manoir-d-agnes.fr.html?aid=304142&label=gen173bo-1DCAQoggJCDXNlYXJjaF9hcmllZ2VIDVgDaOcBiAEBmAENuAEYyAEP2AED6AEB-AEDiAIBmAICqAIEuALDhduaBsACAdICJDAzYmJjOWZjLTRiMGMtNDNiNy1iM2M5LWI1OTE2MDgzNGJkZdgCBOACAQ&ucfs=1&arphpl=1&checkin=2022-10-29&checkout=2022-10-30&group_adults=2&req_adults=2&no_rooms=1&group_children=0&req_children=0&hpos=5&hapos=5&sr_order=review_score_and_price&nflt=ht_id%3D204&srpvid=bb9e76a18135052b&srepoch=1666630340&all_sr_blocks=25411102_91405472_0_2_0&highlighted_blocks=25411102_91405472_0_2_0&matching_block_id=25411102_91405472_0_2_0&sr_pri_blocks=25411102_91405472_0_2_0__15200&from=searchresults HTTP/1.1\" 301 None\n",
            "DEBUG:urllib3.connectionpool:https://www.booking.com:443 \"GET /hotel/fr/le-manoir-d-agnes.fr.html HTTP/1.1\" 200 280126\n",
            "DEBUG:urllib3.connectionpool:Starting new HTTPS connection (1): www.booking.com:443\n"
          ]
        },
        {
          "output_type": "stream",
          "name": "stdout",
          "text": [
            "25\n"
          ]
        },
        {
          "output_type": "stream",
          "name": "stderr",
          "text": [
            "DEBUG:urllib3.connectionpool:https://www.booking.com:443 \"GET /hotel/fr/chateau-de-longpre.fr.html?aid=304142&label=gen173bo-1DCAQoggJCDXNlYXJjaF9hcmllZ2VIDVgDaOcBiAEBmAENuAEYyAEP2AED6AEB-AEDiAIBmAICqAIEuALDhduaBsACAdICJDAzYmJjOWZjLTRiMGMtNDNiNy1iM2M5LWI1OTE2MDgzNGJkZdgCBOACAQ&ucfs=1&arphpl=1&checkin=2022-10-29&checkout=2022-10-30&group_adults=2&req_adults=2&no_rooms=1&group_children=0&req_children=0&hpos=6&hapos=6&sr_order=review_score_and_price&nflt=ht_id%3D204&srpvid=bb9e76a18135052b&srepoch=1666630340&all_sr_blocks=680247101_298610445_2_42_0&highlighted_blocks=680247101_298610445_2_42_0&matching_block_id=680247101_298610445_2_42_0&sr_pri_blocks=680247101_298610445_2_42_0__23000&from=searchresults HTTP/1.1\" 301 None\n",
            "DEBUG:urllib3.connectionpool:https://www.booking.com:443 \"GET /hotel/fr/chateau-de-longpre.fr.html HTTP/1.1\" 200 275900\n",
            "DEBUG:urllib3.connectionpool:Starting new HTTPS connection (1): www.booking.com:443\n"
          ]
        },
        {
          "output_type": "stream",
          "name": "stdout",
          "text": [
            "26\n"
          ]
        },
        {
          "output_type": "stream",
          "name": "stderr",
          "text": [
            "DEBUG:urllib3.connectionpool:https://www.booking.com:443 \"GET /hotel/fr/relais-d-endron.fr.html?aid=304142&label=gen173bo-1DCAQoggJCDXNlYXJjaF9hcmllZ2VIDVgDaOcBiAEBmAENuAEYyAEP2AED6AEB-AEDiAIBmAICqAIEuALDhduaBsACAdICJDAzYmJjOWZjLTRiMGMtNDNiNy1iM2M5LWI1OTE2MDgzNGJkZdgCBOACAQ&ucfs=1&arphpl=1&checkin=2022-10-29&checkout=2022-10-30&group_adults=2&req_adults=2&no_rooms=1&group_children=0&req_children=0&hpos=7&hapos=7&sr_order=review_score_and_price&nflt=ht_id%3D204&srpvid=bb9e76a18135052b&srepoch=1666630340&all_sr_blocks=273815003_310763042_2_42_0&highlighted_blocks=273815003_310763042_2_42_0&matching_block_id=273815003_310763042_2_42_0&sr_pri_blocks=273815003_310763042_2_42_0__6000&from=searchresults HTTP/1.1\" 301 None\n",
            "DEBUG:urllib3.connectionpool:https://www.booking.com:443 \"GET /hotel/fr/relais-d-endron.fr.html HTTP/1.1\" 200 272836\n",
            "DEBUG:urllib3.connectionpool:Starting new HTTPS connection (1): www.booking.com:443\n"
          ]
        },
        {
          "output_type": "stream",
          "name": "stdout",
          "text": [
            "27\n"
          ]
        },
        {
          "output_type": "stream",
          "name": "stderr",
          "text": [
            "DEBUG:urllib3.connectionpool:https://www.booking.com:443 \"GET /hotel/fr/les-rives-du-haut-salat.fr.html?aid=304142&label=gen173bo-1DCAQoggJCDXNlYXJjaF9hcmllZ2VIDVgDaOcBiAEBmAENuAEYyAEP2AED6AEB-AEDiAIBmAICqAIEuALDhduaBsACAdICJDAzYmJjOWZjLTRiMGMtNDNiNy1iM2M5LWI1OTE2MDgzNGJkZdgCBOACAQ&ucfs=1&arphpl=1&checkin=2022-10-29&checkout=2022-10-30&group_adults=2&req_adults=2&no_rooms=1&group_children=0&req_children=0&hpos=8&hapos=8&sr_order=review_score_and_price&nflt=ht_id%3D204&srpvid=bb9e76a18135052b&srepoch=1666630340&all_sr_blocks=802362302_356870552_2_2_0&highlighted_blocks=802362302_356870552_2_2_0&matching_block_id=802362302_356870552_2_2_0&sr_pri_blocks=802362302_356870552_2_2_0__6300&from_sustainable_property_sr=1&from=searchresults HTTP/1.1\" 301 None\n",
            "DEBUG:urllib3.connectionpool:https://www.booking.com:443 \"GET /hotel/fr/les-rives-du-haut-salat.fr.html HTTP/1.1\" 200 289350\n",
            "DEBUG:urllib3.connectionpool:Starting new HTTPS connection (1): www.booking.com:443\n"
          ]
        },
        {
          "output_type": "stream",
          "name": "stdout",
          "text": [
            "28\n"
          ]
        },
        {
          "output_type": "stream",
          "name": "stderr",
          "text": [
            "DEBUG:urllib3.connectionpool:https://www.booking.com:443 \"GET /hotel/fr/domaine-de-garabaud.fr.html?aid=304142&label=gen173bo-1DCAQoggJCDXNlYXJjaF9hcmllZ2VIDVgDaOcBiAEBmAENuAEYyAEP2AED6AEB-AEDiAIBmAICqAIEuALDhduaBsACAdICJDAzYmJjOWZjLTRiMGMtNDNiNy1iM2M5LWI1OTE2MDgzNGJkZdgCBOACAQ&ucfs=1&arphpl=1&checkin=2022-10-29&checkout=2022-10-30&group_adults=2&req_adults=2&no_rooms=1&group_children=0&req_children=0&hpos=9&hapos=9&sr_order=review_score_and_price&nflt=ht_id%3D204&srpvid=bb9e76a18135052b&srepoch=1666630340&all_sr_blocks=18334907_200924460_2_10_0&highlighted_blocks=18334907_200924460_2_10_0&matching_block_id=18334907_200924460_2_10_0&sr_pri_blocks=18334907_200924460_2_10_0__6490&from_sustainable_property_sr=1&from=searchresults HTTP/1.1\" 301 None\n",
            "DEBUG:urllib3.connectionpool:https://www.booking.com:443 \"GET /hotel/fr/domaine-de-garabaud.fr.html HTTP/1.1\" 200 276915\n",
            "DEBUG:urllib3.connectionpool:Starting new HTTPS connection (1): www.booking.com:443\n"
          ]
        },
        {
          "output_type": "stream",
          "name": "stdout",
          "text": [
            "29\n"
          ]
        },
        {
          "output_type": "stream",
          "name": "stderr",
          "text": [
            "DEBUG:urllib3.connectionpool:https://www.booking.com:443 \"GET /hotel/fr/mvm-le-domaine-de-la-vallee-d-ax.fr.html?aid=304142&label=gen173bo-1DCAQoggJCDXNlYXJjaF9hcmllZ2VIDVgDaOcBiAEBmAENuAEYyAEP2AED6AEB-AEDiAIBmAICqAIEuALDhduaBsACAdICJDAzYmJjOWZjLTRiMGMtNDNiNy1iM2M5LWI1OTE2MDgzNGJkZdgCBOACAQ&ucfs=1&arphpl=1&checkin=2022-10-29&checkout=2022-10-30&group_adults=2&req_adults=2&no_rooms=1&group_children=0&req_children=0&hpos=10&hapos=10&sr_order=review_score_and_price&nflt=ht_id%3D204&srpvid=bb9e76a18135052b&srepoch=1666630340&all_sr_blocks=17333401_171736079_0_2_0&highlighted_blocks=17333401_171736079_0_2_0&matching_block_id=17333401_171736079_0_2_0&sr_pri_blocks=17333401_171736079_0_2_0__7500&from_sustainable_property_sr=1&from=searchresults HTTP/1.1\" 301 None\n",
            "DEBUG:urllib3.connectionpool:https://www.booking.com:443 \"GET /hotel/fr/mvm-le-domaine-de-la-vallee-d-ax.fr.html HTTP/1.1\" 200 299446\n",
            "DEBUG:urllib3.connectionpool:Starting new HTTPS connection (1): www.booking.com:443\n"
          ]
        },
        {
          "output_type": "stream",
          "name": "stdout",
          "text": [
            "30\n"
          ]
        },
        {
          "output_type": "stream",
          "name": "stderr",
          "text": [
            "DEBUG:urllib3.connectionpool:https://www.booking.com:443 \"GET /hotel/fr/le-bellevue-tarascon-sur-aria-ge.fr.html?aid=304142&label=gen173bo-1DCAQoggJCDXNlYXJjaF9hcmllZ2VIDVgDaOcBiAEBmAENuAEYyAEP2AED6AEB-AEDiAIBmAICqAIEuALDhduaBsACAdICJDAzYmJjOWZjLTRiMGMtNDNiNy1iM2M5LWI1OTE2MDgzNGJkZdgCBOACAQ&ucfs=1&arphpl=1&checkin=2022-10-29&checkout=2022-10-30&group_adults=2&req_adults=2&no_rooms=1&group_children=0&req_children=0&hpos=11&hapos=11&sr_order=review_score_and_price&nflt=ht_id%3D204&srpvid=bb9e76a18135052b&srepoch=1666630340&all_sr_blocks=47713006_310803889_0_2_0&highlighted_blocks=47713006_310803889_0_2_0&matching_block_id=47713006_310803889_0_2_0&sr_pri_blocks=47713006_310803889_0_2_0__7820&from=searchresults HTTP/1.1\" 301 None\n",
            "DEBUG:urllib3.connectionpool:https://www.booking.com:443 \"GET /hotel/fr/le-bellevue-tarascon-sur-aria-ge.fr.html HTTP/1.1\" 200 270581\n",
            "DEBUG:urllib3.connectionpool:Starting new HTTPS connection (1): www.booking.com:443\n"
          ]
        },
        {
          "output_type": "stream",
          "name": "stdout",
          "text": [
            "31\n"
          ]
        },
        {
          "output_type": "stream",
          "name": "stderr",
          "text": [
            "DEBUG:urllib3.connectionpool:https://www.booking.com:443 \"GET /hotel/fr/du-lac.fr.html?aid=304142&label=gen173bo-1DCAQoggJCDXNlYXJjaF9hcmllZ2VIDVgDaOcBiAEBmAENuAEYyAEP2AED6AEB-AEDiAIBmAICqAIEuALDhduaBsACAdICJDAzYmJjOWZjLTRiMGMtNDNiNy1iM2M5LWI1OTE2MDgzNGJkZdgCBOACAQ&ucfs=1&arphpl=1&checkin=2022-10-29&checkout=2022-10-30&group_adults=2&req_adults=2&no_rooms=1&group_children=0&req_children=0&hpos=12&hapos=12&sr_order=review_score_and_price&nflt=ht_id%3D204&srpvid=bb9e76a18135052b&srepoch=1666630340&all_sr_blocks=5389101_351244637_0_34_0&highlighted_blocks=5389101_351244637_0_34_0&matching_block_id=5389101_351244637_0_34_0&sr_pri_blocks=5389101_351244637_0_34_0__8300&from=searchresults HTTP/1.1\" 301 None\n",
            "DEBUG:urllib3.connectionpool:https://www.booking.com:443 \"GET /hotel/fr/du-lac.fr.html HTTP/1.1\" 200 280722\n",
            "DEBUG:urllib3.connectionpool:Starting new HTTPS connection (1): www.booking.com:443\n"
          ]
        },
        {
          "output_type": "stream",
          "name": "stdout",
          "text": [
            "32\n"
          ]
        },
        {
          "output_type": "stream",
          "name": "stderr",
          "text": [
            "DEBUG:urllib3.connectionpool:https://www.booking.com:443 \"GET /hotel/fr/terranostra.fr.html?aid=304142&label=gen173bo-1DCAQoggJCDXNlYXJjaF9hcmllZ2VIDVgDaOcBiAEBmAENuAEYyAEP2AED6AEB-AEDiAIBmAICqAIEuALDhduaBsACAdICJDAzYmJjOWZjLTRiMGMtNDNiNy1iM2M5LWI1OTE2MDgzNGJkZdgCBOACAQ&ucfs=1&arphpl=1&checkin=2022-10-29&checkout=2022-10-30&group_adults=2&req_adults=2&no_rooms=1&group_children=0&req_children=0&hpos=13&hapos=13&sr_order=review_score_and_price&nflt=ht_id%3D204&srpvid=bb9e76a18135052b&srepoch=1666630340&all_sr_blocks=105802905_310809816_0_2_0&highlighted_blocks=105802905_310809816_0_2_0&matching_block_id=105802905_310809816_0_2_0&sr_pri_blocks=105802905_310809816_0_2_0__9360&from=searchresults HTTP/1.1\" 301 None\n",
            "DEBUG:urllib3.connectionpool:https://www.booking.com:443 \"GET /hotel/fr/terranostra.fr.html HTTP/1.1\" 200 272019\n",
            "DEBUG:urllib3.connectionpool:Starting new HTTPS connection (1): www.booking.com:443\n"
          ]
        },
        {
          "output_type": "stream",
          "name": "stdout",
          "text": [
            "33\n"
          ]
        },
        {
          "output_type": "stream",
          "name": "stderr",
          "text": [
            "DEBUG:urllib3.connectionpool:https://www.booking.com:443 \"GET /hotel/fr/campanilefoix.fr.html?aid=304142&label=gen173bo-1DCAQoggJCDXNlYXJjaF9hcmllZ2VIDVgDaOcBiAEBmAENuAEYyAEP2AED6AEB-AEDiAIBmAICqAIEuALDhduaBsACAdICJDAzYmJjOWZjLTRiMGMtNDNiNy1iM2M5LWI1OTE2MDgzNGJkZdgCBOACAQ&ucfs=1&arphpl=1&checkin=2022-10-29&checkout=2022-10-30&group_adults=2&req_adults=2&no_rooms=1&group_children=0&req_children=0&hpos=14&hapos=14&sr_order=review_score_and_price&nflt=ht_id%3D204&srpvid=bb9e76a18135052b&srepoch=1666630340&all_sr_blocks=5321006_93699623_0_34_0&highlighted_blocks=5321006_93699623_0_34_0&matching_block_id=5321006_93699623_0_34_0&sr_pri_blocks=5321006_93699623_0_34_0__5500&from=searchresults HTTP/1.1\" 301 None\n",
            "DEBUG:urllib3.connectionpool:https://www.booking.com:443 \"GET /hotel/fr/campanilefoix.fr.html HTTP/1.1\" 200 282541\n",
            "DEBUG:urllib3.connectionpool:Starting new HTTPS connection (1): www.booking.com:443\n"
          ]
        },
        {
          "output_type": "stream",
          "name": "stdout",
          "text": [
            "34\n"
          ]
        },
        {
          "output_type": "stream",
          "name": "stderr",
          "text": [
            "DEBUG:urllib3.connectionpool:https://www.booking.com:443 \"GET /hotel/fr/hotel-balladins-foix-confort.fr.html?aid=304142&label=gen173bo-1DCAQoggJCDXNlYXJjaF9hcmllZ2VIDVgDaOcBiAEBmAENuAEYyAEP2AED6AEB-AEDiAIBmAICqAIEuALDhduaBsACAdICJDAzYmJjOWZjLTRiMGMtNDNiNy1iM2M5LWI1OTE2MDgzNGJkZdgCBOACAQ&ucfs=1&arphpl=1&checkin=2022-10-29&checkout=2022-10-30&group_adults=2&req_adults=2&no_rooms=1&group_children=0&req_children=0&hpos=15&hapos=15&sr_order=review_score_and_price&nflt=ht_id%3D204&srpvid=bb9e76a18135052b&srepoch=1666630340&all_sr_blocks=65053_93716031_0_2_0&highlighted_blocks=65053_93716031_0_2_0&matching_block_id=65053_93716031_0_2_0&sr_pri_blocks=65053_93716031_0_2_0__5700&from_sustainable_property_sr=1&from=searchresults HTTP/1.1\" 301 None\n",
            "DEBUG:urllib3.connectionpool:https://www.booking.com:443 \"GET /hotel/fr/hotel-balladins-foix-confort.fr.html HTTP/1.1\" 200 282334\n",
            "DEBUG:urllib3.connectionpool:Starting new HTTPS connection (1): www.booking.com:443\n"
          ]
        },
        {
          "output_type": "stream",
          "name": "stdout",
          "text": [
            "35\n"
          ]
        },
        {
          "output_type": "stream",
          "name": "stderr",
          "text": [
            "DEBUG:urllib3.connectionpool:https://www.booking.com:443 \"GET /hotel/fr/la-pierre-blanche.fr.html?aid=304142&label=gen173bo-1DCAQoggJCDXNlYXJjaF9hcmllZ2VIDVgDaOcBiAEBmAENuAEYyAEP2AED6AEB-AEDiAIBmAICqAIEuALDhduaBsACAdICJDAzYmJjOWZjLTRiMGMtNDNiNy1iM2M5LWI1OTE2MDgzNGJkZdgCBOACAQ&ucfs=1&arphpl=1&checkin=2022-10-29&checkout=2022-10-30&group_adults=2&req_adults=2&no_rooms=1&group_children=0&req_children=0&hpos=16&hapos=16&sr_order=review_score_and_price&nflt=ht_id%3D204&srpvid=bb9e76a18135052b&srepoch=1666630340&all_sr_blocks=45178901_335522212_0_42_0&highlighted_blocks=45178901_335522212_0_42_0&matching_block_id=45178901_335522212_0_42_0&sr_pri_blocks=45178901_335522212_0_42_0__6100&from=searchresults HTTP/1.1\" 301 None\n",
            "DEBUG:urllib3.connectionpool:https://www.booking.com:443 \"GET /hotel/fr/la-pierre-blanche.fr.html HTTP/1.1\" 200 268631\n",
            "DEBUG:urllib3.connectionpool:Starting new HTTPS connection (1): www.booking.com:443\n"
          ]
        },
        {
          "output_type": "stream",
          "name": "stdout",
          "text": [
            "36\n"
          ]
        },
        {
          "output_type": "stream",
          "name": "stderr",
          "text": [
            "DEBUG:urllib3.connectionpool:https://www.booking.com:443 \"GET /hotel/fr/logis-l-auzeraie.fr.html?aid=304142&label=gen173bo-1DCAQoggJCDXNlYXJjaF9hcmllZ2VIDVgDaOcBiAEBmAENuAEYyAEP2AED6AEB-AEDiAIBmAICqAIEuALDhduaBsACAdICJDAzYmJjOWZjLTRiMGMtNDNiNy1iM2M5LWI1OTE2MDgzNGJkZdgCBOACAQ&ucfs=1&arphpl=1&checkin=2022-10-29&checkout=2022-10-30&group_adults=2&req_adults=2&no_rooms=1&group_children=0&req_children=0&hpos=17&hapos=17&sr_order=review_score_and_price&nflt=ht_id%3D204&srpvid=bb9e76a18135052b&srepoch=1666630340&all_sr_blocks=26045803_322548339_0_2_0&highlighted_blocks=26045803_322548339_0_2_0&matching_block_id=26045803_322548339_0_2_0&sr_pri_blocks=26045803_322548339_0_2_0__8000&from=searchresults HTTP/1.1\" 301 None\n",
            "DEBUG:urllib3.connectionpool:https://www.booking.com:443 \"GET /hotel/fr/logis-l-auzeraie.fr.html HTTP/1.1\" 200 279601\n",
            "DEBUG:urllib3.connectionpool:Starting new HTTPS connection (1): www.booking.com:443\n"
          ]
        },
        {
          "output_type": "stream",
          "name": "stdout",
          "text": [
            "37\n"
          ]
        },
        {
          "output_type": "stream",
          "name": "stderr",
          "text": [
            "DEBUG:urllib3.connectionpool:https://www.booking.com:443 \"GET /hotel/fr/restaurant-lons.fr.html?aid=304142&label=gen173bo-1DCAQoggJCDXNlYXJjaF9hcmllZ2VIDVgDaOcBiAEBmAENuAEYyAEP2AED6AEB-AEDiAIBmAICqAIEuALDhduaBsACAdICJDAzYmJjOWZjLTRiMGMtNDNiNy1iM2M5LWI1OTE2MDgzNGJkZdgCBOACAQ&ucfs=1&arphpl=1&checkin=2022-10-29&checkout=2022-10-30&group_adults=2&req_adults=2&no_rooms=1&group_children=0&req_children=0&hpos=18&hapos=18&sr_order=review_score_and_price&nflt=ht_id%3D204&srpvid=bb9e76a18135052b&srepoch=1666630340&all_sr_blocks=36703901_359188918_2_0_0&highlighted_blocks=36703901_359188918_2_0_0&matching_block_id=36703901_359188918_2_0_0&sr_pri_blocks=36703901_359188918_2_0_0__8900&from=searchresults HTTP/1.1\" 301 None\n",
            "DEBUG:urllib3.connectionpool:https://www.booking.com:443 \"GET /hotel/fr/restaurant-lons.fr.html HTTP/1.1\" 200 277692\n",
            "DEBUG:urllib3.connectionpool:Starting new HTTPS connection (1): www.booking.com:443\n"
          ]
        },
        {
          "output_type": "stream",
          "name": "stdout",
          "text": [
            "38\n"
          ]
        },
        {
          "output_type": "stream",
          "name": "stderr",
          "text": [
            "DEBUG:urllib3.connectionpool:https://www.booking.com:443 \"GET /hotel/fr/terres-de-france-domaine-du-palais.fr.html?aid=304142&label=gen173bo-1DCAQoggJCDXNlYXJjaF9hcmllZ2VIDVgDaOcBiAEBmAENuAEYyAEP2AED6AEB-AEDiAIBmAICqAIEuALDhduaBsACAdICJDAzYmJjOWZjLTRiMGMtNDNiNy1iM2M5LWI1OTE2MDgzNGJkZdgCBOACAQ&ucfs=1&arphpl=1&checkin=2022-10-29&checkout=2022-10-30&group_adults=2&req_adults=2&no_rooms=1&group_children=0&req_children=0&hpos=19&hapos=19&sr_order=review_score_and_price&nflt=ht_id%3D204&srpvid=bb9e76a18135052b&srepoch=1666630340&all_sr_blocks=734434201_327229243_0_0_0&highlighted_blocks=734434201_327229243_0_0_0&matching_block_id=734434201_327229243_0_0_0&sr_pri_blocks=734434201_327229243_0_0_0__6500&from_sustainable_property_sr=1&from=searchresults HTTP/1.1\" 301 None\n",
            "DEBUG:urllib3.connectionpool:https://www.booking.com:443 \"GET /hotel/fr/terres-de-france-domaine-du-palais.fr.html HTTP/1.1\" 200 273668\n",
            "DEBUG:urllib3.connectionpool:Starting new HTTPS connection (1): www.booking.com:443\n"
          ]
        },
        {
          "output_type": "stream",
          "name": "stdout",
          "text": [
            "39\n"
          ]
        },
        {
          "output_type": "stream",
          "name": "stderr",
          "text": [
            "DEBUG:urllib3.connectionpool:https://www.booking.com:443 \"GET /hotel/fr/la-rocade-pamiers.fr.html?aid=304142&label=gen173bo-1DCAQoggJCDXNlYXJjaF9hcmllZ2VIDVgDaOcBiAEBmAENuAEYyAEP2AED6AEB-AEDiAIBmAICqAIEuALDhduaBsACAdICJDAzYmJjOWZjLTRiMGMtNDNiNy1iM2M5LWI1OTE2MDgzNGJkZdgCBOACAQ&ucfs=1&arphpl=1&checkin=2022-10-29&checkout=2022-10-30&group_adults=2&req_adults=2&no_rooms=1&group_children=0&req_children=0&hpos=20&hapos=20&sr_order=review_score_and_price&nflt=ht_id%3D204&srpvid=bb9e76a18135052b&srepoch=1666630340&all_sr_blocks=29380615_326752588_0_34_0&highlighted_blocks=29380615_326752588_0_34_0&matching_block_id=29380615_326752588_0_34_0&sr_pri_blocks=29380615_326752588_0_34_0__6800&from_sustainable_property_sr=1&from=searchresults HTTP/1.1\" 301 None\n",
            "DEBUG:urllib3.connectionpool:https://www.booking.com:443 \"GET /hotel/fr/la-rocade-pamiers.fr.html HTTP/1.1\" 200 276749\n",
            "DEBUG:urllib3.connectionpool:Starting new HTTPS connection (1): www.booking.com:443\n"
          ]
        },
        {
          "output_type": "stream",
          "name": "stdout",
          "text": [
            "40\n"
          ]
        },
        {
          "output_type": "stream",
          "name": "stderr",
          "text": [
            "DEBUG:urllib3.connectionpool:https://www.booking.com:443 \"GET /hotel/fr/ibis-styles-dijon-sud-domaine-de-beauregard.fr.html?aid=304142&label=gen173bo-1DCAQoggJCDHNlYXJjaF9kaWpvbkgNWANo5wGIAQGYAQ24ARjIAQ_YAQPoAQH4AQOIAgGYAgKoAgS4AsWF25oGwAIB0gIkMjcyYmU1YTAtZTliOS00Y2MxLWIyOTMtMmQyNWJjNDI4M2Iz2AIE4AIB&ucfs=1&arphpl=1&checkin=2022-10-29&checkout=2022-10-30&group_adults=2&req_adults=2&no_rooms=1&group_children=0&req_children=0&hpos=1&hapos=1&sr_order=review_score_and_price&nflt=ht_id%3D204&srpvid=438876a2679504fc&srepoch=1666630342&all_sr_blocks=758850701_333035408_2_33_0&highlighted_blocks=758850701_333035408_2_33_0&matching_block_id=758850701_333035408_2_33_0&sr_pri_blocks=758850701_333035408_2_33_0__12915&from_sustainable_property_sr=1&from=searchresults HTTP/1.1\" 301 None\n",
            "DEBUG:urllib3.connectionpool:https://www.booking.com:443 \"GET /hotel/fr/ibis-styles-dijon-sud-domaine-de-beauregard.fr.html HTTP/1.1\" 200 284511\n",
            "DEBUG:urllib3.connectionpool:Starting new HTTPS connection (1): www.booking.com:443\n"
          ]
        },
        {
          "output_type": "stream",
          "name": "stdout",
          "text": [
            "41\n"
          ]
        },
        {
          "output_type": "stream",
          "name": "stderr",
          "text": [
            "DEBUG:urllib3.connectionpool:https://www.booking.com:443 \"GET /hotel/fr/la-bonbonniere.fr.html?aid=304142&label=gen173bo-1DCAQoggJCDHNlYXJjaF9kaWpvbkgNWANo5wGIAQGYAQ24ARjIAQ_YAQPoAQH4AQOIAgGYAgKoAgS4AsWF25oGwAIB0gIkMjcyYmU1YTAtZTliOS00Y2MxLWIyOTMtMmQyNWJjNDI4M2Iz2AIE4AIB&ucfs=1&arphpl=1&checkin=2022-10-29&checkout=2022-10-30&group_adults=2&req_adults=2&no_rooms=1&group_children=0&req_children=0&hpos=2&hapos=2&sr_order=review_score_and_price&nflt=ht_id%3D204&srpvid=438876a2679504fc&srepoch=1666630342&all_sr_blocks=5515105_331160633_0_2_0&highlighted_blocks=5515105_331160633_0_2_0&matching_block_id=5515105_331160633_0_2_0&sr_pri_blocks=5515105_331160633_0_2_0__16100&from_sustainable_property_sr=1&from=searchresults HTTP/1.1\" 301 None\n",
            "DEBUG:urllib3.connectionpool:https://www.booking.com:443 \"GET /hotel/fr/la-bonbonniere.fr.html HTTP/1.1\" 200 288852\n",
            "DEBUG:urllib3.connectionpool:Starting new HTTPS connection (1): www.booking.com:443\n"
          ]
        },
        {
          "output_type": "stream",
          "name": "stdout",
          "text": [
            "42\n"
          ]
        },
        {
          "output_type": "stream",
          "name": "stderr",
          "text": [
            "DEBUG:urllib3.connectionpool:https://www.booking.com:443 \"GET /hotel/fr/bestwesternchapeaurouge.fr.html?aid=304142&label=gen173bo-1DCAQoggJCDHNlYXJjaF9kaWpvbkgNWANo5wGIAQGYAQ24ARjIAQ_YAQPoAQH4AQOIAgGYAgKoAgS4AsWF25oGwAIB0gIkMjcyYmU1YTAtZTliOS00Y2MxLWIyOTMtMmQyNWJjNDI4M2Iz2AIE4AIB&ucfs=1&arphpl=1&checkin=2022-10-29&checkout=2022-10-30&group_adults=2&req_adults=2&no_rooms=1&group_children=0&req_children=0&hpos=3&hapos=3&sr_order=review_score_and_price&nflt=ht_id%3D204&srpvid=438876a2679504fc&srepoch=1666630342&all_sr_blocks=20386108_133733527_0_2_0&highlighted_blocks=20386108_133733527_0_2_0&matching_block_id=20386108_133733527_0_2_0&sr_pri_blocks=20386108_133733527_0_2_0__20200&from=searchresults HTTP/1.1\" 301 None\n",
            "DEBUG:urllib3.connectionpool:https://www.booking.com:443 \"GET /hotel/fr/bestwesternchapeaurouge.fr.html HTTP/1.1\" 200 284758\n",
            "DEBUG:urllib3.connectionpool:Starting new HTTPS connection (1): www.booking.com:443\n"
          ]
        },
        {
          "output_type": "stream",
          "name": "stdout",
          "text": [
            "43\n"
          ]
        },
        {
          "output_type": "stream",
          "name": "stderr",
          "text": [
            "DEBUG:urllib3.connectionpool:https://www.booking.com:443 \"GET /hotel/fr/campanile-dijon-congra-s-cla-c-menceau.fr.html?aid=304142&label=gen173bo-1DCAQoggJCDHNlYXJjaF9kaWpvbkgNWANo5wGIAQGYAQ24ARjIAQ_YAQPoAQH4AQOIAgGYAgKoAgS4AsWF25oGwAIB0gIkMjcyYmU1YTAtZTliOS00Y2MxLWIyOTMtMmQyNWJjNDI4M2Iz2AIE4AIB&ucfs=1&arphpl=1&checkin=2022-10-29&checkout=2022-10-30&group_adults=2&req_adults=2&no_rooms=1&group_children=0&req_children=0&hpos=4&hapos=4&sr_order=review_score_and_price&nflt=ht_id%3D204&srpvid=438876a2679504fc&srepoch=1666630342&all_sr_blocks=68000402_250732449_2_2_0&highlighted_blocks=68000402_250732449_2_2_0&matching_block_id=68000402_250732449_2_2_0&sr_pri_blocks=68000402_250732449_2_2_0__8460&from=searchresults HTTP/1.1\" 301 None\n",
            "DEBUG:urllib3.connectionpool:https://www.booking.com:443 \"GET /hotel/fr/campanile-dijon-congra-s-cla-c-menceau.fr.html HTTP/1.1\" 200 285319\n",
            "DEBUG:urllib3.connectionpool:Starting new HTTPS connection (1): www.booking.com:443\n"
          ]
        },
        {
          "output_type": "stream",
          "name": "stdout",
          "text": [
            "44\n"
          ]
        },
        {
          "output_type": "stream",
          "name": "stderr",
          "text": [
            "DEBUG:urllib3.connectionpool:https://www.booking.com:443 \"GET /hotel/fr/holiday-inn-express-dijon.fr.html?aid=304142&label=gen173bo-1DCAQoggJCDHNlYXJjaF9kaWpvbkgNWANo5wGIAQGYAQ24ARjIAQ_YAQPoAQH4AQOIAgGYAgKoAgS4AsWF25oGwAIB0gIkMjcyYmU1YTAtZTliOS00Y2MxLWIyOTMtMmQyNWJjNDI4M2Iz2AIE4AIB&ucfs=1&arphpl=1&checkin=2022-10-29&checkout=2022-10-30&group_adults=2&req_adults=2&no_rooms=1&group_children=0&req_children=0&hpos=5&hapos=5&sr_order=review_score_and_price&nflt=ht_id%3D204&srpvid=438876a2679504fc&srepoch=1666630342&all_sr_blocks=55083205_94490967_2_1_0&highlighted_blocks=55083205_94490967_2_1_0&matching_block_id=55083205_94490967_2_1_0&sr_pri_blocks=55083205_94490967_2_1_0__8910&from_sustainable_property_sr=1&from=searchresults HTTP/1.1\" 301 None\n",
            "DEBUG:urllib3.connectionpool:https://www.booking.com:443 \"GET /hotel/fr/holiday-inn-express-dijon.fr.html HTTP/1.1\" 200 288409\n",
            "DEBUG:urllib3.connectionpool:Starting new HTTPS connection (1): www.booking.com:443\n"
          ]
        },
        {
          "output_type": "stream",
          "name": "stdout",
          "text": [
            "45\n"
          ]
        },
        {
          "output_type": "stream",
          "name": "stderr",
          "text": [
            "DEBUG:urllib3.connectionpool:https://www.booking.com:443 \"GET /hotel/fr/montchapet.fr.html?aid=304142&label=gen173bo-1DCAQoggJCDHNlYXJjaF9kaWpvbkgNWANo5wGIAQGYAQ24ARjIAQ_YAQPoAQH4AQOIAgGYAgKoAgS4AsWF25oGwAIB0gIkMjcyYmU1YTAtZTliOS00Y2MxLWIyOTMtMmQyNWJjNDI4M2Iz2AIE4AIB&ucfs=1&arphpl=1&checkin=2022-10-29&checkout=2022-10-30&group_adults=2&req_adults=2&no_rooms=1&group_children=0&req_children=0&hpos=6&hapos=6&sr_order=review_score_and_price&nflt=ht_id%3D204&srpvid=438876a2679504fc&srepoch=1666630342&all_sr_blocks=18195103_196141531_0_2_0&highlighted_blocks=18195103_196141531_0_2_0&matching_block_id=18195103_196141531_0_2_0&sr_pri_blocks=18195103_196141531_0_2_0__10000&from_sustainable_property_sr=1&from=searchresults HTTP/1.1\" 301 None\n",
            "DEBUG:urllib3.connectionpool:https://www.booking.com:443 \"GET /hotel/fr/montchapet.fr.html HTTP/1.1\" 200 283891\n",
            "DEBUG:urllib3.connectionpool:Starting new HTTPS connection (1): www.booking.com:443\n"
          ]
        },
        {
          "output_type": "stream",
          "name": "stdout",
          "text": [
            "46\n"
          ]
        },
        {
          "output_type": "stream",
          "name": "stderr",
          "text": [
            "DEBUG:urllib3.connectionpool:https://www.booking.com:443 \"GET /hotel/fr/aparthotel-adagio-access-dijon-republique.fr.html?aid=304142&label=gen173bo-1DCAQoggJCDHNlYXJjaF9kaWpvbkgNWANo5wGIAQGYAQ24ARjIAQ_YAQPoAQH4AQOIAgGYAgKoAgS4AsWF25oGwAIB0gIkMjcyYmU1YTAtZTliOS00Y2MxLWIyOTMtMmQyNWJjNDI4M2Iz2AIE4AIB&ucfs=1&arphpl=1&checkin=2022-10-29&checkout=2022-10-30&group_adults=2&req_adults=2&no_rooms=1&group_children=0&req_children=0&hpos=7&hapos=7&sr_order=review_score_and_price&nflt=ht_id%3D204&srpvid=438876a2679504fc&srepoch=1666630342&all_sr_blocks=112063106_199080134_2_2_0&highlighted_blocks=112063106_199080134_2_2_0&matching_block_id=112063106_199080134_2_2_0&sr_pri_blocks=112063106_199080134_2_2_0__10300&from=searchresults HTTP/1.1\" 301 None\n",
            "DEBUG:urllib3.connectionpool:https://www.booking.com:443 \"GET /hotel/fr/aparthotel-adagio-access-dijon-republique.fr.html HTTP/1.1\" 200 287611\n",
            "DEBUG:urllib3.connectionpool:Starting new HTTPS connection (1): www.booking.com:443\n"
          ]
        },
        {
          "output_type": "stream",
          "name": "stdout",
          "text": [
            "47\n"
          ]
        },
        {
          "output_type": "stream",
          "name": "stderr",
          "text": [
            "DEBUG:urllib3.connectionpool:https://www.booking.com:443 \"GET /hotel/fr/dijon-centre-clemenceau.fr.html?aid=304142&label=gen173bo-1DCAQoggJCDHNlYXJjaF9kaWpvbkgNWANo5wGIAQGYAQ24ARjIAQ_YAQPoAQH4AQOIAgGYAgKoAgS4AsWF25oGwAIB0gIkMjcyYmU1YTAtZTliOS00Y2MxLWIyOTMtMmQyNWJjNDI4M2Iz2AIE4AIB&ucfs=1&arphpl=1&checkin=2022-10-29&checkout=2022-10-30&group_adults=2&req_adults=2&no_rooms=1&group_children=0&req_children=0&hpos=8&hapos=8&sr_order=review_score_and_price&nflt=ht_id%3D204&srpvid=438876a2679504fc&srepoch=1666630342&all_sr_blocks=5737807_333879142_2_42_0&highlighted_blocks=5737807_333879142_2_42_0&matching_block_id=5737807_333879142_2_42_0&sr_pri_blocks=5737807_333879142_2_42_0__12075&from=searchresults HTTP/1.1\" 301 None\n",
            "DEBUG:urllib3.connectionpool:https://www.booking.com:443 \"GET /hotel/fr/dijon-centre-clemenceau.fr.html HTTP/1.1\" 200 288260\n",
            "DEBUG:urllib3.connectionpool:Starting new HTTPS connection (1): www.booking.com:443\n"
          ]
        },
        {
          "output_type": "stream",
          "name": "stdout",
          "text": [
            "48\n"
          ]
        },
        {
          "output_type": "stream",
          "name": "stderr",
          "text": [
            "DEBUG:urllib3.connectionpool:https://www.booking.com:443 \"GET /hotel/fr/kyriad-prestige-dijon-nord-valmy-xml.fr.html?aid=304142&label=gen173bo-1DCAQoggJCDHNlYXJjaF9kaWpvbkgNWANo5wGIAQGYAQ24ARjIAQ_YAQPoAQH4AQOIAgGYAgKoAgS4AsWF25oGwAIB0gIkMjcyYmU1YTAtZTliOS00Y2MxLWIyOTMtMmQyNWJjNDI4M2Iz2AIE4AIB&ucfs=1&arphpl=1&checkin=2022-10-29&checkout=2022-10-30&group_adults=2&req_adults=2&no_rooms=1&group_children=0&req_children=0&hpos=9&hapos=9&sr_order=review_score_and_price&nflt=ht_id%3D204&srpvid=438876a2679504fc&srepoch=1666630342&all_sr_blocks=55736802_204788237_2_2_0&highlighted_blocks=55736802_204788237_2_2_0&matching_block_id=55736802_204788237_2_2_0&sr_pri_blocks=55736802_204788237_2_2_0__13000&from_sustainable_property_sr=1&from=searchresults HTTP/1.1\" 301 None\n",
            "DEBUG:urllib3.connectionpool:https://www.booking.com:443 \"GET /hotel/fr/kyriad-prestige-dijon-nord-valmy-xml.fr.html HTTP/1.1\" 200 287854\n",
            "DEBUG:urllib3.connectionpool:Starting new HTTPS connection (1): www.booking.com:443\n"
          ]
        },
        {
          "output_type": "stream",
          "name": "stdout",
          "text": [
            "49\n"
          ]
        },
        {
          "output_type": "stream",
          "name": "stderr",
          "text": [
            "DEBUG:urllib3.connectionpool:https://www.booking.com:443 \"GET /hotel/fr/quality-hotel-du-nord-restaurant-de-la-porte-guillaume.fr.html?aid=304142&label=gen173bo-1DCAQoggJCDHNlYXJjaF9kaWpvbkgNWANo5wGIAQGYAQ24ARjIAQ_YAQPoAQH4AQOIAgGYAgKoAgS4AsWF25oGwAIB0gIkMjcyYmU1YTAtZTliOS00Y2MxLWIyOTMtMmQyNWJjNDI4M2Iz2AIE4AIB&ucfs=1&arphpl=1&checkin=2022-10-29&checkout=2022-10-30&group_adults=2&req_adults=2&no_rooms=1&group_children=0&req_children=0&hpos=10&hapos=10&sr_order=review_score_and_price&nflt=ht_id%3D204&srpvid=438876a2679504fc&srepoch=1666630342&all_sr_blocks=22096313_190180943_0_2_0&highlighted_blocks=22096313_190180943_0_2_0&matching_block_id=22096313_190180943_0_2_0&sr_pri_blocks=22096313_190180943_0_2_0__14950&from=searchresults HTTP/1.1\" 301 None\n",
            "DEBUG:urllib3.connectionpool:https://www.booking.com:443 \"GET /hotel/fr/quality-hotel-du-nord-restaurant-de-la-porte-guillaume.fr.html HTTP/1.1\" 200 284548\n",
            "DEBUG:urllib3.connectionpool:Starting new HTTPS connection (1): www.booking.com:443\n"
          ]
        },
        {
          "output_type": "stream",
          "name": "stdout",
          "text": [
            "50\n"
          ]
        },
        {
          "output_type": "stream",
          "name": "stderr",
          "text": [
            "DEBUG:urllib3.connectionpool:https://www.booking.com:443 \"GET /hotel/fr/vertigo.fr.html?aid=304142&label=gen173bo-1DCAQoggJCDHNlYXJjaF9kaWpvbkgNWANo5wGIAQGYAQ24ARjIAQ_YAQPoAQH4AQOIAgGYAgKoAgS4AsWF25oGwAIB0gIkMjcyYmU1YTAtZTliOS00Y2MxLWIyOTMtMmQyNWJjNDI4M2Iz2AIE4AIB&ucfs=1&arphpl=1&checkin=2022-10-29&checkout=2022-10-30&group_adults=2&req_adults=2&no_rooms=1&group_children=0&req_children=0&hpos=11&hapos=11&sr_order=review_score_and_price&nflt=ht_id%3D204&srpvid=438876a2679504fc&srepoch=1666630342&all_sr_blocks=116721802_106201779_2_2_0&highlighted_blocks=116721802_106201779_2_2_0&matching_block_id=116721802_106201779_2_2_0&sr_pri_blocks=116721802_106201779_2_2_0__29000&from_sustainable_property_sr=1&from=searchresults HTTP/1.1\" 301 None\n",
            "DEBUG:urllib3.connectionpool:https://www.booking.com:443 \"GET /hotel/fr/vertigo.fr.html HTTP/1.1\" 200 289854\n",
            "DEBUG:urllib3.connectionpool:Starting new HTTPS connection (1): www.booking.com:443\n"
          ]
        },
        {
          "output_type": "stream",
          "name": "stdout",
          "text": [
            "51\n"
          ]
        },
        {
          "output_type": "stream",
          "name": "stderr",
          "text": [
            "DEBUG:urllib3.connectionpool:https://www.booking.com:443 \"GET /hotel/fr/dijon-longvic.fr.html?aid=304142&label=gen173bo-1DCAQoggJCDHNlYXJjaF9kaWpvbkgNWANo5wGIAQGYAQ24ARjIAQ_YAQPoAQH4AQOIAgGYAgKoAgS4AsWF25oGwAIB0gIkMjcyYmU1YTAtZTliOS00Y2MxLWIyOTMtMmQyNWJjNDI4M2Iz2AIE4AIB&ucfs=1&arphpl=1&checkin=2022-10-29&checkout=2022-10-30&group_adults=2&req_adults=2&no_rooms=1&group_children=0&req_children=0&hpos=12&hapos=12&sr_order=review_score_and_price&nflt=ht_id%3D204&srpvid=438876a2679504fc&srepoch=1666630342&all_sr_blocks=19185501_250733755_2_34_0&highlighted_blocks=19185501_250733755_2_34_0&matching_block_id=19185501_250733755_2_34_0&sr_pri_blocks=19185501_250733755_2_34_0__5850&from_sustainable_property_sr=1&from=searchresults HTTP/1.1\" 301 None\n",
            "DEBUG:urllib3.connectionpool:https://www.booking.com:443 \"GET /hotel/fr/dijon-longvic.fr.html HTTP/1.1\" 200 283644\n",
            "DEBUG:urllib3.connectionpool:Starting new HTTPS connection (1): www.booking.com:443\n"
          ]
        },
        {
          "output_type": "stream",
          "name": "stdout",
          "text": [
            "52\n"
          ]
        },
        {
          "output_type": "stream",
          "name": "stderr",
          "text": [
            "DEBUG:urllib3.connectionpool:https://www.booking.com:443 \"GET /hotel/fr/ibis-budget-dijon-saint-apollinaire.fr.html?aid=304142&label=gen173bo-1DCAQoggJCDHNlYXJjaF9kaWpvbkgNWANo5wGIAQGYAQ24ARjIAQ_YAQPoAQH4AQOIAgGYAgKoAgS4AsWF25oGwAIB0gIkMjcyYmU1YTAtZTliOS00Y2MxLWIyOTMtMmQyNWJjNDI4M2Iz2AIE4AIB&ucfs=1&arphpl=1&checkin=2022-10-29&checkout=2022-10-30&group_adults=2&req_adults=2&no_rooms=1&group_children=0&req_children=0&hpos=13&hapos=13&sr_order=review_score_and_price&nflt=ht_id%3D204&srpvid=438876a2679504fc&srepoch=1666630342&all_sr_blocks=66271701_333880123_3_2_0&highlighted_blocks=66271701_333880123_3_2_0&matching_block_id=66271701_333880123_3_2_0&sr_pri_blocks=66271701_333880123_3_2_0__6195&from=searchresults HTTP/1.1\" 301 None\n",
            "DEBUG:urllib3.connectionpool:https://www.booking.com:443 \"GET /hotel/fr/ibis-budget-dijon-saint-apollinaire.fr.html HTTP/1.1\" 200 278527\n",
            "DEBUG:urllib3.connectionpool:Starting new HTTPS connection (1): www.booking.com:443\n"
          ]
        },
        {
          "output_type": "stream",
          "name": "stdout",
          "text": [
            "53\n"
          ]
        },
        {
          "output_type": "stream",
          "name": "stderr",
          "text": [
            "DEBUG:urllib3.connectionpool:https://www.booking.com:443 \"GET /hotel/fr/du-stade.fr.html?aid=304142&label=gen173bo-1DCAQoggJCDHNlYXJjaF9kaWpvbkgNWANo5wGIAQGYAQ24ARjIAQ_YAQPoAQH4AQOIAgGYAgKoAgS4AsWF25oGwAIB0gIkMjcyYmU1YTAtZTliOS00Y2MxLWIyOTMtMmQyNWJjNDI4M2Iz2AIE4AIB&ucfs=1&arphpl=1&checkin=2022-10-29&checkout=2022-10-30&group_adults=2&req_adults=2&no_rooms=1&group_children=0&req_children=0&hpos=14&hapos=14&sr_order=review_score_and_price&nflt=ht_id%3D204&srpvid=438876a2679504fc&srepoch=1666630342&all_sr_blocks=18159102_222449792_0_0_0&highlighted_blocks=18159102_222449792_0_0_0&matching_block_id=18159102_222449792_0_0_0&sr_pri_blocks=18159102_222449792_0_0_0__6700&from=searchresults HTTP/1.1\" 301 None\n",
            "DEBUG:urllib3.connectionpool:https://www.booking.com:443 \"GET /hotel/fr/du-stade.fr.html HTTP/1.1\" 200 274242\n",
            "DEBUG:urllib3.connectionpool:Starting new HTTPS connection (1): www.booking.com:443\n"
          ]
        },
        {
          "output_type": "stream",
          "name": "stdout",
          "text": [
            "54\n"
          ]
        },
        {
          "output_type": "stream",
          "name": "stderr",
          "text": [
            "DEBUG:urllib3.connectionpool:https://www.booking.com:443 \"GET /hotel/fr/comfort-longvic.fr.html?aid=304142&label=gen173bo-1DCAQoggJCDHNlYXJjaF9kaWpvbkgNWANo5wGIAQGYAQ24ARjIAQ_YAQPoAQH4AQOIAgGYAgKoAgS4AsWF25oGwAIB0gIkMjcyYmU1YTAtZTliOS00Y2MxLWIyOTMtMmQyNWJjNDI4M2Iz2AIE4AIB&ucfs=1&arphpl=1&checkin=2022-10-29&checkout=2022-10-30&group_adults=2&req_adults=2&no_rooms=1&group_children=0&req_children=0&hpos=15&hapos=15&sr_order=review_score_and_price&nflt=ht_id%3D204&srpvid=438876a2679504fc&srepoch=1666630342&all_sr_blocks=24295001_331338079_2_2_0&highlighted_blocks=24295001_331338079_2_2_0&matching_block_id=24295001_331338079_2_2_0&sr_pri_blocks=24295001_331338079_2_2_0__6900&from_sustainable_property_sr=1&from=searchresults HTTP/1.1\" 301 None\n",
            "DEBUG:urllib3.connectionpool:https://www.booking.com:443 \"GET /hotel/fr/comfort-longvic.fr.html HTTP/1.1\" 200 284976\n",
            "DEBUG:urllib3.connectionpool:Starting new HTTPS connection (1): www.booking.com:443\n"
          ]
        },
        {
          "output_type": "stream",
          "name": "stdout",
          "text": [
            "55\n"
          ]
        },
        {
          "output_type": "stream",
          "name": "stderr",
          "text": [
            "DEBUG:urllib3.connectionpool:https://www.booking.com:443 \"GET /hotel/fr/ibis-dijon-sud.fr.html?aid=304142&label=gen173bo-1DCAQoggJCDHNlYXJjaF9kaWpvbkgNWANo5wGIAQGYAQ24ARjIAQ_YAQPoAQH4AQOIAgGYAgKoAgS4AsWF25oGwAIB0gIkMjcyYmU1YTAtZTliOS00Y2MxLWIyOTMtMmQyNWJjNDI4M2Iz2AIE4AIB&ucfs=1&arphpl=1&checkin=2022-10-29&checkout=2022-10-30&group_adults=2&req_adults=2&no_rooms=1&group_children=0&req_children=0&hpos=16&hapos=16&sr_order=review_score_and_price&nflt=ht_id%3D204&srpvid=438876a2679504fc&srepoch=1666630342&all_sr_blocks=38762706_333879310_2_34_0&highlighted_blocks=38762706_333879310_2_34_0&matching_block_id=38762706_333879310_2_34_0&sr_pri_blocks=38762706_333879310_2_34_0__7770&from_sustainable_property_sr=1&from=searchresults HTTP/1.1\" 301 None\n",
            "DEBUG:urllib3.connectionpool:https://www.booking.com:443 \"GET /hotel/fr/ibis-dijon-sud.fr.html HTTP/1.1\" 200 283101\n",
            "DEBUG:urllib3.connectionpool:Starting new HTTPS connection (1): www.booking.com:443\n"
          ]
        },
        {
          "output_type": "stream",
          "name": "stdout",
          "text": [
            "56\n"
          ]
        },
        {
          "output_type": "stream",
          "name": "stderr",
          "text": [
            "DEBUG:urllib3.connectionpool:https://www.booking.com:443 \"GET /hotel/fr/ibis-dijon-gare.fr.html?aid=304142&label=gen173bo-1DCAQoggJCDHNlYXJjaF9kaWpvbkgNWANo5wGIAQGYAQ24ARjIAQ_YAQPoAQH4AQOIAgGYAgKoAgS4AsWF25oGwAIB0gIkMjcyYmU1YTAtZTliOS00Y2MxLWIyOTMtMmQyNWJjNDI4M2Iz2AIE4AIB&ucfs=1&arphpl=1&checkin=2022-10-29&checkout=2022-10-30&group_adults=2&req_adults=2&no_rooms=1&group_children=0&req_children=0&hpos=17&hapos=17&sr_order=review_score_and_price&nflt=ht_id%3D204&srpvid=438876a2679504fc&srepoch=1666630342&all_sr_blocks=5746607_333879211_2_42_0&highlighted_blocks=5746607_333879211_2_42_0&matching_block_id=5746607_333879211_2_42_0&sr_pri_blocks=5746607_333879211_2_42_0__7875&from_sustainable_property_sr=1&from=searchresults HTTP/1.1\" 301 None\n",
            "DEBUG:urllib3.connectionpool:https://www.booking.com:443 \"GET /hotel/fr/ibis-dijon-gare.fr.html HTTP/1.1\" 200 284503\n",
            "DEBUG:urllib3.connectionpool:Starting new HTTPS connection (1): www.booking.com:443\n"
          ]
        },
        {
          "output_type": "stream",
          "name": "stdout",
          "text": [
            "57\n"
          ]
        },
        {
          "output_type": "stream",
          "name": "stderr",
          "text": [
            "DEBUG:urllib3.connectionpool:https://www.booking.com:443 \"GET /hotel/fr/hotel-balladins-dijon-nord-superior.fr.html?aid=304142&label=gen173bo-1DCAQoggJCDHNlYXJjaF9kaWpvbkgNWANo5wGIAQGYAQ24ARjIAQ_YAQPoAQH4AQOIAgGYAgKoAgS4AsWF25oGwAIB0gIkMjcyYmU1YTAtZTliOS00Y2MxLWIyOTMtMmQyNWJjNDI4M2Iz2AIE4AIB&ucfs=1&arphpl=1&checkin=2022-10-29&checkout=2022-10-30&group_adults=2&req_adults=2&no_rooms=1&group_children=0&req_children=0&hpos=18&hapos=18&sr_order=review_score_and_price&nflt=ht_id%3D204&srpvid=438876a2679504fc&srepoch=1666630342&all_sr_blocks=23083610_309336152_2_2_0&highlighted_blocks=23083610_309336152_2_2_0&matching_block_id=23083610_309336152_2_2_0&sr_pri_blocks=23083610_309336152_2_2_0__8000&from_sustainable_property_sr=1&from=searchresults HTTP/1.1\" 301 None\n",
            "DEBUG:urllib3.connectionpool:https://www.booking.com:443 \"GET /hotel/fr/hotel-balladins-dijon-nord-superior.fr.html HTTP/1.1\" 200 280141\n",
            "DEBUG:urllib3.connectionpool:Starting new HTTPS connection (1): www.booking.com:443\n"
          ]
        },
        {
          "output_type": "stream",
          "name": "stdout",
          "text": [
            "58\n"
          ]
        },
        {
          "output_type": "stream",
          "name": "stderr",
          "text": [
            "DEBUG:urllib3.connectionpool:https://www.booking.com:443 \"GET /hotel/fr/campanile-dijon-parc-tech-de-la-toison-d-or.fr.html?aid=304142&label=gen173bo-1DCAQoggJCDHNlYXJjaF9kaWpvbkgNWANo5wGIAQGYAQ24ARjIAQ_YAQPoAQH4AQOIAgGYAgKoAgS4AsWF25oGwAIB0gIkMjcyYmU1YTAtZTliOS00Y2MxLWIyOTMtMmQyNWJjNDI4M2Iz2AIE4AIB&ucfs=1&arphpl=1&checkin=2022-10-29&checkout=2022-10-30&group_adults=2&req_adults=2&no_rooms=1&group_children=0&req_children=0&hpos=19&hapos=19&sr_order=review_score_and_price&nflt=ht_id%3D204&srpvid=438876a2679504fc&srepoch=1666630342&all_sr_blocks=21944105_250734297_2_2_0&highlighted_blocks=21944105_250734297_2_2_0&matching_block_id=21944105_250734297_2_2_0&sr_pri_blocks=21944105_250734297_2_2_0__8010&from_sustainable_property_sr=1&from=searchresults HTTP/1.1\" 301 None\n",
            "DEBUG:urllib3.connectionpool:https://www.booking.com:443 \"GET /hotel/fr/campanile-dijon-parc-tech-de-la-toison-d-or.fr.html HTTP/1.1\" 200 284424\n",
            "DEBUG:urllib3.connectionpool:Starting new HTTPS connection (1): www.booking.com:443\n"
          ]
        },
        {
          "output_type": "stream",
          "name": "stdout",
          "text": [
            "59\n"
          ]
        },
        {
          "output_type": "stream",
          "name": "stderr",
          "text": [
            "DEBUG:urllib3.connectionpool:https://www.booking.com:443 \"GET /hotel/fr/ibis-budget-dijon-centre-clemenceau.fr.html?aid=304142&label=gen173bo-1DCAQoggJCDHNlYXJjaF9kaWpvbkgNWANo5wGIAQGYAQ24ARjIAQ_YAQPoAQH4AQOIAgGYAgKoAgS4AsWF25oGwAIB0gIkMjcyYmU1YTAtZTliOS00Y2MxLWIyOTMtMmQyNWJjNDI4M2Iz2AIE4AIB&ucfs=1&arphpl=1&checkin=2022-10-29&checkout=2022-10-30&group_adults=2&req_adults=2&no_rooms=1&group_children=0&req_children=0&hpos=20&hapos=20&sr_order=review_score_and_price&nflt=ht_id%3D204&srpvid=438876a2679504fc&srepoch=1666630342&all_sr_blocks=315771303_333880194_2_1_0&highlighted_blocks=315771303_333880194_2_1_0&matching_block_id=315771303_333880194_2_1_0&sr_pri_blocks=315771303_333880194_2_1_0__8610&from_sustainable_property_sr=1&from=searchresults HTTP/1.1\" 301 None\n",
            "DEBUG:urllib3.connectionpool:https://www.booking.com:443 \"GET /hotel/fr/ibis-budget-dijon-centre-clemenceau.fr.html HTTP/1.1\" 200 281219\n",
            "DEBUG:urllib3.connectionpool:Starting new HTTPS connection (1): www.booking.com:443\n"
          ]
        },
        {
          "output_type": "stream",
          "name": "stdout",
          "text": [
            "60\n"
          ]
        },
        {
          "output_type": "stream",
          "name": "stderr",
          "text": [
            "DEBUG:urllib3.connectionpool:https://www.booking.com:443 \"GET /hotel/fr/residence-le-moulin.fr.html?aid=304142&label=gen173bo-1DCAQoggJCF3NlYXJjaF9nb3JnZXMgZHUgdmVyZG9uSA1YA2jnAYgBAZgBDbgBGMgBD9gBA-gBAfgBA4gCAZgCAqgCBLgCxoXbmgbAAgHSAiQyZjgxZjA4MC1hMThhLTQwYWUtYTIxNC1iNzg1YzFmZDY1ZjbYAgTgAgE&ucfs=1&arphpl=1&checkin=2022-10-29&checkout=2022-10-30&group_adults=2&req_adults=2&no_rooms=1&group_children=0&req_children=0&hpos=1&hapos=1&sr_order=review_score_and_price&nflt=ht_id%3D204&srpvid=a1aa76a3e0e8014d&srepoch=1666630343&all_sr_blocks=136252001_328159514_2_2_0&highlighted_blocks=136252001_328159514_2_2_0&matching_block_id=136252001_328159514_2_2_0&sr_pri_blocks=136252001_328159514_2_2_0__9800&from_sustainable_property_sr=1&from=searchresults HTTP/1.1\" 301 None\n",
            "DEBUG:urllib3.connectionpool:https://www.booking.com:443 \"GET /hotel/fr/residence-le-moulin.fr.html HTTP/1.1\" 200 282592\n",
            "DEBUG:urllib3.connectionpool:Starting new HTTPS connection (1): www.booking.com:443\n"
          ]
        },
        {
          "output_type": "stream",
          "name": "stdout",
          "text": [
            "61\n"
          ]
        },
        {
          "output_type": "stream",
          "name": "stderr",
          "text": [
            "DEBUG:urllib3.connectionpool:https://www.booking.com:443 \"GET /hotel/fr/les-restanques-de-moustiers.fr.html?aid=304142&label=gen173bo-1DCAQoggJCF3NlYXJjaF9nb3JnZXMgZHUgdmVyZG9uSA1YA2jnAYgBAZgBDbgBGMgBD9gBA-gBAfgBA4gCAZgCAqgCBLgCxoXbmgbAAgHSAiQyZjgxZjA4MC1hMThhLTQwYWUtYTIxNC1iNzg1YzFmZDY1ZjbYAgTgAgE&ucfs=1&arphpl=1&checkin=2022-10-29&checkout=2022-10-30&group_adults=2&req_adults=2&no_rooms=1&group_children=0&req_children=0&hpos=2&hapos=2&sr_order=review_score_and_price&nflt=ht_id%3D204&srpvid=a1aa76a3e0e8014d&srepoch=1666630343&all_sr_blocks=29543301_326752595_0_0_0&highlighted_blocks=29543301_326752595_0_0_0&matching_block_id=29543301_326752595_0_0_0&sr_pri_blocks=29543301_326752595_0_0_0__12200&from_sustainable_property_sr=1&from=searchresults HTTP/1.1\" 301 None\n",
            "DEBUG:urllib3.connectionpool:https://www.booking.com:443 \"GET /hotel/fr/les-restanques-de-moustiers.fr.html HTTP/1.1\" 200 276872\n",
            "DEBUG:urllib3.connectionpool:Starting new HTTPS connection (1): www.booking.com:443\n"
          ]
        },
        {
          "output_type": "stream",
          "name": "stdout",
          "text": [
            "62\n"
          ]
        },
        {
          "output_type": "stream",
          "name": "stderr",
          "text": [
            "DEBUG:urllib3.connectionpool:https://www.booking.com:443 \"GET /hotel/fr/la-bastide-de-moustiers.fr.html?aid=304142&label=gen173bo-1DCAQoggJCF3NlYXJjaF9nb3JnZXMgZHUgdmVyZG9uSA1YA2jnAYgBAZgBDbgBGMgBD9gBA-gBAfgBA4gCAZgCAqgCBLgCxoXbmgbAAgHSAiQyZjgxZjA4MC1hMThhLTQwYWUtYTIxNC1iNzg1YzFmZDY1ZjbYAgTgAgE&ucfs=1&arphpl=1&checkin=2022-10-29&checkout=2022-10-30&group_adults=2&req_adults=2&no_rooms=1&group_children=0&req_children=0&hpos=3&hapos=3&sr_order=review_score_and_price&nflt=ht_id%3D204&srpvid=a1aa76a3e0e8014d&srepoch=1666630343&all_sr_blocks=25004902_240914735_2_41_0&highlighted_blocks=25004902_240914735_2_41_0&matching_block_id=25004902_240914735_2_41_0&sr_pri_blocks=25004902_240914735_2_41_0__35100&from=searchresults HTTP/1.1\" 301 None\n",
            "DEBUG:urllib3.connectionpool:https://www.booking.com:443 \"GET /hotel/fr/la-bastide-de-moustiers.fr.html HTTP/1.1\" 200 292372\n",
            "DEBUG:urllib3.connectionpool:Starting new HTTPS connection (1): www.booking.com:443\n"
          ]
        },
        {
          "output_type": "stream",
          "name": "stdout",
          "text": [
            "63\n"
          ]
        },
        {
          "output_type": "stream",
          "name": "stderr",
          "text": [
            "DEBUG:urllib3.connectionpool:https://www.booking.com:443 \"GET /hotel/fr/auberge-de-baudinard.fr.html?aid=304142&label=gen173bo-1DCAQoggJCF3NlYXJjaF9nb3JnZXMgZHUgdmVyZG9uSA1YA2jnAYgBAZgBDbgBGMgBD9gBA-gBAfgBA4gCAZgCAqgCBLgCxoXbmgbAAgHSAiQyZjgxZjA4MC1hMThhLTQwYWUtYTIxNC1iNzg1YzFmZDY1ZjbYAgTgAgE&ucfs=1&arphpl=1&checkin=2022-10-29&checkout=2022-10-30&group_adults=2&req_adults=2&no_rooms=1&group_children=0&req_children=0&hpos=4&hapos=4&sr_order=review_score_and_price&nflt=ht_id%3D204&srpvid=a1aa76a3e0e8014d&srepoch=1666630343&all_sr_blocks=41142908_170013382_2_34_0&highlighted_blocks=41142908_170013382_2_34_0&matching_block_id=41142908_170013382_2_34_0&sr_pri_blocks=41142908_170013382_2_34_0__7500&from=searchresults HTTP/1.1\" 301 None\n",
            "DEBUG:urllib3.connectionpool:https://www.booking.com:443 \"GET /hotel/fr/auberge-de-baudinard.fr.html HTTP/1.1\" 200 275834\n",
            "DEBUG:urllib3.connectionpool:Starting new HTTPS connection (1): www.booking.com:443\n"
          ]
        },
        {
          "output_type": "stream",
          "name": "stdout",
          "text": [
            "64\n"
          ]
        },
        {
          "output_type": "stream",
          "name": "stderr",
          "text": [
            "DEBUG:urllib3.connectionpool:https://www.booking.com:443 \"GET /hotel/fr/hotellouparadou.fr.html?aid=304142&label=gen173bo-1DCAQoggJCF3NlYXJjaF9nb3JnZXMgZHUgdmVyZG9uSA1YA2jnAYgBAZgBDbgBGMgBD9gBA-gBAfgBA4gCAZgCAqgCBLgCxoXbmgbAAgHSAiQyZjgxZjA4MC1hMThhLTQwYWUtYTIxNC1iNzg1YzFmZDY1ZjbYAgTgAgE&ucfs=1&arphpl=1&checkin=2022-10-29&checkout=2022-10-30&group_adults=2&req_adults=2&no_rooms=1&group_children=0&req_children=0&hpos=5&hapos=5&sr_order=review_score_and_price&nflt=ht_id%3D204&srpvid=a1aa76a3e0e8014d&srepoch=1666630343&all_sr_blocks=13655_93715230_0_0_0&highlighted_blocks=13655_93715230_0_0_0&matching_block_id=13655_93715230_0_0_0&sr_pri_blocks=13655_93715230_0_0_0__9720&from=searchresults HTTP/1.1\" 301 None\n",
            "DEBUG:urllib3.connectionpool:https://www.booking.com:443 \"GET /hotel/fr/hotellouparadou.fr.html HTTP/1.1\" 200 285509\n",
            "DEBUG:urllib3.connectionpool:Starting new HTTPS connection (1): www.booking.com:443\n"
          ]
        },
        {
          "output_type": "stream",
          "name": "stdout",
          "text": [
            "65\n"
          ]
        },
        {
          "output_type": "stream",
          "name": "stderr",
          "text": [
            "DEBUG:urllib3.connectionpool:https://www.booking.com:443 \"GET /hotel/fr/relais-notre-dame.fr.html?aid=304142&label=gen173bo-1DCAQoggJCF3NlYXJjaF9nb3JnZXMgZHUgdmVyZG9uSA1YA2jnAYgBAZgBDbgBGMgBD9gBA-gBAfgBA4gCAZgCAqgCBLgCxoXbmgbAAgHSAiQyZjgxZjA4MC1hMThhLTQwYWUtYTIxNC1iNzg1YzFmZDY1ZjbYAgTgAgE&ucfs=1&arphpl=1&checkin=2022-10-29&checkout=2022-10-30&group_adults=2&req_adults=2&no_rooms=1&group_children=0&req_children=0&hpos=6&hapos=6&sr_order=review_score_and_price&nflt=ht_id%3D204&srpvid=a1aa76a3e0e8014d&srepoch=1666630343&all_sr_blocks=36071302_363116423_2_2_0&highlighted_blocks=36071302_363116423_2_2_0&matching_block_id=36071302_363116423_2_2_0&sr_pri_blocks=36071302_363116423_2_2_0__10350&from=searchresults HTTP/1.1\" 301 None\n",
            "DEBUG:urllib3.connectionpool:https://www.booking.com:443 \"GET /hotel/fr/relais-notre-dame.fr.html HTTP/1.1\" 200 278377\n",
            "DEBUG:urllib3.connectionpool:Starting new HTTPS connection (1): www.booking.com:443\n"
          ]
        },
        {
          "output_type": "stream",
          "name": "stdout",
          "text": [
            "66\n"
          ]
        },
        {
          "output_type": "stream",
          "name": "stderr",
          "text": [
            "DEBUG:urllib3.connectionpool:https://www.booking.com:443 \"GET /hotel/fr/auberge-du-lac-bauduen.fr.html?aid=304142&label=gen173bo-1DCAQoggJCF3NlYXJjaF9nb3JnZXMgZHUgdmVyZG9uSA1YA2jnAYgBAZgBDbgBGMgBD9gBA-gBAfgBA4gCAZgCAqgCBLgCxoXbmgbAAgHSAiQyZjgxZjA4MC1hMThhLTQwYWUtYTIxNC1iNzg1YzFmZDY1ZjbYAgTgAgE&ucfs=1&arphpl=1&checkin=2022-10-29&checkout=2022-10-30&group_adults=2&req_adults=2&no_rooms=1&group_children=0&req_children=0&hpos=7&hapos=7&sr_order=review_score_and_price&nflt=ht_id%3D204&srpvid=a1aa76a3e0e8014d&srepoch=1666630343&all_sr_blocks=118834103_326757318_2_34_0&highlighted_blocks=118834103_326757318_2_34_0&matching_block_id=118834103_326757318_2_34_0&sr_pri_blocks=118834103_326757318_2_34_0__10400&from=searchresults HTTP/1.1\" 301 None\n",
            "DEBUG:urllib3.connectionpool:https://www.booking.com:443 \"GET /hotel/fr/auberge-du-lac-bauduen.fr.html HTTP/1.1\" 200 272896\n",
            "DEBUG:urllib3.connectionpool:Starting new HTTPS connection (1): www.booking.com:443\n"
          ]
        },
        {
          "output_type": "stream",
          "name": "stdout",
          "text": [
            "67\n"
          ]
        },
        {
          "output_type": "stream",
          "name": "stderr",
          "text": [
            "DEBUG:urllib3.connectionpool:https://www.booking.com:443 \"GET /hotel/fr/des-alpes-gra-c-oux-les-bains.fr.html?aid=304142&label=gen173bo-1DCAQoggJCF3NlYXJjaF9nb3JnZXMgZHUgdmVyZG9uSA1YA2jnAYgBAZgBDbgBGMgBD9gBA-gBAfgBA4gCAZgCAqgCBLgCxoXbmgbAAgHSAiQyZjgxZjA4MC1hMThhLTQwYWUtYTIxNC1iNzg1YzFmZDY1ZjbYAgTgAgE&ucfs=1&arphpl=1&checkin=2022-10-29&checkout=2022-10-30&group_adults=2&req_adults=2&no_rooms=1&group_children=0&req_children=0&hpos=8&hapos=8&sr_order=review_score_and_price&nflt=ht_id%3D204&srpvid=a1aa76a3e0e8014d&srepoch=1666630343&all_sr_blocks=5932701_325834990_2_2_0&highlighted_blocks=5932701_325834990_2_2_0&matching_block_id=5932701_325834990_2_2_0&sr_pri_blocks=5932701_325834990_2_2_0__13400&from=searchresults HTTP/1.1\" 301 None\n",
            "DEBUG:urllib3.connectionpool:https://www.booking.com:443 \"GET /hotel/fr/des-alpes-gra-c-oux-les-bains.fr.html HTTP/1.1\" 200 284184\n",
            "DEBUG:urllib3.connectionpool:Starting new HTTPS connection (1): www.booking.com:443\n"
          ]
        },
        {
          "output_type": "stream",
          "name": "stdout",
          "text": [
            "68\n"
          ]
        },
        {
          "output_type": "stream",
          "name": "stderr",
          "text": [
            "DEBUG:urllib3.connectionpool:https://www.booking.com:443 \"GET /hotel/fr/la-bastide-du-paradou-moustiers-sainte-marie.fr.html?aid=304142&label=gen173bo-1DCAQoggJCF3NlYXJjaF9nb3JnZXMgZHUgdmVyZG9uSA1YA2jnAYgBAZgBDbgBGMgBD9gBA-gBAfgBA4gCAZgCAqgCBLgCxoXbmgbAAgHSAiQyZjgxZjA4MC1hMThhLTQwYWUtYTIxNC1iNzg1YzFmZDY1ZjbYAgTgAgE&ucfs=1&arphpl=1&checkin=2022-10-29&checkout=2022-10-30&group_adults=2&req_adults=2&no_rooms=1&group_children=0&req_children=0&hpos=9&hapos=9&sr_order=review_score_and_price&nflt=ht_id%3D204&srpvid=a1aa76a3e0e8014d&srepoch=1666630343&all_sr_blocks=5995601_192126756_0_2_0&highlighted_blocks=5995601_192126756_0_2_0&matching_block_id=5995601_192126756_0_2_0&sr_pri_blocks=5995601_192126756_0_2_0__13900&from=searchresults HTTP/1.1\" 301 None\n",
            "DEBUG:urllib3.connectionpool:https://www.booking.com:443 \"GET /hotel/fr/la-bastide-du-paradou-moustiers-sainte-marie.fr.html HTTP/1.1\" 200 277109\n",
            "DEBUG:urllib3.connectionpool:Starting new HTTPS connection (1): www.booking.com:443\n"
          ]
        },
        {
          "output_type": "stream",
          "name": "stdout",
          "text": [
            "69\n"
          ]
        },
        {
          "output_type": "stream",
          "name": "stderr",
          "text": [
            "DEBUG:urllib3.connectionpool:https://www.booking.com:443 \"GET /hotel/fr/villa-castellane-greoux-les-bains.fr.html?aid=304142&label=gen173bo-1DCAQoggJCF3NlYXJjaF9nb3JnZXMgZHUgdmVyZG9uSA1YA2jnAYgBAZgBDbgBGMgBD9gBA-gBAfgBA4gCAZgCAqgCBLgCxoXbmgbAAgHSAiQyZjgxZjA4MC1hMThhLTQwYWUtYTIxNC1iNzg1YzFmZDY1ZjbYAgTgAgE&ucfs=1&arphpl=1&checkin=2022-10-29&checkout=2022-10-30&group_adults=2&req_adults=2&no_rooms=1&group_children=0&req_children=0&hpos=10&hapos=10&sr_order=review_score_and_price&nflt=ht_id%3D204&srpvid=a1aa76a3e0e8014d&srepoch=1666630343&all_sr_blocks=858388802_359414852_2_42_0&highlighted_blocks=858388802_359414852_2_42_0&matching_block_id=858388802_359414852_2_42_0&sr_pri_blocks=858388802_359414852_2_42_0__14900&from=searchresults HTTP/1.1\" 301 None\n",
            "DEBUG:urllib3.connectionpool:https://www.booking.com:443 \"GET /hotel/fr/villa-castellane-greoux-les-bains.fr.html HTTP/1.1\" 200 282794\n",
            "DEBUG:urllib3.connectionpool:Starting new HTTPS connection (1): www.booking.com:443\n"
          ]
        },
        {
          "output_type": "stream",
          "name": "stdout",
          "text": [
            "70\n"
          ]
        },
        {
          "output_type": "stream",
          "name": "stderr",
          "text": [
            "DEBUG:urllib3.connectionpool:https://www.booking.com:443 \"GET /hotel/fr/nouvel-du-commerce-castellane.fr.html?aid=304142&label=gen173bo-1DCAQoggJCF3NlYXJjaF9nb3JnZXMgZHUgdmVyZG9uSA1YA2jnAYgBAZgBDbgBGMgBD9gBA-gBAfgBA4gCAZgCAqgCBLgCxoXbmgbAAgHSAiQyZjgxZjA4MC1hMThhLTQwYWUtYTIxNC1iNzg1YzFmZDY1ZjbYAgTgAgE&ucfs=1&arphpl=1&checkin=2022-10-29&checkout=2022-10-30&group_adults=2&req_adults=2&no_rooms=1&group_children=0&req_children=0&hpos=11&hapos=11&sr_order=review_score_and_price&nflt=ht_id%3D204&srpvid=a1aa76a3e0e8014d&srepoch=1666630343&all_sr_blocks=17616013_326752063_0_2_0&highlighted_blocks=17616013_326752063_0_2_0&matching_block_id=17616013_326752063_0_2_0&sr_pri_blocks=17616013_326752063_0_2_0__16500&from_sustainable_property_sr=1&from=searchresults HTTP/1.1\" 301 None\n",
            "DEBUG:urllib3.connectionpool:https://www.booking.com:443 \"GET /hotel/fr/nouvel-du-commerce-castellane.fr.html HTTP/1.1\" 200 289035\n",
            "DEBUG:urllib3.connectionpool:Starting new HTTPS connection (1): www.booking.com:443\n"
          ]
        },
        {
          "output_type": "stream",
          "name": "stdout",
          "text": [
            "71\n"
          ]
        },
        {
          "output_type": "stream",
          "name": "stderr",
          "text": [
            "DEBUG:urllib3.connectionpool:https://www.booking.com:443 \"GET /hotel/fr/mas-de-l-orangerie-greoux-les-bains.fr.html?aid=304142&label=gen173bo-1DCAQoggJCF3NlYXJjaF9nb3JnZXMgZHUgdmVyZG9uSA1YA2jnAYgBAZgBDbgBGMgBD9gBA-gBAfgBA4gCAZgCAqgCBLgCxoXbmgbAAgHSAiQyZjgxZjA4MC1hMThhLTQwYWUtYTIxNC1iNzg1YzFmZDY1ZjbYAgTgAgE&ucfs=1&arphpl=1&checkin=2022-10-29&checkout=2022-10-30&group_adults=2&req_adults=2&no_rooms=1&group_children=0&req_children=0&hpos=12&hapos=12&sr_order=review_score_and_price&nflt=ht_id%3D204&srpvid=a1aa76a3e0e8014d&srepoch=1666630343&all_sr_blocks=826217517_347081826_2_0_0&highlighted_blocks=826217517_347081826_2_0_0&matching_block_id=826217517_347081826_2_0_0&sr_pri_blocks=826217517_347081826_2_0_0__5000&from=searchresults HTTP/1.1\" 301 None\n",
            "DEBUG:urllib3.connectionpool:https://www.booking.com:443 \"GET /hotel/fr/mas-de-l-orangerie-greoux-les-bains.fr.html HTTP/1.1\" 200 292516\n",
            "DEBUG:urllib3.connectionpool:Starting new HTTPS connection (1): www.booking.com:443\n"
          ]
        },
        {
          "output_type": "stream",
          "name": "stdout",
          "text": [
            "72\n"
          ]
        },
        {
          "output_type": "stream",
          "name": "stderr",
          "text": [
            "DEBUG:urllib3.connectionpool:https://www.booking.com:443 \"GET /hotel/fr/la-bastide-du-logis-du-pin.fr.html?aid=304142&label=gen173bo-1DCAQoggJCF3NlYXJjaF9nb3JnZXMgZHUgdmVyZG9uSA1YA2jnAYgBAZgBDbgBGMgBD9gBA-gBAfgBA4gCAZgCAqgCBLgCxoXbmgbAAgHSAiQyZjgxZjA4MC1hMThhLTQwYWUtYTIxNC1iNzg1YzFmZDY1ZjbYAgTgAgE&ucfs=1&arphpl=1&checkin=2022-10-29&checkout=2022-10-30&group_adults=2&req_adults=2&no_rooms=1&group_children=0&req_children=0&hpos=13&hapos=13&sr_order=review_score_and_price&nflt=ht_id%3D204&srpvid=a1aa76a3e0e8014d&srepoch=1666630343&all_sr_blocks=250222101_363182585_2_1_0&highlighted_blocks=250222101_363182585_2_1_0&matching_block_id=250222101_363182585_2_1_0&sr_pri_blocks=250222101_363182585_2_1_0__7800&from=searchresults HTTP/1.1\" 301 None\n",
            "DEBUG:urllib3.connectionpool:https://www.booking.com:443 \"GET /hotel/fr/la-bastide-du-logis-du-pin.fr.html HTTP/1.1\" 200 272712\n",
            "DEBUG:urllib3.connectionpool:Starting new HTTPS connection (1): www.booking.com:443\n"
          ]
        },
        {
          "output_type": "stream",
          "name": "stdout",
          "text": [
            "73\n"
          ]
        },
        {
          "output_type": "stream",
          "name": "stderr",
          "text": [
            "DEBUG:urllib3.connectionpool:https://www.booking.com:443 \"GET /hotel/fr/les-cavalets.fr.html?aid=304142&label=gen173bo-1DCAQoggJCF3NlYXJjaF9nb3JnZXMgZHUgdmVyZG9uSA1YA2jnAYgBAZgBDbgBGMgBD9gBA-gBAfgBA4gCAZgCAqgCBLgCxoXbmgbAAgHSAiQyZjgxZjA4MC1hMThhLTQwYWUtYTIxNC1iNzg1YzFmZDY1ZjbYAgTgAgE&ucfs=1&arphpl=1&checkin=2022-10-29&checkout=2022-10-30&group_adults=2&req_adults=2&no_rooms=1&group_children=0&req_children=0&hpos=14&hapos=14&sr_order=review_score_and_price&nflt=ht_id%3D204&srpvid=a1aa76a3e0e8014d&srepoch=1666630343&all_sr_blocks=102922701_260032997_2_2_0&highlighted_blocks=102922701_260032997_2_2_0&matching_block_id=102922701_260032997_2_2_0&sr_pri_blocks=102922701_260032997_2_2_0__8925&from=searchresults HTTP/1.1\" 301 None\n",
            "DEBUG:urllib3.connectionpool:https://www.booking.com:443 \"GET /hotel/fr/les-cavalets.fr.html HTTP/1.1\" 200 279516\n",
            "DEBUG:urllib3.connectionpool:Starting new HTTPS connection (1): www.booking.com:443\n"
          ]
        },
        {
          "output_type": "stream",
          "name": "stdout",
          "text": [
            "74\n"
          ]
        },
        {
          "output_type": "stream",
          "name": "stderr",
          "text": [
            "DEBUG:urllib3.connectionpool:https://www.booking.com:443 \"GET /hotel/fr/ga-r-te-de-va-c-nacle.fr.html?aid=304142&label=gen173bo-1DCAQoggJCF3NlYXJjaF9nb3JnZXMgZHUgdmVyZG9uSA1YA2jnAYgBAZgBDbgBGMgBD9gBA-gBAfgBA4gCAZgCAqgCBLgCxoXbmgbAAgHSAiQyZjgxZjA4MC1hMThhLTQwYWUtYTIxNC1iNzg1YzFmZDY1ZjbYAgTgAgE&ucfs=1&arphpl=1&checkin=2022-10-29&checkout=2022-10-30&group_adults=2&req_adults=2&no_rooms=1&group_children=0&req_children=0&hpos=15&hapos=15&sr_order=review_score_and_price&nflt=ht_id%3D204&srpvid=a1aa76a3e0e8014d&srepoch=1666630343&all_sr_blocks=50710001_335522831_2_34_0&highlighted_blocks=50710001_335522831_2_34_0&matching_block_id=50710001_335522831_2_34_0&sr_pri_blocks=50710001_335522831_2_34_0__9000&from=searchresults HTTP/1.1\" 301 None\n",
            "DEBUG:urllib3.connectionpool:https://www.booking.com:443 \"GET /hotel/fr/ga-r-te-de-va-c-nacle.fr.html HTTP/1.1\" 200 276870\n",
            "DEBUG:urllib3.connectionpool:Starting new HTTPS connection (1): www.booking.com:443\n"
          ]
        },
        {
          "output_type": "stream",
          "name": "stdout",
          "text": [
            "75\n"
          ]
        },
        {
          "output_type": "stream",
          "name": "stderr",
          "text": [
            "DEBUG:urllib3.connectionpool:https://www.booking.com:443 \"GET /hotel/fr/auberge-du-point-sublime.fr.html?aid=304142&label=gen173bo-1DCAQoggJCF3NlYXJjaF9nb3JnZXMgZHUgdmVyZG9uSA1YA2jnAYgBAZgBDbgBGMgBD9gBA-gBAfgBA4gCAZgCAqgCBLgCxoXbmgbAAgHSAiQyZjgxZjA4MC1hMThhLTQwYWUtYTIxNC1iNzg1YzFmZDY1ZjbYAgTgAgE&ucfs=1&arphpl=1&checkin=2022-10-29&checkout=2022-10-30&group_adults=2&req_adults=2&no_rooms=1&group_children=0&req_children=0&hpos=16&hapos=16&sr_order=review_score_and_price&nflt=ht_id%3D204&srpvid=a1aa76a3e0e8014d&srepoch=1666630343&all_sr_blocks=523243001_205221445_2_42_0&highlighted_blocks=523243001_205221445_2_42_0&matching_block_id=523243001_205221445_2_42_0&sr_pri_blocks=523243001_205221445_2_42_0__10900&from_sustainable_property_sr=1&from=searchresults HTTP/1.1\" 301 None\n",
            "DEBUG:urllib3.connectionpool:https://www.booking.com:443 \"GET /hotel/fr/auberge-du-point-sublime.fr.html HTTP/1.1\" 200 273490\n",
            "DEBUG:urllib3.connectionpool:Starting new HTTPS connection (1): www.booking.com:443\n"
          ]
        },
        {
          "output_type": "stream",
          "name": "stdout",
          "text": [
            "76\n"
          ]
        },
        {
          "output_type": "stream",
          "name": "stderr",
          "text": [
            "DEBUG:urllib3.connectionpool:https://www.booking.com:443 \"GET /hotel/fr/le-relais-de-moustiers.fr.html?aid=304142&label=gen173bo-1DCAQoggJCF3NlYXJjaF9nb3JnZXMgZHUgdmVyZG9uSA1YA2jnAYgBAZgBDbgBGMgBD9gBA-gBAfgBA4gCAZgCAqgCBLgCxoXbmgbAAgHSAiQyZjgxZjA4MC1hMThhLTQwYWUtYTIxNC1iNzg1YzFmZDY1ZjbYAgTgAgE&ucfs=1&arphpl=1&checkin=2022-10-29&checkout=2022-10-30&group_adults=2&req_adults=2&no_rooms=1&group_children=0&req_children=0&hpos=17&hapos=17&sr_order=review_score_and_price&nflt=ht_id%3D204&srpvid=a1aa76a3e0e8014d&srepoch=1666630343&all_sr_blocks=53804203_357473141_0_42_0&highlighted_blocks=53804203_357473141_0_42_0&matching_block_id=53804203_357473141_0_42_0&sr_pri_blocks=53804203_357473141_0_42_0__11200&from=searchresults HTTP/1.1\" 301 None\n",
            "DEBUG:urllib3.connectionpool:https://www.booking.com:443 \"GET /hotel/fr/le-relais-de-moustiers.fr.html HTTP/1.1\" 200 277878\n",
            "DEBUG:urllib3.connectionpool:Starting new HTTPS connection (1): www.booking.com:443\n"
          ]
        },
        {
          "output_type": "stream",
          "name": "stdout",
          "text": [
            "77\n"
          ]
        },
        {
          "output_type": "stream",
          "name": "stderr",
          "text": [
            "DEBUG:urllib3.connectionpool:https://www.booking.com:443 \"GET /hotel/fr/particulier-des-lumieres.fr.html?aid=304142&label=gen173bo-1DCAQoggJCF3NlYXJjaF9nb3JnZXMgZHUgdmVyZG9uSA1YA2jnAYgBAZgBDbgBGMgBD9gBA-gBAfgBA4gCAZgCAqgCBLgCxoXbmgbAAgHSAiQyZjgxZjA4MC1hMThhLTQwYWUtYTIxNC1iNzg1YzFmZDY1ZjbYAgTgAgE&ucfs=1&arphpl=1&checkin=2022-10-29&checkout=2022-10-30&group_adults=2&req_adults=2&no_rooms=1&group_children=0&req_children=0&hpos=18&hapos=18&sr_order=review_score_and_price&nflt=ht_id%3D204&srpvid=a1aa76a3e0e8014d&srepoch=1666630343&all_sr_blocks=174788201_295630613_2_2_0&highlighted_blocks=174788201_295630613_2_2_0&matching_block_id=174788201_295630613_2_2_0&sr_pri_blocks=174788201_295630613_2_2_0__15000&from=searchresults HTTP/1.1\" 301 None\n",
            "DEBUG:urllib3.connectionpool:https://www.booking.com:443 \"GET /hotel/fr/particulier-des-lumieres.fr.html HTTP/1.1\" 200 291599\n",
            "DEBUG:urllib3.connectionpool:Starting new HTTPS connection (1): www.booking.com:443\n"
          ]
        },
        {
          "output_type": "stream",
          "name": "stdout",
          "text": [
            "78\n"
          ]
        },
        {
          "output_type": "stream",
          "name": "stderr",
          "text": [
            "DEBUG:urllib3.connectionpool:https://www.booking.com:443 \"GET /hotel/fr/bastide-du-calalou.fr.html?aid=304142&label=gen173bo-1DCAQoggJCF3NlYXJjaF9nb3JnZXMgZHUgdmVyZG9uSA1YA2jnAYgBAZgBDbgBGMgBD9gBA-gBAfgBA4gCAZgCAqgCBLgCxoXbmgbAAgHSAiQyZjgxZjA4MC1hMThhLTQwYWUtYTIxNC1iNzg1YzFmZDY1ZjbYAgTgAgE&ucfs=1&arphpl=1&checkin=2022-10-29&checkout=2022-10-30&group_adults=2&req_adults=2&no_rooms=1&group_children=0&req_children=0&hpos=19&hapos=19&sr_order=review_score_and_price&nflt=ht_id%3D204&srpvid=a1aa76a3e0e8014d&srepoch=1666630343&all_sr_blocks=21427312_357650569_2_42_0&highlighted_blocks=21427312_357650569_2_42_0&matching_block_id=21427312_357650569_2_42_0&sr_pri_blocks=21427312_357650569_2_42_0__15750&from_sustainable_property_sr=1&from=searchresults HTTP/1.1\" 301 None\n",
            "DEBUG:urllib3.connectionpool:https://www.booking.com:443 \"GET /hotel/fr/bastide-du-calalou.fr.html HTTP/1.1\" 200 291630\n",
            "DEBUG:urllib3.connectionpool:Starting new HTTPS connection (1): www.booking.com:443\n"
          ]
        },
        {
          "output_type": "stream",
          "name": "stdout",
          "text": [
            "79\n"
          ]
        },
        {
          "output_type": "stream",
          "name": "stderr",
          "text": [
            "DEBUG:urllib3.connectionpool:https://www.booking.com:443 \"GET /hotel/fr/le-verdon.fr.html?aid=304142&label=gen173bo-1DCAQoggJCF3NlYXJjaF9nb3JnZXMgZHUgdmVyZG9uSA1YA2jnAYgBAZgBDbgBGMgBD9gBA-gBAfgBA4gCAZgCAqgCBLgCxoXbmgbAAgHSAiQyZjgxZjA4MC1hMThhLTQwYWUtYTIxNC1iNzg1YzFmZDY1ZjbYAgTgAgE&ucfs=1&arphpl=1&checkin=2022-10-29&checkout=2022-10-30&group_adults=2&req_adults=2&no_rooms=1&group_children=0&req_children=0&hpos=20&hapos=20&sr_order=review_score_and_price&nflt=ht_id%3D204&srpvid=a1aa76a3e0e8014d&srepoch=1666630343&all_sr_blocks=40296502_201846768_0_2_0&highlighted_blocks=40296502_201846768_0_2_0&matching_block_id=40296502_201846768_0_2_0&sr_pri_blocks=40296502_201846768_0_2_0__8186&from_sustainable_property_sr=1&from=searchresults HTTP/1.1\" 301 None\n",
            "DEBUG:urllib3.connectionpool:https://www.booking.com:443 \"GET /hotel/fr/le-verdon.fr.html HTTP/1.1\" 200 275542\n",
            "DEBUG:urllib3.connectionpool:Starting new HTTPS connection (1): www.booking.com:443\n"
          ]
        },
        {
          "output_type": "stream",
          "name": "stdout",
          "text": [
            "80\n"
          ]
        },
        {
          "output_type": "stream",
          "name": "stderr",
          "text": [
            "DEBUG:urllib3.connectionpool:https://www.booking.com:443 \"GET /hotel/fr/des-xv.fr.html?aid=304142&label=gen173bo-1DCAQoggJCEXNlYXJjaF9zdHJhc2JvdXJnSA1YA2jnAYgBAZgBDbgBGMgBD9gBA-gBAfgBA4gCAZgCAqgCBLgCyIXbmgbAAgHSAiQ4N2VjMzYyMi0zZWU0LTQzZjEtYTNiMy1iYzg0MTFlNTlkNDnYAgTgAgE&ucfs=1&arphpl=1&checkin=2022-10-29&checkout=2022-10-30&group_adults=2&req_adults=2&no_rooms=1&group_children=0&req_children=0&hpos=1&hapos=1&sr_order=review_score_and_price&nflt=ht_id%3D204&srpvid=5dde76a42a5104de&srepoch=1666630345&all_sr_blocks=246715705_171224734_2_2_0&highlighted_blocks=246715705_171224734_2_2_0&matching_block_id=246715705_171224734_2_2_0&sr_pri_blocks=246715705_171224734_2_2_0__23500&from_sustainable_property_sr=1&from=searchresults HTTP/1.1\" 301 None\n",
            "DEBUG:urllib3.connectionpool:https://www.booking.com:443 \"GET /hotel/fr/des-xv.fr.html HTTP/1.1\" 200 282235\n",
            "DEBUG:urllib3.connectionpool:Starting new HTTPS connection (1): www.booking.com:443\n"
          ]
        },
        {
          "output_type": "stream",
          "name": "stdout",
          "text": [
            "81\n"
          ]
        },
        {
          "output_type": "stream",
          "name": "stderr",
          "text": [
            "DEBUG:urllib3.connectionpool:https://www.booking.com:443 \"GET /hotel/fr/aloft-strasbourg-etoile.fr.html?aid=304142&label=gen173bo-1DCAQoggJCEXNlYXJjaF9zdHJhc2JvdXJnSA1YA2jnAYgBAZgBDbgBGMgBD9gBA-gBAfgBA4gCAZgCAqgCBLgCyIXbmgbAAgHSAiQ4N2VjMzYyMi0zZWU0LTQzZjEtYTNiMy1iYzg0MTFlNTlkNDnYAgTgAgE&ucfs=1&arphpl=1&checkin=2022-10-29&checkout=2022-10-30&group_adults=2&req_adults=2&no_rooms=1&group_children=0&req_children=0&hpos=2&hapos=2&sr_order=review_score_and_price&nflt=ht_id%3D204&srpvid=5dde76a42a5104de&srepoch=1666630345&all_sr_blocks=665558901_272837108_0_2_0&highlighted_blocks=665558901_272837108_0_2_0&matching_block_id=665558901_272837108_0_2_0&sr_pri_blocks=665558901_272837108_0_2_0__26900&from_sustainable_property_sr=1&from=searchresults HTTP/1.1\" 301 None\n",
            "DEBUG:urllib3.connectionpool:https://www.booking.com:443 \"GET /hotel/fr/aloft-strasbourg-etoile.fr.html HTTP/1.1\" 200 288031\n",
            "DEBUG:urllib3.connectionpool:Starting new HTTPS connection (1): www.booking.com:443\n"
          ]
        },
        {
          "output_type": "stream",
          "name": "stdout",
          "text": [
            "82\n"
          ]
        },
        {
          "output_type": "stream",
          "name": "stderr",
          "text": [
            "DEBUG:urllib3.connectionpool:https://www.booking.com:443 \"GET /hotel/fr/maisonrouge.fr.html?aid=304142&label=gen173bo-1DCAQoggJCEXNlYXJjaF9zdHJhc2JvdXJnSA1YA2jnAYgBAZgBDbgBGMgBD9gBA-gBAfgBA4gCAZgCAqgCBLgCyIXbmgbAAgHSAiQ4N2VjMzYyMi0zZWU0LTQzZjEtYTNiMy1iYzg0MTFlNTlkNDnYAgTgAgE&ucfs=1&arphpl=1&checkin=2022-10-29&checkout=2022-10-30&group_adults=2&req_adults=2&no_rooms=1&group_children=0&req_children=0&hpos=3&hapos=3&sr_order=review_score_and_price&nflt=ht_id%3D204&srpvid=5dde76a42a5104de&srepoch=1666630345&all_sr_blocks=5088429_88547249_2_2_0&highlighted_blocks=5088429_88547249_2_2_0&matching_block_id=5088429_88547249_2_2_0&sr_pri_blocks=5088429_88547249_2_2_0__30510&from_sustainable_property_sr=1&from=searchresults HTTP/1.1\" 301 None\n",
            "DEBUG:urllib3.connectionpool:https://www.booking.com:443 \"GET /hotel/fr/maisonrouge.fr.html HTTP/1.1\" 200 295348\n",
            "DEBUG:urllib3.connectionpool:Starting new HTTPS connection (1): www.booking.com:443\n"
          ]
        },
        {
          "output_type": "stream",
          "name": "stdout",
          "text": [
            "83\n"
          ]
        },
        {
          "output_type": "stream",
          "name": "stderr",
          "text": [
            "DEBUG:urllib3.connectionpool:https://www.booking.com:443 \"GET /hotel/fr/brit-le-lodge.fr.html?aid=304142&label=gen173bo-1DCAQoggJCEXNlYXJjaF9zdHJhc2JvdXJnSA1YA2jnAYgBAZgBDbgBGMgBD9gBA-gBAfgBA4gCAZgCAqgCBLgCyIXbmgbAAgHSAiQ4N2VjMzYyMi0zZWU0LTQzZjEtYTNiMy1iYzg0MTFlNTlkNDnYAgTgAgE&ucfs=1&arphpl=1&checkin=2022-10-29&checkout=2022-10-30&group_adults=2&req_adults=2&no_rooms=1&group_children=0&req_children=0&hpos=4&hapos=4&sr_order=review_score_and_price&nflt=ht_id%3D204&srpvid=5dde76a42a5104de&srepoch=1666630345&all_sr_blocks=172758206_90309767_2_2_0&highlighted_blocks=172758206_90309767_2_2_0&matching_block_id=172758206_90309767_2_2_0&sr_pri_blocks=172758206_90309767_2_2_0__21300&from_sustainable_property_sr=1&from=searchresults HTTP/1.1\" 301 None\n",
            "DEBUG:urllib3.connectionpool:https://www.booking.com:443 \"GET /hotel/fr/brit-le-lodge.fr.html HTTP/1.1\" 200 291793\n",
            "DEBUG:urllib3.connectionpool:Starting new HTTPS connection (1): www.booking.com:443\n"
          ]
        },
        {
          "output_type": "stream",
          "name": "stdout",
          "text": [
            "84\n"
          ]
        },
        {
          "output_type": "stream",
          "name": "stderr",
          "text": [
            "DEBUG:urllib3.connectionpool:https://www.booking.com:443 \"GET /hotel/fr/leurope.fr.html?aid=304142&label=gen173bo-1DCAQoggJCEXNlYXJjaF9zdHJhc2JvdXJnSA1YA2jnAYgBAZgBDbgBGMgBD9gBA-gBAfgBA4gCAZgCAqgCBLgCyIXbmgbAAgHSAiQ4N2VjMzYyMi0zZWU0LTQzZjEtYTNiMy1iYzg0MTFlNTlkNDnYAgTgAgE&ucfs=1&arphpl=1&checkin=2022-10-29&checkout=2022-10-30&group_adults=2&req_adults=2&no_rooms=1&group_children=0&req_children=0&hpos=5&hapos=5&sr_order=review_score_and_price&nflt=ht_id%3D204&srpvid=5dde76a42a5104de&srepoch=1666630345&all_sr_blocks=5029023_145042385_0_2_0&highlighted_blocks=5029023_145042385_0_2_0&matching_block_id=5029023_145042385_0_2_0&sr_pri_blocks=5029023_145042385_0_2_0__32400&from_sustainable_property_sr=1&from=searchresults HTTP/1.1\" 301 None\n",
            "DEBUG:urllib3.connectionpool:https://www.booking.com:443 \"GET /hotel/fr/leurope.fr.html HTTP/1.1\" 200 293073\n",
            "DEBUG:urllib3.connectionpool:Starting new HTTPS connection (1): www.booking.com:443\n"
          ]
        },
        {
          "output_type": "stream",
          "name": "stdout",
          "text": [
            "85\n"
          ]
        },
        {
          "output_type": "stream",
          "name": "stderr",
          "text": [
            "DEBUG:urllib3.connectionpool:https://www.booking.com:443 \"GET /hotel/fr/le-moulin-de-la-wantzenau.fr.html?aid=304142&label=gen173bo-1DCAQoggJCEXNlYXJjaF9zdHJhc2JvdXJnSA1YA2jnAYgBAZgBDbgBGMgBD9gBA-gBAfgBA4gCAZgCAqgCBLgCyIXbmgbAAgHSAiQ4N2VjMzYyMi0zZWU0LTQzZjEtYTNiMy1iYzg0MTFlNTlkNDnYAgTgAgE&ucfs=1&arphpl=1&checkin=2022-10-29&checkout=2022-10-30&group_adults=2&req_adults=2&no_rooms=1&group_children=0&req_children=0&hpos=6&hapos=6&sr_order=review_score_and_price&nflt=ht_id%3D204&srpvid=5dde76a42a5104de&srepoch=1666630345&all_sr_blocks=24260102_182044467_2_2_0&highlighted_blocks=24260102_182044467_2_2_0&matching_block_id=24260102_182044467_2_2_0&sr_pri_blocks=24260102_182044467_2_2_0__14100&from_sustainable_property_sr=1&from=searchresults HTTP/1.1\" 301 None\n",
            "DEBUG:urllib3.connectionpool:https://www.booking.com:443 \"GET /hotel/fr/le-moulin-de-la-wantzenau.fr.html HTTP/1.1\" 200 281297\n",
            "DEBUG:urllib3.connectionpool:Starting new HTTPS connection (1): www.booking.com:443\n"
          ]
        },
        {
          "output_type": "stream",
          "name": "stdout",
          "text": [
            "86\n"
          ]
        },
        {
          "output_type": "stream",
          "name": "stderr",
          "text": [
            "DEBUG:urllib3.connectionpool:https://www.booking.com:443 \"GET /hotel/fr/aigle-d-or.fr.html?aid=304142&label=gen173bo-1DCAQoggJCEXNlYXJjaF9zdHJhc2JvdXJnSA1YA2jnAYgBAZgBDbgBGMgBD9gBA-gBAfgBA4gCAZgCAqgCBLgCyIXbmgbAAgHSAiQ4N2VjMzYyMi0zZWU0LTQzZjEtYTNiMy1iYzg0MTFlNTlkNDnYAgTgAgE&ucfs=1&arphpl=1&checkin=2022-10-29&checkout=2022-10-30&group_adults=2&req_adults=2&no_rooms=1&group_children=0&req_children=0&hpos=7&hapos=7&sr_order=review_score_and_price&nflt=ht_id%3D204&srpvid=5dde76a42a5104de&srepoch=1666630345&all_sr_blocks=18053205_179756018_1_2_0%2C18053205_179756018_1_2_0&highlighted_blocks=18053205_179756018_1_2_0%2C18053205_179756018_1_2_0&matching_block_id=18053205_179756018_1_2_0&sr_pri_blocks=18053205_179756018_1_2_0__7808%2C18053205_179756018_1_2_0__7808&from_sustainable_property_sr=1&from=searchresults HTTP/1.1\" 301 None\n",
            "DEBUG:urllib3.connectionpool:https://www.booking.com:443 \"GET /hotel/fr/aigle-d-or.fr.html HTTP/1.1\" 200 281910\n",
            "DEBUG:urllib3.connectionpool:Starting new HTTPS connection (1): www.booking.com:443\n"
          ]
        },
        {
          "output_type": "stream",
          "name": "stdout",
          "text": [
            "87\n"
          ]
        },
        {
          "output_type": "stream",
          "name": "stderr",
          "text": [
            "DEBUG:urllib3.connectionpool:https://www.booking.com:443 \"GET /hotel/fr/argos.fr.html?aid=304142&label=gen173bo-1DCAQoggJCEXNlYXJjaF9zdHJhc2JvdXJnSA1YA2jnAYgBAZgBDbgBGMgBD9gBA-gBAfgBA4gCAZgCAqgCBLgCyIXbmgbAAgHSAiQ4N2VjMzYyMi0zZWU0LTQzZjEtYTNiMy1iYzg0MTFlNTlkNDnYAgTgAgE&ucfs=1&arphpl=1&checkin=2022-10-29&checkout=2022-10-30&group_adults=2&req_adults=2&no_rooms=1&group_children=0&req_children=0&hpos=8&hapos=8&sr_order=review_score_and_price&nflt=ht_id%3D204&srpvid=5dde76a42a5104de&srepoch=1666630345&all_sr_blocks=37911406_265020225_2_2_0&highlighted_blocks=37911406_265020225_2_2_0&matching_block_id=37911406_265020225_2_2_0&sr_pri_blocks=37911406_265020225_2_2_0__6800&from=searchresults HTTP/1.1\" 301 None\n",
            "DEBUG:urllib3.connectionpool:https://www.booking.com:443 \"GET /hotel/fr/argos.fr.html HTTP/1.1\" 200 283837\n",
            "DEBUG:urllib3.connectionpool:Starting new HTTPS connection (1): www.booking.com:443\n"
          ]
        },
        {
          "output_type": "stream",
          "name": "stdout",
          "text": [
            "88\n"
          ]
        },
        {
          "output_type": "stream",
          "name": "stderr",
          "text": [
            "DEBUG:urllib3.connectionpool:https://www.booking.com:443 \"GET /hotel/fr/roi-soleil-holtzheim.fr.html?aid=304142&label=gen173bo-1DCAQoggJCEXNlYXJjaF9zdHJhc2JvdXJnSA1YA2jnAYgBAZgBDbgBGMgBD9gBA-gBAfgBA4gCAZgCAqgCBLgCyIXbmgbAAgHSAiQ4N2VjMzYyMi0zZWU0LTQzZjEtYTNiMy1iYzg0MTFlNTlkNDnYAgTgAgE&ucfs=1&arphpl=1&checkin=2022-10-29&checkout=2022-10-30&group_adults=2&req_adults=2&no_rooms=1&group_children=0&req_children=0&hpos=9&hapos=9&sr_order=review_score_and_price&nflt=ht_id%3D204&srpvid=5dde76a42a5104de&srepoch=1666630345&all_sr_blocks=2858206_237307109_0_2_0&highlighted_blocks=2858206_237307109_0_2_0&matching_block_id=2858206_237307109_0_2_0&sr_pri_blocks=2858206_237307109_0_2_0__6500&from=searchresults HTTP/1.1\" 301 None\n",
            "DEBUG:urllib3.connectionpool:https://www.booking.com:443 \"GET /hotel/fr/roi-soleil-holtzheim.fr.html HTTP/1.1\" 200 275742\n",
            "DEBUG:urllib3.connectionpool:Starting new HTTPS connection (1): www.booking.com:443\n"
          ]
        },
        {
          "output_type": "stream",
          "name": "stdout",
          "text": [
            "89\n"
          ]
        },
        {
          "output_type": "stream",
          "name": "stderr",
          "text": [
            "DEBUG:urllib3.connectionpool:https://www.booking.com:443 \"GET /hotel/fr/hotel-roi-soleil-mundolsheim.fr.html?aid=304142&label=gen173bo-1DCAQoggJCEXNlYXJjaF9zdHJhc2JvdXJnSA1YA2jnAYgBAZgBDbgBGMgBD9gBA-gBAfgBA4gCAZgCAqgCBLgCyIXbmgbAAgHSAiQ4N2VjMzYyMi0zZWU0LTQzZjEtYTNiMy1iYzg0MTFlNTlkNDnYAgTgAgE&ucfs=1&arphpl=1&checkin=2022-10-29&checkout=2022-10-30&group_adults=2&req_adults=2&no_rooms=1&group_children=0&req_children=0&hpos=10&hapos=10&sr_order=review_score_and_price&nflt=ht_id%3D204&srpvid=5dde76a42a5104de&srepoch=1666630345&all_sr_blocks=2857705_145783717_0_2_0&highlighted_blocks=2857705_145783717_0_2_0&matching_block_id=2857705_145783717_0_2_0&sr_pri_blocks=2857705_145783717_0_2_0__6900&from=searchresults HTTP/1.1\" 301 None\n",
            "DEBUG:urllib3.connectionpool:https://www.booking.com:443 \"GET /hotel/fr/hotel-roi-soleil-mundolsheim.fr.html HTTP/1.1\" 200 275238\n",
            "DEBUG:urllib3.connectionpool:Starting new HTTPS connection (1): www.booking.com:443\n"
          ]
        },
        {
          "output_type": "stream",
          "name": "stdout",
          "text": [
            "90\n"
          ]
        },
        {
          "output_type": "stream",
          "name": "stderr",
          "text": [
            "DEBUG:urllib3.connectionpool:https://www.booking.com:443 \"GET /hotel/fr/b-amp-b-strasbourg-sud-ostwald.fr.html?aid=304142&label=gen173bo-1DCAQoggJCEXNlYXJjaF9zdHJhc2JvdXJnSA1YA2jnAYgBAZgBDbgBGMgBD9gBA-gBAfgBA4gCAZgCAqgCBLgCyIXbmgbAAgHSAiQ4N2VjMzYyMi0zZWU0LTQzZjEtYTNiMy1iYzg0MTFlNTlkNDnYAgTgAgE&ucfs=1&arphpl=1&checkin=2022-10-29&checkout=2022-10-30&group_adults=2&req_adults=2&no_rooms=1&group_children=0&req_children=0&hpos=11&hapos=11&sr_order=review_score_and_price&nflt=ht_id%3D204&srpvid=5dde76a42a5104de&srepoch=1666630345&all_sr_blocks=155705901_98220816_0_0_0&highlighted_blocks=155705901_98220816_0_0_0&matching_block_id=155705901_98220816_0_0_0&sr_pri_blocks=155705901_98220816_0_0_0__7000&from=searchresults HTTP/1.1\" 301 None\n",
            "DEBUG:urllib3.connectionpool:https://www.booking.com:443 \"GET /hotel/fr/b-amp-b-strasbourg-sud-ostwald.fr.html HTTP/1.1\" 200 273647\n",
            "DEBUG:urllib3.connectionpool:Starting new HTTPS connection (1): www.booking.com:443\n"
          ]
        },
        {
          "output_type": "stream",
          "name": "stdout",
          "text": [
            "91\n"
          ]
        },
        {
          "output_type": "stream",
          "name": "stderr",
          "text": [
            "DEBUG:urllib3.connectionpool:https://www.booking.com:443 \"GET /hotel/fr/mercure-strasbourg-aeroport.fr.html?aid=304142&label=gen173bo-1DCAQoggJCEXNlYXJjaF9zdHJhc2JvdXJnSA1YA2jnAYgBAZgBDbgBGMgBD9gBA-gBAfgBA4gCAZgCAqgCBLgCyIXbmgbAAgHSAiQ4N2VjMzYyMi0zZWU0LTQzZjEtYTNiMy1iYzg0MTFlNTlkNDnYAgTgAgE&ucfs=1&arphpl=1&checkin=2022-10-29&checkout=2022-10-30&group_adults=2&req_adults=2&no_rooms=1&group_children=0&req_children=0&hpos=12&hapos=12&sr_order=review_score_and_price&nflt=ht_id%3D204&srpvid=5dde76a42a5104de&srepoch=1666630345&all_sr_blocks=5716404_333878354_2_42_0&highlighted_blocks=5716404_333878354_2_42_0&matching_block_id=5716404_333878354_2_42_0&sr_pri_blocks=5716404_333878354_2_42_0__8224&from=searchresults HTTP/1.1\" 301 None\n",
            "DEBUG:urllib3.connectionpool:https://www.booking.com:443 \"GET /hotel/fr/mercure-strasbourg-aeroport.fr.html HTTP/1.1\" 200 288875\n",
            "DEBUG:urllib3.connectionpool:Starting new HTTPS connection (1): www.booking.com:443\n"
          ]
        },
        {
          "output_type": "stream",
          "name": "stdout",
          "text": [
            "92\n"
          ]
        },
        {
          "output_type": "stream",
          "name": "stderr",
          "text": [
            "DEBUG:urllib3.connectionpool:https://www.booking.com:443 \"GET /hotel/fr/auberge-de-la-foret-vendenheim.fr.html?aid=304142&label=gen173bo-1DCAQoggJCEXNlYXJjaF9zdHJhc2JvdXJnSA1YA2jnAYgBAZgBDbgBGMgBD9gBA-gBAfgBA4gCAZgCAqgCBLgCyIXbmgbAAgHSAiQ4N2VjMzYyMi0zZWU0LTQzZjEtYTNiMy1iYzg0MTFlNTlkNDnYAgTgAgE&ucfs=1&arphpl=1&checkin=2022-10-29&checkout=2022-10-30&group_adults=2&req_adults=2&no_rooms=1&group_children=0&req_children=0&hpos=13&hapos=13&sr_order=review_score_and_price&nflt=ht_id%3D204&srpvid=5dde76a42a5104de&srepoch=1666630345&all_sr_blocks=368080002_335535308_0_2_0&highlighted_blocks=368080002_335535308_0_2_0&matching_block_id=368080002_335535308_0_2_0&sr_pri_blocks=368080002_335535308_0_2_0__9000&from=searchresults HTTP/1.1\" 301 None\n",
            "DEBUG:urllib3.connectionpool:https://www.booking.com:443 \"GET /hotel/fr/auberge-de-la-foret-vendenheim.fr.html HTTP/1.1\" 200 268238\n",
            "DEBUG:urllib3.connectionpool:Starting new HTTPS connection (1): www.booking.com:443\n"
          ]
        },
        {
          "output_type": "stream",
          "name": "stdout",
          "text": [
            "93\n"
          ]
        },
        {
          "output_type": "stream",
          "name": "stderr",
          "text": [
            "DEBUG:urllib3.connectionpool:https://www.booking.com:443 \"GET /hotel/fr/b-amp-b-strasbourg-nord-industrie.fr.html?aid=304142&label=gen173bo-1DCAQoggJCEXNlYXJjaF9zdHJhc2JvdXJnSA1YA2jnAYgBAZgBDbgBGMgBD9gBA-gBAfgBA4gCAZgCAqgCBLgCyIXbmgbAAgHSAiQ4N2VjMzYyMi0zZWU0LTQzZjEtYTNiMy1iYzg0MTFlNTlkNDnYAgTgAgE&ucfs=1&arphpl=1&checkin=2022-10-29&checkout=2022-10-30&group_adults=2&req_adults=2&no_rooms=1&group_children=0&req_children=0&hpos=14&hapos=14&sr_order=review_score_and_price&nflt=ht_id%3D204&srpvid=5dde76a42a5104de&srepoch=1666630345&all_sr_blocks=203385701_361697807_0_0_0&highlighted_blocks=203385701_361697807_0_0_0&matching_block_id=203385701_361697807_0_0_0&sr_pri_blocks=203385701_361697807_0_0_0__6300&from=searchresults HTTP/1.1\" 301 None\n",
            "DEBUG:urllib3.connectionpool:https://www.booking.com:443 \"GET /hotel/fr/b-amp-b-strasbourg-nord-industrie.fr.html HTTP/1.1\" 200 270512\n",
            "DEBUG:urllib3.connectionpool:Starting new HTTPS connection (1): www.booking.com:443\n"
          ]
        },
        {
          "output_type": "stream",
          "name": "stdout",
          "text": [
            "94\n"
          ]
        },
        {
          "output_type": "stream",
          "name": "stderr",
          "text": [
            "DEBUG:urllib3.connectionpool:https://www.booking.com:443 \"GET /hotel/fr/b-b-strasbourg-sud-geispolsheim.fr.html?aid=304142&label=gen173bo-1DCAQoggJCEXNlYXJjaF9zdHJhc2JvdXJnSA1YA2jnAYgBAZgBDbgBGMgBD9gBA-gBAfgBA4gCAZgCAqgCBLgCyIXbmgbAAgHSAiQ4N2VjMzYyMi0zZWU0LTQzZjEtYTNiMy1iYzg0MTFlNTlkNDnYAgTgAgE&ucfs=1&arphpl=1&checkin=2022-10-29&checkout=2022-10-30&group_adults=2&req_adults=2&no_rooms=1&group_children=0&req_children=0&hpos=15&hapos=15&sr_order=review_score_and_price&nflt=ht_id%3D204&srpvid=5dde76a42a5104de&srepoch=1666630345&all_sr_blocks=229702501_118737249_0_0_0&highlighted_blocks=229702501_118737249_0_0_0&matching_block_id=229702501_118737249_0_0_0&sr_pri_blocks=229702501_118737249_0_0_0__7800&from=searchresults HTTP/1.1\" 301 None\n",
            "DEBUG:urllib3.connectionpool:https://www.booking.com:443 \"GET /hotel/fr/b-b-strasbourg-sud-geispolsheim.fr.html HTTP/1.1\" 200 267409\n",
            "DEBUG:urllib3.connectionpool:Starting new HTTPS connection (1): www.booking.com:443\n"
          ]
        },
        {
          "output_type": "stream",
          "name": "stdout",
          "text": [
            "95\n"
          ]
        },
        {
          "output_type": "stream",
          "name": "stderr",
          "text": [
            "DEBUG:urllib3.connectionpool:https://www.booking.com:443 \"GET /hotel/fr/ha-tel-ibis-strasbourg-sud-la-vigie.fr.html?aid=304142&label=gen173bo-1DCAQoggJCEXNlYXJjaF9zdHJhc2JvdXJnSA1YA2jnAYgBAZgBDbgBGMgBD9gBA-gBAfgBA4gCAZgCAqgCBLgCyIXbmgbAAgHSAiQ4N2VjMzYyMi0zZWU0LTQzZjEtYTNiMy1iYzg0MTFlNTlkNDnYAgTgAgE&ucfs=1&arphpl=1&checkin=2022-10-29&checkout=2022-10-30&group_adults=2&req_adults=2&no_rooms=1&group_children=0&req_children=0&hpos=16&hapos=16&sr_order=review_score_and_price&nflt=ht_id%3D204&srpvid=5dde76a42a5104de&srepoch=1666630345&all_sr_blocks=35805302_246025200_2_2_0&highlighted_blocks=35805302_246025200_2_2_0&matching_block_id=35805302_246025200_2_2_0&sr_pri_blocks=35805302_246025200_2_2_0__8400&from=searchresults HTTP/1.1\" 301 None\n",
            "DEBUG:urllib3.connectionpool:https://www.booking.com:443 \"GET /hotel/fr/ha-tel-ibis-strasbourg-sud-la-vigie.fr.html HTTP/1.1\" 200 275540\n",
            "DEBUG:urllib3.connectionpool:Starting new HTTPS connection (1): www.booking.com:443\n"
          ]
        },
        {
          "output_type": "stream",
          "name": "stdout",
          "text": [
            "96\n"
          ]
        },
        {
          "output_type": "stream",
          "name": "stderr",
          "text": [
            "DEBUG:urllib3.connectionpool:https://www.booking.com:443 \"GET /hotel/fr/ibis-budget-strasbourg-quartier.fr.html?aid=304142&label=gen173bo-1DCAQoggJCEXNlYXJjaF9zdHJhc2JvdXJnSA1YA2jnAYgBAZgBDbgBGMgBD9gBA-gBAfgBA4gCAZgCAqgCBLgCyIXbmgbAAgHSAiQ4N2VjMzYyMi0zZWU0LTQzZjEtYTNiMy1iYzg0MTFlNTlkNDnYAgTgAgE&ucfs=1&arphpl=1&checkin=2022-10-29&checkout=2022-10-30&group_adults=2&req_adults=2&no_rooms=1&group_children=0&req_children=0&hpos=17&hapos=17&sr_order=review_score_and_price&nflt=ht_id%3D204&srpvid=5dde76a42a5104de&srepoch=1666630345&all_sr_blocks=65688210_246094577_0_2_0&highlighted_blocks=65688210_246094577_0_2_0&matching_block_id=65688210_246094577_0_2_0&sr_pri_blocks=65688210_246094577_0_2_0__8900&from_sustainable_property_sr=1&from=searchresults HTTP/1.1\" 301 None\n",
            "DEBUG:urllib3.connectionpool:https://www.booking.com:443 \"GET /hotel/fr/ibis-budget-strasbourg-quartier.fr.html HTTP/1.1\" 200 271442\n",
            "DEBUG:urllib3.connectionpool:Starting new HTTPS connection (1): www.booking.com:443\n"
          ]
        },
        {
          "output_type": "stream",
          "name": "stdout",
          "text": [
            "97\n"
          ]
        },
        {
          "output_type": "stream",
          "name": "stderr",
          "text": [
            "DEBUG:urllib3.connectionpool:https://www.booking.com:443 \"GET /hotel/fr/atolon-park.fr.html?aid=304142&label=gen173bo-1DCAQoggJCEXNlYXJjaF9zdHJhc2JvdXJnSA1YA2jnAYgBAZgBDbgBGMgBD9gBA-gBAfgBA4gCAZgCAqgCBLgCyIXbmgbAAgHSAiQ4N2VjMzYyMi0zZWU0LTQzZjEtYTNiMy1iYzg0MTFlNTlkNDnYAgTgAgE&ucfs=1&arphpl=1&checkin=2022-10-29&checkout=2022-10-30&group_adults=2&req_adults=2&no_rooms=1&group_children=0&req_children=0&hpos=18&hapos=18&sr_order=review_score_and_price&nflt=ht_id%3D204&srpvid=5dde76a42a5104de&srepoch=1666630345&all_sr_blocks=504275401_172879755_2_2_0&highlighted_blocks=504275401_172879755_2_2_0&matching_block_id=504275401_172879755_2_2_0&sr_pri_blocks=504275401_172879755_2_2_0__7900&from_sustainable_property_sr=1&from=searchresults HTTP/1.1\" 301 None\n",
            "DEBUG:urllib3.connectionpool:https://www.booking.com:443 \"GET /hotel/fr/atolon-park.fr.html HTTP/1.1\" 200 278892\n",
            "DEBUG:urllib3.connectionpool:Starting new HTTPS connection (1): www.booking.com:443\n"
          ]
        },
        {
          "output_type": "stream",
          "name": "stdout",
          "text": [
            "98\n"
          ]
        },
        {
          "output_type": "stream",
          "name": "stderr",
          "text": [
            "DEBUG:urllib3.connectionpool:https://www.booking.com:443 \"GET /hotel/fr/ha-tel-restaurant-oberla-c.fr.html?aid=304142&label=gen173bo-1DCAQoggJCEXNlYXJjaF9zdHJhc2JvdXJnSA1YA2jnAYgBAZgBDbgBGMgBD9gBA-gBAfgBA4gCAZgCAqgCBLgCyIXbmgbAAgHSAiQ4N2VjMzYyMi0zZWU0LTQzZjEtYTNiMy1iYzg0MTFlNTlkNDnYAgTgAgE&ucfs=1&arphpl=1&checkin=2022-10-29&checkout=2022-10-30&group_adults=2&req_adults=2&no_rooms=1&group_children=0&req_children=0&hpos=19&hapos=19&sr_order=review_score_and_price&nflt=ht_id%3D204&srpvid=5dde76a42a5104de&srepoch=1666630345&all_sr_blocks=37454201_226095474_2_2_0&highlighted_blocks=37454201_226095474_2_2_0&matching_block_id=37454201_226095474_2_2_0&sr_pri_blocks=37454201_226095474_2_2_0__9000&from=searchresults HTTP/1.1\" 301 None\n",
            "DEBUG:urllib3.connectionpool:https://www.booking.com:443 \"GET /hotel/fr/ha-tel-restaurant-oberla-c.fr.html HTTP/1.1\" 200 271236\n",
            "DEBUG:urllib3.connectionpool:Starting new HTTPS connection (1): www.booking.com:443\n"
          ]
        },
        {
          "output_type": "stream",
          "name": "stdout",
          "text": [
            "99\n"
          ]
        },
        {
          "output_type": "stream",
          "name": "stderr",
          "text": [
            "DEBUG:urllib3.connectionpool:https://www.booking.com:443 \"GET /hotel/fr/best-western-ha-tel-le-rha-c-nan.fr.html?aid=304142&label=gen173bo-1DCAQoggJCEXNlYXJjaF9zdHJhc2JvdXJnSA1YA2jnAYgBAZgBDbgBGMgBD9gBA-gBAfgBA4gCAZgCAqgCBLgCyIXbmgbAAgHSAiQ4N2VjMzYyMi0zZWU0LTQzZjEtYTNiMy1iYzg0MTFlNTlkNDnYAgTgAgE&ucfs=1&arphpl=1&checkin=2022-10-29&checkout=2022-10-30&group_adults=2&req_adults=2&no_rooms=1&group_children=0&req_children=0&hpos=20&hapos=20&sr_order=review_score_and_price&nflt=ht_id%3D204&srpvid=5dde76a42a5104de&srepoch=1666630345&all_sr_blocks=35847609_244920709_2_2_0&highlighted_blocks=35847609_244920709_2_2_0&matching_block_id=35847609_244920709_2_2_0&sr_pri_blocks=35847609_244920709_2_2_0__10900&from=searchresults HTTP/1.1\" 301 None\n",
            "DEBUG:urllib3.connectionpool:https://www.booking.com:443 \"GET /hotel/fr/best-western-ha-tel-le-rha-c-nan.fr.html HTTP/1.1\" 200 284163\n"
          ]
        }
      ],
      "source": [
        "for ind in df_topp5.index:\n",
        "  print(ind)\n",
        "  url=df_topp5.url[ind]\n",
        "  page = requests.get(url)\n",
        "  soup = BeautifulSoup(page.content, \"lxml\")\n",
        "  df_topp5.lat_hotel[ind]=soup.find( class_ = \"jq_tooltip loc_block_link_underline_fix bui-link show_on_map_hp_link show_map_hp_link \" ).get(\"data-atlas-latlng\").split(',')[0]\n",
        "  df_topp5.lon_hotel[ind]=soup.find( class_ = \"jq_tooltip loc_block_link_underline_fix bui-link show_on_map_hp_link show_map_hp_link \" ).get(\"data-atlas-latlng\").split(',')[1]\n",
        "  df_topp5.address_hotel[ind]=soup.find(class_ = \" hp_address_subtitle js-hp_address_subtitle jq_tooltip \").getText().strip('\\n')\n"
      ]
    },
    {
      "cell_type": "code",
      "source": [
        "df_topp5.to_csv('/content/out.csv')  "
      ],
      "metadata": {
        "id": "GDxJmJwv2Ayt"
      },
      "execution_count": null,
      "outputs": []
    },
    {
      "cell_type": "code",
      "execution_count": null,
      "metadata": {
        "id": "eGERhW5tKqRL"
      },
      "outputs": [],
      "source": [
        "df_topp5=pd.read_csv('/content/out.csv')"
      ]
    },
    {
      "cell_type": "code",
      "source": [
        "df_topp5.head()"
      ],
      "metadata": {
        "colab": {
          "base_uri": "https://localhost:8080/",
          "height": 565
        },
        "id": "WcRbd6wnYNEF",
        "outputId": "fe1311e3-9cfc-4e07-cb7d-47a4226a2e4c"
      },
      "execution_count": null,
      "outputs": [
        {
          "output_type": "execute_result",
          "data": {
            "text/plain": [
              "   Unnamed: 0                         name  \\\n",
              "0           0  Château du Haut-Kœnigsbourg   \n",
              "1           1  Château du Haut-Kœnigsbourg   \n",
              "2           2  Château du Haut-Kœnigsbourg   \n",
              "3           3  Château du Haut-Kœnigsbourg   \n",
              "4           4  Château du Haut-Kœnigsbourg   \n",
              "\n",
              "                                               hotel  \\\n",
              "0       Hôtel du Haut Koenigsbourg - calme et nature   \n",
              "1                         Hôtel Barrière Ribeauvillé   \n",
              "2                              Caveau de l'ami Fritz   \n",
              "3  Hôtel Restaurant Le Verger des Châteaux, The O...   \n",
              "4                  Hostellerie La Cheneaudière & Spa   \n",
              "\n",
              "                                                 url    price rating  \\\n",
              "0  https://www.booking.com/hotel/fr/le-haut-koeni...    € 125    9,0   \n",
              "1  https://www.booking.com/hotel/fr/resort-barrie...    € 429    8,5   \n",
              "2  https://www.booking.com/hotel/fr/caveau-de-l-a...    € 248    8,0   \n",
              "3  https://www.booking.com/hotel/fr/le-verger-des...    € 138    7,9   \n",
              "4  https://www.booking.com/hotel/fr/hostellerie-l...  € 1 128    9,2   \n",
              "\n",
              "   Temperature  Temperature_max  Temperature_min  Humidity  lon_hotel  \\\n",
              "0       17.835           18.565            11.29      52.0   7.302220   \n",
              "1       17.835           18.565            11.29      52.0   7.349178   \n",
              "2       17.835           18.565            11.29      52.0   7.320242   \n",
              "3       17.835           18.565            11.29      52.0   7.419473   \n",
              "4       17.835           18.565            11.29      52.0   7.183709   \n",
              "\n",
              "   lat_hotel                                      address_hotel  \n",
              "0  48.231641        9 rue de Rodern, 68590 Thannenkirch, France  \n",
              "1  48.187544         RD 106 BP 50002, 68151 Ribeauvillé, France  \n",
              "2  48.194451  1 Place de l'Ancien Hôpital, 68150 Ribeauvillé...  \n",
              "3  48.306555         2 Route Romaine, 67650 Dieffenthal, France  \n",
              "4  48.391124  3 Rue Du Vieux Moulin, 67420 Colroy-la-Roche, ...  "
            ],
            "text/html": [
              "\n",
              "  <div id=\"df-7f681acd-9239-4a4b-bbf4-1c99d3b82bea\">\n",
              "    <div class=\"colab-df-container\">\n",
              "      <div>\n",
              "<style scoped>\n",
              "    .dataframe tbody tr th:only-of-type {\n",
              "        vertical-align: middle;\n",
              "    }\n",
              "\n",
              "    .dataframe tbody tr th {\n",
              "        vertical-align: top;\n",
              "    }\n",
              "\n",
              "    .dataframe thead th {\n",
              "        text-align: right;\n",
              "    }\n",
              "</style>\n",
              "<table border=\"1\" class=\"dataframe\">\n",
              "  <thead>\n",
              "    <tr style=\"text-align: right;\">\n",
              "      <th></th>\n",
              "      <th>Unnamed: 0</th>\n",
              "      <th>name</th>\n",
              "      <th>hotel</th>\n",
              "      <th>url</th>\n",
              "      <th>price</th>\n",
              "      <th>rating</th>\n",
              "      <th>Temperature</th>\n",
              "      <th>Temperature_max</th>\n",
              "      <th>Temperature_min</th>\n",
              "      <th>Humidity</th>\n",
              "      <th>lon_hotel</th>\n",
              "      <th>lat_hotel</th>\n",
              "      <th>address_hotel</th>\n",
              "    </tr>\n",
              "  </thead>\n",
              "  <tbody>\n",
              "    <tr>\n",
              "      <th>0</th>\n",
              "      <td>0</td>\n",
              "      <td>Château du Haut-Kœnigsbourg</td>\n",
              "      <td>Hôtel du Haut Koenigsbourg - calme et nature</td>\n",
              "      <td>https://www.booking.com/hotel/fr/le-haut-koeni...</td>\n",
              "      <td>€ 125</td>\n",
              "      <td>9,0</td>\n",
              "      <td>17.835</td>\n",
              "      <td>18.565</td>\n",
              "      <td>11.29</td>\n",
              "      <td>52.0</td>\n",
              "      <td>7.302220</td>\n",
              "      <td>48.231641</td>\n",
              "      <td>9 rue de Rodern, 68590 Thannenkirch, France</td>\n",
              "    </tr>\n",
              "    <tr>\n",
              "      <th>1</th>\n",
              "      <td>1</td>\n",
              "      <td>Château du Haut-Kœnigsbourg</td>\n",
              "      <td>Hôtel Barrière Ribeauvillé</td>\n",
              "      <td>https://www.booking.com/hotel/fr/resort-barrie...</td>\n",
              "      <td>€ 429</td>\n",
              "      <td>8,5</td>\n",
              "      <td>17.835</td>\n",
              "      <td>18.565</td>\n",
              "      <td>11.29</td>\n",
              "      <td>52.0</td>\n",
              "      <td>7.349178</td>\n",
              "      <td>48.187544</td>\n",
              "      <td>RD 106 BP 50002, 68151 Ribeauvillé, France</td>\n",
              "    </tr>\n",
              "    <tr>\n",
              "      <th>2</th>\n",
              "      <td>2</td>\n",
              "      <td>Château du Haut-Kœnigsbourg</td>\n",
              "      <td>Caveau de l'ami Fritz</td>\n",
              "      <td>https://www.booking.com/hotel/fr/caveau-de-l-a...</td>\n",
              "      <td>€ 248</td>\n",
              "      <td>8,0</td>\n",
              "      <td>17.835</td>\n",
              "      <td>18.565</td>\n",
              "      <td>11.29</td>\n",
              "      <td>52.0</td>\n",
              "      <td>7.320242</td>\n",
              "      <td>48.194451</td>\n",
              "      <td>1 Place de l'Ancien Hôpital, 68150 Ribeauvillé...</td>\n",
              "    </tr>\n",
              "    <tr>\n",
              "      <th>3</th>\n",
              "      <td>3</td>\n",
              "      <td>Château du Haut-Kœnigsbourg</td>\n",
              "      <td>Hôtel Restaurant Le Verger des Châteaux, The O...</td>\n",
              "      <td>https://www.booking.com/hotel/fr/le-verger-des...</td>\n",
              "      <td>€ 138</td>\n",
              "      <td>7,9</td>\n",
              "      <td>17.835</td>\n",
              "      <td>18.565</td>\n",
              "      <td>11.29</td>\n",
              "      <td>52.0</td>\n",
              "      <td>7.419473</td>\n",
              "      <td>48.306555</td>\n",
              "      <td>2 Route Romaine, 67650 Dieffenthal, France</td>\n",
              "    </tr>\n",
              "    <tr>\n",
              "      <th>4</th>\n",
              "      <td>4</td>\n",
              "      <td>Château du Haut-Kœnigsbourg</td>\n",
              "      <td>Hostellerie La Cheneaudière &amp; Spa</td>\n",
              "      <td>https://www.booking.com/hotel/fr/hostellerie-l...</td>\n",
              "      <td>€ 1 128</td>\n",
              "      <td>9,2</td>\n",
              "      <td>17.835</td>\n",
              "      <td>18.565</td>\n",
              "      <td>11.29</td>\n",
              "      <td>52.0</td>\n",
              "      <td>7.183709</td>\n",
              "      <td>48.391124</td>\n",
              "      <td>3 Rue Du Vieux Moulin, 67420 Colroy-la-Roche, ...</td>\n",
              "    </tr>\n",
              "  </tbody>\n",
              "</table>\n",
              "</div>\n",
              "      <button class=\"colab-df-convert\" onclick=\"convertToInteractive('df-7f681acd-9239-4a4b-bbf4-1c99d3b82bea')\"\n",
              "              title=\"Convert this dataframe to an interactive table.\"\n",
              "              style=\"display:none;\">\n",
              "        \n",
              "  <svg xmlns=\"http://www.w3.org/2000/svg\" height=\"24px\"viewBox=\"0 0 24 24\"\n",
              "       width=\"24px\">\n",
              "    <path d=\"M0 0h24v24H0V0z\" fill=\"none\"/>\n",
              "    <path d=\"M18.56 5.44l.94 2.06.94-2.06 2.06-.94-2.06-.94-.94-2.06-.94 2.06-2.06.94zm-11 1L8.5 8.5l.94-2.06 2.06-.94-2.06-.94L8.5 2.5l-.94 2.06-2.06.94zm10 10l.94 2.06.94-2.06 2.06-.94-2.06-.94-.94-2.06-.94 2.06-2.06.94z\"/><path d=\"M17.41 7.96l-1.37-1.37c-.4-.4-.92-.59-1.43-.59-.52 0-1.04.2-1.43.59L10.3 9.45l-7.72 7.72c-.78.78-.78 2.05 0 2.83L4 21.41c.39.39.9.59 1.41.59.51 0 1.02-.2 1.41-.59l7.78-7.78 2.81-2.81c.8-.78.8-2.07 0-2.86zM5.41 20L4 18.59l7.72-7.72 1.47 1.35L5.41 20z\"/>\n",
              "  </svg>\n",
              "      </button>\n",
              "      \n",
              "  <style>\n",
              "    .colab-df-container {\n",
              "      display:flex;\n",
              "      flex-wrap:wrap;\n",
              "      gap: 12px;\n",
              "    }\n",
              "\n",
              "    .colab-df-convert {\n",
              "      background-color: #E8F0FE;\n",
              "      border: none;\n",
              "      border-radius: 50%;\n",
              "      cursor: pointer;\n",
              "      display: none;\n",
              "      fill: #1967D2;\n",
              "      height: 32px;\n",
              "      padding: 0 0 0 0;\n",
              "      width: 32px;\n",
              "    }\n",
              "\n",
              "    .colab-df-convert:hover {\n",
              "      background-color: #E2EBFA;\n",
              "      box-shadow: 0px 1px 2px rgba(60, 64, 67, 0.3), 0px 1px 3px 1px rgba(60, 64, 67, 0.15);\n",
              "      fill: #174EA6;\n",
              "    }\n",
              "\n",
              "    [theme=dark] .colab-df-convert {\n",
              "      background-color: #3B4455;\n",
              "      fill: #D2E3FC;\n",
              "    }\n",
              "\n",
              "    [theme=dark] .colab-df-convert:hover {\n",
              "      background-color: #434B5C;\n",
              "      box-shadow: 0px 1px 3px 1px rgba(0, 0, 0, 0.15);\n",
              "      filter: drop-shadow(0px 1px 2px rgba(0, 0, 0, 0.3));\n",
              "      fill: #FFFFFF;\n",
              "    }\n",
              "  </style>\n",
              "\n",
              "      <script>\n",
              "        const buttonEl =\n",
              "          document.querySelector('#df-7f681acd-9239-4a4b-bbf4-1c99d3b82bea button.colab-df-convert');\n",
              "        buttonEl.style.display =\n",
              "          google.colab.kernel.accessAllowed ? 'block' : 'none';\n",
              "\n",
              "        async function convertToInteractive(key) {\n",
              "          const element = document.querySelector('#df-7f681acd-9239-4a4b-bbf4-1c99d3b82bea');\n",
              "          const dataTable =\n",
              "            await google.colab.kernel.invokeFunction('convertToInteractive',\n",
              "                                                     [key], {});\n",
              "          if (!dataTable) return;\n",
              "\n",
              "          const docLinkHtml = 'Like what you see? Visit the ' +\n",
              "            '<a target=\"_blank\" href=https://colab.research.google.com/notebooks/data_table.ipynb>data table notebook</a>'\n",
              "            + ' to learn more about interactive tables.';\n",
              "          element.innerHTML = '';\n",
              "          dataTable['output_type'] = 'display_data';\n",
              "          await google.colab.output.renderOutput(dataTable, element);\n",
              "          const docLink = document.createElement('div');\n",
              "          docLink.innerHTML = docLinkHtml;\n",
              "          element.appendChild(docLink);\n",
              "        }\n",
              "      </script>\n",
              "    </div>\n",
              "  </div>\n",
              "  "
            ]
          },
          "metadata": {},
          "execution_count": 35
        }
      ]
    },
    {
      "cell_type": "code",
      "source": [
        "df_topp5.rating=df_topp5.rating.apply(lambda x: x.replace(\",\",\".\"))\n",
        "df_topp5.price=df_topp5.price.apply(lambda x: x.split(\"€\")[1])\n",
        "\n"
      ],
      "metadata": {
        "id": "KWWTPlZEugOo"
      },
      "execution_count": null,
      "outputs": []
    },
    {
      "cell_type": "code",
      "source": [
        "df_topp5.price=df_topp5.price.apply(lambda x: x.replace(\"\\xa01\",''))\n"
      ],
      "metadata": {
        "id": "gozNvKbVoNcO"
      },
      "execution_count": null,
      "outputs": []
    },
    {
      "cell_type": "code",
      "source": [
        "df_topp5 = df_topp5.astype({\"lat_hotel\": float,\"lon_hotel\": float,\"Temperature\":float,\"price\":float})"
      ],
      "metadata": {
        "id": "sinwdGAJXhgY"
      },
      "execution_count": null,
      "outputs": []
    },
    {
      "cell_type": "code",
      "source": [
        "fig = px.scatter_mapbox(df_topp5, lat=\"lat_hotel\", lon=\"lon_hotel\",\n",
        "                  \n",
        "                            mapbox_style=\"carto-positron\",zoom=4, width = 1000,  height =800,title = 'Location of top hotels in 20 different cities',color='Temperature',size='price'\n",
        "                          \n",
        "            )\n",
        "fig.show(renderer=\"colab\")"
      ],
      "metadata": {
        "colab": {
          "base_uri": "https://localhost:8080/",
          "height": 817
        },
        "id": "phPRYXrsYoIV",
        "outputId": "3de925f5-3fa2-4a45-be97-fd451c9a2bc9"
      },
      "execution_count": null,
      "outputs": [
        {
          "output_type": "display_data",
          "data": {
            "text/html": [
              "<html>\n",
              "<head><meta charset=\"utf-8\" /></head>\n",
              "<body>\n",
              "    <div>            <script src=\"https://cdnjs.cloudflare.com/ajax/libs/mathjax/2.7.5/MathJax.js?config=TeX-AMS-MML_SVG\"></script><script type=\"text/javascript\">if (window.MathJax) {MathJax.Hub.Config({SVG: {font: \"STIX-Web\"}});}</script>                <script type=\"text/javascript\">window.PlotlyConfig = {MathJaxConfig: 'local'};</script>\n",
              "        <script src=\"https://cdn.plot.ly/plotly-2.8.3.min.js\"></script>                <div id=\"d5442679-ae79-4985-81c8-696c9b66abee\" class=\"plotly-graph-div\" style=\"height:800px; width:1000px;\"></div>            <script type=\"text/javascript\">                                    window.PLOTLYENV=window.PLOTLYENV || {};                                    if (document.getElementById(\"d5442679-ae79-4985-81c8-696c9b66abee\")) {                    Plotly.newPlot(                        \"d5442679-ae79-4985-81c8-696c9b66abee\",                        [{\"hovertemplate\":\"price=%{marker.size}<br>lat_hotel=%{lat}<br>lon_hotel=%{lon}<br>Temperature=%{marker.color}<extra></extra>\",\"lat\":[48.23164092,48.18754395,48.19445052,48.30655512,48.39112422,48.40085521,48.17215322,48.17033403,48.40602271,48.15025334,48.08389871,48.12846197,48.10702105,48.10698881,48.355412,48.327556,48.10162441,48.42198487,48.42183357,48.46390126,42.92352,43.088176,42.84683098,42.9609334,42.84354286,43.06805935,42.7559606,42.86378,43.25701228,42.71456073,42.84719676,42.99197849,42.84718593,42.9921119,43.0052395,42.765799,42.72074655,42.96563238,43.003051,43.12310898,47.2712634,47.33571991,47.32125147,47.32874479,47.3269991,47.32742402,47.325526,47.32814395,47.360673,47.32319058,47.32428953,47.27206626,47.329601,47.3217233,47.27176415,47.27226918,47.32223149,47.35121566,47.35607457,47.329936,43.7562008,43.83962281,43.83879091,43.71600388,43.760622,43.69908887,43.732725,43.75869671,43.84680371,43.758087,43.84644198,43.7603027,43.7714428,43.7327862,43.8461112,43.794304,43.84716781,43.84704036,43.65436638,43.75820852,48.5892382,48.57307425,48.58237114,48.58829415,48.582097,48.64966416,48.64874176,48.65796102,48.55738014,48.64238767,48.53385522,48.53405567,48.66049722,48.66050484,48.53256597,48.53378926,48.603804,48.747923,48.67932988,48.52129463],\"legendgroup\":\"\",\"lon\":[7.30222034,7.34917787,7.32024193,7.41947293,7.18370944,7.32905567,7.11298227,7.19376773,7.44955659,7.31503308,7.31371522,7.36145005,7.38599226,7.38608211,7.323026,7.063047,7.15972513,7.51926452,7.45126247,7.42298394,1.659478,1.875399,1.60580635,1.55871212,1.60160601,1.62969466,1.5041308,1.202183,1.666435,1.8390888,1.60566151,1.61581904,1.6056028,1.61583245,1.61475956,1.752524,1.83874547,1.60894185,1.13713,1.62853003,5.043089,5.00223599,5.03569119,5.05931675,5.07608727,5.03345892,5.0494804,5.05142838,5.049353,5.03513396,5.03427227,5.04385114,5.077276,5.05321473,5.04512519,5.00311777,5.02388611,5.0696674,5.04529685,5.05188,5.8902972,6.22201681,6.21759117,6.13406986,5.888974,6.03723943,6.176503,5.88205487,6.21976241,5.890188,6.51247859,5.8863289,6.61763545,6.16152227,6.25257254,6.39857,6.2214762,6.22068909,6.16950452,5.8968915,7.7827334,7.75633401,7.74588235,7.69744687,7.74293996,7.80863263,7.75315769,7.73029938,7.65343666,7.72699356,7.69192161,7.70194173,7.74542209,7.72279706,7.69231487,7.69148782,7.757911,7.67845,7.8552863,7.50219226],\"marker\":{\"color\":[17.835,17.835,17.835,17.835,17.835,17.835,17.835,17.835,17.835,17.835,17.835,17.835,17.835,17.835,17.835,17.835,17.835,17.835,17.835,17.835,21.735,21.735,21.735,21.735,21.735,21.735,21.735,21.735,21.735,21.735,21.735,21.735,21.735,21.735,21.735,21.735,21.735,21.735,21.735,21.735,20.54,20.54,20.54,20.54,20.54,20.54,20.54,20.54,20.54,20.54,20.54,20.54,20.54,20.54,20.54,20.54,20.54,20.54,20.54,20.54,20.645,20.645,20.645,20.645,20.645,20.645,20.645,20.645,20.645,20.645,20.645,20.645,20.645,20.645,20.645,20.645,20.645,20.645,20.645,20.645,19.16,19.16,19.16,19.16,19.16,19.16,19.16,19.16,19.16,19.16,19.16,19.16,19.16,19.16,19.16,19.16,19.16,19.16,19.16,19.16],\"coloraxis\":\"coloraxis\",\"size\":[25.0,429.0,248.0,38.0,128.0,70.0,95.0,63.0,78.0,60.0,79.0,88.0,74.0,75.0,7.0,95.0,3.0,73.0,55.0,491.0,220.0,251.0,60.0,74.0,52.0,230.0,60.0,63.0,65.0,75.0,78.0,83.0,94.0,55.0,57.0,61.0,80.0,89.0,65.0,68.0,29.0,61.0,202.0,85.0,89.0,0.0,3.0,21.0,30.0,50.0,290.0,59.0,62.0,67.0,69.0,78.0,79.0,80.0,80.0,86.0,98.0,22.0,351.0,75.0,97.0,3.0,4.0,34.0,39.0,49.0,65.0,50.0,78.0,89.0,90.0,9.0,12.0,50.0,57.0,82.0,235.0,269.0,305.0,213.0,324.0,41.0,56.0,68.0,65.0,69.0,70.0,82.0,90.0,63.0,78.0,84.0,89.0,79.0,90.0,9.0],\"sizemode\":\"area\",\"sizeref\":1.2275},\"mode\":\"markers\",\"name\":\"\",\"showlegend\":false,\"subplot\":\"mapbox\",\"type\":\"scattermapbox\"}],                        {\"template\":{\"data\":{\"bar\":[{\"error_x\":{\"color\":\"#2a3f5f\"},\"error_y\":{\"color\":\"#2a3f5f\"},\"marker\":{\"line\":{\"color\":\"#E5ECF6\",\"width\":0.5},\"pattern\":{\"fillmode\":\"overlay\",\"size\":10,\"solidity\":0.2}},\"type\":\"bar\"}],\"barpolar\":[{\"marker\":{\"line\":{\"color\":\"#E5ECF6\",\"width\":0.5},\"pattern\":{\"fillmode\":\"overlay\",\"size\":10,\"solidity\":0.2}},\"type\":\"barpolar\"}],\"carpet\":[{\"aaxis\":{\"endlinecolor\":\"#2a3f5f\",\"gridcolor\":\"white\",\"linecolor\":\"white\",\"minorgridcolor\":\"white\",\"startlinecolor\":\"#2a3f5f\"},\"baxis\":{\"endlinecolor\":\"#2a3f5f\",\"gridcolor\":\"white\",\"linecolor\":\"white\",\"minorgridcolor\":\"white\",\"startlinecolor\":\"#2a3f5f\"},\"type\":\"carpet\"}],\"choropleth\":[{\"colorbar\":{\"outlinewidth\":0,\"ticks\":\"\"},\"type\":\"choropleth\"}],\"contour\":[{\"colorbar\":{\"outlinewidth\":0,\"ticks\":\"\"},\"colorscale\":[[0.0,\"#0d0887\"],[0.1111111111111111,\"#46039f\"],[0.2222222222222222,\"#7201a8\"],[0.3333333333333333,\"#9c179e\"],[0.4444444444444444,\"#bd3786\"],[0.5555555555555556,\"#d8576b\"],[0.6666666666666666,\"#ed7953\"],[0.7777777777777778,\"#fb9f3a\"],[0.8888888888888888,\"#fdca26\"],[1.0,\"#f0f921\"]],\"type\":\"contour\"}],\"contourcarpet\":[{\"colorbar\":{\"outlinewidth\":0,\"ticks\":\"\"},\"type\":\"contourcarpet\"}],\"heatmap\":[{\"colorbar\":{\"outlinewidth\":0,\"ticks\":\"\"},\"colorscale\":[[0.0,\"#0d0887\"],[0.1111111111111111,\"#46039f\"],[0.2222222222222222,\"#7201a8\"],[0.3333333333333333,\"#9c179e\"],[0.4444444444444444,\"#bd3786\"],[0.5555555555555556,\"#d8576b\"],[0.6666666666666666,\"#ed7953\"],[0.7777777777777778,\"#fb9f3a\"],[0.8888888888888888,\"#fdca26\"],[1.0,\"#f0f921\"]],\"type\":\"heatmap\"}],\"heatmapgl\":[{\"colorbar\":{\"outlinewidth\":0,\"ticks\":\"\"},\"colorscale\":[[0.0,\"#0d0887\"],[0.1111111111111111,\"#46039f\"],[0.2222222222222222,\"#7201a8\"],[0.3333333333333333,\"#9c179e\"],[0.4444444444444444,\"#bd3786\"],[0.5555555555555556,\"#d8576b\"],[0.6666666666666666,\"#ed7953\"],[0.7777777777777778,\"#fb9f3a\"],[0.8888888888888888,\"#fdca26\"],[1.0,\"#f0f921\"]],\"type\":\"heatmapgl\"}],\"histogram\":[{\"marker\":{\"pattern\":{\"fillmode\":\"overlay\",\"size\":10,\"solidity\":0.2}},\"type\":\"histogram\"}],\"histogram2d\":[{\"colorbar\":{\"outlinewidth\":0,\"ticks\":\"\"},\"colorscale\":[[0.0,\"#0d0887\"],[0.1111111111111111,\"#46039f\"],[0.2222222222222222,\"#7201a8\"],[0.3333333333333333,\"#9c179e\"],[0.4444444444444444,\"#bd3786\"],[0.5555555555555556,\"#d8576b\"],[0.6666666666666666,\"#ed7953\"],[0.7777777777777778,\"#fb9f3a\"],[0.8888888888888888,\"#fdca26\"],[1.0,\"#f0f921\"]],\"type\":\"histogram2d\"}],\"histogram2dcontour\":[{\"colorbar\":{\"outlinewidth\":0,\"ticks\":\"\"},\"colorscale\":[[0.0,\"#0d0887\"],[0.1111111111111111,\"#46039f\"],[0.2222222222222222,\"#7201a8\"],[0.3333333333333333,\"#9c179e\"],[0.4444444444444444,\"#bd3786\"],[0.5555555555555556,\"#d8576b\"],[0.6666666666666666,\"#ed7953\"],[0.7777777777777778,\"#fb9f3a\"],[0.8888888888888888,\"#fdca26\"],[1.0,\"#f0f921\"]],\"type\":\"histogram2dcontour\"}],\"mesh3d\":[{\"colorbar\":{\"outlinewidth\":0,\"ticks\":\"\"},\"type\":\"mesh3d\"}],\"parcoords\":[{\"line\":{\"colorbar\":{\"outlinewidth\":0,\"ticks\":\"\"}},\"type\":\"parcoords\"}],\"pie\":[{\"automargin\":true,\"type\":\"pie\"}],\"scatter\":[{\"marker\":{\"colorbar\":{\"outlinewidth\":0,\"ticks\":\"\"}},\"type\":\"scatter\"}],\"scatter3d\":[{\"line\":{\"colorbar\":{\"outlinewidth\":0,\"ticks\":\"\"}},\"marker\":{\"colorbar\":{\"outlinewidth\":0,\"ticks\":\"\"}},\"type\":\"scatter3d\"}],\"scattercarpet\":[{\"marker\":{\"colorbar\":{\"outlinewidth\":0,\"ticks\":\"\"}},\"type\":\"scattercarpet\"}],\"scattergeo\":[{\"marker\":{\"colorbar\":{\"outlinewidth\":0,\"ticks\":\"\"}},\"type\":\"scattergeo\"}],\"scattergl\":[{\"marker\":{\"colorbar\":{\"outlinewidth\":0,\"ticks\":\"\"}},\"type\":\"scattergl\"}],\"scattermapbox\":[{\"marker\":{\"colorbar\":{\"outlinewidth\":0,\"ticks\":\"\"}},\"type\":\"scattermapbox\"}],\"scatterpolar\":[{\"marker\":{\"colorbar\":{\"outlinewidth\":0,\"ticks\":\"\"}},\"type\":\"scatterpolar\"}],\"scatterpolargl\":[{\"marker\":{\"colorbar\":{\"outlinewidth\":0,\"ticks\":\"\"}},\"type\":\"scatterpolargl\"}],\"scatterternary\":[{\"marker\":{\"colorbar\":{\"outlinewidth\":0,\"ticks\":\"\"}},\"type\":\"scatterternary\"}],\"surface\":[{\"colorbar\":{\"outlinewidth\":0,\"ticks\":\"\"},\"colorscale\":[[0.0,\"#0d0887\"],[0.1111111111111111,\"#46039f\"],[0.2222222222222222,\"#7201a8\"],[0.3333333333333333,\"#9c179e\"],[0.4444444444444444,\"#bd3786\"],[0.5555555555555556,\"#d8576b\"],[0.6666666666666666,\"#ed7953\"],[0.7777777777777778,\"#fb9f3a\"],[0.8888888888888888,\"#fdca26\"],[1.0,\"#f0f921\"]],\"type\":\"surface\"}],\"table\":[{\"cells\":{\"fill\":{\"color\":\"#EBF0F8\"},\"line\":{\"color\":\"white\"}},\"header\":{\"fill\":{\"color\":\"#C8D4E3\"},\"line\":{\"color\":\"white\"}},\"type\":\"table\"}]},\"layout\":{\"annotationdefaults\":{\"arrowcolor\":\"#2a3f5f\",\"arrowhead\":0,\"arrowwidth\":1},\"autotypenumbers\":\"strict\",\"coloraxis\":{\"colorbar\":{\"outlinewidth\":0,\"ticks\":\"\"}},\"colorscale\":{\"diverging\":[[0,\"#8e0152\"],[0.1,\"#c51b7d\"],[0.2,\"#de77ae\"],[0.3,\"#f1b6da\"],[0.4,\"#fde0ef\"],[0.5,\"#f7f7f7\"],[0.6,\"#e6f5d0\"],[0.7,\"#b8e186\"],[0.8,\"#7fbc41\"],[0.9,\"#4d9221\"],[1,\"#276419\"]],\"sequential\":[[0.0,\"#0d0887\"],[0.1111111111111111,\"#46039f\"],[0.2222222222222222,\"#7201a8\"],[0.3333333333333333,\"#9c179e\"],[0.4444444444444444,\"#bd3786\"],[0.5555555555555556,\"#d8576b\"],[0.6666666666666666,\"#ed7953\"],[0.7777777777777778,\"#fb9f3a\"],[0.8888888888888888,\"#fdca26\"],[1.0,\"#f0f921\"]],\"sequentialminus\":[[0.0,\"#0d0887\"],[0.1111111111111111,\"#46039f\"],[0.2222222222222222,\"#7201a8\"],[0.3333333333333333,\"#9c179e\"],[0.4444444444444444,\"#bd3786\"],[0.5555555555555556,\"#d8576b\"],[0.6666666666666666,\"#ed7953\"],[0.7777777777777778,\"#fb9f3a\"],[0.8888888888888888,\"#fdca26\"],[1.0,\"#f0f921\"]]},\"colorway\":[\"#636efa\",\"#EF553B\",\"#00cc96\",\"#ab63fa\",\"#FFA15A\",\"#19d3f3\",\"#FF6692\",\"#B6E880\",\"#FF97FF\",\"#FECB52\"],\"font\":{\"color\":\"#2a3f5f\"},\"geo\":{\"bgcolor\":\"white\",\"lakecolor\":\"white\",\"landcolor\":\"#E5ECF6\",\"showlakes\":true,\"showland\":true,\"subunitcolor\":\"white\"},\"hoverlabel\":{\"align\":\"left\"},\"hovermode\":\"closest\",\"mapbox\":{\"style\":\"light\"},\"paper_bgcolor\":\"white\",\"plot_bgcolor\":\"#E5ECF6\",\"polar\":{\"angularaxis\":{\"gridcolor\":\"white\",\"linecolor\":\"white\",\"ticks\":\"\"},\"bgcolor\":\"#E5ECF6\",\"radialaxis\":{\"gridcolor\":\"white\",\"linecolor\":\"white\",\"ticks\":\"\"}},\"scene\":{\"xaxis\":{\"backgroundcolor\":\"#E5ECF6\",\"gridcolor\":\"white\",\"gridwidth\":2,\"linecolor\":\"white\",\"showbackground\":true,\"ticks\":\"\",\"zerolinecolor\":\"white\"},\"yaxis\":{\"backgroundcolor\":\"#E5ECF6\",\"gridcolor\":\"white\",\"gridwidth\":2,\"linecolor\":\"white\",\"showbackground\":true,\"ticks\":\"\",\"zerolinecolor\":\"white\"},\"zaxis\":{\"backgroundcolor\":\"#E5ECF6\",\"gridcolor\":\"white\",\"gridwidth\":2,\"linecolor\":\"white\",\"showbackground\":true,\"ticks\":\"\",\"zerolinecolor\":\"white\"}},\"shapedefaults\":{\"line\":{\"color\":\"#2a3f5f\"}},\"ternary\":{\"aaxis\":{\"gridcolor\":\"white\",\"linecolor\":\"white\",\"ticks\":\"\"},\"baxis\":{\"gridcolor\":\"white\",\"linecolor\":\"white\",\"ticks\":\"\"},\"bgcolor\":\"#E5ECF6\",\"caxis\":{\"gridcolor\":\"white\",\"linecolor\":\"white\",\"ticks\":\"\"}},\"title\":{\"x\":0.05},\"xaxis\":{\"automargin\":true,\"gridcolor\":\"white\",\"linecolor\":\"white\",\"ticks\":\"\",\"title\":{\"standoff\":15},\"zerolinecolor\":\"white\",\"zerolinewidth\":2},\"yaxis\":{\"automargin\":true,\"gridcolor\":\"white\",\"linecolor\":\"white\",\"ticks\":\"\",\"title\":{\"standoff\":15},\"zerolinecolor\":\"white\",\"zerolinewidth\":2}}},\"mapbox\":{\"domain\":{\"x\":[0.0,1.0],\"y\":[0.0,1.0]},\"center\":{\"lat\":46.177577927600005,\"lon\":5.567446563800001},\"zoom\":4,\"style\":\"carto-positron\"},\"coloraxis\":{\"colorbar\":{\"title\":{\"text\":\"Temperature\"}},\"colorscale\":[[0.0,\"#0d0887\"],[0.1111111111111111,\"#46039f\"],[0.2222222222222222,\"#7201a8\"],[0.3333333333333333,\"#9c179e\"],[0.4444444444444444,\"#bd3786\"],[0.5555555555555556,\"#d8576b\"],[0.6666666666666666,\"#ed7953\"],[0.7777777777777778,\"#fb9f3a\"],[0.8888888888888888,\"#fdca26\"],[1.0,\"#f0f921\"]]},\"legend\":{\"tracegroupgap\":0,\"itemsizing\":\"constant\"},\"title\":{\"text\":\"Location of top hotels in 20 different cities\"},\"height\":800,\"width\":1000},                        {\"responsive\": true}                    ).then(function(){\n",
              "                            \n",
              "var gd = document.getElementById('d5442679-ae79-4985-81c8-696c9b66abee');\n",
              "var x = new MutationObserver(function (mutations, observer) {{\n",
              "        var display = window.getComputedStyle(gd).display;\n",
              "        if (!display || display === 'none') {{\n",
              "            console.log([gd, 'removed!']);\n",
              "            Plotly.purge(gd);\n",
              "            observer.disconnect();\n",
              "        }}\n",
              "}});\n",
              "\n",
              "// Listen for the removal of the full notebook cells\n",
              "var notebookContainer = gd.closest('#notebook-container');\n",
              "if (notebookContainer) {{\n",
              "    x.observe(notebookContainer, {childList: true});\n",
              "}}\n",
              "\n",
              "// Listen for the clearing of the current output cell\n",
              "var outputEl = gd.closest('.output');\n",
              "if (outputEl) {{\n",
              "    x.observe(outputEl, {childList: true});\n",
              "}}\n",
              "\n",
              "                        })                };                            </script>        </div>\n",
              "</body>\n",
              "</html>"
            ]
          },
          "metadata": {}
        }
      ]
    }
  ],
  "metadata": {
    "kernelspec": {
      "display_name": "Python 3",
      "language": "python",
      "name": "python3"
    },
    "language_info": {
      "codemirror_mode": {
        "name": "ipython",
        "version": 3
      },
      "file_extension": ".py",
      "mimetype": "text/x-python",
      "name": "python",
      "nbconvert_exporter": "python",
      "pygments_lexer": "ipython3",
      "version": "3.8.5"
    },
    "colab": {
      "provenance": [],
      "collapsed_sections": [],
      "include_colab_link": true
    },
    "accelerator": "GPU",
    "gpuClass": "premium"
  },
  "nbformat": 4,
  "nbformat_minor": 0
}